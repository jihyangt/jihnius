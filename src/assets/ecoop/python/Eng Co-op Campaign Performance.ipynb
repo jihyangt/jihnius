{
 "cells": [
  {
   "cell_type": "code",
   "execution_count": 1,
   "metadata": {},
   "outputs": [],
   "source": [
    "import pandas as pd\n",
    "import numpy as np\n",
    "import seaborn as sns\n",
    "%matplotlib inline"
   ]
  },
  {
   "cell_type": "code",
   "execution_count": 2,
   "metadata": {},
   "outputs": [],
   "source": [
    "import plotly.express as px"
   ]
  },
  {
   "cell_type": "code",
   "execution_count": 29,
   "metadata": {},
   "outputs": [],
   "source": [
    "df=pd.read_csv('LinkedinPerformanceReport.csv')\n",
    "dfAd=pd.read_csv('LinkedinAdReport.csv')\n",
    "dfAd2=pd.read_csv('LinkedinAdReport2.csv')"
   ]
  },
  {
   "cell_type": "code",
   "execution_count": 24,
   "metadata": {},
   "outputs": [
    {
     "name": "stdout",
     "output_type": "stream",
     "text": [
      "<class 'pandas.core.frame.DataFrame'>\n",
      "RangeIndex: 200 entries, 0 to 199\n",
      "Data columns (total 12 columns):\n",
      " #   Column              Non-Null Count  Dtype  \n",
      "---  ------              --------------  -----  \n",
      " 0   Day                 200 non-null    int64  \n",
      " 1   Creative Name       200 non-null    object \n",
      " 2   Ad ID               200 non-null    int64  \n",
      " 3   DSC Name            200 non-null    object \n",
      " 4   Total Spent         200 non-null    float64\n",
      " 5   Impressions         200 non-null    int64  \n",
      " 6   Clicks              200 non-null    int64  \n",
      " 7   Click Through Rate  200 non-null    object \n",
      " 8   Average CPM         200 non-null    float64\n",
      " 9   Average CPC         200 non-null    float64\n",
      " 10  Engagement Rate     200 non-null    object \n",
      " 11  Viral Impressions   200 non-null    int64  \n",
      "dtypes: float64(3), int64(5), object(4)\n",
      "memory usage: 18.9+ KB\n"
     ]
    }
   ],
   "source": [
    "dfAd.info()"
   ]
  },
  {
   "cell_type": "code",
   "execution_count": 5,
   "metadata": {
    "scrolled": true
   },
   "outputs": [
    {
     "name": "stdout",
     "output_type": "stream",
     "text": [
      "<class 'pandas.core.frame.DataFrame'>\n",
      "RangeIndex: 50 entries, 0 to 49\n",
      "Data columns (total 16 columns):\n",
      " #   Column                         Non-Null Count  Dtype  \n",
      "---  ------                         --------------  -----  \n",
      " 0   Day                            50 non-null     int64  \n",
      " 1   Clicks                         50 non-null     int64  \n",
      " 2   Click Through Rate             50 non-null     object \n",
      " 3   Average CPM                    50 non-null     float64\n",
      " 4   Average CPC                    50 non-null     float64\n",
      " 5   Reactions                      50 non-null     int64  \n",
      " 6   Other Clicks                   50 non-null     int64  \n",
      " 7   Total Social Actions           50 non-null     int64  \n",
      " 8   Total Engagements              50 non-null     int64  \n",
      " 9   Engagement Rate                50 non-null     object \n",
      " 10  Viral Impressions              50 non-null     int64  \n",
      " 11  Reach                          50 non-null     int64  \n",
      " 12  Average Frequency              50 non-null     float64\n",
      " 13  Cost per 1,000 People Reached  50 non-null     float64\n",
      " 14  Unnamed: 14                    0 non-null      float64\n",
      " 15  Unnamed: 15                    1 non-null      float64\n",
      "dtypes: float64(6), int64(8), object(2)\n",
      "memory usage: 6.4+ KB\n"
     ]
    }
   ],
   "source": [
    "df.info()"
   ]
  },
  {
   "cell_type": "code",
   "execution_count": 63,
   "metadata": {
    "scrolled": true
   },
   "outputs": [],
   "source": [
    "fig=px.box(dfAd2,x='Creative Name',y='Engagement Rate',color='Creative Name',template='plotly_white',title='Boxplot A/B test Engagement Rates')"
   ]
  },
  {
   "cell_type": "code",
   "execution_count": 64,
   "metadata": {
    "scrolled": true
   },
   "outputs": [
    {
     "data": {
      "application/vnd.plotly.v1+json": {
       "config": {
        "plotlyServerURL": "https://plot.ly"
       },
       "data": [
        {
         "alignmentgroup": "True",
         "hovertemplate": "Creative Name=%{x}<br>Engagement Rate=%{y}<extra></extra>",
         "legendgroup": "LinkedIn1-1",
         "marker": {
          "color": "#636efa"
         },
         "name": "LinkedIn1-1",
         "notched": false,
         "offsetgroup": "LinkedIn1-1",
         "orientation": "v",
         "showlegend": true,
         "type": "box",
         "x": [
          "LinkedIn1-1",
          "LinkedIn1-1",
          "LinkedIn1-1",
          "LinkedIn1-1",
          "LinkedIn1-1",
          "LinkedIn1-1",
          "LinkedIn1-1",
          "LinkedIn1-1",
          "LinkedIn1-1",
          "LinkedIn1-1",
          "LinkedIn1-1",
          "LinkedIn1-1",
          "LinkedIn1-1",
          "LinkedIn1-1",
          "LinkedIn1-1",
          "LinkedIn1-1",
          "LinkedIn1-1",
          "LinkedIn1-1",
          "LinkedIn1-1",
          "LinkedIn1-1",
          "LinkedIn1-1",
          "LinkedIn1-1",
          "LinkedIn1-1",
          "LinkedIn1-1",
          "LinkedIn1-1",
          "LinkedIn1-1",
          "LinkedIn1-1",
          "LinkedIn1-1",
          "LinkedIn1-1",
          "LinkedIn1-1",
          "LinkedIn1-1",
          "LinkedIn1-1",
          "LinkedIn1-1",
          "LinkedIn1-1",
          "LinkedIn1-1",
          "LinkedIn1-1",
          "LinkedIn1-1",
          "LinkedIn1-1",
          "LinkedIn1-1",
          "LinkedIn1-1",
          "LinkedIn1-1",
          "LinkedIn1-1",
          "LinkedIn1-1",
          "LinkedIn1-1",
          "LinkedIn1-1",
          "LinkedIn1-1",
          "LinkedIn1-1",
          "LinkedIn1-1",
          "LinkedIn1-1",
          "LinkedIn1-1"
         ],
         "x0": " ",
         "xaxis": "x",
         "y": [
          "0.83%",
          "1.18%",
          "1.59%",
          "0.70%",
          "1.43%",
          "1.49%",
          "1.19%",
          "0.67%",
          "0.47%",
          "0.51%",
          "0.58%",
          "0.39%",
          "0.55%",
          "0.70%",
          "0.73%",
          "1.07%",
          "0.51%",
          "0.63%",
          "1.02%",
          "0%",
          "0%",
          "0.34%",
          "1.16%",
          "0.67%",
          "0.49%",
          "1.01%",
          "0.31%",
          "0.71%",
          "0.57%",
          "0%",
          "0.89%",
          "0.65%",
          "0%",
          "0%",
          "0.44%",
          "0.62%",
          "0.96%",
          "0.43%",
          "0.74%",
          "0%",
          "0.45%",
          "0.42%",
          "0.34%",
          "0%",
          "0.64%",
          "0.46%",
          "0.97%",
          "0%",
          "0.76%",
          "0.38%"
         ],
         "y0": " ",
         "yaxis": "y"
        },
        {
         "alignmentgroup": "True",
         "hovertemplate": "Creative Name=%{x}<br>Engagement Rate=%{y}<extra></extra>",
         "legendgroup": "Linkedin 2-2",
         "marker": {
          "color": "#EF553B"
         },
         "name": "Linkedin 2-2",
         "notched": false,
         "offsetgroup": "Linkedin 2-2",
         "orientation": "v",
         "showlegend": true,
         "type": "box",
         "x": [
          "Linkedin 2-2",
          "Linkedin 2-2",
          "Linkedin 2-2",
          "Linkedin 2-2",
          "Linkedin 2-2",
          "Linkedin 2-2",
          "Linkedin 2-2",
          "Linkedin 2-2",
          "Linkedin 2-2",
          "Linkedin 2-2",
          "Linkedin 2-2",
          "Linkedin 2-2",
          "Linkedin 2-2",
          "Linkedin 2-2",
          "Linkedin 2-2"
         ],
         "x0": " ",
         "xaxis": "x",
         "y": [
          "0.42%",
          "0.22%",
          "0.60%",
          "0.14%",
          "0.31%",
          "0%",
          "0.40%",
          "0.50%",
          "0.46%",
          "0.36%",
          "0%",
          "0.93%",
          "0.78%",
          "0.87%",
          "0.65%"
         ],
         "y0": " ",
         "yaxis": "y"
        },
        {
         "alignmentgroup": "True",
         "hovertemplate": "Creative Name=%{x}<br>Engagement Rate=%{y}<extra></extra>",
         "legendgroup": "Linkedin 2-1",
         "marker": {
          "color": "#00cc96"
         },
         "name": "Linkedin 2-1",
         "notched": false,
         "offsetgroup": "Linkedin 2-1",
         "orientation": "v",
         "showlegend": true,
         "type": "box",
         "x": [
          "Linkedin 2-1",
          "Linkedin 2-1",
          "Linkedin 2-1",
          "Linkedin 2-1",
          "Linkedin 2-1",
          "Linkedin 2-1",
          "Linkedin 2-1",
          "Linkedin 2-1",
          "Linkedin 2-1",
          "Linkedin 2-1",
          "Linkedin 2-1",
          "Linkedin 2-1",
          "Linkedin 2-1",
          "Linkedin 2-1",
          "Linkedin 2-1",
          "Linkedin 2-1",
          "Linkedin 2-1",
          "Linkedin 2-1",
          "Linkedin 2-1",
          "Linkedin 2-1",
          "Linkedin 2-1",
          "Linkedin 2-1",
          "Linkedin 2-1",
          "Linkedin 2-1",
          "Linkedin 2-1",
          "Linkedin 2-1",
          "Linkedin 2-1",
          "Linkedin 2-1",
          "Linkedin 2-1",
          "Linkedin 2-1",
          "Linkedin 2-1",
          "Linkedin 2-1",
          "Linkedin 2-1",
          "Linkedin 2-1",
          "Linkedin 2-1",
          "Linkedin 2-1",
          "Linkedin 2-1",
          "Linkedin 2-1",
          "Linkedin 2-1",
          "Linkedin 2-1",
          "Linkedin 2-1",
          "Linkedin 2-1",
          "Linkedin 2-1",
          "Linkedin 2-1",
          "Linkedin 2-1",
          "Linkedin 2-1",
          "Linkedin 2-1",
          "Linkedin 2-1",
          "Linkedin 2-1",
          "Linkedin 2-1"
         ],
         "x0": " ",
         "xaxis": "x",
         "y": [
          "0.83%",
          "1.13%",
          "0.40%",
          "0.86%",
          "1.09%",
          "1.39%",
          "0.58%",
          "0.85%",
          "0.26%",
          "0.70%",
          "1.69%",
          "0.38%",
          "0.65%",
          "0.51%",
          "0.75%",
          "0.35%",
          "0.35%",
          "0.33%",
          "0.99%",
          "0.47%",
          "0.49%",
          "0.80%",
          "0.32%",
          "0.63%",
          "0.85%",
          "0.31%",
          "0.63%",
          "0.41%",
          "0.47%",
          "0.77%",
          "0.37%",
          "0.79%",
          "0.31%",
          "0.70%",
          "0.54%",
          "0.82%",
          "0.57%",
          "0.71%",
          "0.50%",
          "0.86%",
          "0.47%",
          "0.96%",
          "0.47%",
          "0.43%",
          "0.35%",
          "0.56%",
          "0.70%",
          "0.49%",
          "0.24%",
          "0.46%"
         ],
         "y0": " ",
         "yaxis": "y"
        },
        {
         "alignmentgroup": "True",
         "hovertemplate": "Creative Name=%{x}<br>Engagement Rate=%{y}<extra></extra>",
         "legendgroup": "Linkedin 1-2",
         "marker": {
          "color": "#ab63fa"
         },
         "name": "Linkedin 1-2",
         "notched": false,
         "offsetgroup": "Linkedin 1-2",
         "orientation": "v",
         "showlegend": true,
         "type": "box",
         "x": [
          "Linkedin 1-2",
          "Linkedin 1-2",
          "Linkedin 1-2",
          "Linkedin 1-2",
          "Linkedin 1-2",
          "Linkedin 1-2",
          "Linkedin 1-2",
          "Linkedin 1-2",
          "Linkedin 1-2",
          "Linkedin 1-2",
          "Linkedin 1-2",
          "Linkedin 1-2",
          "Linkedin 1-2",
          "Linkedin 1-2",
          "Linkedin 1-2",
          "Linkedin 1-2",
          "Linkedin 1-2",
          "Linkedin 1-2",
          "Linkedin 1-2",
          "Linkedin 1-2",
          "Linkedin 1-2",
          "Linkedin 1-2",
          "Linkedin 1-2",
          "Linkedin 1-2",
          "Linkedin 1-2",
          "Linkedin 1-2",
          "Linkedin 1-2",
          "Linkedin 1-2",
          "Linkedin 1-2",
          "Linkedin 1-2",
          "Linkedin 1-2",
          "Linkedin 1-2",
          "Linkedin 1-2",
          "Linkedin 1-2",
          "Linkedin 1-2",
          "Linkedin 1-2",
          "Linkedin 1-2",
          "Linkedin 1-2",
          "Linkedin 1-2",
          "Linkedin 1-2",
          "Linkedin 1-2",
          "Linkedin 1-2",
          "Linkedin 1-2",
          "Linkedin 1-2",
          "Linkedin 1-2",
          "Linkedin 1-2",
          "Linkedin 1-2",
          "Linkedin 1-2",
          "Linkedin 1-2",
          "Linkedin 1-2"
         ],
         "x0": " ",
         "xaxis": "x",
         "y": [
          "1.18%",
          "0.48%",
          "0.49%",
          "0.48%",
          "0.67%",
          "0.53%",
          "0.20%",
          "0.38%",
          "0.57%",
          "0.65%",
          "0.77%",
          "0%",
          "0.79%",
          "0.45%",
          "0.28%",
          "0.54%",
          "0.34%",
          "0.57%",
          "0.67%",
          "0.94%",
          "0.63%",
          "0.59%",
          "0.74%",
          "0.60%",
          "0.44%",
          "0.96%",
          "0.59%",
          "0.40%",
          "1.01%",
          "1.05%",
          "0.62%",
          "1.38%",
          "1.19%",
          "0.55%",
          "0.63%",
          "0.11%",
          "1.21%",
          "0.84%",
          "0.67%",
          "1.08%",
          "0.80%",
          "0.76%",
          "1.07%",
          "0.44%",
          "0.29%",
          "0.87%",
          "0.60%",
          "0.33%",
          "0.86%",
          "1.09%"
         ],
         "y0": " ",
         "yaxis": "y"
        }
       ],
       "layout": {
        "boxmode": "overlay",
        "legend": {
         "title": {
          "text": "Creative Name"
         },
         "tracegroupgap": 0
        },
        "template": {
         "data": {
          "bar": [
           {
            "error_x": {
             "color": "#2a3f5f"
            },
            "error_y": {
             "color": "#2a3f5f"
            },
            "marker": {
             "line": {
              "color": "white",
              "width": 0.5
             }
            },
            "type": "bar"
           }
          ],
          "barpolar": [
           {
            "marker": {
             "line": {
              "color": "white",
              "width": 0.5
             }
            },
            "type": "barpolar"
           }
          ],
          "carpet": [
           {
            "aaxis": {
             "endlinecolor": "#2a3f5f",
             "gridcolor": "#C8D4E3",
             "linecolor": "#C8D4E3",
             "minorgridcolor": "#C8D4E3",
             "startlinecolor": "#2a3f5f"
            },
            "baxis": {
             "endlinecolor": "#2a3f5f",
             "gridcolor": "#C8D4E3",
             "linecolor": "#C8D4E3",
             "minorgridcolor": "#C8D4E3",
             "startlinecolor": "#2a3f5f"
            },
            "type": "carpet"
           }
          ],
          "choropleth": [
           {
            "colorbar": {
             "outlinewidth": 0,
             "ticks": ""
            },
            "type": "choropleth"
           }
          ],
          "contour": [
           {
            "colorbar": {
             "outlinewidth": 0,
             "ticks": ""
            },
            "colorscale": [
             [
              0,
              "#0d0887"
             ],
             [
              0.1111111111111111,
              "#46039f"
             ],
             [
              0.2222222222222222,
              "#7201a8"
             ],
             [
              0.3333333333333333,
              "#9c179e"
             ],
             [
              0.4444444444444444,
              "#bd3786"
             ],
             [
              0.5555555555555556,
              "#d8576b"
             ],
             [
              0.6666666666666666,
              "#ed7953"
             ],
             [
              0.7777777777777778,
              "#fb9f3a"
             ],
             [
              0.8888888888888888,
              "#fdca26"
             ],
             [
              1,
              "#f0f921"
             ]
            ],
            "type": "contour"
           }
          ],
          "contourcarpet": [
           {
            "colorbar": {
             "outlinewidth": 0,
             "ticks": ""
            },
            "type": "contourcarpet"
           }
          ],
          "heatmap": [
           {
            "colorbar": {
             "outlinewidth": 0,
             "ticks": ""
            },
            "colorscale": [
             [
              0,
              "#0d0887"
             ],
             [
              0.1111111111111111,
              "#46039f"
             ],
             [
              0.2222222222222222,
              "#7201a8"
             ],
             [
              0.3333333333333333,
              "#9c179e"
             ],
             [
              0.4444444444444444,
              "#bd3786"
             ],
             [
              0.5555555555555556,
              "#d8576b"
             ],
             [
              0.6666666666666666,
              "#ed7953"
             ],
             [
              0.7777777777777778,
              "#fb9f3a"
             ],
             [
              0.8888888888888888,
              "#fdca26"
             ],
             [
              1,
              "#f0f921"
             ]
            ],
            "type": "heatmap"
           }
          ],
          "heatmapgl": [
           {
            "colorbar": {
             "outlinewidth": 0,
             "ticks": ""
            },
            "colorscale": [
             [
              0,
              "#0d0887"
             ],
             [
              0.1111111111111111,
              "#46039f"
             ],
             [
              0.2222222222222222,
              "#7201a8"
             ],
             [
              0.3333333333333333,
              "#9c179e"
             ],
             [
              0.4444444444444444,
              "#bd3786"
             ],
             [
              0.5555555555555556,
              "#d8576b"
             ],
             [
              0.6666666666666666,
              "#ed7953"
             ],
             [
              0.7777777777777778,
              "#fb9f3a"
             ],
             [
              0.8888888888888888,
              "#fdca26"
             ],
             [
              1,
              "#f0f921"
             ]
            ],
            "type": "heatmapgl"
           }
          ],
          "histogram": [
           {
            "marker": {
             "colorbar": {
              "outlinewidth": 0,
              "ticks": ""
             }
            },
            "type": "histogram"
           }
          ],
          "histogram2d": [
           {
            "colorbar": {
             "outlinewidth": 0,
             "ticks": ""
            },
            "colorscale": [
             [
              0,
              "#0d0887"
             ],
             [
              0.1111111111111111,
              "#46039f"
             ],
             [
              0.2222222222222222,
              "#7201a8"
             ],
             [
              0.3333333333333333,
              "#9c179e"
             ],
             [
              0.4444444444444444,
              "#bd3786"
             ],
             [
              0.5555555555555556,
              "#d8576b"
             ],
             [
              0.6666666666666666,
              "#ed7953"
             ],
             [
              0.7777777777777778,
              "#fb9f3a"
             ],
             [
              0.8888888888888888,
              "#fdca26"
             ],
             [
              1,
              "#f0f921"
             ]
            ],
            "type": "histogram2d"
           }
          ],
          "histogram2dcontour": [
           {
            "colorbar": {
             "outlinewidth": 0,
             "ticks": ""
            },
            "colorscale": [
             [
              0,
              "#0d0887"
             ],
             [
              0.1111111111111111,
              "#46039f"
             ],
             [
              0.2222222222222222,
              "#7201a8"
             ],
             [
              0.3333333333333333,
              "#9c179e"
             ],
             [
              0.4444444444444444,
              "#bd3786"
             ],
             [
              0.5555555555555556,
              "#d8576b"
             ],
             [
              0.6666666666666666,
              "#ed7953"
             ],
             [
              0.7777777777777778,
              "#fb9f3a"
             ],
             [
              0.8888888888888888,
              "#fdca26"
             ],
             [
              1,
              "#f0f921"
             ]
            ],
            "type": "histogram2dcontour"
           }
          ],
          "mesh3d": [
           {
            "colorbar": {
             "outlinewidth": 0,
             "ticks": ""
            },
            "type": "mesh3d"
           }
          ],
          "parcoords": [
           {
            "line": {
             "colorbar": {
              "outlinewidth": 0,
              "ticks": ""
             }
            },
            "type": "parcoords"
           }
          ],
          "pie": [
           {
            "automargin": true,
            "type": "pie"
           }
          ],
          "scatter": [
           {
            "marker": {
             "colorbar": {
              "outlinewidth": 0,
              "ticks": ""
             }
            },
            "type": "scatter"
           }
          ],
          "scatter3d": [
           {
            "line": {
             "colorbar": {
              "outlinewidth": 0,
              "ticks": ""
             }
            },
            "marker": {
             "colorbar": {
              "outlinewidth": 0,
              "ticks": ""
             }
            },
            "type": "scatter3d"
           }
          ],
          "scattercarpet": [
           {
            "marker": {
             "colorbar": {
              "outlinewidth": 0,
              "ticks": ""
             }
            },
            "type": "scattercarpet"
           }
          ],
          "scattergeo": [
           {
            "marker": {
             "colorbar": {
              "outlinewidth": 0,
              "ticks": ""
             }
            },
            "type": "scattergeo"
           }
          ],
          "scattergl": [
           {
            "marker": {
             "colorbar": {
              "outlinewidth": 0,
              "ticks": ""
             }
            },
            "type": "scattergl"
           }
          ],
          "scattermapbox": [
           {
            "marker": {
             "colorbar": {
              "outlinewidth": 0,
              "ticks": ""
             }
            },
            "type": "scattermapbox"
           }
          ],
          "scatterpolar": [
           {
            "marker": {
             "colorbar": {
              "outlinewidth": 0,
              "ticks": ""
             }
            },
            "type": "scatterpolar"
           }
          ],
          "scatterpolargl": [
           {
            "marker": {
             "colorbar": {
              "outlinewidth": 0,
              "ticks": ""
             }
            },
            "type": "scatterpolargl"
           }
          ],
          "scatterternary": [
           {
            "marker": {
             "colorbar": {
              "outlinewidth": 0,
              "ticks": ""
             }
            },
            "type": "scatterternary"
           }
          ],
          "surface": [
           {
            "colorbar": {
             "outlinewidth": 0,
             "ticks": ""
            },
            "colorscale": [
             [
              0,
              "#0d0887"
             ],
             [
              0.1111111111111111,
              "#46039f"
             ],
             [
              0.2222222222222222,
              "#7201a8"
             ],
             [
              0.3333333333333333,
              "#9c179e"
             ],
             [
              0.4444444444444444,
              "#bd3786"
             ],
             [
              0.5555555555555556,
              "#d8576b"
             ],
             [
              0.6666666666666666,
              "#ed7953"
             ],
             [
              0.7777777777777778,
              "#fb9f3a"
             ],
             [
              0.8888888888888888,
              "#fdca26"
             ],
             [
              1,
              "#f0f921"
             ]
            ],
            "type": "surface"
           }
          ],
          "table": [
           {
            "cells": {
             "fill": {
              "color": "#EBF0F8"
             },
             "line": {
              "color": "white"
             }
            },
            "header": {
             "fill": {
              "color": "#C8D4E3"
             },
             "line": {
              "color": "white"
             }
            },
            "type": "table"
           }
          ]
         },
         "layout": {
          "annotationdefaults": {
           "arrowcolor": "#2a3f5f",
           "arrowhead": 0,
           "arrowwidth": 1
          },
          "coloraxis": {
           "colorbar": {
            "outlinewidth": 0,
            "ticks": ""
           }
          },
          "colorscale": {
           "diverging": [
            [
             0,
             "#8e0152"
            ],
            [
             0.1,
             "#c51b7d"
            ],
            [
             0.2,
             "#de77ae"
            ],
            [
             0.3,
             "#f1b6da"
            ],
            [
             0.4,
             "#fde0ef"
            ],
            [
             0.5,
             "#f7f7f7"
            ],
            [
             0.6,
             "#e6f5d0"
            ],
            [
             0.7,
             "#b8e186"
            ],
            [
             0.8,
             "#7fbc41"
            ],
            [
             0.9,
             "#4d9221"
            ],
            [
             1,
             "#276419"
            ]
           ],
           "sequential": [
            [
             0,
             "#0d0887"
            ],
            [
             0.1111111111111111,
             "#46039f"
            ],
            [
             0.2222222222222222,
             "#7201a8"
            ],
            [
             0.3333333333333333,
             "#9c179e"
            ],
            [
             0.4444444444444444,
             "#bd3786"
            ],
            [
             0.5555555555555556,
             "#d8576b"
            ],
            [
             0.6666666666666666,
             "#ed7953"
            ],
            [
             0.7777777777777778,
             "#fb9f3a"
            ],
            [
             0.8888888888888888,
             "#fdca26"
            ],
            [
             1,
             "#f0f921"
            ]
           ],
           "sequentialminus": [
            [
             0,
             "#0d0887"
            ],
            [
             0.1111111111111111,
             "#46039f"
            ],
            [
             0.2222222222222222,
             "#7201a8"
            ],
            [
             0.3333333333333333,
             "#9c179e"
            ],
            [
             0.4444444444444444,
             "#bd3786"
            ],
            [
             0.5555555555555556,
             "#d8576b"
            ],
            [
             0.6666666666666666,
             "#ed7953"
            ],
            [
             0.7777777777777778,
             "#fb9f3a"
            ],
            [
             0.8888888888888888,
             "#fdca26"
            ],
            [
             1,
             "#f0f921"
            ]
           ]
          },
          "colorway": [
           "#636efa",
           "#EF553B",
           "#00cc96",
           "#ab63fa",
           "#FFA15A",
           "#19d3f3",
           "#FF6692",
           "#B6E880",
           "#FF97FF",
           "#FECB52"
          ],
          "font": {
           "color": "#2a3f5f"
          },
          "geo": {
           "bgcolor": "white",
           "lakecolor": "white",
           "landcolor": "white",
           "showlakes": true,
           "showland": true,
           "subunitcolor": "#C8D4E3"
          },
          "hoverlabel": {
           "align": "left"
          },
          "hovermode": "closest",
          "mapbox": {
           "style": "light"
          },
          "paper_bgcolor": "white",
          "plot_bgcolor": "white",
          "polar": {
           "angularaxis": {
            "gridcolor": "#EBF0F8",
            "linecolor": "#EBF0F8",
            "ticks": ""
           },
           "bgcolor": "white",
           "radialaxis": {
            "gridcolor": "#EBF0F8",
            "linecolor": "#EBF0F8",
            "ticks": ""
           }
          },
          "scene": {
           "xaxis": {
            "backgroundcolor": "white",
            "gridcolor": "#DFE8F3",
            "gridwidth": 2,
            "linecolor": "#EBF0F8",
            "showbackground": true,
            "ticks": "",
            "zerolinecolor": "#EBF0F8"
           },
           "yaxis": {
            "backgroundcolor": "white",
            "gridcolor": "#DFE8F3",
            "gridwidth": 2,
            "linecolor": "#EBF0F8",
            "showbackground": true,
            "ticks": "",
            "zerolinecolor": "#EBF0F8"
           },
           "zaxis": {
            "backgroundcolor": "white",
            "gridcolor": "#DFE8F3",
            "gridwidth": 2,
            "linecolor": "#EBF0F8",
            "showbackground": true,
            "ticks": "",
            "zerolinecolor": "#EBF0F8"
           }
          },
          "shapedefaults": {
           "line": {
            "color": "#2a3f5f"
           }
          },
          "ternary": {
           "aaxis": {
            "gridcolor": "#DFE8F3",
            "linecolor": "#A2B1C6",
            "ticks": ""
           },
           "baxis": {
            "gridcolor": "#DFE8F3",
            "linecolor": "#A2B1C6",
            "ticks": ""
           },
           "bgcolor": "white",
           "caxis": {
            "gridcolor": "#DFE8F3",
            "linecolor": "#A2B1C6",
            "ticks": ""
           }
          },
          "title": {
           "x": 0.05
          },
          "xaxis": {
           "automargin": true,
           "gridcolor": "#EBF0F8",
           "linecolor": "#EBF0F8",
           "ticks": "",
           "title": {
            "standoff": 15
           },
           "zerolinecolor": "#EBF0F8",
           "zerolinewidth": 2
          },
          "yaxis": {
           "automargin": true,
           "gridcolor": "#EBF0F8",
           "linecolor": "#EBF0F8",
           "ticks": "",
           "title": {
            "standoff": 15
           },
           "zerolinecolor": "#EBF0F8",
           "zerolinewidth": 2
          }
         }
        },
        "title": {
         "text": "Boxplot A/B test Engagement Rates"
        },
        "xaxis": {
         "anchor": "y",
         "categoryarray": [
          "LinkedIn1-1",
          "Linkedin 2-2",
          "Linkedin 2-1",
          "Linkedin 1-2"
         ],
         "categoryorder": "array",
         "domain": [
          0,
          1
         ],
         "title": {
          "text": "Creative Name"
         }
        },
        "yaxis": {
         "anchor": "x",
         "domain": [
          0,
          1
         ],
         "title": {
          "text": "Engagement Rate"
         }
        }
       }
      },
      "text/html": [
       "<div>\n",
       "        \n",
       "        \n",
       "            <div id=\"54dd9ad3-7a21-44eb-ac68-6bff1b201e1e\" class=\"plotly-graph-div\" style=\"height:525px; width:100%;\"></div>\n",
       "            <script type=\"text/javascript\">\n",
       "                require([\"plotly\"], function(Plotly) {\n",
       "                    window.PLOTLYENV=window.PLOTLYENV || {};\n",
       "                    \n",
       "                if (document.getElementById(\"54dd9ad3-7a21-44eb-ac68-6bff1b201e1e\")) {\n",
       "                    Plotly.newPlot(\n",
       "                        '54dd9ad3-7a21-44eb-ac68-6bff1b201e1e',\n",
       "                        [{\"alignmentgroup\": \"True\", \"hovertemplate\": \"Creative Name=%{x}<br>Engagement Rate=%{y}<extra></extra>\", \"legendgroup\": \"LinkedIn1-1\", \"marker\": {\"color\": \"#636efa\"}, \"name\": \"LinkedIn1-1\", \"notched\": false, \"offsetgroup\": \"LinkedIn1-1\", \"orientation\": \"v\", \"showlegend\": true, \"type\": \"box\", \"x\": [\"LinkedIn1-1\", \"LinkedIn1-1\", \"LinkedIn1-1\", \"LinkedIn1-1\", \"LinkedIn1-1\", \"LinkedIn1-1\", \"LinkedIn1-1\", \"LinkedIn1-1\", \"LinkedIn1-1\", \"LinkedIn1-1\", \"LinkedIn1-1\", \"LinkedIn1-1\", \"LinkedIn1-1\", \"LinkedIn1-1\", \"LinkedIn1-1\", \"LinkedIn1-1\", \"LinkedIn1-1\", \"LinkedIn1-1\", \"LinkedIn1-1\", \"LinkedIn1-1\", \"LinkedIn1-1\", \"LinkedIn1-1\", \"LinkedIn1-1\", \"LinkedIn1-1\", \"LinkedIn1-1\", \"LinkedIn1-1\", \"LinkedIn1-1\", \"LinkedIn1-1\", \"LinkedIn1-1\", \"LinkedIn1-1\", \"LinkedIn1-1\", \"LinkedIn1-1\", \"LinkedIn1-1\", \"LinkedIn1-1\", \"LinkedIn1-1\", \"LinkedIn1-1\", \"LinkedIn1-1\", \"LinkedIn1-1\", \"LinkedIn1-1\", \"LinkedIn1-1\", \"LinkedIn1-1\", \"LinkedIn1-1\", \"LinkedIn1-1\", \"LinkedIn1-1\", \"LinkedIn1-1\", \"LinkedIn1-1\", \"LinkedIn1-1\", \"LinkedIn1-1\", \"LinkedIn1-1\", \"LinkedIn1-1\"], \"x0\": \" \", \"xaxis\": \"x\", \"y\": [\"0.83%\", \"1.18%\", \"1.59%\", \"0.70%\", \"1.43%\", \"1.49%\", \"1.19%\", \"0.67%\", \"0.47%\", \"0.51%\", \"0.58%\", \"0.39%\", \"0.55%\", \"0.70%\", \"0.73%\", \"1.07%\", \"0.51%\", \"0.63%\", \"1.02%\", \"0%\", \"0%\", \"0.34%\", \"1.16%\", \"0.67%\", \"0.49%\", \"1.01%\", \"0.31%\", \"0.71%\", \"0.57%\", \"0%\", \"0.89%\", \"0.65%\", \"0%\", \"0%\", \"0.44%\", \"0.62%\", \"0.96%\", \"0.43%\", \"0.74%\", \"0%\", \"0.45%\", \"0.42%\", \"0.34%\", \"0%\", \"0.64%\", \"0.46%\", \"0.97%\", \"0%\", \"0.76%\", \"0.38%\"], \"y0\": \" \", \"yaxis\": \"y\"}, {\"alignmentgroup\": \"True\", \"hovertemplate\": \"Creative Name=%{x}<br>Engagement Rate=%{y}<extra></extra>\", \"legendgroup\": \"Linkedin 2-2\", \"marker\": {\"color\": \"#EF553B\"}, \"name\": \"Linkedin 2-2\", \"notched\": false, \"offsetgroup\": \"Linkedin 2-2\", \"orientation\": \"v\", \"showlegend\": true, \"type\": \"box\", \"x\": [\"Linkedin 2-2\", \"Linkedin 2-2\", \"Linkedin 2-2\", \"Linkedin 2-2\", \"Linkedin 2-2\", \"Linkedin 2-2\", \"Linkedin 2-2\", \"Linkedin 2-2\", \"Linkedin 2-2\", \"Linkedin 2-2\", \"Linkedin 2-2\", \"Linkedin 2-2\", \"Linkedin 2-2\", \"Linkedin 2-2\", \"Linkedin 2-2\"], \"x0\": \" \", \"xaxis\": \"x\", \"y\": [\"0.42%\", \"0.22%\", \"0.60%\", \"0.14%\", \"0.31%\", \"0%\", \"0.40%\", \"0.50%\", \"0.46%\", \"0.36%\", \"0%\", \"0.93%\", \"0.78%\", \"0.87%\", \"0.65%\"], \"y0\": \" \", \"yaxis\": \"y\"}, {\"alignmentgroup\": \"True\", \"hovertemplate\": \"Creative Name=%{x}<br>Engagement Rate=%{y}<extra></extra>\", \"legendgroup\": \"Linkedin 2-1\", \"marker\": {\"color\": \"#00cc96\"}, \"name\": \"Linkedin 2-1\", \"notched\": false, \"offsetgroup\": \"Linkedin 2-1\", \"orientation\": \"v\", \"showlegend\": true, \"type\": \"box\", \"x\": [\"Linkedin 2-1\", \"Linkedin 2-1\", \"Linkedin 2-1\", \"Linkedin 2-1\", \"Linkedin 2-1\", \"Linkedin 2-1\", \"Linkedin 2-1\", \"Linkedin 2-1\", \"Linkedin 2-1\", \"Linkedin 2-1\", \"Linkedin 2-1\", \"Linkedin 2-1\", \"Linkedin 2-1\", \"Linkedin 2-1\", \"Linkedin 2-1\", \"Linkedin 2-1\", \"Linkedin 2-1\", \"Linkedin 2-1\", \"Linkedin 2-1\", \"Linkedin 2-1\", \"Linkedin 2-1\", \"Linkedin 2-1\", \"Linkedin 2-1\", \"Linkedin 2-1\", \"Linkedin 2-1\", \"Linkedin 2-1\", \"Linkedin 2-1\", \"Linkedin 2-1\", \"Linkedin 2-1\", \"Linkedin 2-1\", \"Linkedin 2-1\", \"Linkedin 2-1\", \"Linkedin 2-1\", \"Linkedin 2-1\", \"Linkedin 2-1\", \"Linkedin 2-1\", \"Linkedin 2-1\", \"Linkedin 2-1\", \"Linkedin 2-1\", \"Linkedin 2-1\", \"Linkedin 2-1\", \"Linkedin 2-1\", \"Linkedin 2-1\", \"Linkedin 2-1\", \"Linkedin 2-1\", \"Linkedin 2-1\", \"Linkedin 2-1\", \"Linkedin 2-1\", \"Linkedin 2-1\", \"Linkedin 2-1\"], \"x0\": \" \", \"xaxis\": \"x\", \"y\": [\"0.83%\", \"1.13%\", \"0.40%\", \"0.86%\", \"1.09%\", \"1.39%\", \"0.58%\", \"0.85%\", \"0.26%\", \"0.70%\", \"1.69%\", \"0.38%\", \"0.65%\", \"0.51%\", \"0.75%\", \"0.35%\", \"0.35%\", \"0.33%\", \"0.99%\", \"0.47%\", \"0.49%\", \"0.80%\", \"0.32%\", \"0.63%\", \"0.85%\", \"0.31%\", \"0.63%\", \"0.41%\", \"0.47%\", \"0.77%\", \"0.37%\", \"0.79%\", \"0.31%\", \"0.70%\", \"0.54%\", \"0.82%\", \"0.57%\", \"0.71%\", \"0.50%\", \"0.86%\", \"0.47%\", \"0.96%\", \"0.47%\", \"0.43%\", \"0.35%\", \"0.56%\", \"0.70%\", \"0.49%\", \"0.24%\", \"0.46%\"], \"y0\": \" \", \"yaxis\": \"y\"}, {\"alignmentgroup\": \"True\", \"hovertemplate\": \"Creative Name=%{x}<br>Engagement Rate=%{y}<extra></extra>\", \"legendgroup\": \"Linkedin 1-2\", \"marker\": {\"color\": \"#ab63fa\"}, \"name\": \"Linkedin 1-2\", \"notched\": false, \"offsetgroup\": \"Linkedin 1-2\", \"orientation\": \"v\", \"showlegend\": true, \"type\": \"box\", \"x\": [\"Linkedin 1-2\", \"Linkedin 1-2\", \"Linkedin 1-2\", \"Linkedin 1-2\", \"Linkedin 1-2\", \"Linkedin 1-2\", \"Linkedin 1-2\", \"Linkedin 1-2\", \"Linkedin 1-2\", \"Linkedin 1-2\", \"Linkedin 1-2\", \"Linkedin 1-2\", \"Linkedin 1-2\", \"Linkedin 1-2\", \"Linkedin 1-2\", \"Linkedin 1-2\", \"Linkedin 1-2\", \"Linkedin 1-2\", \"Linkedin 1-2\", \"Linkedin 1-2\", \"Linkedin 1-2\", \"Linkedin 1-2\", \"Linkedin 1-2\", \"Linkedin 1-2\", \"Linkedin 1-2\", \"Linkedin 1-2\", \"Linkedin 1-2\", \"Linkedin 1-2\", \"Linkedin 1-2\", \"Linkedin 1-2\", \"Linkedin 1-2\", \"Linkedin 1-2\", \"Linkedin 1-2\", \"Linkedin 1-2\", \"Linkedin 1-2\", \"Linkedin 1-2\", \"Linkedin 1-2\", \"Linkedin 1-2\", \"Linkedin 1-2\", \"Linkedin 1-2\", \"Linkedin 1-2\", \"Linkedin 1-2\", \"Linkedin 1-2\", \"Linkedin 1-2\", \"Linkedin 1-2\", \"Linkedin 1-2\", \"Linkedin 1-2\", \"Linkedin 1-2\", \"Linkedin 1-2\", \"Linkedin 1-2\"], \"x0\": \" \", \"xaxis\": \"x\", \"y\": [\"1.18%\", \"0.48%\", \"0.49%\", \"0.48%\", \"0.67%\", \"0.53%\", \"0.20%\", \"0.38%\", \"0.57%\", \"0.65%\", \"0.77%\", \"0%\", \"0.79%\", \"0.45%\", \"0.28%\", \"0.54%\", \"0.34%\", \"0.57%\", \"0.67%\", \"0.94%\", \"0.63%\", \"0.59%\", \"0.74%\", \"0.60%\", \"0.44%\", \"0.96%\", \"0.59%\", \"0.40%\", \"1.01%\", \"1.05%\", \"0.62%\", \"1.38%\", \"1.19%\", \"0.55%\", \"0.63%\", \"0.11%\", \"1.21%\", \"0.84%\", \"0.67%\", \"1.08%\", \"0.80%\", \"0.76%\", \"1.07%\", \"0.44%\", \"0.29%\", \"0.87%\", \"0.60%\", \"0.33%\", \"0.86%\", \"1.09%\"], \"y0\": \" \", \"yaxis\": \"y\"}],\n",
       "                        {\"boxmode\": \"overlay\", \"legend\": {\"title\": {\"text\": \"Creative Name\"}, \"tracegroupgap\": 0}, \"template\": {\"data\": {\"bar\": [{\"error_x\": {\"color\": \"#2a3f5f\"}, \"error_y\": {\"color\": \"#2a3f5f\"}, \"marker\": {\"line\": {\"color\": \"white\", \"width\": 0.5}}, \"type\": \"bar\"}], \"barpolar\": [{\"marker\": {\"line\": {\"color\": \"white\", \"width\": 0.5}}, \"type\": \"barpolar\"}], \"carpet\": [{\"aaxis\": {\"endlinecolor\": \"#2a3f5f\", \"gridcolor\": \"#C8D4E3\", \"linecolor\": \"#C8D4E3\", \"minorgridcolor\": \"#C8D4E3\", \"startlinecolor\": \"#2a3f5f\"}, \"baxis\": {\"endlinecolor\": \"#2a3f5f\", \"gridcolor\": \"#C8D4E3\", \"linecolor\": \"#C8D4E3\", \"minorgridcolor\": \"#C8D4E3\", \"startlinecolor\": \"#2a3f5f\"}, \"type\": \"carpet\"}], \"choropleth\": [{\"colorbar\": {\"outlinewidth\": 0, \"ticks\": \"\"}, \"type\": \"choropleth\"}], \"contour\": [{\"colorbar\": {\"outlinewidth\": 0, \"ticks\": \"\"}, \"colorscale\": [[0.0, \"#0d0887\"], [0.1111111111111111, \"#46039f\"], [0.2222222222222222, \"#7201a8\"], [0.3333333333333333, \"#9c179e\"], [0.4444444444444444, \"#bd3786\"], [0.5555555555555556, \"#d8576b\"], [0.6666666666666666, \"#ed7953\"], [0.7777777777777778, \"#fb9f3a\"], [0.8888888888888888, \"#fdca26\"], [1.0, \"#f0f921\"]], \"type\": \"contour\"}], \"contourcarpet\": [{\"colorbar\": {\"outlinewidth\": 0, \"ticks\": \"\"}, \"type\": \"contourcarpet\"}], \"heatmap\": [{\"colorbar\": {\"outlinewidth\": 0, \"ticks\": \"\"}, \"colorscale\": [[0.0, \"#0d0887\"], [0.1111111111111111, \"#46039f\"], [0.2222222222222222, \"#7201a8\"], [0.3333333333333333, \"#9c179e\"], [0.4444444444444444, \"#bd3786\"], [0.5555555555555556, \"#d8576b\"], [0.6666666666666666, \"#ed7953\"], [0.7777777777777778, \"#fb9f3a\"], [0.8888888888888888, \"#fdca26\"], [1.0, \"#f0f921\"]], \"type\": \"heatmap\"}], \"heatmapgl\": [{\"colorbar\": {\"outlinewidth\": 0, \"ticks\": \"\"}, \"colorscale\": [[0.0, \"#0d0887\"], [0.1111111111111111, \"#46039f\"], [0.2222222222222222, \"#7201a8\"], [0.3333333333333333, \"#9c179e\"], [0.4444444444444444, \"#bd3786\"], [0.5555555555555556, \"#d8576b\"], [0.6666666666666666, \"#ed7953\"], [0.7777777777777778, \"#fb9f3a\"], [0.8888888888888888, \"#fdca26\"], [1.0, \"#f0f921\"]], \"type\": \"heatmapgl\"}], \"histogram\": [{\"marker\": {\"colorbar\": {\"outlinewidth\": 0, \"ticks\": \"\"}}, \"type\": \"histogram\"}], \"histogram2d\": [{\"colorbar\": {\"outlinewidth\": 0, \"ticks\": \"\"}, \"colorscale\": [[0.0, \"#0d0887\"], [0.1111111111111111, \"#46039f\"], [0.2222222222222222, \"#7201a8\"], [0.3333333333333333, \"#9c179e\"], [0.4444444444444444, \"#bd3786\"], [0.5555555555555556, \"#d8576b\"], [0.6666666666666666, \"#ed7953\"], [0.7777777777777778, \"#fb9f3a\"], [0.8888888888888888, \"#fdca26\"], [1.0, \"#f0f921\"]], \"type\": \"histogram2d\"}], \"histogram2dcontour\": [{\"colorbar\": {\"outlinewidth\": 0, \"ticks\": \"\"}, \"colorscale\": [[0.0, \"#0d0887\"], [0.1111111111111111, \"#46039f\"], [0.2222222222222222, \"#7201a8\"], [0.3333333333333333, \"#9c179e\"], [0.4444444444444444, \"#bd3786\"], [0.5555555555555556, \"#d8576b\"], [0.6666666666666666, \"#ed7953\"], [0.7777777777777778, \"#fb9f3a\"], [0.8888888888888888, \"#fdca26\"], [1.0, \"#f0f921\"]], \"type\": \"histogram2dcontour\"}], \"mesh3d\": [{\"colorbar\": {\"outlinewidth\": 0, \"ticks\": \"\"}, \"type\": \"mesh3d\"}], \"parcoords\": [{\"line\": {\"colorbar\": {\"outlinewidth\": 0, \"ticks\": \"\"}}, \"type\": \"parcoords\"}], \"pie\": [{\"automargin\": true, \"type\": \"pie\"}], \"scatter\": [{\"marker\": {\"colorbar\": {\"outlinewidth\": 0, \"ticks\": \"\"}}, \"type\": \"scatter\"}], \"scatter3d\": [{\"line\": {\"colorbar\": {\"outlinewidth\": 0, \"ticks\": \"\"}}, \"marker\": {\"colorbar\": {\"outlinewidth\": 0, \"ticks\": \"\"}}, \"type\": \"scatter3d\"}], \"scattercarpet\": [{\"marker\": {\"colorbar\": {\"outlinewidth\": 0, \"ticks\": \"\"}}, \"type\": \"scattercarpet\"}], \"scattergeo\": [{\"marker\": {\"colorbar\": {\"outlinewidth\": 0, \"ticks\": \"\"}}, \"type\": \"scattergeo\"}], \"scattergl\": [{\"marker\": {\"colorbar\": {\"outlinewidth\": 0, \"ticks\": \"\"}}, \"type\": \"scattergl\"}], \"scattermapbox\": [{\"marker\": {\"colorbar\": {\"outlinewidth\": 0, \"ticks\": \"\"}}, \"type\": \"scattermapbox\"}], \"scatterpolar\": [{\"marker\": {\"colorbar\": {\"outlinewidth\": 0, \"ticks\": \"\"}}, \"type\": \"scatterpolar\"}], \"scatterpolargl\": [{\"marker\": {\"colorbar\": {\"outlinewidth\": 0, \"ticks\": \"\"}}, \"type\": \"scatterpolargl\"}], \"scatterternary\": [{\"marker\": {\"colorbar\": {\"outlinewidth\": 0, \"ticks\": \"\"}}, \"type\": \"scatterternary\"}], \"surface\": [{\"colorbar\": {\"outlinewidth\": 0, \"ticks\": \"\"}, \"colorscale\": [[0.0, \"#0d0887\"], [0.1111111111111111, \"#46039f\"], [0.2222222222222222, \"#7201a8\"], [0.3333333333333333, \"#9c179e\"], [0.4444444444444444, \"#bd3786\"], [0.5555555555555556, \"#d8576b\"], [0.6666666666666666, \"#ed7953\"], [0.7777777777777778, \"#fb9f3a\"], [0.8888888888888888, \"#fdca26\"], [1.0, \"#f0f921\"]], \"type\": \"surface\"}], \"table\": [{\"cells\": {\"fill\": {\"color\": \"#EBF0F8\"}, \"line\": {\"color\": \"white\"}}, \"header\": {\"fill\": {\"color\": \"#C8D4E3\"}, \"line\": {\"color\": \"white\"}}, \"type\": \"table\"}]}, \"layout\": {\"annotationdefaults\": {\"arrowcolor\": \"#2a3f5f\", \"arrowhead\": 0, \"arrowwidth\": 1}, \"coloraxis\": {\"colorbar\": {\"outlinewidth\": 0, \"ticks\": \"\"}}, \"colorscale\": {\"diverging\": [[0, \"#8e0152\"], [0.1, \"#c51b7d\"], [0.2, \"#de77ae\"], [0.3, \"#f1b6da\"], [0.4, \"#fde0ef\"], [0.5, \"#f7f7f7\"], [0.6, \"#e6f5d0\"], [0.7, \"#b8e186\"], [0.8, \"#7fbc41\"], [0.9, \"#4d9221\"], [1, \"#276419\"]], \"sequential\": [[0.0, \"#0d0887\"], [0.1111111111111111, \"#46039f\"], [0.2222222222222222, \"#7201a8\"], [0.3333333333333333, \"#9c179e\"], [0.4444444444444444, \"#bd3786\"], [0.5555555555555556, \"#d8576b\"], [0.6666666666666666, \"#ed7953\"], [0.7777777777777778, \"#fb9f3a\"], [0.8888888888888888, \"#fdca26\"], [1.0, \"#f0f921\"]], \"sequentialminus\": [[0.0, \"#0d0887\"], [0.1111111111111111, \"#46039f\"], [0.2222222222222222, \"#7201a8\"], [0.3333333333333333, \"#9c179e\"], [0.4444444444444444, \"#bd3786\"], [0.5555555555555556, \"#d8576b\"], [0.6666666666666666, \"#ed7953\"], [0.7777777777777778, \"#fb9f3a\"], [0.8888888888888888, \"#fdca26\"], [1.0, \"#f0f921\"]]}, \"colorway\": [\"#636efa\", \"#EF553B\", \"#00cc96\", \"#ab63fa\", \"#FFA15A\", \"#19d3f3\", \"#FF6692\", \"#B6E880\", \"#FF97FF\", \"#FECB52\"], \"font\": {\"color\": \"#2a3f5f\"}, \"geo\": {\"bgcolor\": \"white\", \"lakecolor\": \"white\", \"landcolor\": \"white\", \"showlakes\": true, \"showland\": true, \"subunitcolor\": \"#C8D4E3\"}, \"hoverlabel\": {\"align\": \"left\"}, \"hovermode\": \"closest\", \"mapbox\": {\"style\": \"light\"}, \"paper_bgcolor\": \"white\", \"plot_bgcolor\": \"white\", \"polar\": {\"angularaxis\": {\"gridcolor\": \"#EBF0F8\", \"linecolor\": \"#EBF0F8\", \"ticks\": \"\"}, \"bgcolor\": \"white\", \"radialaxis\": {\"gridcolor\": \"#EBF0F8\", \"linecolor\": \"#EBF0F8\", \"ticks\": \"\"}}, \"scene\": {\"xaxis\": {\"backgroundcolor\": \"white\", \"gridcolor\": \"#DFE8F3\", \"gridwidth\": 2, \"linecolor\": \"#EBF0F8\", \"showbackground\": true, \"ticks\": \"\", \"zerolinecolor\": \"#EBF0F8\"}, \"yaxis\": {\"backgroundcolor\": \"white\", \"gridcolor\": \"#DFE8F3\", \"gridwidth\": 2, \"linecolor\": \"#EBF0F8\", \"showbackground\": true, \"ticks\": \"\", \"zerolinecolor\": \"#EBF0F8\"}, \"zaxis\": {\"backgroundcolor\": \"white\", \"gridcolor\": \"#DFE8F3\", \"gridwidth\": 2, \"linecolor\": \"#EBF0F8\", \"showbackground\": true, \"ticks\": \"\", \"zerolinecolor\": \"#EBF0F8\"}}, \"shapedefaults\": {\"line\": {\"color\": \"#2a3f5f\"}}, \"ternary\": {\"aaxis\": {\"gridcolor\": \"#DFE8F3\", \"linecolor\": \"#A2B1C6\", \"ticks\": \"\"}, \"baxis\": {\"gridcolor\": \"#DFE8F3\", \"linecolor\": \"#A2B1C6\", \"ticks\": \"\"}, \"bgcolor\": \"white\", \"caxis\": {\"gridcolor\": \"#DFE8F3\", \"linecolor\": \"#A2B1C6\", \"ticks\": \"\"}}, \"title\": {\"x\": 0.05}, \"xaxis\": {\"automargin\": true, \"gridcolor\": \"#EBF0F8\", \"linecolor\": \"#EBF0F8\", \"ticks\": \"\", \"title\": {\"standoff\": 15}, \"zerolinecolor\": \"#EBF0F8\", \"zerolinewidth\": 2}, \"yaxis\": {\"automargin\": true, \"gridcolor\": \"#EBF0F8\", \"linecolor\": \"#EBF0F8\", \"ticks\": \"\", \"title\": {\"standoff\": 15}, \"zerolinecolor\": \"#EBF0F8\", \"zerolinewidth\": 2}}}, \"title\": {\"text\": \"Boxplot A/B test Engagement Rates\"}, \"xaxis\": {\"anchor\": \"y\", \"categoryarray\": [\"LinkedIn1-1\", \"Linkedin 2-2\", \"Linkedin 2-1\", \"Linkedin 1-2\"], \"categoryorder\": \"array\", \"domain\": [0.0, 1.0], \"title\": {\"text\": \"Creative Name\"}}, \"yaxis\": {\"anchor\": \"x\", \"domain\": [0.0, 1.0], \"title\": {\"text\": \"Engagement Rate\"}}},\n",
       "                        {\"responsive\": true}\n",
       "                    ).then(function(){\n",
       "                            \n",
       "var gd = document.getElementById('54dd9ad3-7a21-44eb-ac68-6bff1b201e1e');\n",
       "var x = new MutationObserver(function (mutations, observer) {{\n",
       "        var display = window.getComputedStyle(gd).display;\n",
       "        if (!display || display === 'none') {{\n",
       "            console.log([gd, 'removed!']);\n",
       "            Plotly.purge(gd);\n",
       "            observer.disconnect();\n",
       "        }}\n",
       "}});\n",
       "\n",
       "// Listen for the removal of the full notebook cells\n",
       "var notebookContainer = gd.closest('#notebook-container');\n",
       "if (notebookContainer) {{\n",
       "    x.observe(notebookContainer, {childList: true});\n",
       "}}\n",
       "\n",
       "// Listen for the clearing of the current output cell\n",
       "var outputEl = gd.closest('.output');\n",
       "if (outputEl) {{\n",
       "    x.observe(outputEl, {childList: true});\n",
       "}}\n",
       "\n",
       "                        })\n",
       "                };\n",
       "                });\n",
       "            </script>\n",
       "        </div>"
      ]
     },
     "metadata": {},
     "output_type": "display_data"
    }
   ],
   "source": [
    "fig.show()"
   ]
  },
  {
   "cell_type": "code",
   "execution_count": 67,
   "metadata": {},
   "outputs": [],
   "source": [
    "fig2=px.scatter(dfAd,x='Total Spent',y='Clicks',labels={'Total Spent':'Total Spend in CAD'},size='Impressions',color='Creative Name',size_max=55,animation_frame='Day',range_x=[0,1300],range_y=[0,200],template='plotly_white',height=700,width=1000,title='Scatter plot A/B test Click-Through-Rate over Time and Budget')"
   ]
  },
  {
   "cell_type": "code",
   "execution_count": 68,
   "metadata": {
    "scrolled": false
   },
   "outputs": [
    {
     "data": {
      "application/vnd.plotly.v1+json": {
       "config": {
        "plotlyServerURL": "https://plot.ly"
       },
       "data": [
        {
         "hovertemplate": "Creative Name=LinkedIn1-1<br>Day=1<br>Total Spend in CAD=%{x}<br>Clicks=%{y}<br>Impressions=%{marker.size}<extra></extra>",
         "legendgroup": "LinkedIn1-1",
         "marker": {
          "color": "#636efa",
          "size": [
           635
          ],
          "sizemode": "area",
          "sizeref": 15.58909090909091,
          "symbol": "circle"
         },
         "mode": "markers",
         "name": "LinkedIn1-1",
         "orientation": "v",
         "showlegend": true,
         "type": "scatter",
         "x": [
          13.54
         ],
         "xaxis": "x",
         "y": [
          4
         ],
         "yaxis": "y"
        },
        {
         "hovertemplate": "Creative Name=Linkedin 2-2<br>Day=1<br>Total Spend in CAD=%{x}<br>Clicks=%{y}<br>Impressions=%{marker.size}<extra></extra>",
         "legendgroup": "Linkedin 2-2",
         "marker": {
          "color": "#EF553B",
          "size": [
           712
          ],
          "sizemode": "area",
          "sizeref": 15.58909090909091,
          "symbol": "circle"
         },
         "mode": "markers",
         "name": "Linkedin 2-2",
         "orientation": "v",
         "showlegend": true,
         "type": "scatter",
         "x": [
          26.34
         ],
         "xaxis": "x",
         "y": [
          3
         ],
         "yaxis": "y"
        },
        {
         "hovertemplate": "Creative Name=Linkedin 2-1<br>Day=1<br>Total Spend in CAD=%{x}<br>Clicks=%{y}<br>Impressions=%{marker.size}<extra></extra>",
         "legendgroup": "Linkedin 2-1",
         "marker": {
          "color": "#00cc96",
          "size": [
           687
          ],
          "sizemode": "area",
          "sizeref": 15.58909090909091,
          "symbol": "circle"
         },
         "mode": "markers",
         "name": "Linkedin 2-1",
         "orientation": "v",
         "showlegend": true,
         "type": "scatter",
         "x": [
          16.94
         ],
         "xaxis": "x",
         "y": [
          5
         ],
         "yaxis": "y"
        },
        {
         "hovertemplate": "Creative Name=Linkedin 1-2<br>Day=1<br>Total Spend in CAD=%{x}<br>Clicks=%{y}<br>Impressions=%{marker.size}<extra></extra>",
         "legendgroup": "Linkedin 1-2",
         "marker": {
          "color": "#ab63fa",
          "size": [
           1099
          ],
          "sizemode": "area",
          "sizeref": 15.58909090909091,
          "symbol": "circle"
         },
         "mode": "markers",
         "name": "Linkedin 1-2",
         "orientation": "v",
         "showlegend": true,
         "type": "scatter",
         "x": [
          19.94
         ],
         "xaxis": "x",
         "y": [
          5
         ],
         "yaxis": "y"
        }
       ],
       "frames": [
        {
         "data": [
          {
           "hovertemplate": "Creative Name=LinkedIn1-1<br>Day=1<br>Total Spend in CAD=%{x}<br>Clicks=%{y}<br>Impressions=%{marker.size}<extra></extra>",
           "legendgroup": "LinkedIn1-1",
           "marker": {
            "color": "#636efa",
            "size": [
             635
            ],
            "sizemode": "area",
            "sizeref": 15.58909090909091,
            "symbol": "circle"
           },
           "mode": "markers",
           "name": "LinkedIn1-1",
           "orientation": "v",
           "showlegend": true,
           "type": "scatter",
           "x": [
            13.54
           ],
           "xaxis": "x",
           "y": [
            4
           ],
           "yaxis": "y"
          },
          {
           "hovertemplate": "Creative Name=Linkedin 2-2<br>Day=1<br>Total Spend in CAD=%{x}<br>Clicks=%{y}<br>Impressions=%{marker.size}<extra></extra>",
           "legendgroup": "Linkedin 2-2",
           "marker": {
            "color": "#EF553B",
            "size": [
             712
            ],
            "sizemode": "area",
            "sizeref": 15.58909090909091,
            "symbol": "circle"
           },
           "mode": "markers",
           "name": "Linkedin 2-2",
           "orientation": "v",
           "showlegend": true,
           "type": "scatter",
           "x": [
            26.34
           ],
           "xaxis": "x",
           "y": [
            3
           ],
           "yaxis": "y"
          },
          {
           "hovertemplate": "Creative Name=Linkedin 2-1<br>Day=1<br>Total Spend in CAD=%{x}<br>Clicks=%{y}<br>Impressions=%{marker.size}<extra></extra>",
           "legendgroup": "Linkedin 2-1",
           "marker": {
            "color": "#00cc96",
            "size": [
             687
            ],
            "sizemode": "area",
            "sizeref": 15.58909090909091,
            "symbol": "circle"
           },
           "mode": "markers",
           "name": "Linkedin 2-1",
           "orientation": "v",
           "showlegend": true,
           "type": "scatter",
           "x": [
            16.94
           ],
           "xaxis": "x",
           "y": [
            5
           ],
           "yaxis": "y"
          },
          {
           "hovertemplate": "Creative Name=Linkedin 1-2<br>Day=1<br>Total Spend in CAD=%{x}<br>Clicks=%{y}<br>Impressions=%{marker.size}<extra></extra>",
           "legendgroup": "Linkedin 1-2",
           "marker": {
            "color": "#ab63fa",
            "size": [
             1099
            ],
            "sizemode": "area",
            "sizeref": 15.58909090909091,
            "symbol": "circle"
           },
           "mode": "markers",
           "name": "Linkedin 1-2",
           "orientation": "v",
           "showlegend": true,
           "type": "scatter",
           "x": [
            19.94
           ],
           "xaxis": "x",
           "y": [
            5
           ],
           "yaxis": "y"
          }
         ],
         "name": "1"
        },
        {
         "data": [
          {
           "hovertemplate": "Creative Name=LinkedIn1-1<br>Day=2<br>Total Spend in CAD=%{x}<br>Clicks=%{y}<br>Impressions=%{marker.size}<extra></extra>",
           "legendgroup": "LinkedIn1-1",
           "marker": {
            "color": "#636efa",
            "size": [
             1248
            ],
            "sizemode": "area",
            "sizeref": 15.58909090909091,
            "symbol": "circle"
           },
           "mode": "markers",
           "name": "LinkedIn1-1",
           "orientation": "v",
           "showlegend": true,
           "type": "scatter",
           "x": [
            29.73
           ],
           "xaxis": "x",
           "y": [
            8
           ],
           "yaxis": "y"
          },
          {
           "hovertemplate": "Creative Name=Linkedin 2-2<br>Day=2<br>Total Spend in CAD=%{x}<br>Clicks=%{y}<br>Impressions=%{marker.size}<extra></extra>",
           "legendgroup": "Linkedin 2-2",
           "marker": {
            "color": "#EF553B",
            "size": [
             1170
            ],
            "sizemode": "area",
            "sizeref": 15.58909090909091,
            "symbol": "circle"
           },
           "mode": "markers",
           "name": "Linkedin 2-2",
           "orientation": "v",
           "showlegend": true,
           "type": "scatter",
           "x": [
            38.13
           ],
           "xaxis": "x",
           "y": [
            4
           ],
           "yaxis": "y"
          },
          {
           "hovertemplate": "Creative Name=Linkedin 2-1<br>Day=2<br>Total Spend in CAD=%{x}<br>Clicks=%{y}<br>Impressions=%{marker.size}<extra></extra>",
           "legendgroup": "Linkedin 2-1",
           "marker": {
            "color": "#00cc96",
            "size": [
             1366
            ],
            "sizemode": "area",
            "sizeref": 15.58909090909091,
            "symbol": "circle"
           },
           "mode": "markers",
           "name": "Linkedin 2-1",
           "orientation": "v",
           "showlegend": true,
           "type": "scatter",
           "x": [
            36.32
           ],
           "xaxis": "x",
           "y": [
            9
           ],
           "yaxis": "y"
          },
          {
           "hovertemplate": "Creative Name=Linkedin 1-2<br>Day=2<br>Total Spend in CAD=%{x}<br>Clicks=%{y}<br>Impressions=%{marker.size}<extra></extra>",
           "legendgroup": "Linkedin 1-2",
           "marker": {
            "color": "#ab63fa",
            "size": [
             2134
            ],
            "sizemode": "area",
            "sizeref": 15.58909090909091,
            "symbol": "circle"
           },
           "mode": "markers",
           "name": "Linkedin 1-2",
           "orientation": "v",
           "showlegend": true,
           "type": "scatter",
           "x": [
            38.41
           ],
           "xaxis": "x",
           "y": [
            9
           ],
           "yaxis": "y"
          }
         ],
         "name": "2"
        },
        {
         "data": [
          {
           "hovertemplate": "Creative Name=LinkedIn1-1<br>Day=3<br>Total Spend in CAD=%{x}<br>Clicks=%{y}<br>Impressions=%{marker.size}<extra></extra>",
           "legendgroup": "LinkedIn1-1",
           "marker": {
            "color": "#636efa",
            "size": [
             1822
            ],
            "sizemode": "area",
            "sizeref": 15.58909090909091,
            "symbol": "circle"
           },
           "mode": "markers",
           "name": "LinkedIn1-1",
           "orientation": "v",
           "showlegend": true,
           "type": "scatter",
           "x": [
            47.12
           ],
           "xaxis": "x",
           "y": [
            13
           ],
           "yaxis": "y"
          },
          {
           "hovertemplate": "Creative Name=Linkedin 2-2<br>Day=3<br>Total Spend in CAD=%{x}<br>Clicks=%{y}<br>Impressions=%{marker.size}<extra></extra>",
           "legendgroup": "Linkedin 2-2",
           "marker": {
            "color": "#EF553B",
            "size": [
             1668
            ],
            "sizemode": "area",
            "sizeref": 15.58909090909091,
            "symbol": "circle"
           },
           "mode": "markers",
           "name": "Linkedin 2-2",
           "orientation": "v",
           "showlegend": true,
           "type": "scatter",
           "x": [
            51.9
           ],
           "xaxis": "x",
           "y": [
            4
           ],
           "yaxis": "y"
          },
          {
           "hovertemplate": "Creative Name=Linkedin 2-1<br>Day=3<br>Total Spend in CAD=%{x}<br>Clicks=%{y}<br>Impressions=%{marker.size}<extra></extra>",
           "legendgroup": "Linkedin 2-1",
           "marker": {
            "color": "#00cc96",
            "size": [
             2041
            ],
            "sizemode": "area",
            "sizeref": 15.58909090909091,
            "symbol": "circle"
           },
           "mode": "markers",
           "name": "Linkedin 2-1",
           "orientation": "v",
           "showlegend": true,
           "type": "scatter",
           "x": [
            57.21
           ],
           "xaxis": "x",
           "y": [
            10
           ],
           "yaxis": "y"
          },
          {
           "hovertemplate": "Creative Name=Linkedin 1-2<br>Day=3<br>Total Spend in CAD=%{x}<br>Clicks=%{y}<br>Impressions=%{marker.size}<extra></extra>",
           "legendgroup": "Linkedin 1-2",
           "marker": {
            "color": "#ab63fa",
            "size": [
             3159
            ],
            "sizemode": "area",
            "sizeref": 15.58909090909091,
            "symbol": "circle"
           },
           "mode": "markers",
           "name": "Linkedin 1-2",
           "orientation": "v",
           "showlegend": true,
           "type": "scatter",
           "x": [
            54.06
           ],
           "xaxis": "x",
           "y": [
            14
           ],
           "yaxis": "y"
          }
         ],
         "name": "3"
        },
        {
         "data": [
          {
           "hovertemplate": "Creative Name=LinkedIn1-1<br>Day=4<br>Total Spend in CAD=%{x}<br>Clicks=%{y}<br>Impressions=%{marker.size}<extra></extra>",
           "legendgroup": "LinkedIn1-1",
           "marker": {
            "color": "#636efa",
            "size": [
             2421
            ],
            "sizemode": "area",
            "sizeref": 15.58909090909091,
            "symbol": "circle"
           },
           "mode": "markers",
           "name": "LinkedIn1-1",
           "orientation": "v",
           "showlegend": true,
           "type": "scatter",
           "x": [
            66.37
           ],
           "xaxis": "x",
           "y": [
            14
           ],
           "yaxis": "y"
          },
          {
           "hovertemplate": "Creative Name=Linkedin 2-2<br>Day=4<br>Total Spend in CAD=%{x}<br>Clicks=%{y}<br>Impressions=%{marker.size}<extra></extra>",
           "legendgroup": "Linkedin 2-2",
           "marker": {
            "color": "#EF553B",
            "size": [
             2379
            ],
            "sizemode": "area",
            "sizeref": 15.58909090909091,
            "symbol": "circle"
           },
           "mode": "markers",
           "name": "Linkedin 2-2",
           "orientation": "v",
           "showlegend": true,
           "type": "scatter",
           "x": [
            64.6
           ],
           "xaxis": "x",
           "y": [
            4
           ],
           "yaxis": "y"
          },
          {
           "hovertemplate": "Creative Name=Linkedin 2-1<br>Day=4<br>Total Spend in CAD=%{x}<br>Clicks=%{y}<br>Impressions=%{marker.size}<extra></extra>",
           "legendgroup": "Linkedin 2-1",
           "marker": {
            "color": "#00cc96",
            "size": [
             2702
            ],
            "sizemode": "area",
            "sizeref": 15.58909090909091,
            "symbol": "circle"
           },
           "mode": "markers",
           "name": "Linkedin 2-1",
           "orientation": "v",
           "showlegend": true,
           "type": "scatter",
           "x": [
            79.09
           ],
           "xaxis": "x",
           "y": [
            12
           ],
           "yaxis": "y"
          },
          {
           "hovertemplate": "Creative Name=Linkedin 1-2<br>Day=4<br>Total Spend in CAD=%{x}<br>Clicks=%{y}<br>Impressions=%{marker.size}<extra></extra>",
           "legendgroup": "Linkedin 1-2",
           "marker": {
            "color": "#ab63fa",
            "size": [
             3574
            ],
            "sizemode": "area",
            "sizeref": 15.58909090909091,
            "symbol": "circle"
           },
           "mode": "markers",
           "name": "Linkedin 1-2",
           "orientation": "v",
           "showlegend": true,
           "type": "scatter",
           "x": [
            64.37
           ],
           "xaxis": "x",
           "y": [
            15
           ],
           "yaxis": "y"
          }
         ],
         "name": "4"
        },
        {
         "data": [
          {
           "hovertemplate": "Creative Name=LinkedIn1-1<br>Day=5<br>Total Spend in CAD=%{x}<br>Clicks=%{y}<br>Impressions=%{marker.size}<extra></extra>",
           "legendgroup": "LinkedIn1-1",
           "marker": {
            "color": "#636efa",
            "size": [
             3071
            ],
            "sizemode": "area",
            "sizeref": 15.58909090909091,
            "symbol": "circle"
           },
           "mode": "markers",
           "name": "LinkedIn1-1",
           "orientation": "v",
           "showlegend": true,
           "type": "scatter",
           "x": [
            87.86
           ],
           "xaxis": "x",
           "y": [
            20
           ],
           "yaxis": "y"
          },
          {
           "hovertemplate": "Creative Name=Linkedin 2-2<br>Day=5<br>Total Spend in CAD=%{x}<br>Clicks=%{y}<br>Impressions=%{marker.size}<extra></extra>",
           "legendgroup": "Linkedin 2-2",
           "marker": {
            "color": "#EF553B",
            "size": [
             3017
            ],
            "sizemode": "area",
            "sizeref": 15.58909090909091,
            "symbol": "circle"
           },
           "mode": "markers",
           "name": "Linkedin 2-2",
           "orientation": "v",
           "showlegend": true,
           "type": "scatter",
           "x": [
            79.28
           ],
           "xaxis": "x",
           "y": [
            6
           ],
           "yaxis": "y"
          },
          {
           "hovertemplate": "Creative Name=Linkedin 2-1<br>Day=5<br>Total Spend in CAD=%{x}<br>Clicks=%{y}<br>Impressions=%{marker.size}<extra></extra>",
           "legendgroup": "Linkedin 2-1",
           "marker": {
            "color": "#00cc96",
            "size": [
             3310
            ],
            "sizemode": "area",
            "sizeref": 15.58909090909091,
            "symbol": "circle"
           },
           "mode": "markers",
           "name": "Linkedin 2-1",
           "orientation": "v",
           "showlegend": true,
           "type": "scatter",
           "x": [
            97.91
           ],
           "xaxis": "x",
           "y": [
            16
           ],
           "yaxis": "y"
          },
          {
           "hovertemplate": "Creative Name=Linkedin 1-2<br>Day=5<br>Total Spend in CAD=%{x}<br>Clicks=%{y}<br>Impressions=%{marker.size}<extra></extra>",
           "legendgroup": "Linkedin 1-2",
           "marker": {
            "color": "#ab63fa",
            "size": [
             4022
            ],
            "sizemode": "area",
            "sizeref": 15.58909090909091,
            "symbol": "circle"
           },
           "mode": "markers",
           "name": "Linkedin 1-2",
           "orientation": "v",
           "showlegend": true,
           "type": "scatter",
           "x": [
            76.45
           ],
           "xaxis": "x",
           "y": [
            18
           ],
           "yaxis": "y"
          }
         ],
         "name": "5"
        },
        {
         "data": [
          {
           "hovertemplate": "Creative Name=LinkedIn1-1<br>Day=6<br>Total Spend in CAD=%{x}<br>Clicks=%{y}<br>Impressions=%{marker.size}<extra></extra>",
           "legendgroup": "LinkedIn1-1",
           "marker": {
            "color": "#636efa",
            "size": [
             3846
            ],
            "sizemode": "area",
            "sizeref": 15.58909090909091,
            "symbol": "circle"
           },
           "mode": "markers",
           "name": "LinkedIn1-1",
           "orientation": "v",
           "showlegend": true,
           "type": "scatter",
           "x": [
            109.27
           ],
           "xaxis": "x",
           "y": [
            22
           ],
           "yaxis": "y"
          },
          {
           "hovertemplate": "Creative Name=Linkedin 2-2<br>Day=6<br>Total Spend in CAD=%{x}<br>Clicks=%{y}<br>Impressions=%{marker.size}<extra></extra>",
           "legendgroup": "Linkedin 2-2",
           "marker": {
            "color": "#EF553B",
            "size": [
             3931
            ],
            "sizemode": "area",
            "sizeref": 15.58909090909091,
            "symbol": "circle"
           },
           "mode": "markers",
           "name": "Linkedin 2-2",
           "orientation": "v",
           "showlegend": true,
           "type": "scatter",
           "x": [
            94.57
           ],
           "xaxis": "x",
           "y": [
            6
           ],
           "yaxis": "y"
          },
          {
           "hovertemplate": "Creative Name=Linkedin 2-1<br>Day=6<br>Total Spend in CAD=%{x}<br>Clicks=%{y}<br>Impressions=%{marker.size}<extra></extra>",
           "legendgroup": "Linkedin 2-1",
           "marker": {
            "color": "#00cc96",
            "size": [
             3929
            ],
            "sizemode": "area",
            "sizeref": 15.58909090909091,
            "symbol": "circle"
           },
           "mode": "markers",
           "name": "Linkedin 2-1",
           "orientation": "v",
           "showlegend": true,
           "type": "scatter",
           "x": [
            113.08
           ],
           "xaxis": "x",
           "y": [
            18
           ],
           "yaxis": "y"
          },
          {
           "hovertemplate": "Creative Name=Linkedin 1-2<br>Day=6<br>Total Spend in CAD=%{x}<br>Clicks=%{y}<br>Impressions=%{marker.size}<extra></extra>",
           "legendgroup": "Linkedin 1-2",
           "marker": {
            "color": "#ab63fa",
            "size": [
             4590
            ],
            "sizemode": "area",
            "sizeref": 15.58909090909091,
            "symbol": "circle"
           },
           "mode": "markers",
           "name": "Linkedin 1-2",
           "orientation": "v",
           "showlegend": true,
           "type": "scatter",
           "x": [
            91.08
           ],
           "xaxis": "x",
           "y": [
            21
           ],
           "yaxis": "y"
          }
         ],
         "name": "6"
        },
        {
         "data": [
          {
           "hovertemplate": "Creative Name=LinkedIn1-1<br>Day=7<br>Total Spend in CAD=%{x}<br>Clicks=%{y}<br>Impressions=%{marker.size}<extra></extra>",
           "legendgroup": "LinkedIn1-1",
           "marker": {
            "color": "#636efa",
            "size": [
             4654
            ],
            "sizemode": "area",
            "sizeref": 15.58909090909091,
            "symbol": "circle"
           },
           "mode": "markers",
           "name": "LinkedIn1-1",
           "orientation": "v",
           "showlegend": true,
           "type": "scatter",
           "x": [
            131.65
           ],
           "xaxis": "x",
           "y": [
            24
           ],
           "yaxis": "y"
          },
          {
           "hovertemplate": "Creative Name=Linkedin 2-2<br>Day=7<br>Total Spend in CAD=%{x}<br>Clicks=%{y}<br>Impressions=%{marker.size}<extra></extra>",
           "legendgroup": "Linkedin 2-2",
           "marker": {
            "color": "#EF553B",
            "size": [
             4936
            ],
            "sizemode": "area",
            "sizeref": 15.58909090909091,
            "symbol": "circle"
           },
           "mode": "markers",
           "name": "Linkedin 2-2",
           "orientation": "v",
           "showlegend": true,
           "type": "scatter",
           "x": [
            108.17
           ],
           "xaxis": "x",
           "y": [
            9
           ],
           "yaxis": "y"
          },
          {
           "hovertemplate": "Creative Name=Linkedin 2-1<br>Day=7<br>Total Spend in CAD=%{x}<br>Clicks=%{y}<br>Impressions=%{marker.size}<extra></extra>",
           "legendgroup": "Linkedin 2-1",
           "marker": {
            "color": "#00cc96",
            "size": [
             4557
            ],
            "sizemode": "area",
            "sizeref": 15.58909090909091,
            "symbol": "circle"
           },
           "mode": "markers",
           "name": "Linkedin 2-1",
           "orientation": "v",
           "showlegend": true,
           "type": "scatter",
           "x": [
            128.03
           ],
           "xaxis": "x",
           "y": [
            20
           ],
           "yaxis": "y"
          },
          {
           "hovertemplate": "Creative Name=Linkedin 1-2<br>Day=7<br>Total Spend in CAD=%{x}<br>Clicks=%{y}<br>Impressions=%{marker.size}<extra></extra>",
           "legendgroup": "Linkedin 1-2",
           "marker": {
            "color": "#ab63fa",
            "size": [
             5103
            ],
            "sizemode": "area",
            "sizeref": 15.58909090909091,
            "symbol": "circle"
           },
           "mode": "markers",
           "name": "Linkedin 1-2",
           "orientation": "v",
           "showlegend": true,
           "type": "scatter",
           "x": [
            103.79
           ],
           "xaxis": "x",
           "y": [
            21
           ],
           "yaxis": "y"
          }
         ],
         "name": "7"
        },
        {
         "data": [
          {
           "hovertemplate": "Creative Name=LinkedIn1-1<br>Day=8<br>Total Spend in CAD=%{x}<br>Clicks=%{y}<br>Impressions=%{marker.size}<extra></extra>",
           "legendgroup": "LinkedIn1-1",
           "marker": {
            "color": "#636efa",
            "size": [
             5504
            ],
            "sizemode": "area",
            "sizeref": 15.58909090909091,
            "symbol": "circle"
           },
           "mode": "markers",
           "name": "LinkedIn1-1",
           "orientation": "v",
           "showlegend": true,
           "type": "scatter",
           "x": [
            157.42
           ],
           "xaxis": "x",
           "y": [
            27
           ],
           "yaxis": "y"
          },
          {
           "hovertemplate": "Creative Name=Linkedin 2-2<br>Day=8<br>Total Spend in CAD=%{x}<br>Clicks=%{y}<br>Impressions=%{marker.size}<extra></extra>",
           "legendgroup": "Linkedin 2-2",
           "marker": {
            "color": "#EF553B",
            "size": [
             5741
            ],
            "sizemode": "area",
            "sizeref": 15.58909090909091,
            "symbol": "circle"
           },
           "mode": "markers",
           "name": "Linkedin 2-2",
           "orientation": "v",
           "showlegend": true,
           "type": "scatter",
           "x": [
            124.78
           ],
           "xaxis": "x",
           "y": [
            13
           ],
           "yaxis": "y"
          },
          {
           "hovertemplate": "Creative Name=Linkedin 2-1<br>Day=8<br>Total Spend in CAD=%{x}<br>Clicks=%{y}<br>Impressions=%{marker.size}<extra></extra>",
           "legendgroup": "Linkedin 2-1",
           "marker": {
            "color": "#00cc96",
            "size": [
             5089
            ],
            "sizemode": "area",
            "sizeref": 15.58909090909091,
            "symbol": "circle"
           },
           "mode": "markers",
           "name": "Linkedin 2-1",
           "orientation": "v",
           "showlegend": true,
           "type": "scatter",
           "x": [
            141.98
           ],
           "xaxis": "x",
           "y": [
            20
           ],
           "yaxis": "y"
          },
          {
           "hovertemplate": "Creative Name=Linkedin 1-2<br>Day=8<br>Total Spend in CAD=%{x}<br>Clicks=%{y}<br>Impressions=%{marker.size}<extra></extra>",
           "legendgroup": "Linkedin 1-2",
           "marker": {
            "color": "#ab63fa",
            "size": [
             5627
            ],
            "sizemode": "area",
            "sizeref": 15.58909090909091,
            "symbol": "circle"
           },
           "mode": "markers",
           "name": "Linkedin 1-2",
           "orientation": "v",
           "showlegend": true,
           "type": "scatter",
           "x": [
            115.81
           ],
           "xaxis": "x",
           "y": [
            21
           ],
           "yaxis": "y"
          }
         ],
         "name": "8"
        },
        {
         "data": [
          {
           "hovertemplate": "Creative Name=LinkedIn1-1<br>Day=9<br>Total Spend in CAD=%{x}<br>Clicks=%{y}<br>Impressions=%{marker.size}<extra></extra>",
           "legendgroup": "LinkedIn1-1",
           "marker": {
            "color": "#636efa",
            "size": [
             6252
            ],
            "sizemode": "area",
            "sizeref": 15.58909090909091,
            "symbol": "circle"
           },
           "mode": "markers",
           "name": "LinkedIn1-1",
           "orientation": "v",
           "showlegend": true,
           "type": "scatter",
           "x": [
            177.51
           ],
           "xaxis": "x",
           "y": [
            27
           ],
           "yaxis": "y"
          },
          {
           "hovertemplate": "Creative Name=Linkedin 2-2<br>Day=9<br>Total Spend in CAD=%{x}<br>Clicks=%{y}<br>Impressions=%{marker.size}<extra></extra>",
           "legendgroup": "Linkedin 2-2",
           "marker": {
            "color": "#EF553B",
            "size": [
             6610
            ],
            "sizemode": "area",
            "sizeref": 15.58909090909091,
            "symbol": "circle"
           },
           "mode": "markers",
           "name": "Linkedin 2-2",
           "orientation": "v",
           "showlegend": true,
           "type": "scatter",
           "x": [
            142.36
           ],
           "xaxis": "x",
           "y": [
            16
           ],
           "yaxis": "y"
          },
          {
           "hovertemplate": "Creative Name=Linkedin 2-1<br>Day=9<br>Total Spend in CAD=%{x}<br>Clicks=%{y}<br>Impressions=%{marker.size}<extra></extra>",
           "legendgroup": "Linkedin 2-1",
           "marker": {
            "color": "#00cc96",
            "size": [
             5725
            ],
            "sizemode": "area",
            "sizeref": 15.58909090909091,
            "symbol": "circle"
           },
           "mode": "markers",
           "name": "Linkedin 2-1",
           "orientation": "v",
           "showlegend": true,
           "type": "scatter",
           "x": [
            157.69
           ],
           "xaxis": "x",
           "y": [
            20
           ],
           "yaxis": "y"
          },
          {
           "hovertemplate": "Creative Name=Linkedin 1-2<br>Day=9<br>Total Spend in CAD=%{x}<br>Clicks=%{y}<br>Impressions=%{marker.size}<extra></extra>",
           "legendgroup": "Linkedin 1-2",
           "marker": {
            "color": "#ab63fa",
            "size": [
             6156
            ],
            "sizemode": "area",
            "sizeref": 15.58909090909091,
            "symbol": "circle"
           },
           "mode": "markers",
           "name": "Linkedin 1-2",
           "orientation": "v",
           "showlegend": true,
           "type": "scatter",
           "x": [
            128.85
           ],
           "xaxis": "x",
           "y": [
            23
           ],
           "yaxis": "y"
          }
         ],
         "name": "9"
        },
        {
         "data": [
          {
           "hovertemplate": "Creative Name=LinkedIn1-1<br>Day=10<br>Total Spend in CAD=%{x}<br>Clicks=%{y}<br>Impressions=%{marker.size}<extra></extra>",
           "legendgroup": "LinkedIn1-1",
           "marker": {
            "color": "#636efa",
            "size": [
             6906
            ],
            "sizemode": "area",
            "sizeref": 15.58909090909091,
            "symbol": "circle"
           },
           "mode": "markers",
           "name": "LinkedIn1-1",
           "orientation": "v",
           "showlegend": true,
           "type": "scatter",
           "x": [
            194.64
           ],
           "xaxis": "x",
           "y": [
            29
           ],
           "yaxis": "y"
          },
          {
           "hovertemplate": "Creative Name=Linkedin 2-2<br>Day=10<br>Total Spend in CAD=%{x}<br>Clicks=%{y}<br>Impressions=%{marker.size}<extra></extra>",
           "legendgroup": "Linkedin 2-2",
           "marker": {
            "color": "#EF553B",
            "size": [
             7444
            ],
            "sizemode": "area",
            "sizeref": 15.58909090909091,
            "symbol": "circle"
           },
           "mode": "markers",
           "name": "Linkedin 2-2",
           "orientation": "v",
           "showlegend": true,
           "type": "scatter",
           "x": [
            158.41
           ],
           "xaxis": "x",
           "y": [
            18
           ],
           "yaxis": "y"
          },
          {
           "hovertemplate": "Creative Name=Linkedin 2-1<br>Day=10<br>Total Spend in CAD=%{x}<br>Clicks=%{y}<br>Impressions=%{marker.size}<extra></extra>",
           "legendgroup": "Linkedin 2-1",
           "marker": {
            "color": "#00cc96",
            "size": [
             6394
            ],
            "sizemode": "area",
            "sizeref": 15.58909090909091,
            "symbol": "circle"
           },
           "mode": "markers",
           "name": "Linkedin 2-1",
           "orientation": "v",
           "showlegend": true,
           "type": "scatter",
           "x": [
            175.2
           ],
           "xaxis": "x",
           "y": [
            22
           ],
           "yaxis": "y"
          },
          {
           "hovertemplate": "Creative Name=Linkedin 1-2<br>Day=10<br>Total Spend in CAD=%{x}<br>Clicks=%{y}<br>Impressions=%{marker.size}<extra></extra>",
           "legendgroup": "Linkedin 1-2",
           "marker": {
            "color": "#ab63fa",
            "size": [
             6768
            ],
            "sizemode": "area",
            "sizeref": 15.58909090909091,
            "symbol": "circle"
           },
           "mode": "markers",
           "name": "Linkedin 1-2",
           "orientation": "v",
           "showlegend": true,
           "type": "scatter",
           "x": [
            142.03
           ],
           "xaxis": "x",
           "y": [
            26
           ],
           "yaxis": "y"
          }
         ],
         "name": "10"
        },
        {
         "data": [
          {
           "hovertemplate": "Creative Name=LinkedIn1-1<br>Day=11<br>Total Spend in CAD=%{x}<br>Clicks=%{y}<br>Impressions=%{marker.size}<extra></extra>",
           "legendgroup": "LinkedIn1-1",
           "marker": {
            "color": "#636efa",
            "size": [
             7432
            ],
            "sizemode": "area",
            "sizeref": 15.58909090909091,
            "symbol": "circle"
           },
           "mode": "markers",
           "name": "LinkedIn1-1",
           "orientation": "v",
           "showlegend": true,
           "type": "scatter",
           "x": [
            208.82
           ],
           "xaxis": "x",
           "y": [
            31
           ],
           "yaxis": "y"
          },
          {
           "hovertemplate": "Creative Name=Linkedin 2-2<br>Day=11<br>Total Spend in CAD=%{x}<br>Clicks=%{y}<br>Impressions=%{marker.size}<extra></extra>",
           "legendgroup": "Linkedin 2-2",
           "marker": {
            "color": "#EF553B",
            "size": [
             8095
            ],
            "sizemode": "area",
            "sizeref": 15.58909090909091,
            "symbol": "circle"
           },
           "mode": "markers",
           "name": "Linkedin 2-2",
           "orientation": "v",
           "showlegend": true,
           "type": "scatter",
           "x": [
            176.09
           ],
           "xaxis": "x",
           "y": [
            18
           ],
           "yaxis": "y"
          },
          {
           "hovertemplate": "Creative Name=Linkedin 2-1<br>Day=11<br>Total Spend in CAD=%{x}<br>Clicks=%{y}<br>Impressions=%{marker.size}<extra></extra>",
           "legendgroup": "Linkedin 2-1",
           "marker": {
            "color": "#00cc96",
            "size": [
             7213
            ],
            "sizemode": "area",
            "sizeref": 15.58909090909091,
            "symbol": "circle"
           },
           "mode": "markers",
           "name": "Linkedin 2-1",
           "orientation": "v",
           "showlegend": true,
           "type": "scatter",
           "x": [
            197.42
           ],
           "xaxis": "x",
           "y": [
            27
           ],
           "yaxis": "y"
          },
          {
           "hovertemplate": "Creative Name=Linkedin 1-2<br>Day=11<br>Total Spend in CAD=%{x}<br>Clicks=%{y}<br>Impressions=%{marker.size}<extra></extra>",
           "legendgroup": "Linkedin 1-2",
           "marker": {
            "color": "#ab63fa",
            "size": [
             7288
            ],
            "sizemode": "area",
            "sizeref": 15.58909090909091,
            "symbol": "circle"
           },
           "mode": "markers",
           "name": "Linkedin 1-2",
           "orientation": "v",
           "showlegend": true,
           "type": "scatter",
           "x": [
            154.81
           ],
           "xaxis": "x",
           "y": [
            29
           ],
           "yaxis": "y"
          }
         ],
         "name": "11"
        },
        {
         "data": [
          {
           "hovertemplate": "Creative Name=LinkedIn1-1<br>Day=12<br>Total Spend in CAD=%{x}<br>Clicks=%{y}<br>Impressions=%{marker.size}<extra></extra>",
           "legendgroup": "LinkedIn1-1",
           "marker": {
            "color": "#636efa",
            "size": [
             7956
            ],
            "sizemode": "area",
            "sizeref": 15.58909090909091,
            "symbol": "circle"
           },
           "mode": "markers",
           "name": "LinkedIn1-1",
           "orientation": "v",
           "showlegend": true,
           "type": "scatter",
           "x": [
            221.95
           ],
           "xaxis": "x",
           "y": [
            32
           ],
           "yaxis": "y"
          },
          {
           "hovertemplate": "Creative Name=Linkedin 2-2<br>Day=12<br>Total Spend in CAD=%{x}<br>Clicks=%{y}<br>Impressions=%{marker.size}<extra></extra>",
           "legendgroup": "Linkedin 2-2",
           "marker": {
            "color": "#EF553B",
            "size": [
             8847
            ],
            "sizemode": "area",
            "sizeref": 15.58909090909091,
            "symbol": "circle"
           },
           "mode": "markers",
           "name": "Linkedin 2-2",
           "orientation": "v",
           "showlegend": true,
           "type": "scatter",
           "x": [
            191.18
           ],
           "xaxis": "x",
           "y": [
            24
           ],
           "yaxis": "y"
          },
          {
           "hovertemplate": "Creative Name=Linkedin 2-1<br>Day=12<br>Total Spend in CAD=%{x}<br>Clicks=%{y}<br>Impressions=%{marker.size}<extra></extra>",
           "legendgroup": "Linkedin 2-1",
           "marker": {
            "color": "#00cc96",
            "size": [
             7922
            ],
            "sizemode": "area",
            "sizeref": 15.58909090909091,
            "symbol": "circle"
           },
           "mode": "markers",
           "name": "Linkedin 2-1",
           "orientation": "v",
           "showlegend": true,
           "type": "scatter",
           "x": [
            218.5
           ],
           "xaxis": "x",
           "y": [
            29
           ],
           "yaxis": "y"
          },
          {
           "hovertemplate": "Creative Name=Linkedin 1-2<br>Day=12<br>Total Spend in CAD=%{x}<br>Clicks=%{y}<br>Impressions=%{marker.size}<extra></extra>",
           "legendgroup": "Linkedin 1-2",
           "marker": {
            "color": "#ab63fa",
            "size": [
             7805
            ],
            "sizemode": "area",
            "sizeref": 15.58909090909091,
            "symbol": "circle"
           },
           "mode": "markers",
           "name": "Linkedin 1-2",
           "orientation": "v",
           "showlegend": true,
           "type": "scatter",
           "x": [
            168.51
           ],
           "xaxis": "x",
           "y": [
            29
           ],
           "yaxis": "y"
          }
         ],
         "name": "12"
        },
        {
         "data": [
          {
           "hovertemplate": "Creative Name=LinkedIn1-1<br>Day=13<br>Total Spend in CAD=%{x}<br>Clicks=%{y}<br>Impressions=%{marker.size}<extra></extra>",
           "legendgroup": "LinkedIn1-1",
           "marker": {
            "color": "#636efa",
            "size": [
             8523
            ],
            "sizemode": "area",
            "sizeref": 15.58909090909091,
            "symbol": "circle"
           },
           "mode": "markers",
           "name": "LinkedIn1-1",
           "orientation": "v",
           "showlegend": true,
           "type": "scatter",
           "x": [
            235.57
           ],
           "xaxis": "x",
           "y": [
            33
           ],
           "yaxis": "y"
          },
          {
           "hovertemplate": "Creative Name=Linkedin 2-2<br>Day=13<br>Total Spend in CAD=%{x}<br>Clicks=%{y}<br>Impressions=%{marker.size}<extra></extra>",
           "legendgroup": "Linkedin 2-2",
           "marker": {
            "color": "#EF553B",
            "size": [
             9612
            ],
            "sizemode": "area",
            "sizeref": 15.58909090909091,
            "symbol": "circle"
           },
           "mode": "markers",
           "name": "Linkedin 2-2",
           "orientation": "v",
           "showlegend": true,
           "type": "scatter",
           "x": [
            209.63
           ],
           "xaxis": "x",
           "y": [
            26
           ],
           "yaxis": "y"
          },
          {
           "hovertemplate": "Creative Name=Linkedin 2-1<br>Day=13<br>Total Spend in CAD=%{x}<br>Clicks=%{y}<br>Impressions=%{marker.size}<extra></extra>",
           "legendgroup": "Linkedin 2-1",
           "marker": {
            "color": "#00cc96",
            "size": [
             8824
            ],
            "sizemode": "area",
            "sizeref": 15.58909090909091,
            "symbol": "circle"
           },
           "mode": "markers",
           "name": "Linkedin 2-1",
           "orientation": "v",
           "showlegend": true,
           "type": "scatter",
           "x": [
            239.1
           ],
           "xaxis": "x",
           "y": [
            32
           ],
           "yaxis": "y"
          },
          {
           "hovertemplate": "Creative Name=Linkedin 1-2<br>Day=13<br>Total Spend in CAD=%{x}<br>Clicks=%{y}<br>Impressions=%{marker.size}<extra></extra>",
           "legendgroup": "Linkedin 1-2",
           "marker": {
            "color": "#ab63fa",
            "size": [
             8442
            ],
            "sizemode": "area",
            "sizeref": 15.58909090909091,
            "symbol": "circle"
           },
           "mode": "markers",
           "name": "Linkedin 1-2",
           "orientation": "v",
           "showlegend": true,
           "type": "scatter",
           "x": [
            184.46
           ],
           "xaxis": "x",
           "y": [
            31
           ],
           "yaxis": "y"
          }
         ],
         "name": "13"
        },
        {
         "data": [
          {
           "hovertemplate": "Creative Name=LinkedIn1-1<br>Day=14<br>Total Spend in CAD=%{x}<br>Clicks=%{y}<br>Impressions=%{marker.size}<extra></extra>",
           "legendgroup": "LinkedIn1-1",
           "marker": {
            "color": "#636efa",
            "size": [
             9123
            ],
            "sizemode": "area",
            "sizeref": 15.58909090909091,
            "symbol": "circle"
           },
           "mode": "markers",
           "name": "LinkedIn1-1",
           "orientation": "v",
           "showlegend": true,
           "type": "scatter",
           "x": [
            248.68
           ],
           "xaxis": "x",
           "y": [
            35
           ],
           "yaxis": "y"
          },
          {
           "hovertemplate": "Creative Name=Linkedin 2-2<br>Day=14<br>Total Spend in CAD=%{x}<br>Clicks=%{y}<br>Impressions=%{marker.size}<extra></extra>",
           "legendgroup": "Linkedin 2-2",
           "marker": {
            "color": "#EF553B",
            "size": [
             10645
            ],
            "sizemode": "area",
            "sizeref": 15.58909090909091,
            "symbol": "circle"
           },
           "mode": "markers",
           "name": "Linkedin 2-2",
           "orientation": "v",
           "showlegend": true,
           "type": "scatter",
           "x": [
            224.96
           ],
           "xaxis": "x",
           "y": [
            31
           ],
           "yaxis": "y"
          },
          {
           "hovertemplate": "Creative Name=Linkedin 2-1<br>Day=14<br>Total Spend in CAD=%{x}<br>Clicks=%{y}<br>Impressions=%{marker.size}<extra></extra>",
           "legendgroup": "Linkedin 2-1",
           "marker": {
            "color": "#00cc96",
            "size": [
             9549
            ],
            "sizemode": "area",
            "sizeref": 15.58909090909091,
            "symbol": "circle"
           },
           "mode": "markers",
           "name": "Linkedin 2-1",
           "orientation": "v",
           "showlegend": true,
           "type": "scatter",
           "x": [
            257.04
           ],
           "xaxis": "x",
           "y": [
            34
           ],
           "yaxis": "y"
          },
          {
           "hovertemplate": "Creative Name=Linkedin 1-2<br>Day=14<br>Total Spend in CAD=%{x}<br>Clicks=%{y}<br>Impressions=%{marker.size}<extra></extra>",
           "legendgroup": "Linkedin 1-2",
           "marker": {
            "color": "#ab63fa",
            "size": [
             9112
            ],
            "sizemode": "area",
            "sizeref": 15.58909090909091,
            "symbol": "circle"
           },
           "mode": "markers",
           "name": "Linkedin 1-2",
           "orientation": "v",
           "showlegend": true,
           "type": "scatter",
           "x": [
            200.24
           ],
           "xaxis": "x",
           "y": [
            33
           ],
           "yaxis": "y"
          }
         ],
         "name": "14"
        },
        {
         "data": [
          {
           "hovertemplate": "Creative Name=LinkedIn1-1<br>Day=15<br>Total Spend in CAD=%{x}<br>Clicks=%{y}<br>Impressions=%{marker.size}<extra></extra>",
           "legendgroup": "LinkedIn1-1",
           "marker": {
            "color": "#636efa",
            "size": [
             9873
            ],
            "sizemode": "area",
            "sizeref": 15.58909090909091,
            "symbol": "circle"
           },
           "mode": "markers",
           "name": "LinkedIn1-1",
           "orientation": "v",
           "showlegend": true,
           "type": "scatter",
           "x": [
            267.09
           ],
           "xaxis": "x",
           "y": [
            38
           ],
           "yaxis": "y"
          },
          {
           "hovertemplate": "Creative Name=Linkedin 2-2<br>Day=15<br>Total Spend in CAD=%{x}<br>Clicks=%{y}<br>Impressions=%{marker.size}<extra></extra>",
           "legendgroup": "Linkedin 2-2",
           "marker": {
            "color": "#EF553B",
            "size": [
             11562
            ],
            "sizemode": "area",
            "sizeref": 15.58909090909091,
            "symbol": "circle"
           },
           "mode": "markers",
           "name": "Linkedin 2-2",
           "orientation": "v",
           "showlegend": true,
           "type": "scatter",
           "x": [
            224.96
           ],
           "xaxis": "x",
           "y": [
            34
           ],
           "yaxis": "y"
          },
          {
           "hovertemplate": "Creative Name=Linkedin 2-1<br>Day=15<br>Total Spend in CAD=%{x}<br>Clicks=%{y}<br>Impressions=%{marker.size}<extra></extra>",
           "legendgroup": "Linkedin 2-1",
           "marker": {
            "color": "#00cc96",
            "size": [
             10313
            ],
            "sizemode": "area",
            "sizeref": 15.58909090909091,
            "symbol": "circle"
           },
           "mode": "markers",
           "name": "Linkedin 2-1",
           "orientation": "v",
           "showlegend": true,
           "type": "scatter",
           "x": [
            272.71
           ],
           "xaxis": "x",
           "y": [
            36
           ],
           "yaxis": "y"
          },
          {
           "hovertemplate": "Creative Name=Linkedin 1-2<br>Day=15<br>Total Spend in CAD=%{x}<br>Clicks=%{y}<br>Impressions=%{marker.size}<extra></extra>",
           "legendgroup": "Linkedin 1-2",
           "marker": {
            "color": "#ab63fa",
            "size": [
             9824
            ],
            "sizemode": "area",
            "sizeref": 15.58909090909091,
            "symbol": "circle"
           },
           "mode": "markers",
           "name": "Linkedin 1-2",
           "orientation": "v",
           "showlegend": true,
           "type": "scatter",
           "x": [
            216.37
           ],
           "xaxis": "x",
           "y": [
            34
           ],
           "yaxis": "y"
          }
         ],
         "name": "15"
        },
        {
         "data": [
          {
           "hovertemplate": "Creative Name=LinkedIn1-1<br>Day=16<br>Total Spend in CAD=%{x}<br>Clicks=%{y}<br>Impressions=%{marker.size}<extra></extra>",
           "legendgroup": "LinkedIn1-1",
           "marker": {
            "color": "#636efa",
            "size": [
             10798
            ],
            "sizemode": "area",
            "sizeref": 15.58909090909091,
            "symbol": "circle"
           },
           "mode": "markers",
           "name": "LinkedIn1-1",
           "orientation": "v",
           "showlegend": true,
           "type": "scatter",
           "x": [
            290.48
           ],
           "xaxis": "x",
           "y": [
            42
           ],
           "yaxis": "y"
          },
          {
           "hovertemplate": "Creative Name=Linkedin 2-2<br>Day=16<br>Total Spend in CAD=%{x}<br>Clicks=%{y}<br>Impressions=%{marker.size}<extra></extra>",
           "legendgroup": "Linkedin 2-2",
           "marker": {
            "color": "#EF553B",
            "size": [
             11562
            ],
            "sizemode": "area",
            "sizeref": 15.58909090909091,
            "symbol": "circle"
           },
           "mode": "markers",
           "name": "Linkedin 2-2",
           "orientation": "v",
           "showlegend": true,
           "type": "scatter",
           "x": [
            224.96
           ],
           "xaxis": "x",
           "y": [
            34
           ],
           "yaxis": "y"
          },
          {
           "hovertemplate": "Creative Name=Linkedin 2-1<br>Day=16<br>Total Spend in CAD=%{x}<br>Clicks=%{y}<br>Impressions=%{marker.size}<extra></extra>",
           "legendgroup": "Linkedin 2-1",
           "marker": {
            "color": "#00cc96",
            "size": [
             11130
            ],
            "sizemode": "area",
            "sizeref": 15.58909090909091,
            "symbol": "circle"
           },
           "mode": "markers",
           "name": "Linkedin 2-1",
           "orientation": "v",
           "showlegend": true,
           "type": "scatter",
           "x": [
            294.84
           ],
           "xaxis": "x",
           "y": [
            38
           ],
           "yaxis": "y"
          },
          {
           "hovertemplate": "Creative Name=Linkedin 1-2<br>Day=16<br>Total Spend in CAD=%{x}<br>Clicks=%{y}<br>Impressions=%{marker.size}<extra></extra>",
           "legendgroup": "Linkedin 1-2",
           "marker": {
            "color": "#ab63fa",
            "size": [
             10756
            ],
            "sizemode": "area",
            "sizeref": 15.58909090909091,
            "symbol": "circle"
           },
           "mode": "markers",
           "name": "Linkedin 1-2",
           "orientation": "v",
           "showlegend": true,
           "type": "scatter",
           "x": [
            236.54
           ],
           "xaxis": "x",
           "y": [
            38
           ],
           "yaxis": "y"
          }
         ],
         "name": "16"
        },
        {
         "data": [
          {
           "hovertemplate": "Creative Name=LinkedIn1-1<br>Day=17<br>Total Spend in CAD=%{x}<br>Clicks=%{y}<br>Impressions=%{marker.size}<extra></extra>",
           "legendgroup": "LinkedIn1-1",
           "marker": {
            "color": "#636efa",
            "size": [
             11781
            ],
            "sizemode": "area",
            "sizeref": 15.58909090909091,
            "symbol": "circle"
           },
           "mode": "markers",
           "name": "LinkedIn1-1",
           "orientation": "v",
           "showlegend": true,
           "type": "scatter",
           "x": [
            314.1
           ],
           "xaxis": "x",
           "y": [
            43
           ],
           "yaxis": "y"
          },
          {
           "hovertemplate": "Creative Name=Linkedin 2-2<br>Day=17<br>Total Spend in CAD=%{x}<br>Clicks=%{y}<br>Impressions=%{marker.size}<extra></extra>",
           "legendgroup": "Linkedin 2-2",
           "marker": {
            "color": "#EF553B",
            "size": [
             11562
            ],
            "sizemode": "area",
            "sizeref": 15.58909090909091,
            "symbol": "circle"
           },
           "mode": "markers",
           "name": "Linkedin 2-2",
           "orientation": "v",
           "showlegend": true,
           "type": "scatter",
           "x": [
            224.96
           ],
           "xaxis": "x",
           "y": [
            34
           ],
           "yaxis": "y"
          },
          {
           "hovertemplate": "Creative Name=Linkedin 2-1<br>Day=17<br>Total Spend in CAD=%{x}<br>Clicks=%{y}<br>Impressions=%{marker.size}<extra></extra>",
           "legendgroup": "Linkedin 2-1",
           "marker": {
            "color": "#00cc96",
            "size": [
             12318
            ],
            "sizemode": "area",
            "sizeref": 15.58909090909091,
            "symbol": "circle"
           },
           "mode": "markers",
           "name": "Linkedin 2-1",
           "orientation": "v",
           "showlegend": true,
           "type": "scatter",
           "x": [
            319.69
           ],
           "xaxis": "x",
           "y": [
            40
           ],
           "yaxis": "y"
          },
          {
           "hovertemplate": "Creative Name=Linkedin 1-2<br>Day=17<br>Total Spend in CAD=%{x}<br>Clicks=%{y}<br>Impressions=%{marker.size}<extra></extra>",
           "legendgroup": "Linkedin 1-2",
           "marker": {
            "color": "#ab63fa",
            "size": [
             11638
            ],
            "sizemode": "area",
            "sizeref": 15.58909090909091,
            "symbol": "circle"
           },
           "mode": "markers",
           "name": "Linkedin 1-2",
           "orientation": "v",
           "showlegend": true,
           "type": "scatter",
           "x": [
            253.61
           ],
           "xaxis": "x",
           "y": [
            40
           ],
           "yaxis": "y"
          }
         ],
         "name": "17"
        },
        {
         "data": [
          {
           "hovertemplate": "Creative Name=LinkedIn1-1<br>Day=18<br>Total Spend in CAD=%{x}<br>Clicks=%{y}<br>Impressions=%{marker.size}<extra></extra>",
           "legendgroup": "LinkedIn1-1",
           "marker": {
            "color": "#636efa",
            "size": [
             12708
            ],
            "sizemode": "area",
            "sizeref": 15.58909090909091,
            "symbol": "circle"
           },
           "mode": "markers",
           "name": "LinkedIn1-1",
           "orientation": "v",
           "showlegend": true,
           "type": "scatter",
           "x": [
            337.6
           ],
           "xaxis": "x",
           "y": [
            47
           ],
           "yaxis": "y"
          },
          {
           "hovertemplate": "Creative Name=Linkedin 2-2<br>Day=18<br>Total Spend in CAD=%{x}<br>Clicks=%{y}<br>Impressions=%{marker.size}<extra></extra>",
           "legendgroup": "Linkedin 2-2",
           "marker": {
            "color": "#EF553B",
            "size": [
             11562
            ],
            "sizemode": "area",
            "sizeref": 15.58909090909091,
            "symbol": "circle"
           },
           "mode": "markers",
           "name": "Linkedin 2-2",
           "orientation": "v",
           "showlegend": true,
           "type": "scatter",
           "x": [
            224.96
           ],
           "xaxis": "x",
           "y": [
            34
           ],
           "yaxis": "y"
          },
          {
           "hovertemplate": "Creative Name=Linkedin 2-1<br>Day=18<br>Total Spend in CAD=%{x}<br>Clicks=%{y}<br>Impressions=%{marker.size}<extra></extra>",
           "legendgroup": "Linkedin 2-1",
           "marker": {
            "color": "#00cc96",
            "size": [
             13192
            ],
            "sizemode": "area",
            "sizeref": 15.58909090909091,
            "symbol": "circle"
           },
           "mode": "markers",
           "name": "Linkedin 2-1",
           "orientation": "v",
           "showlegend": true,
           "type": "scatter",
           "x": [
            342.62
           ],
           "xaxis": "x",
           "y": [
            41
           ],
           "yaxis": "y"
          },
          {
           "hovertemplate": "Creative Name=Linkedin 1-2<br>Day=18<br>Total Spend in CAD=%{x}<br>Clicks=%{y}<br>Impressions=%{marker.size}<extra></extra>",
           "legendgroup": "Linkedin 1-2",
           "marker": {
            "color": "#ab63fa",
            "size": [
             12516
            ],
            "sizemode": "area",
            "sizeref": 15.58909090909091,
            "symbol": "circle"
           },
           "mode": "markers",
           "name": "Linkedin 1-2",
           "orientation": "v",
           "showlegend": true,
           "type": "scatter",
           "x": [
            272.57
           ],
           "xaxis": "x",
           "y": [
            44
           ],
           "yaxis": "y"
          }
         ],
         "name": "18"
        },
        {
         "data": [
          {
           "hovertemplate": "Creative Name=LinkedIn1-1<br>Day=19<br>Total Spend in CAD=%{x}<br>Clicks=%{y}<br>Impressions=%{marker.size}<extra></extra>",
           "legendgroup": "LinkedIn1-1",
           "marker": {
            "color": "#636efa",
            "size": [
             13689
            ],
            "sizemode": "area",
            "sizeref": 15.58909090909091,
            "symbol": "circle"
           },
           "mode": "markers",
           "name": "LinkedIn1-1",
           "orientation": "v",
           "showlegend": true,
           "type": "scatter",
           "x": [
            362.3
           ],
           "xaxis": "x",
           "y": [
            54
           ],
           "yaxis": "y"
          },
          {
           "hovertemplate": "Creative Name=Linkedin 2-2<br>Day=19<br>Total Spend in CAD=%{x}<br>Clicks=%{y}<br>Impressions=%{marker.size}<extra></extra>",
           "legendgroup": "Linkedin 2-2",
           "marker": {
            "color": "#EF553B",
            "size": [
             11562
            ],
            "sizemode": "area",
            "sizeref": 15.58909090909091,
            "symbol": "circle"
           },
           "mode": "markers",
           "name": "Linkedin 2-2",
           "orientation": "v",
           "showlegend": true,
           "type": "scatter",
           "x": [
            224.96
           ],
           "xaxis": "x",
           "y": [
            34
           ],
           "yaxis": "y"
          },
          {
           "hovertemplate": "Creative Name=Linkedin 2-1<br>Day=19<br>Total Spend in CAD=%{x}<br>Clicks=%{y}<br>Impressions=%{marker.size}<extra></extra>",
           "legendgroup": "Linkedin 2-1",
           "marker": {
            "color": "#00cc96",
            "size": [
             14087
            ],
            "sizemode": "area",
            "sizeref": 15.58909090909091,
            "symbol": "circle"
           },
           "mode": "markers",
           "name": "Linkedin 2-1",
           "orientation": "v",
           "showlegend": true,
           "type": "scatter",
           "x": [
            360.86
           ],
           "xaxis": "x",
           "y": [
            44
           ],
           "yaxis": "y"
          },
          {
           "hovertemplate": "Creative Name=Linkedin 1-2<br>Day=19<br>Total Spend in CAD=%{x}<br>Clicks=%{y}<br>Impressions=%{marker.size}<extra></extra>",
           "legendgroup": "Linkedin 1-2",
           "marker": {
            "color": "#ab63fa",
            "size": [
             13416
            ],
            "sizemode": "area",
            "sizeref": 15.58909090909091,
            "symbol": "circle"
           },
           "mode": "markers",
           "name": "Linkedin 1-2",
           "orientation": "v",
           "showlegend": true,
           "type": "scatter",
           "x": [
            295.13
           ],
           "xaxis": "x",
           "y": [
            49
           ],
           "yaxis": "y"
          }
         ],
         "name": "19"
        },
        {
         "data": [
          {
           "hovertemplate": "Creative Name=LinkedIn1-1<br>Day=20<br>Total Spend in CAD=%{x}<br>Clicks=%{y}<br>Impressions=%{marker.size}<extra></extra>",
           "legendgroup": "LinkedIn1-1",
           "marker": {
            "color": "#636efa",
            "size": [
             14473
            ],
            "sizemode": "area",
            "sizeref": 15.58909090909091,
            "symbol": "circle"
           },
           "mode": "markers",
           "name": "LinkedIn1-1",
           "orientation": "v",
           "showlegend": true,
           "type": "scatter",
           "x": [
            380.62
           ],
           "xaxis": "x",
           "y": [
            54
           ],
           "yaxis": "y"
          },
          {
           "hovertemplate": "Creative Name=Linkedin 2-2<br>Day=20<br>Total Spend in CAD=%{x}<br>Clicks=%{y}<br>Impressions=%{marker.size}<extra></extra>",
           "legendgroup": "Linkedin 2-2",
           "marker": {
            "color": "#EF553B",
            "size": [
             11562
            ],
            "sizemode": "area",
            "sizeref": 15.58909090909091,
            "symbol": "circle"
           },
           "mode": "markers",
           "name": "Linkedin 2-2",
           "orientation": "v",
           "showlegend": true,
           "type": "scatter",
           "x": [
            224.96
           ],
           "xaxis": "x",
           "y": [
            34
           ],
           "yaxis": "y"
          },
          {
           "hovertemplate": "Creative Name=Linkedin 2-1<br>Day=20<br>Total Spend in CAD=%{x}<br>Clicks=%{y}<br>Impressions=%{marker.size}<extra></extra>",
           "legendgroup": "Linkedin 2-1",
           "marker": {
            "color": "#00cc96",
            "size": [
             15431
            ],
            "sizemode": "area",
            "sizeref": 15.58909090909091,
            "symbol": "circle"
           },
           "mode": "markers",
           "name": "Linkedin 2-1",
           "orientation": "v",
           "showlegend": true,
           "type": "scatter",
           "x": [
            385.35
           ],
           "xaxis": "x",
           "y": [
            49
           ],
           "yaxis": "y"
          },
          {
           "hovertemplate": "Creative Name=Linkedin 1-2<br>Day=20<br>Total Spend in CAD=%{x}<br>Clicks=%{y}<br>Impressions=%{marker.size}<extra></extra>",
           "legendgroup": "Linkedin 1-2",
           "marker": {
            "color": "#ab63fa",
            "size": [
             14369
            ],
            "sizemode": "area",
            "sizeref": 15.58909090909091,
            "symbol": "circle"
           },
           "mode": "markers",
           "name": "Linkedin 1-2",
           "orientation": "v",
           "showlegend": true,
           "type": "scatter",
           "x": [
            317.59
           ],
           "xaxis": "x",
           "y": [
            54
           ],
           "yaxis": "y"
          }
         ],
         "name": "20"
        },
        {
         "data": [
          {
           "hovertemplate": "Creative Name=LinkedIn1-1<br>Day=21<br>Total Spend in CAD=%{x}<br>Clicks=%{y}<br>Impressions=%{marker.size}<extra></extra>",
           "legendgroup": "LinkedIn1-1",
           "marker": {
            "color": "#636efa",
            "size": [
             15241
            ],
            "sizemode": "area",
            "sizeref": 15.58909090909091,
            "symbol": "circle"
           },
           "mode": "markers",
           "name": "LinkedIn1-1",
           "orientation": "v",
           "showlegend": true,
           "type": "scatter",
           "x": [
            396.63
           ],
           "xaxis": "x",
           "y": [
            54
           ],
           "yaxis": "y"
          },
          {
           "hovertemplate": "Creative Name=Linkedin 2-2<br>Day=21<br>Total Spend in CAD=%{x}<br>Clicks=%{y}<br>Impressions=%{marker.size}<extra></extra>",
           "legendgroup": "Linkedin 2-2",
           "marker": {
            "color": "#EF553B",
            "size": [
             11562
            ],
            "sizemode": "area",
            "sizeref": 15.58909090909091,
            "symbol": "circle"
           },
           "mode": "markers",
           "name": "Linkedin 2-2",
           "orientation": "v",
           "showlegend": true,
           "type": "scatter",
           "x": [
            224.96
           ],
           "xaxis": "x",
           "y": [
            34
           ],
           "yaxis": "y"
          },
          {
           "hovertemplate": "Creative Name=Linkedin 2-1<br>Day=21<br>Total Spend in CAD=%{x}<br>Clicks=%{y}<br>Impressions=%{marker.size}<extra></extra>",
           "legendgroup": "Linkedin 2-1",
           "marker": {
            "color": "#00cc96",
            "size": [
             16730
            ],
            "sizemode": "area",
            "sizeref": 15.58909090909091,
            "symbol": "circle"
           },
           "mode": "markers",
           "name": "Linkedin 2-1",
           "orientation": "v",
           "showlegend": true,
           "type": "scatter",
           "x": [
            414.24
           ],
           "xaxis": "x",
           "y": [
            49
           ],
           "yaxis": "y"
          },
          {
           "hovertemplate": "Creative Name=Linkedin 1-2<br>Day=21<br>Total Spend in CAD=%{x}<br>Clicks=%{y}<br>Impressions=%{marker.size}<extra></extra>",
           "legendgroup": "Linkedin 1-2",
           "marker": {
            "color": "#ab63fa",
            "size": [
             15315
            ],
            "sizemode": "area",
            "sizeref": 15.58909090909091,
            "symbol": "circle"
           },
           "mode": "markers",
           "name": "Linkedin 1-2",
           "orientation": "v",
           "showlegend": true,
           "type": "scatter",
           "x": [
            337.76
           ],
           "xaxis": "x",
           "y": [
            57
           ],
           "yaxis": "y"
          }
         ],
         "name": "21"
        },
        {
         "data": [
          {
           "hovertemplate": "Creative Name=LinkedIn1-1<br>Day=22<br>Total Spend in CAD=%{x}<br>Clicks=%{y}<br>Impressions=%{marker.size}<extra></extra>",
           "legendgroup": "LinkedIn1-1",
           "marker": {
            "color": "#636efa",
            "size": [
             15946
            ],
            "sizemode": "area",
            "sizeref": 15.58909090909091,
            "symbol": "circle"
           },
           "mode": "markers",
           "name": "LinkedIn1-1",
           "orientation": "v",
           "showlegend": true,
           "type": "scatter",
           "x": [
            411.09
           ],
           "xaxis": "x",
           "y": [
            54
           ],
           "yaxis": "y"
          },
          {
           "hovertemplate": "Creative Name=Linkedin 2-2<br>Day=22<br>Total Spend in CAD=%{x}<br>Clicks=%{y}<br>Impressions=%{marker.size}<extra></extra>",
           "legendgroup": "Linkedin 2-2",
           "marker": {
            "color": "#EF553B",
            "size": [
             11562
            ],
            "sizemode": "area",
            "sizeref": 15.58909090909091,
            "symbol": "circle"
           },
           "mode": "markers",
           "name": "Linkedin 2-2",
           "orientation": "v",
           "showlegend": true,
           "type": "scatter",
           "x": [
            224.96
           ],
           "xaxis": "x",
           "y": [
            34
           ],
           "yaxis": "y"
          },
          {
           "hovertemplate": "Creative Name=Linkedin 2-1<br>Day=22<br>Total Spend in CAD=%{x}<br>Clicks=%{y}<br>Impressions=%{marker.size}<extra></extra>",
           "legendgroup": "Linkedin 2-1",
           "marker": {
            "color": "#00cc96",
            "size": [
             17871
            ],
            "sizemode": "area",
            "sizeref": 15.58909090909091,
            "symbol": "circle"
           },
           "mode": "markers",
           "name": "Linkedin 2-1",
           "orientation": "v",
           "showlegend": true,
           "type": "scatter",
           "x": [
            437.92
           ],
           "xaxis": "x",
           "y": [
            52
           ],
           "yaxis": "y"
          },
          {
           "hovertemplate": "Creative Name=Linkedin 1-2<br>Day=22<br>Total Spend in CAD=%{x}<br>Clicks=%{y}<br>Impressions=%{marker.size}<extra></extra>",
           "legendgroup": "Linkedin 1-2",
           "marker": {
            "color": "#ab63fa",
            "size": [
             16329
            ],
            "sizemode": "area",
            "sizeref": 15.58909090909091,
            "symbol": "circle"
           },
           "mode": "markers",
           "name": "Linkedin 1-2",
           "orientation": "v",
           "showlegend": true,
           "type": "scatter",
           "x": [
            364.9
           ],
           "xaxis": "x",
           "y": [
            59
           ],
           "yaxis": "y"
          }
         ],
         "name": "22"
        },
        {
         "data": [
          {
           "hovertemplate": "Creative Name=LinkedIn1-1<br>Day=23<br>Total Spend in CAD=%{x}<br>Clicks=%{y}<br>Impressions=%{marker.size}<extra></extra>",
           "legendgroup": "LinkedIn1-1",
           "marker": {
            "color": "#636efa",
            "size": [
             16779
            ],
            "sizemode": "area",
            "sizeref": 15.58909090909091,
            "symbol": "circle"
           },
           "mode": "markers",
           "name": "LinkedIn1-1",
           "orientation": "v",
           "showlegend": true,
           "type": "scatter",
           "x": [
            428.85
           ],
           "xaxis": "x",
           "y": [
            61
           ],
           "yaxis": "y"
          },
          {
           "hovertemplate": "Creative Name=Linkedin 2-2<br>Day=23<br>Total Spend in CAD=%{x}<br>Clicks=%{y}<br>Impressions=%{marker.size}<extra></extra>",
           "legendgroup": "Linkedin 2-2",
           "marker": {
            "color": "#EF553B",
            "size": [
             11562
            ],
            "sizemode": "area",
            "sizeref": 15.58909090909091,
            "symbol": "circle"
           },
           "mode": "markers",
           "name": "Linkedin 2-2",
           "orientation": "v",
           "showlegend": true,
           "type": "scatter",
           "x": [
            224.96
           ],
           "xaxis": "x",
           "y": [
            34
           ],
           "yaxis": "y"
          },
          {
           "hovertemplate": "Creative Name=Linkedin 2-1<br>Day=23<br>Total Spend in CAD=%{x}<br>Clicks=%{y}<br>Impressions=%{marker.size}<extra></extra>",
           "legendgroup": "Linkedin 2-1",
           "marker": {
            "color": "#00cc96",
            "size": [
             18794
            ],
            "sizemode": "area",
            "sizeref": 15.58909090909091,
            "symbol": "circle"
           },
           "mode": "markers",
           "name": "Linkedin 2-1",
           "orientation": "v",
           "showlegend": true,
           "type": "scatter",
           "x": [
            458.24
           ],
           "xaxis": "x",
           "y": [
            54
           ],
           "yaxis": "y"
          },
          {
           "hovertemplate": "Creative Name=Linkedin 1-2<br>Day=23<br>Total Spend in CAD=%{x}<br>Clicks=%{y}<br>Impressions=%{marker.size}<extra></extra>",
           "legendgroup": "Linkedin 1-2",
           "marker": {
            "color": "#ab63fa",
            "size": [
             17413
            ],
            "sizemode": "area",
            "sizeref": 15.58909090909091,
            "symbol": "circle"
           },
           "mode": "markers",
           "name": "Linkedin 1-2",
           "orientation": "v",
           "showlegend": true,
           "type": "scatter",
           "x": [
            392.14
           ],
           "xaxis": "x",
           "y": [
            64
           ],
           "yaxis": "y"
          }
         ],
         "name": "23"
        },
        {
         "data": [
          {
           "hovertemplate": "Creative Name=LinkedIn1-1<br>Day=24<br>Total Spend in CAD=%{x}<br>Clicks=%{y}<br>Impressions=%{marker.size}<extra></extra>",
           "legendgroup": "LinkedIn1-1",
           "marker": {
            "color": "#636efa",
            "size": [
             17634
            ],
            "sizemode": "area",
            "sizeref": 15.58909090909091,
            "symbol": "circle"
           },
           "mode": "markers",
           "name": "LinkedIn1-1",
           "orientation": "v",
           "showlegend": true,
           "type": "scatter",
           "x": [
            446.87
           ],
           "xaxis": "x",
           "y": [
            65
           ],
           "yaxis": "y"
          },
          {
           "hovertemplate": "Creative Name=Linkedin 2-2<br>Day=24<br>Total Spend in CAD=%{x}<br>Clicks=%{y}<br>Impressions=%{marker.size}<extra></extra>",
           "legendgroup": "Linkedin 2-2",
           "marker": {
            "color": "#EF553B",
            "size": [
             11562
            ],
            "sizemode": "area",
            "sizeref": 15.58909090909091,
            "symbol": "circle"
           },
           "mode": "markers",
           "name": "Linkedin 2-2",
           "orientation": "v",
           "showlegend": true,
           "type": "scatter",
           "x": [
            224.96
           ],
           "xaxis": "x",
           "y": [
            34
           ],
           "yaxis": "y"
          },
          {
           "hovertemplate": "Creative Name=Linkedin 2-1<br>Day=24<br>Total Spend in CAD=%{x}<br>Clicks=%{y}<br>Impressions=%{marker.size}<extra></extra>",
           "legendgroup": "Linkedin 2-1",
           "marker": {
            "color": "#00cc96",
            "size": [
             19732
            ],
            "sizemode": "area",
            "sizeref": 15.58909090909091,
            "symbol": "circle"
           },
           "mode": "markers",
           "name": "Linkedin 2-1",
           "orientation": "v",
           "showlegend": true,
           "type": "scatter",
           "x": [
            479.61
           ],
           "xaxis": "x",
           "y": [
            57
           ],
           "yaxis": "y"
          },
          {
           "hovertemplate": "Creative Name=Linkedin 1-2<br>Day=24<br>Total Spend in CAD=%{x}<br>Clicks=%{y}<br>Impressions=%{marker.size}<extra></extra>",
           "legendgroup": "Linkedin 1-2",
           "marker": {
            "color": "#ab63fa",
            "size": [
             18413
            ],
            "sizemode": "area",
            "sizeref": 15.58909090909091,
            "symbol": "circle"
           },
           "mode": "markers",
           "name": "Linkedin 1-2",
           "orientation": "v",
           "showlegend": true,
           "type": "scatter",
           "x": [
            418.06
           ],
           "xaxis": "x",
           "y": [
            69
           ],
           "yaxis": "y"
          }
         ],
         "name": "24"
        },
        {
         "data": [
          {
           "hovertemplate": "Creative Name=LinkedIn1-1<br>Day=25<br>Total Spend in CAD=%{x}<br>Clicks=%{y}<br>Impressions=%{marker.size}<extra></extra>",
           "legendgroup": "LinkedIn1-1",
           "marker": {
            "color": "#636efa",
            "size": [
             18334
            ],
            "sizemode": "area",
            "sizeref": 15.58909090909091,
            "symbol": "circle"
           },
           "mode": "markers",
           "name": "LinkedIn1-1",
           "orientation": "v",
           "showlegend": true,
           "type": "scatter",
           "x": [
            464.05
           ],
           "xaxis": "x",
           "y": [
            67
           ],
           "yaxis": "y"
          },
          {
           "hovertemplate": "Creative Name=Linkedin 2-2<br>Day=25<br>Total Spend in CAD=%{x}<br>Clicks=%{y}<br>Impressions=%{marker.size}<extra></extra>",
           "legendgroup": "Linkedin 2-2",
           "marker": {
            "color": "#EF553B",
            "size": [
             11562
            ],
            "sizemode": "area",
            "sizeref": 15.58909090909091,
            "symbol": "circle"
           },
           "mode": "markers",
           "name": "Linkedin 2-2",
           "orientation": "v",
           "showlegend": true,
           "type": "scatter",
           "x": [
            224.96
           ],
           "xaxis": "x",
           "y": [
            34
           ],
           "yaxis": "y"
          },
          {
           "hovertemplate": "Creative Name=Linkedin 2-1<br>Day=25<br>Total Spend in CAD=%{x}<br>Clicks=%{y}<br>Impressions=%{marker.size}<extra></extra>",
           "legendgroup": "Linkedin 2-1",
           "marker": {
            "color": "#00cc96",
            "size": [
             20663
            ],
            "sizemode": "area",
            "sizeref": 15.58909090909091,
            "symbol": "circle"
           },
           "mode": "markers",
           "name": "Linkedin 2-1",
           "orientation": "v",
           "showlegend": true,
           "type": "scatter",
           "x": [
            500.99
           ],
           "xaxis": "x",
           "y": [
            63
           ],
           "yaxis": "y"
          },
          {
           "hovertemplate": "Creative Name=Linkedin 1-2<br>Day=25<br>Total Spend in CAD=%{x}<br>Clicks=%{y}<br>Impressions=%{marker.size}<extra></extra>",
           "legendgroup": "Linkedin 1-2",
           "marker": {
            "color": "#ab63fa",
            "size": [
             19333
            ],
            "sizemode": "area",
            "sizeref": 15.58909090909091,
            "symbol": "circle"
           },
           "mode": "markers",
           "name": "Linkedin 1-2",
           "orientation": "v",
           "showlegend": true,
           "type": "scatter",
           "x": [
            444.73
           ],
           "xaxis": "x",
           "y": [
            70
           ],
           "yaxis": "y"
          }
         ],
         "name": "25"
        },
        {
         "data": [
          {
           "hovertemplate": "Creative Name=LinkedIn1-1<br>Day=26<br>Total Spend in CAD=%{x}<br>Clicks=%{y}<br>Impressions=%{marker.size}<extra></extra>",
           "legendgroup": "LinkedIn1-1",
           "marker": {
            "color": "#636efa",
            "size": [
             19075
            ],
            "sizemode": "area",
            "sizeref": 15.58909090909091,
            "symbol": "circle"
           },
           "mode": "markers",
           "name": "LinkedIn1-1",
           "orientation": "v",
           "showlegend": true,
           "type": "scatter",
           "x": [
            482.69
           ],
           "xaxis": "x",
           "y": [
            72
           ],
           "yaxis": "y"
          },
          {
           "hovertemplate": "Creative Name=Linkedin 2-2<br>Day=26<br>Total Spend in CAD=%{x}<br>Clicks=%{y}<br>Impressions=%{marker.size}<extra></extra>",
           "legendgroup": "Linkedin 2-2",
           "marker": {
            "color": "#EF553B",
            "size": [
             11562
            ],
            "sizemode": "area",
            "sizeref": 15.58909090909091,
            "symbol": "circle"
           },
           "mode": "markers",
           "name": "Linkedin 2-2",
           "orientation": "v",
           "showlegend": true,
           "type": "scatter",
           "x": [
            224.96
           ],
           "xaxis": "x",
           "y": [
            34
           ],
           "yaxis": "y"
          },
          {
           "hovertemplate": "Creative Name=Linkedin 2-1<br>Day=26<br>Total Spend in CAD=%{x}<br>Clicks=%{y}<br>Impressions=%{marker.size}<extra></extra>",
           "legendgroup": "Linkedin 2-1",
           "marker": {
            "color": "#00cc96",
            "size": [
             21622
            ],
            "sizemode": "area",
            "sizeref": 15.58909090909091,
            "symbol": "circle"
           },
           "mode": "markers",
           "name": "Linkedin 2-1",
           "orientation": "v",
           "showlegend": true,
           "type": "scatter",
           "x": [
            522.38
           ],
           "xaxis": "x",
           "y": [
            65
           ],
           "yaxis": "y"
          },
          {
           "hovertemplate": "Creative Name=Linkedin 1-2<br>Day=26<br>Total Spend in CAD=%{x}<br>Clicks=%{y}<br>Impressions=%{marker.size}<extra></extra>",
           "legendgroup": "Linkedin 1-2",
           "marker": {
            "color": "#ab63fa",
            "size": [
             20275
            ],
            "sizemode": "area",
            "sizeref": 15.58909090909091,
            "symbol": "circle"
           },
           "mode": "markers",
           "name": "Linkedin 1-2",
           "orientation": "v",
           "showlegend": true,
           "type": "scatter",
           "x": [
            469.99
           ],
           "xaxis": "x",
           "y": [
            74
           ],
           "yaxis": "y"
          }
         ],
         "name": "26"
        },
        {
         "data": [
          {
           "hovertemplate": "Creative Name=LinkedIn1-1<br>Day=27<br>Total Spend in CAD=%{x}<br>Clicks=%{y}<br>Impressions=%{marker.size}<extra></extra>",
           "legendgroup": "LinkedIn1-1",
           "marker": {
            "color": "#636efa",
            "size": [
             19997
            ],
            "sizemode": "area",
            "sizeref": 15.58909090909091,
            "symbol": "circle"
           },
           "mode": "markers",
           "name": "LinkedIn1-1",
           "orientation": "v",
           "showlegend": true,
           "type": "scatter",
           "x": [
            504.77
           ],
           "xaxis": "x",
           "y": [
            73
           ],
           "yaxis": "y"
          },
          {
           "hovertemplate": "Creative Name=Linkedin 2-2<br>Day=27<br>Total Spend in CAD=%{x}<br>Clicks=%{y}<br>Impressions=%{marker.size}<extra></extra>",
           "legendgroup": "Linkedin 2-2",
           "marker": {
            "color": "#EF553B",
            "size": [
             11562
            ],
            "sizemode": "area",
            "sizeref": 15.58909090909091,
            "symbol": "circle"
           },
           "mode": "markers",
           "name": "Linkedin 2-2",
           "orientation": "v",
           "showlegend": true,
           "type": "scatter",
           "x": [
            224.96
           ],
           "xaxis": "x",
           "y": [
            34
           ],
           "yaxis": "y"
          },
          {
           "hovertemplate": "Creative Name=Linkedin 2-1<br>Day=27<br>Total Spend in CAD=%{x}<br>Clicks=%{y}<br>Impressions=%{marker.size}<extra></extra>",
           "legendgroup": "Linkedin 2-1",
           "marker": {
            "color": "#00cc96",
            "size": [
             22568
            ],
            "sizemode": "area",
            "sizeref": 15.58909090909091,
            "symbol": "circle"
           },
           "mode": "markers",
           "name": "Linkedin 2-1",
           "orientation": "v",
           "showlegend": true,
           "type": "scatter",
           "x": [
            540.61
           ],
           "xaxis": "x",
           "y": [
            70
           ],
           "yaxis": "y"
          },
          {
           "hovertemplate": "Creative Name=Linkedin 1-2<br>Day=27<br>Total Spend in CAD=%{x}<br>Clicks=%{y}<br>Impressions=%{marker.size}<extra></extra>",
           "legendgroup": "Linkedin 1-2",
           "marker": {
            "color": "#ab63fa",
            "size": [
             21299
            ],
            "sizemode": "area",
            "sizeref": 15.58909090909091,
            "symbol": "circle"
           },
           "mode": "markers",
           "name": "Linkedin 1-2",
           "orientation": "v",
           "showlegend": true,
           "type": "scatter",
           "x": [
            494.96
           ],
           "xaxis": "x",
           "y": [
            77
           ],
           "yaxis": "y"
          }
         ],
         "name": "27"
        },
        {
         "data": [
          {
           "hovertemplate": "Creative Name=LinkedIn1-1<br>Day=28<br>Total Spend in CAD=%{x}<br>Clicks=%{y}<br>Impressions=%{marker.size}<extra></extra>",
           "legendgroup": "LinkedIn1-1",
           "marker": {
            "color": "#636efa",
            "size": [
             20979
            ],
            "sizemode": "area",
            "sizeref": 15.58909090909091,
            "symbol": "circle"
           },
           "mode": "markers",
           "name": "LinkedIn1-1",
           "orientation": "v",
           "showlegend": true,
           "type": "scatter",
           "x": [
            528.98
           ],
           "xaxis": "x",
           "y": [
            76
           ],
           "yaxis": "y"
          },
          {
           "hovertemplate": "Creative Name=Linkedin 2-2<br>Day=28<br>Total Spend in CAD=%{x}<br>Clicks=%{y}<br>Impressions=%{marker.size}<extra></extra>",
           "legendgroup": "Linkedin 2-2",
           "marker": {
            "color": "#EF553B",
            "size": [
             11562
            ],
            "sizemode": "area",
            "sizeref": 15.58909090909091,
            "symbol": "circle"
           },
           "mode": "markers",
           "name": "Linkedin 2-2",
           "orientation": "v",
           "showlegend": true,
           "type": "scatter",
           "x": [
            224.96
           ],
           "xaxis": "x",
           "y": [
            34
           ],
           "yaxis": "y"
          },
          {
           "hovertemplate": "Creative Name=Linkedin 2-1<br>Day=28<br>Total Spend in CAD=%{x}<br>Clicks=%{y}<br>Impressions=%{marker.size}<extra></extra>",
           "legendgroup": "Linkedin 2-1",
           "marker": {
            "color": "#00cc96",
            "size": [
             23538
            ],
            "sizemode": "area",
            "sizeref": 15.58909090909091,
            "symbol": "circle"
           },
           "mode": "markers",
           "name": "Linkedin 2-1",
           "orientation": "v",
           "showlegend": true,
           "type": "scatter",
           "x": [
            558.49
           ],
           "xaxis": "x",
           "y": [
            73
           ],
           "yaxis": "y"
          },
          {
           "hovertemplate": "Creative Name=Linkedin 1-2<br>Day=28<br>Total Spend in CAD=%{x}<br>Clicks=%{y}<br>Impressions=%{marker.size}<extra></extra>",
           "legendgroup": "Linkedin 1-2",
           "marker": {
            "color": "#ab63fa",
            "size": [
             22310
            ],
            "sizemode": "area",
            "sizeref": 15.58909090909091,
            "symbol": "circle"
           },
           "mode": "markers",
           "name": "Linkedin 1-2",
           "orientation": "v",
           "showlegend": true,
           "type": "scatter",
           "x": [
            518.3
           ],
           "xaxis": "x",
           "y": [
            79
           ],
           "yaxis": "y"
          }
         ],
         "name": "28"
        },
        {
         "data": [
          {
           "hovertemplate": "Creative Name=LinkedIn1-1<br>Day=29<br>Total Spend in CAD=%{x}<br>Clicks=%{y}<br>Impressions=%{marker.size}<extra></extra>",
           "legendgroup": "LinkedIn1-1",
           "marker": {
            "color": "#636efa",
            "size": [
             21786
            ],
            "sizemode": "area",
            "sizeref": 15.58909090909091,
            "symbol": "circle"
           },
           "mode": "markers",
           "name": "LinkedIn1-1",
           "orientation": "v",
           "showlegend": true,
           "type": "scatter",
           "x": [
            545.84
           ],
           "xaxis": "x",
           "y": [
            78
           ],
           "yaxis": "y"
          },
          {
           "hovertemplate": "Creative Name=Linkedin 2-2<br>Day=29<br>Total Spend in CAD=%{x}<br>Clicks=%{y}<br>Impressions=%{marker.size}<extra></extra>",
           "legendgroup": "Linkedin 2-2",
           "marker": {
            "color": "#EF553B",
            "size": [
             11562
            ],
            "sizemode": "area",
            "sizeref": 15.58909090909091,
            "symbol": "circle"
           },
           "mode": "markers",
           "name": "Linkedin 2-2",
           "orientation": "v",
           "showlegend": true,
           "type": "scatter",
           "x": [
            224.96
           ],
           "xaxis": "x",
           "y": [
            34
           ],
           "yaxis": "y"
          },
          {
           "hovertemplate": "Creative Name=Linkedin 2-1<br>Day=29<br>Total Spend in CAD=%{x}<br>Clicks=%{y}<br>Impressions=%{marker.size}<extra></extra>",
           "legendgroup": "Linkedin 2-1",
           "marker": {
            "color": "#00cc96",
            "size": [
             24619
            ],
            "sizemode": "area",
            "sizeref": 15.58909090909091,
            "symbol": "circle"
           },
           "mode": "markers",
           "name": "Linkedin 2-1",
           "orientation": "v",
           "showlegend": true,
           "type": "scatter",
           "x": [
            581.29
           ],
           "xaxis": "x",
           "y": [
            77
           ],
           "yaxis": "y"
          },
          {
           "hovertemplate": "Creative Name=Linkedin 1-2<br>Day=29<br>Total Spend in CAD=%{x}<br>Clicks=%{y}<br>Impressions=%{marker.size}<extra></extra>",
           "legendgroup": "Linkedin 1-2",
           "marker": {
            "color": "#ab63fa",
            "size": [
             23399
            ],
            "sizemode": "area",
            "sizeref": 15.58909090909091,
            "symbol": "circle"
           },
           "mode": "markers",
           "name": "Linkedin 1-2",
           "orientation": "v",
           "showlegend": true,
           "type": "scatter",
           "x": [
            543.71
           ],
           "xaxis": "x",
           "y": [
            85
           ],
           "yaxis": "y"
          }
         ],
         "name": "29"
        },
        {
         "data": [
          {
           "hovertemplate": "Creative Name=LinkedIn1-1<br>Day=30<br>Total Spend in CAD=%{x}<br>Clicks=%{y}<br>Impressions=%{marker.size}<extra></extra>",
           "legendgroup": "LinkedIn1-1",
           "marker": {
            "color": "#636efa",
            "size": [
             22378
            ],
            "sizemode": "area",
            "sizeref": 15.58909090909091,
            "symbol": "circle"
           },
           "mode": "markers",
           "name": "LinkedIn1-1",
           "orientation": "v",
           "showlegend": true,
           "type": "scatter",
           "x": [
            563.25
           ],
           "xaxis": "x",
           "y": [
            78
           ],
           "yaxis": "y"
          },
          {
           "hovertemplate": "Creative Name=Linkedin 2-2<br>Day=30<br>Total Spend in CAD=%{x}<br>Clicks=%{y}<br>Impressions=%{marker.size}<extra></extra>",
           "legendgroup": "Linkedin 2-2",
           "marker": {
            "color": "#EF553B",
            "size": [
             11562
            ],
            "sizemode": "area",
            "sizeref": 15.58909090909091,
            "symbol": "circle"
           },
           "mode": "markers",
           "name": "Linkedin 2-2",
           "orientation": "v",
           "showlegend": true,
           "type": "scatter",
           "x": [
            224.96
           ],
           "xaxis": "x",
           "y": [
            34
           ],
           "yaxis": "y"
          },
          {
           "hovertemplate": "Creative Name=Linkedin 2-1<br>Day=30<br>Total Spend in CAD=%{x}<br>Clicks=%{y}<br>Impressions=%{marker.size}<extra></extra>",
           "legendgroup": "Linkedin 2-1",
           "marker": {
            "color": "#00cc96",
            "size": [
             25213
            ],
            "sizemode": "area",
            "sizeref": 15.58909090909091,
            "symbol": "circle"
           },
           "mode": "markers",
           "name": "Linkedin 2-1",
           "orientation": "v",
           "showlegend": true,
           "type": "scatter",
           "x": [
            595.62
           ],
           "xaxis": "x",
           "y": [
            80
           ],
           "yaxis": "y"
          },
          {
           "hovertemplate": "Creative Name=Linkedin 1-2<br>Day=30<br>Total Spend in CAD=%{x}<br>Clicks=%{y}<br>Impressions=%{marker.size}<extra></extra>",
           "legendgroup": "Linkedin 1-2",
           "marker": {
            "color": "#ab63fa",
            "size": [
             24642
            ],
            "sizemode": "area",
            "sizeref": 15.58909090909091,
            "symbol": "circle"
           },
           "mode": "markers",
           "name": "Linkedin 1-2",
           "orientation": "v",
           "showlegend": true,
           "type": "scatter",
           "x": [
            577.3
           ],
           "xaxis": "x",
           "y": [
            91
           ],
           "yaxis": "y"
          }
         ],
         "name": "30"
        },
        {
         "data": [
          {
           "hovertemplate": "Creative Name=LinkedIn1-1<br>Day=31<br>Total Spend in CAD=%{x}<br>Clicks=%{y}<br>Impressions=%{marker.size}<extra></extra>",
           "legendgroup": "LinkedIn1-1",
           "marker": {
            "color": "#636efa",
            "size": [
             22815
            ],
            "sizemode": "area",
            "sizeref": 15.58909090909091,
            "symbol": "circle"
           },
           "mode": "markers",
           "name": "LinkedIn1-1",
           "orientation": "v",
           "showlegend": true,
           "type": "scatter",
           "x": [
            572.87
           ],
           "xaxis": "x",
           "y": [
            81
           ],
           "yaxis": "y"
          },
          {
           "hovertemplate": "Creative Name=Linkedin 2-2<br>Day=31<br>Total Spend in CAD=%{x}<br>Clicks=%{y}<br>Impressions=%{marker.size}<extra></extra>",
           "legendgroup": "Linkedin 2-2",
           "marker": {
            "color": "#EF553B",
            "size": [
             11562
            ],
            "sizemode": "area",
            "sizeref": 15.58909090909091,
            "symbol": "circle"
           },
           "mode": "markers",
           "name": "Linkedin 2-2",
           "orientation": "v",
           "showlegend": true,
           "type": "scatter",
           "x": [
            224.96
           ],
           "xaxis": "x",
           "y": [
            34
           ],
           "yaxis": "y"
          },
          {
           "hovertemplate": "Creative Name=Linkedin 2-1<br>Day=31<br>Total Spend in CAD=%{x}<br>Clicks=%{y}<br>Impressions=%{marker.size}<extra></extra>",
           "legendgroup": "Linkedin 2-1",
           "marker": {
            "color": "#00cc96",
            "size": [
             25945
            ],
            "sizemode": "area",
            "sizeref": 15.58909090909091,
            "symbol": "circle"
           },
           "mode": "markers",
           "name": "Linkedin 2-1",
           "orientation": "v",
           "showlegend": true,
           "type": "scatter",
           "x": [
            610.07
           ],
           "xaxis": "x",
           "y": [
            82
           ],
           "yaxis": "y"
          },
          {
           "hovertemplate": "Creative Name=Linkedin 1-2<br>Day=31<br>Total Spend in CAD=%{x}<br>Clicks=%{y}<br>Impressions=%{marker.size}<extra></extra>",
           "legendgroup": "Linkedin 1-2",
           "marker": {
            "color": "#ab63fa",
            "size": [
             25938
            ],
            "sizemode": "area",
            "sizeref": 15.58909090909091,
            "symbol": "circle"
           },
           "mode": "markers",
           "name": "Linkedin 1-2",
           "orientation": "v",
           "showlegend": true,
           "type": "scatter",
           "x": [
            618.44
           ],
           "xaxis": "x",
           "y": [
            96
           ],
           "yaxis": "y"
          }
         ],
         "name": "31"
        },
        {
         "data": [
          {
           "hovertemplate": "Creative Name=LinkedIn1-1<br>Day=32<br>Total Spend in CAD=%{x}<br>Clicks=%{y}<br>Impressions=%{marker.size}<extra></extra>",
           "legendgroup": "LinkedIn1-1",
           "marker": {
            "color": "#636efa",
            "size": [
             23257
            ],
            "sizemode": "area",
            "sizeref": 15.58909090909091,
            "symbol": "circle"
           },
           "mode": "markers",
           "name": "LinkedIn1-1",
           "orientation": "v",
           "showlegend": true,
           "type": "scatter",
           "x": [
            585.88
           ],
           "xaxis": "x",
           "y": [
            82
           ],
           "yaxis": "y"
          },
          {
           "hovertemplate": "Creative Name=Linkedin 2-2<br>Day=32<br>Total Spend in CAD=%{x}<br>Clicks=%{y}<br>Impressions=%{marker.size}<extra></extra>",
           "legendgroup": "Linkedin 2-2",
           "marker": {
            "color": "#EF553B",
            "size": [
             11562
            ],
            "sizemode": "area",
            "sizeref": 15.58909090909091,
            "symbol": "circle"
           },
           "mode": "markers",
           "name": "Linkedin 2-2",
           "orientation": "v",
           "showlegend": true,
           "type": "scatter",
           "x": [
            224.96
           ],
           "xaxis": "x",
           "y": [
            34
           ],
           "yaxis": "y"
          },
          {
           "hovertemplate": "Creative Name=Linkedin 2-1<br>Day=32<br>Total Spend in CAD=%{x}<br>Clicks=%{y}<br>Impressions=%{marker.size}<extra></extra>",
           "legendgroup": "Linkedin 2-1",
           "marker": {
            "color": "#00cc96",
            "size": [
             26522
            ],
            "sizemode": "area",
            "sizeref": 15.58909090909091,
            "symbol": "circle"
           },
           "mode": "markers",
           "name": "Linkedin 2-1",
           "orientation": "v",
           "showlegend": true,
           "type": "scatter",
           "x": [
            624.11
           ],
           "xaxis": "x",
           "y": [
            83
           ],
           "yaxis": "y"
          },
          {
           "hovertemplate": "Creative Name=Linkedin 1-2<br>Day=32<br>Total Spend in CAD=%{x}<br>Clicks=%{y}<br>Impressions=%{marker.size}<extra></extra>",
           "legendgroup": "Linkedin 1-2",
           "marker": {
            "color": "#ab63fa",
            "size": [
             26950
            ],
            "sizemode": "area",
            "sizeref": 15.58909090909091,
            "symbol": "circle"
           },
           "mode": "markers",
           "name": "Linkedin 1-2",
           "orientation": "v",
           "showlegend": true,
           "type": "scatter",
           "x": [
            656.7
           ],
           "xaxis": "x",
           "y": [
            100
           ],
           "yaxis": "y"
          }
         ],
         "name": "32"
        },
        {
         "data": [
          {
           "hovertemplate": "Creative Name=LinkedIn1-1<br>Day=33<br>Total Spend in CAD=%{x}<br>Clicks=%{y}<br>Impressions=%{marker.size}<extra></extra>",
           "legendgroup": "LinkedIn1-1",
           "marker": {
            "color": "#636efa",
            "size": [
             23834
            ],
            "sizemode": "area",
            "sizeref": 15.58909090909091,
            "symbol": "circle"
           },
           "mode": "markers",
           "name": "LinkedIn1-1",
           "orientation": "v",
           "showlegend": true,
           "type": "scatter",
           "x": [
            601.47
           ],
           "xaxis": "x",
           "y": [
            82
           ],
           "yaxis": "y"
          },
          {
           "hovertemplate": "Creative Name=Linkedin 2-2<br>Day=33<br>Total Spend in CAD=%{x}<br>Clicks=%{y}<br>Impressions=%{marker.size}<extra></extra>",
           "legendgroup": "Linkedin 2-2",
           "marker": {
            "color": "#EF553B",
            "size": [
             11562
            ],
            "sizemode": "area",
            "sizeref": 15.58909090909091,
            "symbol": "circle"
           },
           "mode": "markers",
           "name": "Linkedin 2-2",
           "orientation": "v",
           "showlegend": true,
           "type": "scatter",
           "x": [
            224.96
           ],
           "xaxis": "x",
           "y": [
            34
           ],
           "yaxis": "y"
          },
          {
           "hovertemplate": "Creative Name=Linkedin 2-1<br>Day=33<br>Total Spend in CAD=%{x}<br>Clicks=%{y}<br>Impressions=%{marker.size}<extra></extra>",
           "legendgroup": "Linkedin 2-1",
           "marker": {
            "color": "#00cc96",
            "size": [
             27003
            ],
            "sizemode": "area",
            "sizeref": 15.58909090909091,
            "symbol": "circle"
           },
           "mode": "markers",
           "name": "Linkedin 2-1",
           "orientation": "v",
           "showlegend": true,
           "type": "scatter",
           "x": [
            637.29
           ],
           "xaxis": "x",
           "y": [
            83
           ],
           "yaxis": "y"
          },
          {
           "hovertemplate": "Creative Name=Linkedin 1-2<br>Day=33<br>Total Spend in CAD=%{x}<br>Clicks=%{y}<br>Impressions=%{marker.size}<extra></extra>",
           "legendgroup": "Linkedin 1-2",
           "marker": {
            "color": "#ab63fa",
            "size": [
             28039
            ],
            "sizemode": "area",
            "sizeref": 15.58909090909091,
            "symbol": "circle"
           },
           "mode": "markers",
           "name": "Linkedin 1-2",
           "orientation": "v",
           "showlegend": true,
           "type": "scatter",
           "x": [
            693.37
           ],
           "xaxis": "x",
           "y": [
            105
           ],
           "yaxis": "y"
          }
         ],
         "name": "33"
        },
        {
         "data": [
          {
           "hovertemplate": "Creative Name=LinkedIn1-1<br>Day=34<br>Total Spend in CAD=%{x}<br>Clicks=%{y}<br>Impressions=%{marker.size}<extra></extra>",
           "legendgroup": "LinkedIn1-1",
           "marker": {
            "color": "#636efa",
            "size": [
             24356
            ],
            "sizemode": "area",
            "sizeref": 15.58909090909091,
            "symbol": "circle"
           },
           "mode": "markers",
           "name": "LinkedIn1-1",
           "orientation": "v",
           "showlegend": true,
           "type": "scatter",
           "x": [
            613.37
           ],
           "xaxis": "x",
           "y": [
            82
           ],
           "yaxis": "y"
          },
          {
           "hovertemplate": "Creative Name=Linkedin 2-2<br>Day=34<br>Total Spend in CAD=%{x}<br>Clicks=%{y}<br>Impressions=%{marker.size}<extra></extra>",
           "legendgroup": "Linkedin 2-2",
           "marker": {
            "color": "#EF553B",
            "size": [
             11562
            ],
            "sizemode": "area",
            "sizeref": 15.58909090909091,
            "symbol": "circle"
           },
           "mode": "markers",
           "name": "Linkedin 2-2",
           "orientation": "v",
           "showlegend": true,
           "type": "scatter",
           "x": [
            224.96
           ],
           "xaxis": "x",
           "y": [
            34
           ],
           "yaxis": "y"
          },
          {
           "hovertemplate": "Creative Name=Linkedin 2-1<br>Day=34<br>Total Spend in CAD=%{x}<br>Clicks=%{y}<br>Impressions=%{marker.size}<extra></extra>",
           "legendgroup": "Linkedin 2-1",
           "marker": {
            "color": "#00cc96",
            "size": [
             27500
            ],
            "sizemode": "area",
            "sizeref": 15.58909090909091,
            "symbol": "circle"
           },
           "mode": "markers",
           "name": "Linkedin 2-1",
           "orientation": "v",
           "showlegend": true,
           "type": "scatter",
           "x": [
            650.78
           ],
           "xaxis": "x",
           "y": [
            84
           ],
           "yaxis": "y"
          },
          {
           "hovertemplate": "Creative Name=Linkedin 1-2<br>Day=34<br>Total Spend in CAD=%{x}<br>Clicks=%{y}<br>Impressions=%{marker.size}<extra></extra>",
           "legendgroup": "Linkedin 1-2",
           "marker": {
            "color": "#ab63fa",
            "size": [
             29675
            ],
            "sizemode": "area",
            "sizeref": 15.58909090909091,
            "symbol": "circle"
           },
           "mode": "markers",
           "name": "Linkedin 1-2",
           "orientation": "v",
           "showlegend": true,
           "type": "scatter",
           "x": [
            733.28
           ],
           "xaxis": "x",
           "y": [
            108
           ],
           "yaxis": "y"
          }
         ],
         "name": "34"
        },
        {
         "data": [
          {
           "hovertemplate": "Creative Name=LinkedIn1-1<br>Day=35<br>Total Spend in CAD=%{x}<br>Clicks=%{y}<br>Impressions=%{marker.size}<extra></extra>",
           "legendgroup": "LinkedIn1-1",
           "marker": {
            "color": "#636efa",
            "size": [
             25198
            ],
            "sizemode": "area",
            "sizeref": 15.58909090909091,
            "symbol": "circle"
           },
           "mode": "markers",
           "name": "LinkedIn1-1",
           "orientation": "v",
           "showlegend": true,
           "type": "scatter",
           "x": [
            632.65
           ],
           "xaxis": "x",
           "y": [
            84
           ],
           "yaxis": "y"
          },
          {
           "hovertemplate": "Creative Name=Linkedin 2-2<br>Day=35<br>Total Spend in CAD=%{x}<br>Clicks=%{y}<br>Impressions=%{marker.size}<extra></extra>",
           "legendgroup": "Linkedin 2-2",
           "marker": {
            "color": "#EF553B",
            "size": [
             11562
            ],
            "sizemode": "area",
            "sizeref": 15.58909090909091,
            "symbol": "circle"
           },
           "mode": "markers",
           "name": "Linkedin 2-2",
           "orientation": "v",
           "showlegend": true,
           "type": "scatter",
           "x": [
            224.96
           ],
           "xaxis": "x",
           "y": [
            34
           ],
           "yaxis": "y"
          },
          {
           "hovertemplate": "Creative Name=Linkedin 2-1<br>Day=35<br>Total Spend in CAD=%{x}<br>Clicks=%{y}<br>Impressions=%{marker.size}<extra></extra>",
           "legendgroup": "Linkedin 2-1",
           "marker": {
            "color": "#00cc96",
            "size": [
             28419
            ],
            "sizemode": "area",
            "sizeref": 15.58909090909091,
            "symbol": "circle"
           },
           "mode": "markers",
           "name": "Linkedin 2-1",
           "orientation": "v",
           "showlegend": true,
           "type": "scatter",
           "x": [
            671
           ],
           "xaxis": "x",
           "y": [
            88
           ],
           "yaxis": "y"
          },
          {
           "hovertemplate": "Creative Name=Linkedin 1-2<br>Day=35<br>Total Spend in CAD=%{x}<br>Clicks=%{y}<br>Impressions=%{marker.size}<extra></extra>",
           "legendgroup": "Linkedin 1-2",
           "marker": {
            "color": "#ab63fa",
            "size": [
             30784
            ],
            "sizemode": "area",
            "sizeref": 15.58909090909091,
            "symbol": "circle"
           },
           "mode": "markers",
           "name": "Linkedin 1-2",
           "orientation": "v",
           "showlegend": true,
           "type": "scatter",
           "x": [
            759.79
           ],
           "xaxis": "x",
           "y": [
            112
           ],
           "yaxis": "y"
          }
         ],
         "name": "35"
        },
        {
         "data": [
          {
           "hovertemplate": "Creative Name=LinkedIn1-1<br>Day=36<br>Total Spend in CAD=%{x}<br>Clicks=%{y}<br>Impressions=%{marker.size}<extra></extra>",
           "legendgroup": "LinkedIn1-1",
           "marker": {
            "color": "#636efa",
            "size": [
             26148
            ],
            "sizemode": "area",
            "sizeref": 15.58909090909091,
            "symbol": "circle"
           },
           "mode": "markers",
           "name": "LinkedIn1-1",
           "orientation": "v",
           "showlegend": true,
           "type": "scatter",
           "x": [
            653.12
           ],
           "xaxis": "x",
           "y": [
            88
           ],
           "yaxis": "y"
          },
          {
           "hovertemplate": "Creative Name=Linkedin 2-2<br>Day=36<br>Total Spend in CAD=%{x}<br>Clicks=%{y}<br>Impressions=%{marker.size}<extra></extra>",
           "legendgroup": "Linkedin 2-2",
           "marker": {
            "color": "#EF553B",
            "size": [
             11562
            ],
            "sizemode": "area",
            "sizeref": 15.58909090909091,
            "symbol": "circle"
           },
           "mode": "markers",
           "name": "Linkedin 2-2",
           "orientation": "v",
           "showlegend": true,
           "type": "scatter",
           "x": [
            224.96
           ],
           "xaxis": "x",
           "y": [
            34
           ],
           "yaxis": "y"
          },
          {
           "hovertemplate": "Creative Name=Linkedin 2-1<br>Day=36<br>Total Spend in CAD=%{x}<br>Clicks=%{y}<br>Impressions=%{marker.size}<extra></extra>",
           "legendgroup": "Linkedin 2-1",
           "marker": {
            "color": "#00cc96",
            "size": [
             29257
            ],
            "sizemode": "area",
            "sizeref": 15.58909090909091,
            "symbol": "circle"
           },
           "mode": "markers",
           "name": "Linkedin 2-1",
           "orientation": "v",
           "showlegend": true,
           "type": "scatter",
           "x": [
            691.53
           ],
           "xaxis": "x",
           "y": [
            91
           ],
           "yaxis": "y"
          },
          {
           "hovertemplate": "Creative Name=Linkedin 1-2<br>Day=36<br>Total Spend in CAD=%{x}<br>Clicks=%{y}<br>Impressions=%{marker.size}<extra></extra>",
           "legendgroup": "Linkedin 1-2",
           "marker": {
            "color": "#ab63fa",
            "size": [
             31735
            ],
            "sizemode": "area",
            "sizeref": 15.58909090909091,
            "symbol": "circle"
           },
           "mode": "markers",
           "name": "Linkedin 1-2",
           "orientation": "v",
           "showlegend": true,
           "type": "scatter",
           "x": [
            784.23
           ],
           "xaxis": "x",
           "y": [
            113
           ],
           "yaxis": "y"
          }
         ],
         "name": "36"
        },
        {
         "data": [
          {
           "hovertemplate": "Creative Name=LinkedIn1-1<br>Day=37<br>Total Spend in CAD=%{x}<br>Clicks=%{y}<br>Impressions=%{marker.size}<extra></extra>",
           "legendgroup": "LinkedIn1-1",
           "marker": {
            "color": "#636efa",
            "size": [
             26678
            ],
            "sizemode": "area",
            "sizeref": 15.58909090909091,
            "symbol": "circle"
           },
           "mode": "markers",
           "name": "LinkedIn1-1",
           "orientation": "v",
           "showlegend": true,
           "type": "scatter",
           "x": [
            672.77
           ],
           "xaxis": "x",
           "y": [
            92
           ],
           "yaxis": "y"
          },
          {
           "hovertemplate": "Creative Name=Linkedin 2-2<br>Day=37<br>Total Spend in CAD=%{x}<br>Clicks=%{y}<br>Impressions=%{marker.size}<extra></extra>",
           "legendgroup": "Linkedin 2-2",
           "marker": {
            "color": "#EF553B",
            "size": [
             11562
            ],
            "sizemode": "area",
            "sizeref": 15.58909090909091,
            "symbol": "circle"
           },
           "mode": "markers",
           "name": "Linkedin 2-2",
           "orientation": "v",
           "showlegend": true,
           "type": "scatter",
           "x": [
            224.96
           ],
           "xaxis": "x",
           "y": [
            34
           ],
           "yaxis": "y"
          },
          {
           "hovertemplate": "Creative Name=Linkedin 2-1<br>Day=37<br>Total Spend in CAD=%{x}<br>Clicks=%{y}<br>Impressions=%{marker.size}<extra></extra>",
           "legendgroup": "Linkedin 2-1",
           "marker": {
            "color": "#00cc96",
            "size": [
             29898
            ],
            "sizemode": "area",
            "sizeref": 15.58909090909091,
            "symbol": "circle"
           },
           "mode": "markers",
           "name": "Linkedin 2-1",
           "orientation": "v",
           "showlegend": true,
           "type": "scatter",
           "x": [
            716.6
           ],
           "xaxis": "x",
           "y": [
            93
           ],
           "yaxis": "y"
          },
          {
           "hovertemplate": "Creative Name=Linkedin 1-2<br>Day=37<br>Total Spend in CAD=%{x}<br>Clicks=%{y}<br>Impressions=%{marker.size}<extra></extra>",
           "legendgroup": "Linkedin 1-2",
           "marker": {
            "color": "#ab63fa",
            "size": [
             32562
            ],
            "sizemode": "area",
            "sizeref": 15.58909090909091,
            "symbol": "circle"
           },
           "mode": "markers",
           "name": "Linkedin 1-2",
           "orientation": "v",
           "showlegend": true,
           "type": "scatter",
           "x": [
            804.68
           ],
           "xaxis": "x",
           "y": [
            120
           ],
           "yaxis": "y"
          }
         ],
         "name": "37"
        },
        {
         "data": [
          {
           "hovertemplate": "Creative Name=LinkedIn1-1<br>Day=38<br>Total Spend in CAD=%{x}<br>Clicks=%{y}<br>Impressions=%{marker.size}<extra></extra>",
           "legendgroup": "LinkedIn1-1",
           "marker": {
            "color": "#636efa",
            "size": [
             27541
            ],
            "sizemode": "area",
            "sizeref": 15.58909090909091,
            "symbol": "circle"
           },
           "mode": "markers",
           "name": "LinkedIn1-1",
           "orientation": "v",
           "showlegend": true,
           "type": "scatter",
           "x": [
            691.64
           ],
           "xaxis": "x",
           "y": [
            93
           ],
           "yaxis": "y"
          },
          {
           "hovertemplate": "Creative Name=Linkedin 2-2<br>Day=38<br>Total Spend in CAD=%{x}<br>Clicks=%{y}<br>Impressions=%{marker.size}<extra></extra>",
           "legendgroup": "Linkedin 2-2",
           "marker": {
            "color": "#EF553B",
            "size": [
             11562
            ],
            "sizemode": "area",
            "sizeref": 15.58909090909091,
            "symbol": "circle"
           },
           "mode": "markers",
           "name": "Linkedin 2-2",
           "orientation": "v",
           "showlegend": true,
           "type": "scatter",
           "x": [
            224.96
           ],
           "xaxis": "x",
           "y": [
            34
           ],
           "yaxis": "y"
          },
          {
           "hovertemplate": "Creative Name=Linkedin 2-1<br>Day=38<br>Total Spend in CAD=%{x}<br>Clicks=%{y}<br>Impressions=%{marker.size}<extra></extra>",
           "legendgroup": "Linkedin 2-1",
           "marker": {
            "color": "#00cc96",
            "size": [
             30713
            ],
            "sizemode": "area",
            "sizeref": 15.58909090909091,
            "symbol": "circle"
           },
           "mode": "markers",
           "name": "Linkedin 2-1",
           "orientation": "v",
           "showlegend": true,
           "type": "scatter",
           "x": [
            737.13
           ],
           "xaxis": "x",
           "y": [
            95
           ],
           "yaxis": "y"
          },
          {
           "hovertemplate": "Creative Name=Linkedin 1-2<br>Day=38<br>Total Spend in CAD=%{x}<br>Clicks=%{y}<br>Impressions=%{marker.size}<extra></extra>",
           "legendgroup": "Linkedin 1-2",
           "marker": {
            "color": "#ab63fa",
            "size": [
             33628
            ],
            "sizemode": "area",
            "sizeref": 15.58909090909091,
            "symbol": "circle"
           },
           "mode": "markers",
           "name": "Linkedin 1-2",
           "orientation": "v",
           "showlegend": true,
           "type": "scatter",
           "x": [
            831.02
           ],
           "xaxis": "x",
           "y": [
            126
           ],
           "yaxis": "y"
          }
         ],
         "name": "38"
        },
        {
         "data": [
          {
           "hovertemplate": "Creative Name=LinkedIn1-1<br>Day=39<br>Total Spend in CAD=%{x}<br>Clicks=%{y}<br>Impressions=%{marker.size}<extra></extra>",
           "legendgroup": "LinkedIn1-1",
           "marker": {
            "color": "#636efa",
            "size": [
             28278
            ],
            "sizemode": "area",
            "sizeref": 15.58909090909091,
            "symbol": "circle"
           },
           "mode": "markers",
           "name": "LinkedIn1-1",
           "orientation": "v",
           "showlegend": true,
           "type": "scatter",
           "x": [
            710.05
           ],
           "xaxis": "x",
           "y": [
            97
           ],
           "yaxis": "y"
          },
          {
           "hovertemplate": "Creative Name=Linkedin 2-2<br>Day=39<br>Total Spend in CAD=%{x}<br>Clicks=%{y}<br>Impressions=%{marker.size}<extra></extra>",
           "legendgroup": "Linkedin 2-2",
           "marker": {
            "color": "#EF553B",
            "size": [
             11562
            ],
            "sizemode": "area",
            "sizeref": 15.58909090909091,
            "symbol": "circle"
           },
           "mode": "markers",
           "name": "Linkedin 2-2",
           "orientation": "v",
           "showlegend": true,
           "type": "scatter",
           "x": [
            224.96
           ],
           "xaxis": "x",
           "y": [
            34
           ],
           "yaxis": "y"
          },
          {
           "hovertemplate": "Creative Name=Linkedin 2-1<br>Day=39<br>Total Spend in CAD=%{x}<br>Clicks=%{y}<br>Impressions=%{marker.size}<extra></extra>",
           "legendgroup": "Linkedin 2-1",
           "marker": {
            "color": "#00cc96",
            "size": [
             31465
            ],
            "sizemode": "area",
            "sizeref": 15.58909090909091,
            "symbol": "circle"
           },
           "mode": "markers",
           "name": "Linkedin 2-1",
           "orientation": "v",
           "showlegend": true,
           "type": "scatter",
           "x": [
            758.9
           ],
           "xaxis": "x",
           "y": [
            97
           ],
           "yaxis": "y"
          },
          {
           "hovertemplate": "Creative Name=Linkedin 1-2<br>Day=39<br>Total Spend in CAD=%{x}<br>Clicks=%{y}<br>Impressions=%{marker.size}<extra></extra>",
           "legendgroup": "Linkedin 1-2",
           "marker": {
            "color": "#ab63fa",
            "size": [
             34519
            ],
            "sizemode": "area",
            "sizeref": 15.58909090909091,
            "symbol": "circle"
           },
           "mode": "markers",
           "name": "Linkedin 1-2",
           "orientation": "v",
           "showlegend": true,
           "type": "scatter",
           "x": [
            856.2
           ],
           "xaxis": "x",
           "y": [
            131
           ],
           "yaxis": "y"
          }
         ],
         "name": "39"
        },
        {
         "data": [
          {
           "hovertemplate": "Creative Name=LinkedIn1-1<br>Day=40<br>Total Spend in CAD=%{x}<br>Clicks=%{y}<br>Impressions=%{marker.size}<extra></extra>",
           "legendgroup": "LinkedIn1-1",
           "marker": {
            "color": "#636efa",
            "size": [
             28849
            ],
            "sizemode": "area",
            "sizeref": 15.58909090909091,
            "symbol": "circle"
           },
           "mode": "markers",
           "name": "LinkedIn1-1",
           "orientation": "v",
           "showlegend": true,
           "type": "scatter",
           "x": [
            724.3
           ],
           "xaxis": "x",
           "y": [
            97
           ],
           "yaxis": "y"
          },
          {
           "hovertemplate": "Creative Name=Linkedin 2-2<br>Day=40<br>Total Spend in CAD=%{x}<br>Clicks=%{y}<br>Impressions=%{marker.size}<extra></extra>",
           "legendgroup": "Linkedin 2-2",
           "marker": {
            "color": "#EF553B",
            "size": [
             11562
            ],
            "sizemode": "area",
            "sizeref": 15.58909090909091,
            "symbol": "circle"
           },
           "mode": "markers",
           "name": "Linkedin 2-2",
           "orientation": "v",
           "showlegend": true,
           "type": "scatter",
           "x": [
            224.96
           ],
           "xaxis": "x",
           "y": [
            34
           ],
           "yaxis": "y"
          },
          {
           "hovertemplate": "Creative Name=Linkedin 2-1<br>Day=40<br>Total Spend in CAD=%{x}<br>Clicks=%{y}<br>Impressions=%{marker.size}<extra></extra>",
           "legendgroup": "Linkedin 2-1",
           "marker": {
            "color": "#00cc96",
            "size": [
             32258
            ],
            "sizemode": "area",
            "sizeref": 15.58909090909091,
            "symbol": "circle"
           },
           "mode": "markers",
           "name": "Linkedin 2-1",
           "orientation": "v",
           "showlegend": true,
           "type": "scatter",
           "x": [
            781.04
           ],
           "xaxis": "x",
           "y": [
            103
           ],
           "yaxis": "y"
          },
          {
           "hovertemplate": "Creative Name=Linkedin 1-2<br>Day=40<br>Total Spend in CAD=%{x}<br>Clicks=%{y}<br>Impressions=%{marker.size}<extra></extra>",
           "legendgroup": "Linkedin 1-2",
           "marker": {
            "color": "#ab63fa",
            "size": [
             35446
            ],
            "sizemode": "area",
            "sizeref": 15.58909090909091,
            "symbol": "circle"
           },
           "mode": "markers",
           "name": "Linkedin 1-2",
           "orientation": "v",
           "showlegend": true,
           "type": "scatter",
           "x": [
            885.37
           ],
           "xaxis": "x",
           "y": [
            138
           ],
           "yaxis": "y"
          }
         ],
         "name": "40"
        },
        {
         "data": [
          {
           "hovertemplate": "Creative Name=LinkedIn1-1<br>Day=41<br>Total Spend in CAD=%{x}<br>Clicks=%{y}<br>Impressions=%{marker.size}<extra></extra>",
           "legendgroup": "LinkedIn1-1",
           "marker": {
            "color": "#636efa",
            "size": [
             29637
            ],
            "sizemode": "area",
            "sizeref": 15.58909090909091,
            "symbol": "circle"
           },
           "mode": "markers",
           "name": "LinkedIn1-1",
           "orientation": "v",
           "showlegend": true,
           "type": "scatter",
           "x": [
            740.84
           ],
           "xaxis": "x",
           "y": [
            99
           ],
           "yaxis": "y"
          },
          {
           "hovertemplate": "Creative Name=Linkedin 2-2<br>Day=41<br>Total Spend in CAD=%{x}<br>Clicks=%{y}<br>Impressions=%{marker.size}<extra></extra>",
           "legendgroup": "Linkedin 2-2",
           "marker": {
            "color": "#EF553B",
            "size": [
             11562
            ],
            "sizemode": "area",
            "sizeref": 15.58909090909091,
            "symbol": "circle"
           },
           "mode": "markers",
           "name": "Linkedin 2-2",
           "orientation": "v",
           "showlegend": true,
           "type": "scatter",
           "x": [
            224.96
           ],
           "xaxis": "x",
           "y": [
            34
           ],
           "yaxis": "y"
          },
          {
           "hovertemplate": "Creative Name=Linkedin 2-1<br>Day=41<br>Total Spend in CAD=%{x}<br>Clicks=%{y}<br>Impressions=%{marker.size}<extra></extra>",
           "legendgroup": "Linkedin 2-1",
           "marker": {
            "color": "#00cc96",
            "size": [
             33060
            ],
            "sizemode": "area",
            "sizeref": 15.58909090909091,
            "symbol": "circle"
           },
           "mode": "markers",
           "name": "Linkedin 2-1",
           "orientation": "v",
           "showlegend": true,
           "type": "scatter",
           "x": [
            800.32
           ],
           "xaxis": "x",
           "y": [
            106
           ],
           "yaxis": "y"
          },
          {
           "hovertemplate": "Creative Name=Linkedin 1-2<br>Day=41<br>Total Spend in CAD=%{x}<br>Clicks=%{y}<br>Impressions=%{marker.size}<extra></extra>",
           "legendgroup": "Linkedin 1-2",
           "marker": {
            "color": "#ab63fa",
            "size": [
             36577
            ],
            "sizemode": "area",
            "sizeref": 15.58909090909091,
            "symbol": "circle"
           },
           "mode": "markers",
           "name": "Linkedin 1-2",
           "orientation": "v",
           "showlegend": true,
           "type": "scatter",
           "x": [
            915.05
           ],
           "xaxis": "x",
           "y": [
            143
           ],
           "yaxis": "y"
          }
         ],
         "name": "41"
        },
        {
         "data": [
          {
           "hovertemplate": "Creative Name=LinkedIn1-1<br>Day=42<br>Total Spend in CAD=%{x}<br>Clicks=%{y}<br>Impressions=%{marker.size}<extra></extra>",
           "legendgroup": "LinkedIn1-1",
           "marker": {
            "color": "#636efa",
            "size": [
             30538
            ],
            "sizemode": "area",
            "sizeref": 15.58909090909091,
            "symbol": "circle"
           },
           "mode": "markers",
           "name": "LinkedIn1-1",
           "orientation": "v",
           "showlegend": true,
           "type": "scatter",
           "x": [
            757.75
           ],
           "xaxis": "x",
           "y": [
            101
           ],
           "yaxis": "y"
          },
          {
           "hovertemplate": "Creative Name=Linkedin 2-2<br>Day=42<br>Total Spend in CAD=%{x}<br>Clicks=%{y}<br>Impressions=%{marker.size}<extra></extra>",
           "legendgroup": "Linkedin 2-2",
           "marker": {
            "color": "#EF553B",
            "size": [
             11562
            ],
            "sizemode": "area",
            "sizeref": 15.58909090909091,
            "symbol": "circle"
           },
           "mode": "markers",
           "name": "Linkedin 2-2",
           "orientation": "v",
           "showlegend": true,
           "type": "scatter",
           "x": [
            224.96
           ],
           "xaxis": "x",
           "y": [
            34
           ],
           "yaxis": "y"
          },
          {
           "hovertemplate": "Creative Name=Linkedin 2-1<br>Day=42<br>Total Spend in CAD=%{x}<br>Clicks=%{y}<br>Impressions=%{marker.size}<extra></extra>",
           "legendgroup": "Linkedin 2-1",
           "marker": {
            "color": "#00cc96",
            "size": [
             33761
            ],
            "sizemode": "area",
            "sizeref": 15.58909090909091,
            "symbol": "circle"
           },
           "mode": "markers",
           "name": "Linkedin 2-1",
           "orientation": "v",
           "showlegend": true,
           "type": "scatter",
           "x": [
            817.26
           ],
           "xaxis": "x",
           "y": [
            107
           ],
           "yaxis": "y"
          },
          {
           "hovertemplate": "Creative Name=Linkedin 1-2<br>Day=42<br>Total Spend in CAD=%{x}<br>Clicks=%{y}<br>Impressions=%{marker.size}<extra></extra>",
           "legendgroup": "Linkedin 1-2",
           "marker": {
            "color": "#ab63fa",
            "size": [
             37763
            ],
            "sizemode": "area",
            "sizeref": 15.58909090909091,
            "symbol": "circle"
           },
           "mode": "markers",
           "name": "Linkedin 1-2",
           "orientation": "v",
           "showlegend": true,
           "type": "scatter",
           "x": [
            946.41
           ],
           "xaxis": "x",
           "y": [
            147
           ],
           "yaxis": "y"
          }
         ],
         "name": "42"
        },
        {
         "data": [
          {
           "hovertemplate": "Creative Name=LinkedIn1-1<br>Day=43<br>Total Spend in CAD=%{x}<br>Clicks=%{y}<br>Impressions=%{marker.size}<extra></extra>",
           "legendgroup": "LinkedIn1-1",
           "marker": {
            "color": "#636efa",
            "size": [
             31280
            ],
            "sizemode": "area",
            "sizeref": 15.58909090909091,
            "symbol": "circle"
           },
           "mode": "markers",
           "name": "LinkedIn1-1",
           "orientation": "v",
           "showlegend": true,
           "type": "scatter",
           "x": [
            772.55
           ],
           "xaxis": "x",
           "y": [
            102
           ],
           "yaxis": "y"
          },
          {
           "hovertemplate": "Creative Name=Linkedin 2-2<br>Day=43<br>Total Spend in CAD=%{x}<br>Clicks=%{y}<br>Impressions=%{marker.size}<extra></extra>",
           "legendgroup": "Linkedin 2-2",
           "marker": {
            "color": "#EF553B",
            "size": [
             11562
            ],
            "sizemode": "area",
            "sizeref": 15.58909090909091,
            "symbol": "circle"
           },
           "mode": "markers",
           "name": "Linkedin 2-2",
           "orientation": "v",
           "showlegend": true,
           "type": "scatter",
           "x": [
            224.96
           ],
           "xaxis": "x",
           "y": [
            34
           ],
           "yaxis": "y"
          },
          {
           "hovertemplate": "Creative Name=Linkedin 2-1<br>Day=43<br>Total Spend in CAD=%{x}<br>Clicks=%{y}<br>Impressions=%{marker.size}<extra></extra>",
           "legendgroup": "Linkedin 2-1",
           "marker": {
            "color": "#00cc96",
            "size": [
             34579
            ],
            "sizemode": "area",
            "sizeref": 15.58909090909091,
            "symbol": "circle"
           },
           "mode": "markers",
           "name": "Linkedin 2-1",
           "orientation": "v",
           "showlegend": true,
           "type": "scatter",
           "x": [
            835.09
           ],
           "xaxis": "x",
           "y": [
            109
           ],
           "yaxis": "y"
          },
          {
           "hovertemplate": "Creative Name=Linkedin 1-2<br>Day=43<br>Total Spend in CAD=%{x}<br>Clicks=%{y}<br>Impressions=%{marker.size}<extra></extra>",
           "legendgroup": "Linkedin 1-2",
           "marker": {
            "color": "#ab63fa",
            "size": [
             38977
            ],
            "sizemode": "area",
            "sizeref": 15.58909090909091,
            "symbol": "circle"
           },
           "mode": "markers",
           "name": "Linkedin 1-2",
           "orientation": "v",
           "showlegend": true,
           "type": "scatter",
           "x": [
            979.13
           ],
           "xaxis": "x",
           "y": [
            154
           ],
           "yaxis": "y"
          }
         ],
         "name": "43"
        },
        {
         "data": [
          {
           "hovertemplate": "Creative Name=LinkedIn1-1<br>Day=44<br>Total Spend in CAD=%{x}<br>Clicks=%{y}<br>Impressions=%{marker.size}<extra></extra>",
           "legendgroup": "LinkedIn1-1",
           "marker": {
            "color": "#636efa",
            "size": [
             32019
            ],
            "sizemode": "area",
            "sizeref": 15.58909090909091,
            "symbol": "circle"
           },
           "mode": "markers",
           "name": "LinkedIn1-1",
           "orientation": "v",
           "showlegend": true,
           "type": "scatter",
           "x": [
            788.73
           ],
           "xaxis": "x",
           "y": [
            102
           ],
           "yaxis": "y"
          },
          {
           "hovertemplate": "Creative Name=Linkedin 2-2<br>Day=44<br>Total Spend in CAD=%{x}<br>Clicks=%{y}<br>Impressions=%{marker.size}<extra></extra>",
           "legendgroup": "Linkedin 2-2",
           "marker": {
            "color": "#EF553B",
            "size": [
             11562
            ],
            "sizemode": "area",
            "sizeref": 15.58909090909091,
            "symbol": "circle"
           },
           "mode": "markers",
           "name": "Linkedin 2-2",
           "orientation": "v",
           "showlegend": true,
           "type": "scatter",
           "x": [
            224.96
           ],
           "xaxis": "x",
           "y": [
            34
           ],
           "yaxis": "y"
          },
          {
           "hovertemplate": "Creative Name=Linkedin 2-1<br>Day=44<br>Total Spend in CAD=%{x}<br>Clicks=%{y}<br>Impressions=%{marker.size}<extra></extra>",
           "legendgroup": "Linkedin 2-1",
           "marker": {
            "color": "#00cc96",
            "size": [
             35492
            ],
            "sizemode": "area",
            "sizeref": 15.58909090909091,
            "symbol": "circle"
           },
           "mode": "markers",
           "name": "Linkedin 2-1",
           "orientation": "v",
           "showlegend": true,
           "type": "scatter",
           "x": [
            854.15
           ],
           "xaxis": "x",
           "y": [
            112
           ],
           "yaxis": "y"
          },
          {
           "hovertemplate": "Creative Name=Linkedin 1-2<br>Day=44<br>Total Spend in CAD=%{x}<br>Clicks=%{y}<br>Impressions=%{marker.size}<extra></extra>",
           "legendgroup": "Linkedin 1-2",
           "marker": {
            "color": "#ab63fa",
            "size": [
             40118
            ],
            "sizemode": "area",
            "sizeref": 15.58909090909091,
            "symbol": "circle"
           },
           "mode": "markers",
           "name": "Linkedin 1-2",
           "orientation": "v",
           "showlegend": true,
           "type": "scatter",
           "x": [
            1009.57
           ],
           "xaxis": "x",
           "y": [
            155
           ],
           "yaxis": "y"
          }
         ],
         "name": "44"
        },
        {
         "data": [
          {
           "hovertemplate": "Creative Name=LinkedIn1-1<br>Day=45<br>Total Spend in CAD=%{x}<br>Clicks=%{y}<br>Impressions=%{marker.size}<extra></extra>",
           "legendgroup": "LinkedIn1-1",
           "marker": {
            "color": "#636efa",
            "size": [
             32919
            ],
            "sizemode": "area",
            "sizeref": 15.58909090909091,
            "symbol": "circle"
           },
           "mode": "markers",
           "name": "LinkedIn1-1",
           "orientation": "v",
           "showlegend": true,
           "type": "scatter",
           "x": [
            807.57
           ],
           "xaxis": "x",
           "y": [
            104
           ],
           "yaxis": "y"
          },
          {
           "hovertemplate": "Creative Name=Linkedin 2-2<br>Day=45<br>Total Spend in CAD=%{x}<br>Clicks=%{y}<br>Impressions=%{marker.size}<extra></extra>",
           "legendgroup": "Linkedin 2-2",
           "marker": {
            "color": "#EF553B",
            "size": [
             11562
            ],
            "sizemode": "area",
            "sizeref": 15.58909090909091,
            "symbol": "circle"
           },
           "mode": "markers",
           "name": "Linkedin 2-2",
           "orientation": "v",
           "showlegend": true,
           "type": "scatter",
           "x": [
            224.96
           ],
           "xaxis": "x",
           "y": [
            34
           ],
           "yaxis": "y"
          },
          {
           "hovertemplate": "Creative Name=Linkedin 2-1<br>Day=45<br>Total Spend in CAD=%{x}<br>Clicks=%{y}<br>Impressions=%{marker.size}<extra></extra>",
           "legendgroup": "Linkedin 2-1",
           "marker": {
            "color": "#00cc96",
            "size": [
             36284
            ],
            "sizemode": "area",
            "sizeref": 15.58909090909091,
            "symbol": "circle"
           },
           "mode": "markers",
           "name": "Linkedin 2-1",
           "orientation": "v",
           "showlegend": true,
           "type": "scatter",
           "x": [
            871.97
           ],
           "xaxis": "x",
           "y": [
            114
           ],
           "yaxis": "y"
          },
          {
           "hovertemplate": "Creative Name=Linkedin 1-2<br>Day=45<br>Total Spend in CAD=%{x}<br>Clicks=%{y}<br>Impressions=%{marker.size}<extra></extra>",
           "legendgroup": "Linkedin 1-2",
           "marker": {
            "color": "#ab63fa",
            "size": [
             41166
            ],
            "sizemode": "area",
            "sizeref": 15.58909090909091,
            "symbol": "circle"
           },
           "mode": "markers",
           "name": "Linkedin 1-2",
           "orientation": "v",
           "showlegend": true,
           "type": "scatter",
           "x": [
            1038.36
           ],
           "xaxis": "x",
           "y": [
            157
           ],
           "yaxis": "y"
          }
         ],
         "name": "45"
        },
        {
         "data": [
          {
           "hovertemplate": "Creative Name=LinkedIn1-1<br>Day=46<br>Total Spend in CAD=%{x}<br>Clicks=%{y}<br>Impressions=%{marker.size}<extra></extra>",
           "legendgroup": "LinkedIn1-1",
           "marker": {
            "color": "#636efa",
            "size": [
             33693
            ],
            "sizemode": "area",
            "sizeref": 15.58909090909091,
            "symbol": "circle"
           },
           "mode": "markers",
           "name": "LinkedIn1-1",
           "orientation": "v",
           "showlegend": true,
           "type": "scatter",
           "x": [
            826.13
           ],
           "xaxis": "x",
           "y": [
            106
           ],
           "yaxis": "y"
          },
          {
           "hovertemplate": "Creative Name=Linkedin 2-2<br>Day=46<br>Total Spend in CAD=%{x}<br>Clicks=%{y}<br>Impressions=%{marker.size}<extra></extra>",
           "legendgroup": "Linkedin 2-2",
           "marker": {
            "color": "#EF553B",
            "size": [
             11562
            ],
            "sizemode": "area",
            "sizeref": 15.58909090909091,
            "symbol": "circle"
           },
           "mode": "markers",
           "name": "Linkedin 2-2",
           "orientation": "v",
           "showlegend": true,
           "type": "scatter",
           "x": [
            224.96
           ],
           "xaxis": "x",
           "y": [
            34
           ],
           "yaxis": "y"
          },
          {
           "hovertemplate": "Creative Name=Linkedin 2-1<br>Day=46<br>Total Spend in CAD=%{x}<br>Clicks=%{y}<br>Impressions=%{marker.size}<extra></extra>",
           "legendgroup": "Linkedin 2-1",
           "marker": {
            "color": "#00cc96",
            "size": [
             36937
            ],
            "sizemode": "area",
            "sizeref": 15.58909090909091,
            "symbol": "circle"
           },
           "mode": "markers",
           "name": "Linkedin 2-1",
           "orientation": "v",
           "showlegend": true,
           "type": "scatter",
           "x": [
            889.07
           ],
           "xaxis": "x",
           "y": [
            117
           ],
           "yaxis": "y"
          },
          {
           "hovertemplate": "Creative Name=Linkedin 1-2<br>Day=46<br>Total Spend in CAD=%{x}<br>Clicks=%{y}<br>Impressions=%{marker.size}<extra></extra>",
           "legendgroup": "Linkedin 1-2",
           "marker": {
            "color": "#ab63fa",
            "size": [
             42091
            ],
            "sizemode": "area",
            "sizeref": 15.58909090909091,
            "symbol": "circle"
           },
           "mode": "markers",
           "name": "Linkedin 1-2",
           "orientation": "v",
           "showlegend": true,
           "type": "scatter",
           "x": [
            1068.07
           ],
           "xaxis": "x",
           "y": [
            160
           ],
           "yaxis": "y"
          }
         ],
         "name": "46"
        },
        {
         "data": [
          {
           "hovertemplate": "Creative Name=LinkedIn1-1<br>Day=47<br>Total Spend in CAD=%{x}<br>Clicks=%{y}<br>Impressions=%{marker.size}<extra></extra>",
           "legendgroup": "LinkedIn1-1",
           "marker": {
            "color": "#636efa",
            "size": [
             34475
            ],
            "sizemode": "area",
            "sizeref": 15.58909090909091,
            "symbol": "circle"
           },
           "mode": "markers",
           "name": "LinkedIn1-1",
           "orientation": "v",
           "showlegend": true,
           "type": "scatter",
           "x": [
            842.59
           ],
           "xaxis": "x",
           "y": [
            112
           ],
           "yaxis": "y"
          },
          {
           "hovertemplate": "Creative Name=Linkedin 2-2<br>Day=47<br>Total Spend in CAD=%{x}<br>Clicks=%{y}<br>Impressions=%{marker.size}<extra></extra>",
           "legendgroup": "Linkedin 2-2",
           "marker": {
            "color": "#EF553B",
            "size": [
             11562
            ],
            "sizemode": "area",
            "sizeref": 15.58909090909091,
            "symbol": "circle"
           },
           "mode": "markers",
           "name": "Linkedin 2-2",
           "orientation": "v",
           "showlegend": true,
           "type": "scatter",
           "x": [
            224.96
           ],
           "xaxis": "x",
           "y": [
            34
           ],
           "yaxis": "y"
          },
          {
           "hovertemplate": "Creative Name=Linkedin 2-1<br>Day=47<br>Total Spend in CAD=%{x}<br>Clicks=%{y}<br>Impressions=%{marker.size}<extra></extra>",
           "legendgroup": "Linkedin 2-1",
           "marker": {
            "color": "#00cc96",
            "size": [
             37601
            ],
            "sizemode": "area",
            "sizeref": 15.58909090909091,
            "symbol": "circle"
           },
           "mode": "markers",
           "name": "Linkedin 2-1",
           "orientation": "v",
           "showlegend": true,
           "type": "scatter",
           "x": [
            906.02
           ],
           "xaxis": "x",
           "y": [
            121
           ],
           "yaxis": "y"
          },
          {
           "hovertemplate": "Creative Name=Linkedin 1-2<br>Day=47<br>Total Spend in CAD=%{x}<br>Clicks=%{y}<br>Impressions=%{marker.size}<extra></extra>",
           "legendgroup": "Linkedin 1-2",
           "marker": {
            "color": "#ab63fa",
            "size": [
             43093
            ],
            "sizemode": "area",
            "sizeref": 15.58909090909091,
            "symbol": "circle"
           },
           "mode": "markers",
           "name": "Linkedin 1-2",
           "orientation": "v",
           "showlegend": true,
           "type": "scatter",
           "x": [
            1099.93
           ],
           "xaxis": "x",
           "y": [
            161
           ],
           "yaxis": "y"
          }
         ],
         "name": "47"
        },
        {
         "data": [
          {
           "hovertemplate": "Creative Name=LinkedIn1-1<br>Day=48<br>Total Spend in CAD=%{x}<br>Clicks=%{y}<br>Impressions=%{marker.size}<extra></extra>",
           "legendgroup": "LinkedIn1-1",
           "marker": {
            "color": "#636efa",
            "size": [
             35058
            ],
            "sizemode": "area",
            "sizeref": 15.58909090909091,
            "symbol": "circle"
           },
           "mode": "markers",
           "name": "LinkedIn1-1",
           "orientation": "v",
           "showlegend": true,
           "type": "scatter",
           "x": [
            855.55
           ],
           "xaxis": "x",
           "y": [
            112
           ],
           "yaxis": "y"
          },
          {
           "hovertemplate": "Creative Name=Linkedin 2-2<br>Day=48<br>Total Spend in CAD=%{x}<br>Clicks=%{y}<br>Impressions=%{marker.size}<extra></extra>",
           "legendgroup": "Linkedin 2-2",
           "marker": {
            "color": "#EF553B",
            "size": [
             11562
            ],
            "sizemode": "area",
            "sizeref": 15.58909090909091,
            "symbol": "circle"
           },
           "mode": "markers",
           "name": "Linkedin 2-2",
           "orientation": "v",
           "showlegend": true,
           "type": "scatter",
           "x": [
            224.96
           ],
           "xaxis": "x",
           "y": [
            34
           ],
           "yaxis": "y"
          },
          {
           "hovertemplate": "Creative Name=Linkedin 2-1<br>Day=48<br>Total Spend in CAD=%{x}<br>Clicks=%{y}<br>Impressions=%{marker.size}<extra></extra>",
           "legendgroup": "Linkedin 2-1",
           "marker": {
            "color": "#00cc96",
            "size": [
             38372
            ],
            "sizemode": "area",
            "sizeref": 15.58909090909091,
            "symbol": "circle"
           },
           "mode": "markers",
           "name": "Linkedin 2-1",
           "orientation": "v",
           "showlegend": true,
           "type": "scatter",
           "x": [
            922.42
           ],
           "xaxis": "x",
           "y": [
            124
           ],
           "yaxis": "y"
          },
          {
           "hovertemplate": "Creative Name=Linkedin 1-2<br>Day=48<br>Total Spend in CAD=%{x}<br>Clicks=%{y}<br>Impressions=%{marker.size}<extra></extra>",
           "legendgroup": "Linkedin 1-2",
           "marker": {
            "color": "#ab63fa",
            "size": [
             44614
            ],
            "sizemode": "area",
            "sizeref": 15.58909090909091,
            "symbol": "circle"
           },
           "mode": "markers",
           "name": "Linkedin 1-2",
           "orientation": "v",
           "showlegend": true,
           "type": "scatter",
           "x": [
            1135.83
           ],
           "xaxis": "x",
           "y": [
            164
           ],
           "yaxis": "y"
          }
         ],
         "name": "48"
        },
        {
         "data": [
          {
           "hovertemplate": "Creative Name=LinkedIn1-1<br>Day=49<br>Total Spend in CAD=%{x}<br>Clicks=%{y}<br>Impressions=%{marker.size}<extra></extra>",
           "legendgroup": "LinkedIn1-1",
           "marker": {
            "color": "#636efa",
            "size": [
             35770
            ],
            "sizemode": "area",
            "sizeref": 15.58909090909091,
            "symbol": "circle"
           },
           "mode": "markers",
           "name": "LinkedIn1-1",
           "orientation": "v",
           "showlegend": true,
           "type": "scatter",
           "x": [
            870.82
           ],
           "xaxis": "x",
           "y": [
            116
           ],
           "yaxis": "y"
          },
          {
           "hovertemplate": "Creative Name=Linkedin 2-2<br>Day=49<br>Total Spend in CAD=%{x}<br>Clicks=%{y}<br>Impressions=%{marker.size}<extra></extra>",
           "legendgroup": "Linkedin 2-2",
           "marker": {
            "color": "#EF553B",
            "size": [
             11562
            ],
            "sizemode": "area",
            "sizeref": 15.58909090909091,
            "symbol": "circle"
           },
           "mode": "markers",
           "name": "Linkedin 2-2",
           "orientation": "v",
           "showlegend": true,
           "type": "scatter",
           "x": [
            224.96
           ],
           "xaxis": "x",
           "y": [
            34
           ],
           "yaxis": "y"
          },
          {
           "hovertemplate": "Creative Name=Linkedin 2-1<br>Day=49<br>Total Spend in CAD=%{x}<br>Clicks=%{y}<br>Impressions=%{marker.size}<extra></extra>",
           "legendgroup": "Linkedin 2-1",
           "marker": {
            "color": "#00cc96",
            "size": [
             39081
            ],
            "sizemode": "area",
            "sizeref": 15.58909090909091,
            "symbol": "circle"
           },
           "mode": "markers",
           "name": "Linkedin 2-1",
           "orientation": "v",
           "showlegend": true,
           "type": "scatter",
           "x": [
            941.5
           ],
           "xaxis": "x",
           "y": [
            125
           ],
           "yaxis": "y"
          },
          {
           "hovertemplate": "Creative Name=Linkedin 1-2<br>Day=49<br>Total Spend in CAD=%{x}<br>Clicks=%{y}<br>Impressions=%{marker.size}<extra></extra>",
           "legendgroup": "Linkedin 1-2",
           "marker": {
            "color": "#ab63fa",
            "size": [
             45774
            ],
            "sizemode": "area",
            "sizeref": 15.58909090909091,
            "symbol": "circle"
           },
           "mode": "markers",
           "name": "Linkedin 1-2",
           "orientation": "v",
           "showlegend": true,
           "type": "scatter",
           "x": [
            1166.67
           ],
           "xaxis": "x",
           "y": [
            168
           ],
           "yaxis": "y"
          }
         ],
         "name": "49"
        },
        {
         "data": [
          {
           "hovertemplate": "Creative Name=LinkedIn1-1<br>Day=50<br>Total Spend in CAD=%{x}<br>Clicks=%{y}<br>Impressions=%{marker.size}<extra></extra>",
           "legendgroup": "LinkedIn1-1",
           "marker": {
            "color": "#636efa",
            "size": [
             36337
            ],
            "sizemode": "area",
            "sizeref": 15.58909090909091,
            "symbol": "circle"
           },
           "mode": "markers",
           "name": "LinkedIn1-1",
           "orientation": "v",
           "showlegend": true,
           "type": "scatter",
           "x": [
            884.92
           ],
           "xaxis": "x",
           "y": [
            117
           ],
           "yaxis": "y"
          },
          {
           "hovertemplate": "Creative Name=Linkedin 2-2<br>Day=50<br>Total Spend in CAD=%{x}<br>Clicks=%{y}<br>Impressions=%{marker.size}<extra></extra>",
           "legendgroup": "Linkedin 2-2",
           "marker": {
            "color": "#EF553B",
            "size": [
             11562
            ],
            "sizemode": "area",
            "sizeref": 15.58909090909091,
            "symbol": "circle"
           },
           "mode": "markers",
           "name": "Linkedin 2-2",
           "orientation": "v",
           "showlegend": true,
           "type": "scatter",
           "x": [
            224.96
           ],
           "xaxis": "x",
           "y": [
            34
           ],
           "yaxis": "y"
          },
          {
           "hovertemplate": "Creative Name=Linkedin 2-1<br>Day=50<br>Total Spend in CAD=%{x}<br>Clicks=%{y}<br>Impressions=%{marker.size}<extra></extra>",
           "legendgroup": "Linkedin 2-1",
           "marker": {
            "color": "#00cc96",
            "size": [
             39644
            ],
            "sizemode": "area",
            "sizeref": 15.58909090909091,
            "symbol": "circle"
           },
           "mode": "markers",
           "name": "Linkedin 2-1",
           "orientation": "v",
           "showlegend": true,
           "type": "scatter",
           "x": [
            957.66
           ],
           "xaxis": "x",
           "y": [
            127
           ],
           "yaxis": "y"
          },
          {
           "hovertemplate": "Creative Name=Linkedin 1-2<br>Day=50<br>Total Spend in CAD=%{x}<br>Clicks=%{y}<br>Impressions=%{marker.size}<extra></extra>",
           "legendgroup": "Linkedin 1-2",
           "marker": {
            "color": "#ab63fa",
            "size": [
             47157
            ],
            "sizemode": "area",
            "sizeref": 15.58909090909091,
            "symbol": "circle"
           },
           "mode": "markers",
           "name": "Linkedin 1-2",
           "orientation": "v",
           "showlegend": true,
           "type": "scatter",
           "x": [
            1201.55
           ],
           "xaxis": "x",
           "y": [
            177
           ],
           "yaxis": "y"
          }
         ],
         "name": "50"
        }
       ],
       "layout": {
        "height": 700,
        "legend": {
         "itemsizing": "constant",
         "title": {
          "text": "Creative Name"
         },
         "tracegroupgap": 0
        },
        "sliders": [
         {
          "active": 0,
          "currentvalue": {
           "prefix": "Day="
          },
          "len": 0.9,
          "pad": {
           "b": 10,
           "t": 60
          },
          "steps": [
           {
            "args": [
             [
              "1"
             ],
             {
              "frame": {
               "duration": 0,
               "redraw": false
              },
              "fromcurrent": true,
              "mode": "immediate",
              "transition": {
               "duration": 0,
               "easing": "linear"
              }
             }
            ],
            "label": "1",
            "method": "animate"
           },
           {
            "args": [
             [
              "2"
             ],
             {
              "frame": {
               "duration": 0,
               "redraw": false
              },
              "fromcurrent": true,
              "mode": "immediate",
              "transition": {
               "duration": 0,
               "easing": "linear"
              }
             }
            ],
            "label": "2",
            "method": "animate"
           },
           {
            "args": [
             [
              "3"
             ],
             {
              "frame": {
               "duration": 0,
               "redraw": false
              },
              "fromcurrent": true,
              "mode": "immediate",
              "transition": {
               "duration": 0,
               "easing": "linear"
              }
             }
            ],
            "label": "3",
            "method": "animate"
           },
           {
            "args": [
             [
              "4"
             ],
             {
              "frame": {
               "duration": 0,
               "redraw": false
              },
              "fromcurrent": true,
              "mode": "immediate",
              "transition": {
               "duration": 0,
               "easing": "linear"
              }
             }
            ],
            "label": "4",
            "method": "animate"
           },
           {
            "args": [
             [
              "5"
             ],
             {
              "frame": {
               "duration": 0,
               "redraw": false
              },
              "fromcurrent": true,
              "mode": "immediate",
              "transition": {
               "duration": 0,
               "easing": "linear"
              }
             }
            ],
            "label": "5",
            "method": "animate"
           },
           {
            "args": [
             [
              "6"
             ],
             {
              "frame": {
               "duration": 0,
               "redraw": false
              },
              "fromcurrent": true,
              "mode": "immediate",
              "transition": {
               "duration": 0,
               "easing": "linear"
              }
             }
            ],
            "label": "6",
            "method": "animate"
           },
           {
            "args": [
             [
              "7"
             ],
             {
              "frame": {
               "duration": 0,
               "redraw": false
              },
              "fromcurrent": true,
              "mode": "immediate",
              "transition": {
               "duration": 0,
               "easing": "linear"
              }
             }
            ],
            "label": "7",
            "method": "animate"
           },
           {
            "args": [
             [
              "8"
             ],
             {
              "frame": {
               "duration": 0,
               "redraw": false
              },
              "fromcurrent": true,
              "mode": "immediate",
              "transition": {
               "duration": 0,
               "easing": "linear"
              }
             }
            ],
            "label": "8",
            "method": "animate"
           },
           {
            "args": [
             [
              "9"
             ],
             {
              "frame": {
               "duration": 0,
               "redraw": false
              },
              "fromcurrent": true,
              "mode": "immediate",
              "transition": {
               "duration": 0,
               "easing": "linear"
              }
             }
            ],
            "label": "9",
            "method": "animate"
           },
           {
            "args": [
             [
              "10"
             ],
             {
              "frame": {
               "duration": 0,
               "redraw": false
              },
              "fromcurrent": true,
              "mode": "immediate",
              "transition": {
               "duration": 0,
               "easing": "linear"
              }
             }
            ],
            "label": "10",
            "method": "animate"
           },
           {
            "args": [
             [
              "11"
             ],
             {
              "frame": {
               "duration": 0,
               "redraw": false
              },
              "fromcurrent": true,
              "mode": "immediate",
              "transition": {
               "duration": 0,
               "easing": "linear"
              }
             }
            ],
            "label": "11",
            "method": "animate"
           },
           {
            "args": [
             [
              "12"
             ],
             {
              "frame": {
               "duration": 0,
               "redraw": false
              },
              "fromcurrent": true,
              "mode": "immediate",
              "transition": {
               "duration": 0,
               "easing": "linear"
              }
             }
            ],
            "label": "12",
            "method": "animate"
           },
           {
            "args": [
             [
              "13"
             ],
             {
              "frame": {
               "duration": 0,
               "redraw": false
              },
              "fromcurrent": true,
              "mode": "immediate",
              "transition": {
               "duration": 0,
               "easing": "linear"
              }
             }
            ],
            "label": "13",
            "method": "animate"
           },
           {
            "args": [
             [
              "14"
             ],
             {
              "frame": {
               "duration": 0,
               "redraw": false
              },
              "fromcurrent": true,
              "mode": "immediate",
              "transition": {
               "duration": 0,
               "easing": "linear"
              }
             }
            ],
            "label": "14",
            "method": "animate"
           },
           {
            "args": [
             [
              "15"
             ],
             {
              "frame": {
               "duration": 0,
               "redraw": false
              },
              "fromcurrent": true,
              "mode": "immediate",
              "transition": {
               "duration": 0,
               "easing": "linear"
              }
             }
            ],
            "label": "15",
            "method": "animate"
           },
           {
            "args": [
             [
              "16"
             ],
             {
              "frame": {
               "duration": 0,
               "redraw": false
              },
              "fromcurrent": true,
              "mode": "immediate",
              "transition": {
               "duration": 0,
               "easing": "linear"
              }
             }
            ],
            "label": "16",
            "method": "animate"
           },
           {
            "args": [
             [
              "17"
             ],
             {
              "frame": {
               "duration": 0,
               "redraw": false
              },
              "fromcurrent": true,
              "mode": "immediate",
              "transition": {
               "duration": 0,
               "easing": "linear"
              }
             }
            ],
            "label": "17",
            "method": "animate"
           },
           {
            "args": [
             [
              "18"
             ],
             {
              "frame": {
               "duration": 0,
               "redraw": false
              },
              "fromcurrent": true,
              "mode": "immediate",
              "transition": {
               "duration": 0,
               "easing": "linear"
              }
             }
            ],
            "label": "18",
            "method": "animate"
           },
           {
            "args": [
             [
              "19"
             ],
             {
              "frame": {
               "duration": 0,
               "redraw": false
              },
              "fromcurrent": true,
              "mode": "immediate",
              "transition": {
               "duration": 0,
               "easing": "linear"
              }
             }
            ],
            "label": "19",
            "method": "animate"
           },
           {
            "args": [
             [
              "20"
             ],
             {
              "frame": {
               "duration": 0,
               "redraw": false
              },
              "fromcurrent": true,
              "mode": "immediate",
              "transition": {
               "duration": 0,
               "easing": "linear"
              }
             }
            ],
            "label": "20",
            "method": "animate"
           },
           {
            "args": [
             [
              "21"
             ],
             {
              "frame": {
               "duration": 0,
               "redraw": false
              },
              "fromcurrent": true,
              "mode": "immediate",
              "transition": {
               "duration": 0,
               "easing": "linear"
              }
             }
            ],
            "label": "21",
            "method": "animate"
           },
           {
            "args": [
             [
              "22"
             ],
             {
              "frame": {
               "duration": 0,
               "redraw": false
              },
              "fromcurrent": true,
              "mode": "immediate",
              "transition": {
               "duration": 0,
               "easing": "linear"
              }
             }
            ],
            "label": "22",
            "method": "animate"
           },
           {
            "args": [
             [
              "23"
             ],
             {
              "frame": {
               "duration": 0,
               "redraw": false
              },
              "fromcurrent": true,
              "mode": "immediate",
              "transition": {
               "duration": 0,
               "easing": "linear"
              }
             }
            ],
            "label": "23",
            "method": "animate"
           },
           {
            "args": [
             [
              "24"
             ],
             {
              "frame": {
               "duration": 0,
               "redraw": false
              },
              "fromcurrent": true,
              "mode": "immediate",
              "transition": {
               "duration": 0,
               "easing": "linear"
              }
             }
            ],
            "label": "24",
            "method": "animate"
           },
           {
            "args": [
             [
              "25"
             ],
             {
              "frame": {
               "duration": 0,
               "redraw": false
              },
              "fromcurrent": true,
              "mode": "immediate",
              "transition": {
               "duration": 0,
               "easing": "linear"
              }
             }
            ],
            "label": "25",
            "method": "animate"
           },
           {
            "args": [
             [
              "26"
             ],
             {
              "frame": {
               "duration": 0,
               "redraw": false
              },
              "fromcurrent": true,
              "mode": "immediate",
              "transition": {
               "duration": 0,
               "easing": "linear"
              }
             }
            ],
            "label": "26",
            "method": "animate"
           },
           {
            "args": [
             [
              "27"
             ],
             {
              "frame": {
               "duration": 0,
               "redraw": false
              },
              "fromcurrent": true,
              "mode": "immediate",
              "transition": {
               "duration": 0,
               "easing": "linear"
              }
             }
            ],
            "label": "27",
            "method": "animate"
           },
           {
            "args": [
             [
              "28"
             ],
             {
              "frame": {
               "duration": 0,
               "redraw": false
              },
              "fromcurrent": true,
              "mode": "immediate",
              "transition": {
               "duration": 0,
               "easing": "linear"
              }
             }
            ],
            "label": "28",
            "method": "animate"
           },
           {
            "args": [
             [
              "29"
             ],
             {
              "frame": {
               "duration": 0,
               "redraw": false
              },
              "fromcurrent": true,
              "mode": "immediate",
              "transition": {
               "duration": 0,
               "easing": "linear"
              }
             }
            ],
            "label": "29",
            "method": "animate"
           },
           {
            "args": [
             [
              "30"
             ],
             {
              "frame": {
               "duration": 0,
               "redraw": false
              },
              "fromcurrent": true,
              "mode": "immediate",
              "transition": {
               "duration": 0,
               "easing": "linear"
              }
             }
            ],
            "label": "30",
            "method": "animate"
           },
           {
            "args": [
             [
              "31"
             ],
             {
              "frame": {
               "duration": 0,
               "redraw": false
              },
              "fromcurrent": true,
              "mode": "immediate",
              "transition": {
               "duration": 0,
               "easing": "linear"
              }
             }
            ],
            "label": "31",
            "method": "animate"
           },
           {
            "args": [
             [
              "32"
             ],
             {
              "frame": {
               "duration": 0,
               "redraw": false
              },
              "fromcurrent": true,
              "mode": "immediate",
              "transition": {
               "duration": 0,
               "easing": "linear"
              }
             }
            ],
            "label": "32",
            "method": "animate"
           },
           {
            "args": [
             [
              "33"
             ],
             {
              "frame": {
               "duration": 0,
               "redraw": false
              },
              "fromcurrent": true,
              "mode": "immediate",
              "transition": {
               "duration": 0,
               "easing": "linear"
              }
             }
            ],
            "label": "33",
            "method": "animate"
           },
           {
            "args": [
             [
              "34"
             ],
             {
              "frame": {
               "duration": 0,
               "redraw": false
              },
              "fromcurrent": true,
              "mode": "immediate",
              "transition": {
               "duration": 0,
               "easing": "linear"
              }
             }
            ],
            "label": "34",
            "method": "animate"
           },
           {
            "args": [
             [
              "35"
             ],
             {
              "frame": {
               "duration": 0,
               "redraw": false
              },
              "fromcurrent": true,
              "mode": "immediate",
              "transition": {
               "duration": 0,
               "easing": "linear"
              }
             }
            ],
            "label": "35",
            "method": "animate"
           },
           {
            "args": [
             [
              "36"
             ],
             {
              "frame": {
               "duration": 0,
               "redraw": false
              },
              "fromcurrent": true,
              "mode": "immediate",
              "transition": {
               "duration": 0,
               "easing": "linear"
              }
             }
            ],
            "label": "36",
            "method": "animate"
           },
           {
            "args": [
             [
              "37"
             ],
             {
              "frame": {
               "duration": 0,
               "redraw": false
              },
              "fromcurrent": true,
              "mode": "immediate",
              "transition": {
               "duration": 0,
               "easing": "linear"
              }
             }
            ],
            "label": "37",
            "method": "animate"
           },
           {
            "args": [
             [
              "38"
             ],
             {
              "frame": {
               "duration": 0,
               "redraw": false
              },
              "fromcurrent": true,
              "mode": "immediate",
              "transition": {
               "duration": 0,
               "easing": "linear"
              }
             }
            ],
            "label": "38",
            "method": "animate"
           },
           {
            "args": [
             [
              "39"
             ],
             {
              "frame": {
               "duration": 0,
               "redraw": false
              },
              "fromcurrent": true,
              "mode": "immediate",
              "transition": {
               "duration": 0,
               "easing": "linear"
              }
             }
            ],
            "label": "39",
            "method": "animate"
           },
           {
            "args": [
             [
              "40"
             ],
             {
              "frame": {
               "duration": 0,
               "redraw": false
              },
              "fromcurrent": true,
              "mode": "immediate",
              "transition": {
               "duration": 0,
               "easing": "linear"
              }
             }
            ],
            "label": "40",
            "method": "animate"
           },
           {
            "args": [
             [
              "41"
             ],
             {
              "frame": {
               "duration": 0,
               "redraw": false
              },
              "fromcurrent": true,
              "mode": "immediate",
              "transition": {
               "duration": 0,
               "easing": "linear"
              }
             }
            ],
            "label": "41",
            "method": "animate"
           },
           {
            "args": [
             [
              "42"
             ],
             {
              "frame": {
               "duration": 0,
               "redraw": false
              },
              "fromcurrent": true,
              "mode": "immediate",
              "transition": {
               "duration": 0,
               "easing": "linear"
              }
             }
            ],
            "label": "42",
            "method": "animate"
           },
           {
            "args": [
             [
              "43"
             ],
             {
              "frame": {
               "duration": 0,
               "redraw": false
              },
              "fromcurrent": true,
              "mode": "immediate",
              "transition": {
               "duration": 0,
               "easing": "linear"
              }
             }
            ],
            "label": "43",
            "method": "animate"
           },
           {
            "args": [
             [
              "44"
             ],
             {
              "frame": {
               "duration": 0,
               "redraw": false
              },
              "fromcurrent": true,
              "mode": "immediate",
              "transition": {
               "duration": 0,
               "easing": "linear"
              }
             }
            ],
            "label": "44",
            "method": "animate"
           },
           {
            "args": [
             [
              "45"
             ],
             {
              "frame": {
               "duration": 0,
               "redraw": false
              },
              "fromcurrent": true,
              "mode": "immediate",
              "transition": {
               "duration": 0,
               "easing": "linear"
              }
             }
            ],
            "label": "45",
            "method": "animate"
           },
           {
            "args": [
             [
              "46"
             ],
             {
              "frame": {
               "duration": 0,
               "redraw": false
              },
              "fromcurrent": true,
              "mode": "immediate",
              "transition": {
               "duration": 0,
               "easing": "linear"
              }
             }
            ],
            "label": "46",
            "method": "animate"
           },
           {
            "args": [
             [
              "47"
             ],
             {
              "frame": {
               "duration": 0,
               "redraw": false
              },
              "fromcurrent": true,
              "mode": "immediate",
              "transition": {
               "duration": 0,
               "easing": "linear"
              }
             }
            ],
            "label": "47",
            "method": "animate"
           },
           {
            "args": [
             [
              "48"
             ],
             {
              "frame": {
               "duration": 0,
               "redraw": false
              },
              "fromcurrent": true,
              "mode": "immediate",
              "transition": {
               "duration": 0,
               "easing": "linear"
              }
             }
            ],
            "label": "48",
            "method": "animate"
           },
           {
            "args": [
             [
              "49"
             ],
             {
              "frame": {
               "duration": 0,
               "redraw": false
              },
              "fromcurrent": true,
              "mode": "immediate",
              "transition": {
               "duration": 0,
               "easing": "linear"
              }
             }
            ],
            "label": "49",
            "method": "animate"
           },
           {
            "args": [
             [
              "50"
             ],
             {
              "frame": {
               "duration": 0,
               "redraw": false
              },
              "fromcurrent": true,
              "mode": "immediate",
              "transition": {
               "duration": 0,
               "easing": "linear"
              }
             }
            ],
            "label": "50",
            "method": "animate"
           }
          ],
          "x": 0.1,
          "xanchor": "left",
          "y": 0,
          "yanchor": "top"
         }
        ],
        "template": {
         "data": {
          "bar": [
           {
            "error_x": {
             "color": "#2a3f5f"
            },
            "error_y": {
             "color": "#2a3f5f"
            },
            "marker": {
             "line": {
              "color": "white",
              "width": 0.5
             }
            },
            "type": "bar"
           }
          ],
          "barpolar": [
           {
            "marker": {
             "line": {
              "color": "white",
              "width": 0.5
             }
            },
            "type": "barpolar"
           }
          ],
          "carpet": [
           {
            "aaxis": {
             "endlinecolor": "#2a3f5f",
             "gridcolor": "#C8D4E3",
             "linecolor": "#C8D4E3",
             "minorgridcolor": "#C8D4E3",
             "startlinecolor": "#2a3f5f"
            },
            "baxis": {
             "endlinecolor": "#2a3f5f",
             "gridcolor": "#C8D4E3",
             "linecolor": "#C8D4E3",
             "minorgridcolor": "#C8D4E3",
             "startlinecolor": "#2a3f5f"
            },
            "type": "carpet"
           }
          ],
          "choropleth": [
           {
            "colorbar": {
             "outlinewidth": 0,
             "ticks": ""
            },
            "type": "choropleth"
           }
          ],
          "contour": [
           {
            "colorbar": {
             "outlinewidth": 0,
             "ticks": ""
            },
            "colorscale": [
             [
              0,
              "#0d0887"
             ],
             [
              0.1111111111111111,
              "#46039f"
             ],
             [
              0.2222222222222222,
              "#7201a8"
             ],
             [
              0.3333333333333333,
              "#9c179e"
             ],
             [
              0.4444444444444444,
              "#bd3786"
             ],
             [
              0.5555555555555556,
              "#d8576b"
             ],
             [
              0.6666666666666666,
              "#ed7953"
             ],
             [
              0.7777777777777778,
              "#fb9f3a"
             ],
             [
              0.8888888888888888,
              "#fdca26"
             ],
             [
              1,
              "#f0f921"
             ]
            ],
            "type": "contour"
           }
          ],
          "contourcarpet": [
           {
            "colorbar": {
             "outlinewidth": 0,
             "ticks": ""
            },
            "type": "contourcarpet"
           }
          ],
          "heatmap": [
           {
            "colorbar": {
             "outlinewidth": 0,
             "ticks": ""
            },
            "colorscale": [
             [
              0,
              "#0d0887"
             ],
             [
              0.1111111111111111,
              "#46039f"
             ],
             [
              0.2222222222222222,
              "#7201a8"
             ],
             [
              0.3333333333333333,
              "#9c179e"
             ],
             [
              0.4444444444444444,
              "#bd3786"
             ],
             [
              0.5555555555555556,
              "#d8576b"
             ],
             [
              0.6666666666666666,
              "#ed7953"
             ],
             [
              0.7777777777777778,
              "#fb9f3a"
             ],
             [
              0.8888888888888888,
              "#fdca26"
             ],
             [
              1,
              "#f0f921"
             ]
            ],
            "type": "heatmap"
           }
          ],
          "heatmapgl": [
           {
            "colorbar": {
             "outlinewidth": 0,
             "ticks": ""
            },
            "colorscale": [
             [
              0,
              "#0d0887"
             ],
             [
              0.1111111111111111,
              "#46039f"
             ],
             [
              0.2222222222222222,
              "#7201a8"
             ],
             [
              0.3333333333333333,
              "#9c179e"
             ],
             [
              0.4444444444444444,
              "#bd3786"
             ],
             [
              0.5555555555555556,
              "#d8576b"
             ],
             [
              0.6666666666666666,
              "#ed7953"
             ],
             [
              0.7777777777777778,
              "#fb9f3a"
             ],
             [
              0.8888888888888888,
              "#fdca26"
             ],
             [
              1,
              "#f0f921"
             ]
            ],
            "type": "heatmapgl"
           }
          ],
          "histogram": [
           {
            "marker": {
             "colorbar": {
              "outlinewidth": 0,
              "ticks": ""
             }
            },
            "type": "histogram"
           }
          ],
          "histogram2d": [
           {
            "colorbar": {
             "outlinewidth": 0,
             "ticks": ""
            },
            "colorscale": [
             [
              0,
              "#0d0887"
             ],
             [
              0.1111111111111111,
              "#46039f"
             ],
             [
              0.2222222222222222,
              "#7201a8"
             ],
             [
              0.3333333333333333,
              "#9c179e"
             ],
             [
              0.4444444444444444,
              "#bd3786"
             ],
             [
              0.5555555555555556,
              "#d8576b"
             ],
             [
              0.6666666666666666,
              "#ed7953"
             ],
             [
              0.7777777777777778,
              "#fb9f3a"
             ],
             [
              0.8888888888888888,
              "#fdca26"
             ],
             [
              1,
              "#f0f921"
             ]
            ],
            "type": "histogram2d"
           }
          ],
          "histogram2dcontour": [
           {
            "colorbar": {
             "outlinewidth": 0,
             "ticks": ""
            },
            "colorscale": [
             [
              0,
              "#0d0887"
             ],
             [
              0.1111111111111111,
              "#46039f"
             ],
             [
              0.2222222222222222,
              "#7201a8"
             ],
             [
              0.3333333333333333,
              "#9c179e"
             ],
             [
              0.4444444444444444,
              "#bd3786"
             ],
             [
              0.5555555555555556,
              "#d8576b"
             ],
             [
              0.6666666666666666,
              "#ed7953"
             ],
             [
              0.7777777777777778,
              "#fb9f3a"
             ],
             [
              0.8888888888888888,
              "#fdca26"
             ],
             [
              1,
              "#f0f921"
             ]
            ],
            "type": "histogram2dcontour"
           }
          ],
          "mesh3d": [
           {
            "colorbar": {
             "outlinewidth": 0,
             "ticks": ""
            },
            "type": "mesh3d"
           }
          ],
          "parcoords": [
           {
            "line": {
             "colorbar": {
              "outlinewidth": 0,
              "ticks": ""
             }
            },
            "type": "parcoords"
           }
          ],
          "pie": [
           {
            "automargin": true,
            "type": "pie"
           }
          ],
          "scatter": [
           {
            "marker": {
             "colorbar": {
              "outlinewidth": 0,
              "ticks": ""
             }
            },
            "type": "scatter"
           }
          ],
          "scatter3d": [
           {
            "line": {
             "colorbar": {
              "outlinewidth": 0,
              "ticks": ""
             }
            },
            "marker": {
             "colorbar": {
              "outlinewidth": 0,
              "ticks": ""
             }
            },
            "type": "scatter3d"
           }
          ],
          "scattercarpet": [
           {
            "marker": {
             "colorbar": {
              "outlinewidth": 0,
              "ticks": ""
             }
            },
            "type": "scattercarpet"
           }
          ],
          "scattergeo": [
           {
            "marker": {
             "colorbar": {
              "outlinewidth": 0,
              "ticks": ""
             }
            },
            "type": "scattergeo"
           }
          ],
          "scattergl": [
           {
            "marker": {
             "colorbar": {
              "outlinewidth": 0,
              "ticks": ""
             }
            },
            "type": "scattergl"
           }
          ],
          "scattermapbox": [
           {
            "marker": {
             "colorbar": {
              "outlinewidth": 0,
              "ticks": ""
             }
            },
            "type": "scattermapbox"
           }
          ],
          "scatterpolar": [
           {
            "marker": {
             "colorbar": {
              "outlinewidth": 0,
              "ticks": ""
             }
            },
            "type": "scatterpolar"
           }
          ],
          "scatterpolargl": [
           {
            "marker": {
             "colorbar": {
              "outlinewidth": 0,
              "ticks": ""
             }
            },
            "type": "scatterpolargl"
           }
          ],
          "scatterternary": [
           {
            "marker": {
             "colorbar": {
              "outlinewidth": 0,
              "ticks": ""
             }
            },
            "type": "scatterternary"
           }
          ],
          "surface": [
           {
            "colorbar": {
             "outlinewidth": 0,
             "ticks": ""
            },
            "colorscale": [
             [
              0,
              "#0d0887"
             ],
             [
              0.1111111111111111,
              "#46039f"
             ],
             [
              0.2222222222222222,
              "#7201a8"
             ],
             [
              0.3333333333333333,
              "#9c179e"
             ],
             [
              0.4444444444444444,
              "#bd3786"
             ],
             [
              0.5555555555555556,
              "#d8576b"
             ],
             [
              0.6666666666666666,
              "#ed7953"
             ],
             [
              0.7777777777777778,
              "#fb9f3a"
             ],
             [
              0.8888888888888888,
              "#fdca26"
             ],
             [
              1,
              "#f0f921"
             ]
            ],
            "type": "surface"
           }
          ],
          "table": [
           {
            "cells": {
             "fill": {
              "color": "#EBF0F8"
             },
             "line": {
              "color": "white"
             }
            },
            "header": {
             "fill": {
              "color": "#C8D4E3"
             },
             "line": {
              "color": "white"
             }
            },
            "type": "table"
           }
          ]
         },
         "layout": {
          "annotationdefaults": {
           "arrowcolor": "#2a3f5f",
           "arrowhead": 0,
           "arrowwidth": 1
          },
          "coloraxis": {
           "colorbar": {
            "outlinewidth": 0,
            "ticks": ""
           }
          },
          "colorscale": {
           "diverging": [
            [
             0,
             "#8e0152"
            ],
            [
             0.1,
             "#c51b7d"
            ],
            [
             0.2,
             "#de77ae"
            ],
            [
             0.3,
             "#f1b6da"
            ],
            [
             0.4,
             "#fde0ef"
            ],
            [
             0.5,
             "#f7f7f7"
            ],
            [
             0.6,
             "#e6f5d0"
            ],
            [
             0.7,
             "#b8e186"
            ],
            [
             0.8,
             "#7fbc41"
            ],
            [
             0.9,
             "#4d9221"
            ],
            [
             1,
             "#276419"
            ]
           ],
           "sequential": [
            [
             0,
             "#0d0887"
            ],
            [
             0.1111111111111111,
             "#46039f"
            ],
            [
             0.2222222222222222,
             "#7201a8"
            ],
            [
             0.3333333333333333,
             "#9c179e"
            ],
            [
             0.4444444444444444,
             "#bd3786"
            ],
            [
             0.5555555555555556,
             "#d8576b"
            ],
            [
             0.6666666666666666,
             "#ed7953"
            ],
            [
             0.7777777777777778,
             "#fb9f3a"
            ],
            [
             0.8888888888888888,
             "#fdca26"
            ],
            [
             1,
             "#f0f921"
            ]
           ],
           "sequentialminus": [
            [
             0,
             "#0d0887"
            ],
            [
             0.1111111111111111,
             "#46039f"
            ],
            [
             0.2222222222222222,
             "#7201a8"
            ],
            [
             0.3333333333333333,
             "#9c179e"
            ],
            [
             0.4444444444444444,
             "#bd3786"
            ],
            [
             0.5555555555555556,
             "#d8576b"
            ],
            [
             0.6666666666666666,
             "#ed7953"
            ],
            [
             0.7777777777777778,
             "#fb9f3a"
            ],
            [
             0.8888888888888888,
             "#fdca26"
            ],
            [
             1,
             "#f0f921"
            ]
           ]
          },
          "colorway": [
           "#636efa",
           "#EF553B",
           "#00cc96",
           "#ab63fa",
           "#FFA15A",
           "#19d3f3",
           "#FF6692",
           "#B6E880",
           "#FF97FF",
           "#FECB52"
          ],
          "font": {
           "color": "#2a3f5f"
          },
          "geo": {
           "bgcolor": "white",
           "lakecolor": "white",
           "landcolor": "white",
           "showlakes": true,
           "showland": true,
           "subunitcolor": "#C8D4E3"
          },
          "hoverlabel": {
           "align": "left"
          },
          "hovermode": "closest",
          "mapbox": {
           "style": "light"
          },
          "paper_bgcolor": "white",
          "plot_bgcolor": "white",
          "polar": {
           "angularaxis": {
            "gridcolor": "#EBF0F8",
            "linecolor": "#EBF0F8",
            "ticks": ""
           },
           "bgcolor": "white",
           "radialaxis": {
            "gridcolor": "#EBF0F8",
            "linecolor": "#EBF0F8",
            "ticks": ""
           }
          },
          "scene": {
           "xaxis": {
            "backgroundcolor": "white",
            "gridcolor": "#DFE8F3",
            "gridwidth": 2,
            "linecolor": "#EBF0F8",
            "showbackground": true,
            "ticks": "",
            "zerolinecolor": "#EBF0F8"
           },
           "yaxis": {
            "backgroundcolor": "white",
            "gridcolor": "#DFE8F3",
            "gridwidth": 2,
            "linecolor": "#EBF0F8",
            "showbackground": true,
            "ticks": "",
            "zerolinecolor": "#EBF0F8"
           },
           "zaxis": {
            "backgroundcolor": "white",
            "gridcolor": "#DFE8F3",
            "gridwidth": 2,
            "linecolor": "#EBF0F8",
            "showbackground": true,
            "ticks": "",
            "zerolinecolor": "#EBF0F8"
           }
          },
          "shapedefaults": {
           "line": {
            "color": "#2a3f5f"
           }
          },
          "ternary": {
           "aaxis": {
            "gridcolor": "#DFE8F3",
            "linecolor": "#A2B1C6",
            "ticks": ""
           },
           "baxis": {
            "gridcolor": "#DFE8F3",
            "linecolor": "#A2B1C6",
            "ticks": ""
           },
           "bgcolor": "white",
           "caxis": {
            "gridcolor": "#DFE8F3",
            "linecolor": "#A2B1C6",
            "ticks": ""
           }
          },
          "title": {
           "x": 0.05
          },
          "xaxis": {
           "automargin": true,
           "gridcolor": "#EBF0F8",
           "linecolor": "#EBF0F8",
           "ticks": "",
           "title": {
            "standoff": 15
           },
           "zerolinecolor": "#EBF0F8",
           "zerolinewidth": 2
          },
          "yaxis": {
           "automargin": true,
           "gridcolor": "#EBF0F8",
           "linecolor": "#EBF0F8",
           "ticks": "",
           "title": {
            "standoff": 15
           },
           "zerolinecolor": "#EBF0F8",
           "zerolinewidth": 2
          }
         }
        },
        "title": {
         "text": "Scatter plot A/B test Click-Through-Rate over Time and Budget"
        },
        "updatemenus": [
         {
          "buttons": [
           {
            "args": [
             null,
             {
              "frame": {
               "duration": 500,
               "redraw": false
              },
              "fromcurrent": true,
              "mode": "immediate",
              "transition": {
               "duration": 500,
               "easing": "linear"
              }
             }
            ],
            "label": "&#9654;",
            "method": "animate"
           },
           {
            "args": [
             [
              null
             ],
             {
              "frame": {
               "duration": 0,
               "redraw": false
              },
              "fromcurrent": true,
              "mode": "immediate",
              "transition": {
               "duration": 0,
               "easing": "linear"
              }
             }
            ],
            "label": "&#9724;",
            "method": "animate"
           }
          ],
          "direction": "left",
          "pad": {
           "r": 10,
           "t": 70
          },
          "showactive": false,
          "type": "buttons",
          "x": 0.1,
          "xanchor": "right",
          "y": 0,
          "yanchor": "top"
         }
        ],
        "width": 1000,
        "xaxis": {
         "anchor": "y",
         "domain": [
          0,
          1
         ],
         "range": [
          0,
          1300
         ],
         "title": {
          "text": "Total Spend in CAD"
         }
        },
        "yaxis": {
         "anchor": "x",
         "domain": [
          0,
          1
         ],
         "range": [
          0,
          200
         ],
         "title": {
          "text": "Clicks"
         }
        }
       }
      },
      "text/html": [
       "<div>\n",
       "        \n",
       "        \n",
       "            <div id=\"94f28fc5-0b49-4017-b4be-53f16e4b1319\" class=\"plotly-graph-div\" style=\"height:700px; width:1000px;\"></div>\n",
       "            <script type=\"text/javascript\">\n",
       "                require([\"plotly\"], function(Plotly) {\n",
       "                    window.PLOTLYENV=window.PLOTLYENV || {};\n",
       "                    \n",
       "                if (document.getElementById(\"94f28fc5-0b49-4017-b4be-53f16e4b1319\")) {\n",
       "                    Plotly.newPlot(\n",
       "                        '94f28fc5-0b49-4017-b4be-53f16e4b1319',\n",
       "                        [{\"hovertemplate\": \"Creative Name=LinkedIn1-1<br>Day=1<br>Total Spend in CAD=%{x}<br>Clicks=%{y}<br>Impressions=%{marker.size}<extra></extra>\", \"legendgroup\": \"LinkedIn1-1\", \"marker\": {\"color\": \"#636efa\", \"size\": [635], \"sizemode\": \"area\", \"sizeref\": 15.58909090909091, \"symbol\": \"circle\"}, \"mode\": \"markers\", \"name\": \"LinkedIn1-1\", \"orientation\": \"v\", \"showlegend\": true, \"type\": \"scatter\", \"x\": [13.54], \"xaxis\": \"x\", \"y\": [4], \"yaxis\": \"y\"}, {\"hovertemplate\": \"Creative Name=Linkedin 2-2<br>Day=1<br>Total Spend in CAD=%{x}<br>Clicks=%{y}<br>Impressions=%{marker.size}<extra></extra>\", \"legendgroup\": \"Linkedin 2-2\", \"marker\": {\"color\": \"#EF553B\", \"size\": [712], \"sizemode\": \"area\", \"sizeref\": 15.58909090909091, \"symbol\": \"circle\"}, \"mode\": \"markers\", \"name\": \"Linkedin 2-2\", \"orientation\": \"v\", \"showlegend\": true, \"type\": \"scatter\", \"x\": [26.34], \"xaxis\": \"x\", \"y\": [3], \"yaxis\": \"y\"}, {\"hovertemplate\": \"Creative Name=Linkedin 2-1<br>Day=1<br>Total Spend in CAD=%{x}<br>Clicks=%{y}<br>Impressions=%{marker.size}<extra></extra>\", \"legendgroup\": \"Linkedin 2-1\", \"marker\": {\"color\": \"#00cc96\", \"size\": [687], \"sizemode\": \"area\", \"sizeref\": 15.58909090909091, \"symbol\": \"circle\"}, \"mode\": \"markers\", \"name\": \"Linkedin 2-1\", \"orientation\": \"v\", \"showlegend\": true, \"type\": \"scatter\", \"x\": [16.94], \"xaxis\": \"x\", \"y\": [5], \"yaxis\": \"y\"}, {\"hovertemplate\": \"Creative Name=Linkedin 1-2<br>Day=1<br>Total Spend in CAD=%{x}<br>Clicks=%{y}<br>Impressions=%{marker.size}<extra></extra>\", \"legendgroup\": \"Linkedin 1-2\", \"marker\": {\"color\": \"#ab63fa\", \"size\": [1099], \"sizemode\": \"area\", \"sizeref\": 15.58909090909091, \"symbol\": \"circle\"}, \"mode\": \"markers\", \"name\": \"Linkedin 1-2\", \"orientation\": \"v\", \"showlegend\": true, \"type\": \"scatter\", \"x\": [19.94], \"xaxis\": \"x\", \"y\": [5], \"yaxis\": \"y\"}],\n",
       "                        {\"height\": 700, \"legend\": {\"itemsizing\": \"constant\", \"title\": {\"text\": \"Creative Name\"}, \"tracegroupgap\": 0}, \"sliders\": [{\"active\": 0, \"currentvalue\": {\"prefix\": \"Day=\"}, \"len\": 0.9, \"pad\": {\"b\": 10, \"t\": 60}, \"steps\": [{\"args\": [[\"1\"], {\"frame\": {\"duration\": 0, \"redraw\": false}, \"fromcurrent\": true, \"mode\": \"immediate\", \"transition\": {\"duration\": 0, \"easing\": \"linear\"}}], \"label\": \"1\", \"method\": \"animate\"}, {\"args\": [[\"2\"], {\"frame\": {\"duration\": 0, \"redraw\": false}, \"fromcurrent\": true, \"mode\": \"immediate\", \"transition\": {\"duration\": 0, \"easing\": \"linear\"}}], \"label\": \"2\", \"method\": \"animate\"}, {\"args\": [[\"3\"], {\"frame\": {\"duration\": 0, \"redraw\": false}, \"fromcurrent\": true, \"mode\": \"immediate\", \"transition\": {\"duration\": 0, \"easing\": \"linear\"}}], \"label\": \"3\", \"method\": \"animate\"}, {\"args\": [[\"4\"], {\"frame\": {\"duration\": 0, \"redraw\": false}, \"fromcurrent\": true, \"mode\": \"immediate\", \"transition\": {\"duration\": 0, \"easing\": \"linear\"}}], \"label\": \"4\", \"method\": \"animate\"}, {\"args\": [[\"5\"], {\"frame\": {\"duration\": 0, \"redraw\": false}, \"fromcurrent\": true, \"mode\": \"immediate\", \"transition\": {\"duration\": 0, \"easing\": \"linear\"}}], \"label\": \"5\", \"method\": \"animate\"}, {\"args\": [[\"6\"], {\"frame\": {\"duration\": 0, \"redraw\": false}, \"fromcurrent\": true, \"mode\": \"immediate\", \"transition\": {\"duration\": 0, \"easing\": \"linear\"}}], \"label\": \"6\", \"method\": \"animate\"}, {\"args\": [[\"7\"], {\"frame\": {\"duration\": 0, \"redraw\": false}, \"fromcurrent\": true, \"mode\": \"immediate\", \"transition\": {\"duration\": 0, \"easing\": \"linear\"}}], \"label\": \"7\", \"method\": \"animate\"}, {\"args\": [[\"8\"], {\"frame\": {\"duration\": 0, \"redraw\": false}, \"fromcurrent\": true, \"mode\": \"immediate\", \"transition\": {\"duration\": 0, \"easing\": \"linear\"}}], \"label\": \"8\", \"method\": \"animate\"}, {\"args\": [[\"9\"], {\"frame\": {\"duration\": 0, \"redraw\": false}, \"fromcurrent\": true, \"mode\": \"immediate\", \"transition\": {\"duration\": 0, \"easing\": \"linear\"}}], \"label\": \"9\", \"method\": \"animate\"}, {\"args\": [[\"10\"], {\"frame\": {\"duration\": 0, \"redraw\": false}, \"fromcurrent\": true, \"mode\": \"immediate\", \"transition\": {\"duration\": 0, \"easing\": \"linear\"}}], \"label\": \"10\", \"method\": \"animate\"}, {\"args\": [[\"11\"], {\"frame\": {\"duration\": 0, \"redraw\": false}, \"fromcurrent\": true, \"mode\": \"immediate\", \"transition\": {\"duration\": 0, \"easing\": \"linear\"}}], \"label\": \"11\", \"method\": \"animate\"}, {\"args\": [[\"12\"], {\"frame\": {\"duration\": 0, \"redraw\": false}, \"fromcurrent\": true, \"mode\": \"immediate\", \"transition\": {\"duration\": 0, \"easing\": \"linear\"}}], \"label\": \"12\", \"method\": \"animate\"}, {\"args\": [[\"13\"], {\"frame\": {\"duration\": 0, \"redraw\": false}, \"fromcurrent\": true, \"mode\": \"immediate\", \"transition\": {\"duration\": 0, \"easing\": \"linear\"}}], \"label\": \"13\", \"method\": \"animate\"}, {\"args\": [[\"14\"], {\"frame\": {\"duration\": 0, \"redraw\": false}, \"fromcurrent\": true, \"mode\": \"immediate\", \"transition\": {\"duration\": 0, \"easing\": \"linear\"}}], \"label\": \"14\", \"method\": \"animate\"}, {\"args\": [[\"15\"], {\"frame\": {\"duration\": 0, \"redraw\": false}, \"fromcurrent\": true, \"mode\": \"immediate\", \"transition\": {\"duration\": 0, \"easing\": \"linear\"}}], \"label\": \"15\", \"method\": \"animate\"}, {\"args\": [[\"16\"], {\"frame\": {\"duration\": 0, \"redraw\": false}, \"fromcurrent\": true, \"mode\": \"immediate\", \"transition\": {\"duration\": 0, \"easing\": \"linear\"}}], \"label\": \"16\", \"method\": \"animate\"}, {\"args\": [[\"17\"], {\"frame\": {\"duration\": 0, \"redraw\": false}, \"fromcurrent\": true, \"mode\": \"immediate\", \"transition\": {\"duration\": 0, \"easing\": \"linear\"}}], \"label\": \"17\", \"method\": \"animate\"}, {\"args\": [[\"18\"], {\"frame\": {\"duration\": 0, \"redraw\": false}, \"fromcurrent\": true, \"mode\": \"immediate\", \"transition\": {\"duration\": 0, \"easing\": \"linear\"}}], \"label\": \"18\", \"method\": \"animate\"}, {\"args\": [[\"19\"], {\"frame\": {\"duration\": 0, \"redraw\": false}, \"fromcurrent\": true, \"mode\": \"immediate\", \"transition\": {\"duration\": 0, \"easing\": \"linear\"}}], \"label\": \"19\", \"method\": \"animate\"}, {\"args\": [[\"20\"], {\"frame\": {\"duration\": 0, \"redraw\": false}, \"fromcurrent\": true, \"mode\": \"immediate\", \"transition\": {\"duration\": 0, \"easing\": \"linear\"}}], \"label\": \"20\", \"method\": \"animate\"}, {\"args\": [[\"21\"], {\"frame\": {\"duration\": 0, \"redraw\": false}, \"fromcurrent\": true, \"mode\": \"immediate\", \"transition\": {\"duration\": 0, \"easing\": \"linear\"}}], \"label\": \"21\", \"method\": \"animate\"}, {\"args\": [[\"22\"], {\"frame\": {\"duration\": 0, \"redraw\": false}, \"fromcurrent\": true, \"mode\": \"immediate\", \"transition\": {\"duration\": 0, \"easing\": \"linear\"}}], \"label\": \"22\", \"method\": \"animate\"}, {\"args\": [[\"23\"], {\"frame\": {\"duration\": 0, \"redraw\": false}, \"fromcurrent\": true, \"mode\": \"immediate\", \"transition\": {\"duration\": 0, \"easing\": \"linear\"}}], \"label\": \"23\", \"method\": \"animate\"}, {\"args\": [[\"24\"], {\"frame\": {\"duration\": 0, \"redraw\": false}, \"fromcurrent\": true, \"mode\": \"immediate\", \"transition\": {\"duration\": 0, \"easing\": \"linear\"}}], \"label\": \"24\", \"method\": \"animate\"}, {\"args\": [[\"25\"], {\"frame\": {\"duration\": 0, \"redraw\": false}, \"fromcurrent\": true, \"mode\": \"immediate\", \"transition\": {\"duration\": 0, \"easing\": \"linear\"}}], \"label\": \"25\", \"method\": \"animate\"}, {\"args\": [[\"26\"], {\"frame\": {\"duration\": 0, \"redraw\": false}, \"fromcurrent\": true, \"mode\": \"immediate\", \"transition\": {\"duration\": 0, \"easing\": \"linear\"}}], \"label\": \"26\", \"method\": \"animate\"}, {\"args\": [[\"27\"], {\"frame\": {\"duration\": 0, \"redraw\": false}, \"fromcurrent\": true, \"mode\": \"immediate\", \"transition\": {\"duration\": 0, \"easing\": \"linear\"}}], \"label\": \"27\", \"method\": \"animate\"}, {\"args\": [[\"28\"], {\"frame\": {\"duration\": 0, \"redraw\": false}, \"fromcurrent\": true, \"mode\": \"immediate\", \"transition\": {\"duration\": 0, \"easing\": \"linear\"}}], \"label\": \"28\", \"method\": \"animate\"}, {\"args\": [[\"29\"], {\"frame\": {\"duration\": 0, \"redraw\": false}, \"fromcurrent\": true, \"mode\": \"immediate\", \"transition\": {\"duration\": 0, \"easing\": \"linear\"}}], \"label\": \"29\", \"method\": \"animate\"}, {\"args\": [[\"30\"], {\"frame\": {\"duration\": 0, \"redraw\": false}, \"fromcurrent\": true, \"mode\": \"immediate\", \"transition\": {\"duration\": 0, \"easing\": \"linear\"}}], \"label\": \"30\", \"method\": \"animate\"}, {\"args\": [[\"31\"], {\"frame\": {\"duration\": 0, \"redraw\": false}, \"fromcurrent\": true, \"mode\": \"immediate\", \"transition\": {\"duration\": 0, \"easing\": \"linear\"}}], \"label\": \"31\", \"method\": \"animate\"}, {\"args\": [[\"32\"], {\"frame\": {\"duration\": 0, \"redraw\": false}, \"fromcurrent\": true, \"mode\": \"immediate\", \"transition\": {\"duration\": 0, \"easing\": \"linear\"}}], \"label\": \"32\", \"method\": \"animate\"}, {\"args\": [[\"33\"], {\"frame\": {\"duration\": 0, \"redraw\": false}, \"fromcurrent\": true, \"mode\": \"immediate\", \"transition\": {\"duration\": 0, \"easing\": \"linear\"}}], \"label\": \"33\", \"method\": \"animate\"}, {\"args\": [[\"34\"], {\"frame\": {\"duration\": 0, \"redraw\": false}, \"fromcurrent\": true, \"mode\": \"immediate\", \"transition\": {\"duration\": 0, \"easing\": \"linear\"}}], \"label\": \"34\", \"method\": \"animate\"}, {\"args\": [[\"35\"], {\"frame\": {\"duration\": 0, \"redraw\": false}, \"fromcurrent\": true, \"mode\": \"immediate\", \"transition\": {\"duration\": 0, \"easing\": \"linear\"}}], \"label\": \"35\", \"method\": \"animate\"}, {\"args\": [[\"36\"], {\"frame\": {\"duration\": 0, \"redraw\": false}, \"fromcurrent\": true, \"mode\": \"immediate\", \"transition\": {\"duration\": 0, \"easing\": \"linear\"}}], \"label\": \"36\", \"method\": \"animate\"}, {\"args\": [[\"37\"], {\"frame\": {\"duration\": 0, \"redraw\": false}, \"fromcurrent\": true, \"mode\": \"immediate\", \"transition\": {\"duration\": 0, \"easing\": \"linear\"}}], \"label\": \"37\", \"method\": \"animate\"}, {\"args\": [[\"38\"], {\"frame\": {\"duration\": 0, \"redraw\": false}, \"fromcurrent\": true, \"mode\": \"immediate\", \"transition\": {\"duration\": 0, \"easing\": \"linear\"}}], \"label\": \"38\", \"method\": \"animate\"}, {\"args\": [[\"39\"], {\"frame\": {\"duration\": 0, \"redraw\": false}, \"fromcurrent\": true, \"mode\": \"immediate\", \"transition\": {\"duration\": 0, \"easing\": \"linear\"}}], \"label\": \"39\", \"method\": \"animate\"}, {\"args\": [[\"40\"], {\"frame\": {\"duration\": 0, \"redraw\": false}, \"fromcurrent\": true, \"mode\": \"immediate\", \"transition\": {\"duration\": 0, \"easing\": \"linear\"}}], \"label\": \"40\", \"method\": \"animate\"}, {\"args\": [[\"41\"], {\"frame\": {\"duration\": 0, \"redraw\": false}, \"fromcurrent\": true, \"mode\": \"immediate\", \"transition\": {\"duration\": 0, \"easing\": \"linear\"}}], \"label\": \"41\", \"method\": \"animate\"}, {\"args\": [[\"42\"], {\"frame\": {\"duration\": 0, \"redraw\": false}, \"fromcurrent\": true, \"mode\": \"immediate\", \"transition\": {\"duration\": 0, \"easing\": \"linear\"}}], \"label\": \"42\", \"method\": \"animate\"}, {\"args\": [[\"43\"], {\"frame\": {\"duration\": 0, \"redraw\": false}, \"fromcurrent\": true, \"mode\": \"immediate\", \"transition\": {\"duration\": 0, \"easing\": \"linear\"}}], \"label\": \"43\", \"method\": \"animate\"}, {\"args\": [[\"44\"], {\"frame\": {\"duration\": 0, \"redraw\": false}, \"fromcurrent\": true, \"mode\": \"immediate\", \"transition\": {\"duration\": 0, \"easing\": \"linear\"}}], \"label\": \"44\", \"method\": \"animate\"}, {\"args\": [[\"45\"], {\"frame\": {\"duration\": 0, \"redraw\": false}, \"fromcurrent\": true, \"mode\": \"immediate\", \"transition\": {\"duration\": 0, \"easing\": \"linear\"}}], \"label\": \"45\", \"method\": \"animate\"}, {\"args\": [[\"46\"], {\"frame\": {\"duration\": 0, \"redraw\": false}, \"fromcurrent\": true, \"mode\": \"immediate\", \"transition\": {\"duration\": 0, \"easing\": \"linear\"}}], \"label\": \"46\", \"method\": \"animate\"}, {\"args\": [[\"47\"], {\"frame\": {\"duration\": 0, \"redraw\": false}, \"fromcurrent\": true, \"mode\": \"immediate\", \"transition\": {\"duration\": 0, \"easing\": \"linear\"}}], \"label\": \"47\", \"method\": \"animate\"}, {\"args\": [[\"48\"], {\"frame\": {\"duration\": 0, \"redraw\": false}, \"fromcurrent\": true, \"mode\": \"immediate\", \"transition\": {\"duration\": 0, \"easing\": \"linear\"}}], \"label\": \"48\", \"method\": \"animate\"}, {\"args\": [[\"49\"], {\"frame\": {\"duration\": 0, \"redraw\": false}, \"fromcurrent\": true, \"mode\": \"immediate\", \"transition\": {\"duration\": 0, \"easing\": \"linear\"}}], \"label\": \"49\", \"method\": \"animate\"}, {\"args\": [[\"50\"], {\"frame\": {\"duration\": 0, \"redraw\": false}, \"fromcurrent\": true, \"mode\": \"immediate\", \"transition\": {\"duration\": 0, \"easing\": \"linear\"}}], \"label\": \"50\", \"method\": \"animate\"}], \"x\": 0.1, \"xanchor\": \"left\", \"y\": 0, \"yanchor\": \"top\"}], \"template\": {\"data\": {\"bar\": [{\"error_x\": {\"color\": \"#2a3f5f\"}, \"error_y\": {\"color\": \"#2a3f5f\"}, \"marker\": {\"line\": {\"color\": \"white\", \"width\": 0.5}}, \"type\": \"bar\"}], \"barpolar\": [{\"marker\": {\"line\": {\"color\": \"white\", \"width\": 0.5}}, \"type\": \"barpolar\"}], \"carpet\": [{\"aaxis\": {\"endlinecolor\": \"#2a3f5f\", \"gridcolor\": \"#C8D4E3\", \"linecolor\": \"#C8D4E3\", \"minorgridcolor\": \"#C8D4E3\", \"startlinecolor\": \"#2a3f5f\"}, \"baxis\": {\"endlinecolor\": \"#2a3f5f\", \"gridcolor\": \"#C8D4E3\", \"linecolor\": \"#C8D4E3\", \"minorgridcolor\": \"#C8D4E3\", \"startlinecolor\": \"#2a3f5f\"}, \"type\": \"carpet\"}], \"choropleth\": [{\"colorbar\": {\"outlinewidth\": 0, \"ticks\": \"\"}, \"type\": \"choropleth\"}], \"contour\": [{\"colorbar\": {\"outlinewidth\": 0, \"ticks\": \"\"}, \"colorscale\": [[0.0, \"#0d0887\"], [0.1111111111111111, \"#46039f\"], [0.2222222222222222, \"#7201a8\"], [0.3333333333333333, \"#9c179e\"], [0.4444444444444444, \"#bd3786\"], [0.5555555555555556, \"#d8576b\"], [0.6666666666666666, \"#ed7953\"], [0.7777777777777778, \"#fb9f3a\"], [0.8888888888888888, \"#fdca26\"], [1.0, \"#f0f921\"]], \"type\": \"contour\"}], \"contourcarpet\": [{\"colorbar\": {\"outlinewidth\": 0, \"ticks\": \"\"}, \"type\": \"contourcarpet\"}], \"heatmap\": [{\"colorbar\": {\"outlinewidth\": 0, \"ticks\": \"\"}, \"colorscale\": [[0.0, \"#0d0887\"], [0.1111111111111111, \"#46039f\"], [0.2222222222222222, \"#7201a8\"], [0.3333333333333333, \"#9c179e\"], [0.4444444444444444, \"#bd3786\"], [0.5555555555555556, \"#d8576b\"], [0.6666666666666666, \"#ed7953\"], [0.7777777777777778, \"#fb9f3a\"], [0.8888888888888888, \"#fdca26\"], [1.0, \"#f0f921\"]], \"type\": \"heatmap\"}], \"heatmapgl\": [{\"colorbar\": {\"outlinewidth\": 0, \"ticks\": \"\"}, \"colorscale\": [[0.0, \"#0d0887\"], [0.1111111111111111, \"#46039f\"], [0.2222222222222222, \"#7201a8\"], [0.3333333333333333, \"#9c179e\"], [0.4444444444444444, \"#bd3786\"], [0.5555555555555556, \"#d8576b\"], [0.6666666666666666, \"#ed7953\"], [0.7777777777777778, \"#fb9f3a\"], [0.8888888888888888, \"#fdca26\"], [1.0, \"#f0f921\"]], \"type\": \"heatmapgl\"}], \"histogram\": [{\"marker\": {\"colorbar\": {\"outlinewidth\": 0, \"ticks\": \"\"}}, \"type\": \"histogram\"}], \"histogram2d\": [{\"colorbar\": {\"outlinewidth\": 0, \"ticks\": \"\"}, \"colorscale\": [[0.0, \"#0d0887\"], [0.1111111111111111, \"#46039f\"], [0.2222222222222222, \"#7201a8\"], [0.3333333333333333, \"#9c179e\"], [0.4444444444444444, \"#bd3786\"], [0.5555555555555556, \"#d8576b\"], [0.6666666666666666, \"#ed7953\"], [0.7777777777777778, \"#fb9f3a\"], [0.8888888888888888, \"#fdca26\"], [1.0, \"#f0f921\"]], \"type\": \"histogram2d\"}], \"histogram2dcontour\": [{\"colorbar\": {\"outlinewidth\": 0, \"ticks\": \"\"}, \"colorscale\": [[0.0, \"#0d0887\"], [0.1111111111111111, \"#46039f\"], [0.2222222222222222, \"#7201a8\"], [0.3333333333333333, \"#9c179e\"], [0.4444444444444444, \"#bd3786\"], [0.5555555555555556, \"#d8576b\"], [0.6666666666666666, \"#ed7953\"], [0.7777777777777778, \"#fb9f3a\"], [0.8888888888888888, \"#fdca26\"], [1.0, \"#f0f921\"]], \"type\": \"histogram2dcontour\"}], \"mesh3d\": [{\"colorbar\": {\"outlinewidth\": 0, \"ticks\": \"\"}, \"type\": \"mesh3d\"}], \"parcoords\": [{\"line\": {\"colorbar\": {\"outlinewidth\": 0, \"ticks\": \"\"}}, \"type\": \"parcoords\"}], \"pie\": [{\"automargin\": true, \"type\": \"pie\"}], \"scatter\": [{\"marker\": {\"colorbar\": {\"outlinewidth\": 0, \"ticks\": \"\"}}, \"type\": \"scatter\"}], \"scatter3d\": [{\"line\": {\"colorbar\": {\"outlinewidth\": 0, \"ticks\": \"\"}}, \"marker\": {\"colorbar\": {\"outlinewidth\": 0, \"ticks\": \"\"}}, \"type\": \"scatter3d\"}], \"scattercarpet\": [{\"marker\": {\"colorbar\": {\"outlinewidth\": 0, \"ticks\": \"\"}}, \"type\": \"scattercarpet\"}], \"scattergeo\": [{\"marker\": {\"colorbar\": {\"outlinewidth\": 0, \"ticks\": \"\"}}, \"type\": \"scattergeo\"}], \"scattergl\": [{\"marker\": {\"colorbar\": {\"outlinewidth\": 0, \"ticks\": \"\"}}, \"type\": \"scattergl\"}], \"scattermapbox\": [{\"marker\": {\"colorbar\": {\"outlinewidth\": 0, \"ticks\": \"\"}}, \"type\": \"scattermapbox\"}], \"scatterpolar\": [{\"marker\": {\"colorbar\": {\"outlinewidth\": 0, \"ticks\": \"\"}}, \"type\": \"scatterpolar\"}], \"scatterpolargl\": [{\"marker\": {\"colorbar\": {\"outlinewidth\": 0, \"ticks\": \"\"}}, \"type\": \"scatterpolargl\"}], \"scatterternary\": [{\"marker\": {\"colorbar\": {\"outlinewidth\": 0, \"ticks\": \"\"}}, \"type\": \"scatterternary\"}], \"surface\": [{\"colorbar\": {\"outlinewidth\": 0, \"ticks\": \"\"}, \"colorscale\": [[0.0, \"#0d0887\"], [0.1111111111111111, \"#46039f\"], [0.2222222222222222, \"#7201a8\"], [0.3333333333333333, \"#9c179e\"], [0.4444444444444444, \"#bd3786\"], [0.5555555555555556, \"#d8576b\"], [0.6666666666666666, \"#ed7953\"], [0.7777777777777778, \"#fb9f3a\"], [0.8888888888888888, \"#fdca26\"], [1.0, \"#f0f921\"]], \"type\": \"surface\"}], \"table\": [{\"cells\": {\"fill\": {\"color\": \"#EBF0F8\"}, \"line\": {\"color\": \"white\"}}, \"header\": {\"fill\": {\"color\": \"#C8D4E3\"}, \"line\": {\"color\": \"white\"}}, \"type\": \"table\"}]}, \"layout\": {\"annotationdefaults\": {\"arrowcolor\": \"#2a3f5f\", \"arrowhead\": 0, \"arrowwidth\": 1}, \"coloraxis\": {\"colorbar\": {\"outlinewidth\": 0, \"ticks\": \"\"}}, \"colorscale\": {\"diverging\": [[0, \"#8e0152\"], [0.1, \"#c51b7d\"], [0.2, \"#de77ae\"], [0.3, \"#f1b6da\"], [0.4, \"#fde0ef\"], [0.5, \"#f7f7f7\"], [0.6, \"#e6f5d0\"], [0.7, \"#b8e186\"], [0.8, \"#7fbc41\"], [0.9, \"#4d9221\"], [1, \"#276419\"]], \"sequential\": [[0.0, \"#0d0887\"], [0.1111111111111111, \"#46039f\"], [0.2222222222222222, \"#7201a8\"], [0.3333333333333333, \"#9c179e\"], [0.4444444444444444, \"#bd3786\"], [0.5555555555555556, \"#d8576b\"], [0.6666666666666666, \"#ed7953\"], [0.7777777777777778, \"#fb9f3a\"], [0.8888888888888888, \"#fdca26\"], [1.0, \"#f0f921\"]], \"sequentialminus\": [[0.0, \"#0d0887\"], [0.1111111111111111, \"#46039f\"], [0.2222222222222222, \"#7201a8\"], [0.3333333333333333, \"#9c179e\"], [0.4444444444444444, \"#bd3786\"], [0.5555555555555556, \"#d8576b\"], [0.6666666666666666, \"#ed7953\"], [0.7777777777777778, \"#fb9f3a\"], [0.8888888888888888, \"#fdca26\"], [1.0, \"#f0f921\"]]}, \"colorway\": [\"#636efa\", \"#EF553B\", \"#00cc96\", \"#ab63fa\", \"#FFA15A\", \"#19d3f3\", \"#FF6692\", \"#B6E880\", \"#FF97FF\", \"#FECB52\"], \"font\": {\"color\": \"#2a3f5f\"}, \"geo\": {\"bgcolor\": \"white\", \"lakecolor\": \"white\", \"landcolor\": \"white\", \"showlakes\": true, \"showland\": true, \"subunitcolor\": \"#C8D4E3\"}, \"hoverlabel\": {\"align\": \"left\"}, \"hovermode\": \"closest\", \"mapbox\": {\"style\": \"light\"}, \"paper_bgcolor\": \"white\", \"plot_bgcolor\": \"white\", \"polar\": {\"angularaxis\": {\"gridcolor\": \"#EBF0F8\", \"linecolor\": \"#EBF0F8\", \"ticks\": \"\"}, \"bgcolor\": \"white\", \"radialaxis\": {\"gridcolor\": \"#EBF0F8\", \"linecolor\": \"#EBF0F8\", \"ticks\": \"\"}}, \"scene\": {\"xaxis\": {\"backgroundcolor\": \"white\", \"gridcolor\": \"#DFE8F3\", \"gridwidth\": 2, \"linecolor\": \"#EBF0F8\", \"showbackground\": true, \"ticks\": \"\", \"zerolinecolor\": \"#EBF0F8\"}, \"yaxis\": {\"backgroundcolor\": \"white\", \"gridcolor\": \"#DFE8F3\", \"gridwidth\": 2, \"linecolor\": \"#EBF0F8\", \"showbackground\": true, \"ticks\": \"\", \"zerolinecolor\": \"#EBF0F8\"}, \"zaxis\": {\"backgroundcolor\": \"white\", \"gridcolor\": \"#DFE8F3\", \"gridwidth\": 2, \"linecolor\": \"#EBF0F8\", \"showbackground\": true, \"ticks\": \"\", \"zerolinecolor\": \"#EBF0F8\"}}, \"shapedefaults\": {\"line\": {\"color\": \"#2a3f5f\"}}, \"ternary\": {\"aaxis\": {\"gridcolor\": \"#DFE8F3\", \"linecolor\": \"#A2B1C6\", \"ticks\": \"\"}, \"baxis\": {\"gridcolor\": \"#DFE8F3\", \"linecolor\": \"#A2B1C6\", \"ticks\": \"\"}, \"bgcolor\": \"white\", \"caxis\": {\"gridcolor\": \"#DFE8F3\", \"linecolor\": \"#A2B1C6\", \"ticks\": \"\"}}, \"title\": {\"x\": 0.05}, \"xaxis\": {\"automargin\": true, \"gridcolor\": \"#EBF0F8\", \"linecolor\": \"#EBF0F8\", \"ticks\": \"\", \"title\": {\"standoff\": 15}, \"zerolinecolor\": \"#EBF0F8\", \"zerolinewidth\": 2}, \"yaxis\": {\"automargin\": true, \"gridcolor\": \"#EBF0F8\", \"linecolor\": \"#EBF0F8\", \"ticks\": \"\", \"title\": {\"standoff\": 15}, \"zerolinecolor\": \"#EBF0F8\", \"zerolinewidth\": 2}}}, \"title\": {\"text\": \"Scatter plot A/B test Click-Through-Rate over Time and Budget\"}, \"updatemenus\": [{\"buttons\": [{\"args\": [null, {\"frame\": {\"duration\": 500, \"redraw\": false}, \"fromcurrent\": true, \"mode\": \"immediate\", \"transition\": {\"duration\": 500, \"easing\": \"linear\"}}], \"label\": \"&#9654;\", \"method\": \"animate\"}, {\"args\": [[null], {\"frame\": {\"duration\": 0, \"redraw\": false}, \"fromcurrent\": true, \"mode\": \"immediate\", \"transition\": {\"duration\": 0, \"easing\": \"linear\"}}], \"label\": \"&#9724;\", \"method\": \"animate\"}], \"direction\": \"left\", \"pad\": {\"r\": 10, \"t\": 70}, \"showactive\": false, \"type\": \"buttons\", \"x\": 0.1, \"xanchor\": \"right\", \"y\": 0, \"yanchor\": \"top\"}], \"width\": 1000, \"xaxis\": {\"anchor\": \"y\", \"domain\": [0.0, 1.0], \"range\": [0, 1300], \"title\": {\"text\": \"Total Spend in CAD\"}}, \"yaxis\": {\"anchor\": \"x\", \"domain\": [0.0, 1.0], \"range\": [0, 200], \"title\": {\"text\": \"Clicks\"}}},\n",
       "                        {\"responsive\": true}\n",
       "                    ).then(function(){\n",
       "                            Plotly.addFrames('94f28fc5-0b49-4017-b4be-53f16e4b1319', [{\"data\": [{\"hovertemplate\": \"Creative Name=LinkedIn1-1<br>Day=1<br>Total Spend in CAD=%{x}<br>Clicks=%{y}<br>Impressions=%{marker.size}<extra></extra>\", \"legendgroup\": \"LinkedIn1-1\", \"marker\": {\"color\": \"#636efa\", \"size\": [635], \"sizemode\": \"area\", \"sizeref\": 15.58909090909091, \"symbol\": \"circle\"}, \"mode\": \"markers\", \"name\": \"LinkedIn1-1\", \"orientation\": \"v\", \"showlegend\": true, \"x\": [13.54], \"xaxis\": \"x\", \"y\": [4], \"yaxis\": \"y\", \"type\": \"scatter\"}, {\"hovertemplate\": \"Creative Name=Linkedin 2-2<br>Day=1<br>Total Spend in CAD=%{x}<br>Clicks=%{y}<br>Impressions=%{marker.size}<extra></extra>\", \"legendgroup\": \"Linkedin 2-2\", \"marker\": {\"color\": \"#EF553B\", \"size\": [712], \"sizemode\": \"area\", \"sizeref\": 15.58909090909091, \"symbol\": \"circle\"}, \"mode\": \"markers\", \"name\": \"Linkedin 2-2\", \"orientation\": \"v\", \"showlegend\": true, \"x\": [26.34], \"xaxis\": \"x\", \"y\": [3], \"yaxis\": \"y\", \"type\": \"scatter\"}, {\"hovertemplate\": \"Creative Name=Linkedin 2-1<br>Day=1<br>Total Spend in CAD=%{x}<br>Clicks=%{y}<br>Impressions=%{marker.size}<extra></extra>\", \"legendgroup\": \"Linkedin 2-1\", \"marker\": {\"color\": \"#00cc96\", \"size\": [687], \"sizemode\": \"area\", \"sizeref\": 15.58909090909091, \"symbol\": \"circle\"}, \"mode\": \"markers\", \"name\": \"Linkedin 2-1\", \"orientation\": \"v\", \"showlegend\": true, \"x\": [16.94], \"xaxis\": \"x\", \"y\": [5], \"yaxis\": \"y\", \"type\": \"scatter\"}, {\"hovertemplate\": \"Creative Name=Linkedin 1-2<br>Day=1<br>Total Spend in CAD=%{x}<br>Clicks=%{y}<br>Impressions=%{marker.size}<extra></extra>\", \"legendgroup\": \"Linkedin 1-2\", \"marker\": {\"color\": \"#ab63fa\", \"size\": [1099], \"sizemode\": \"area\", \"sizeref\": 15.58909090909091, \"symbol\": \"circle\"}, \"mode\": \"markers\", \"name\": \"Linkedin 1-2\", \"orientation\": \"v\", \"showlegend\": true, \"x\": [19.94], \"xaxis\": \"x\", \"y\": [5], \"yaxis\": \"y\", \"type\": \"scatter\"}], \"name\": \"1\"}, {\"data\": [{\"hovertemplate\": \"Creative Name=LinkedIn1-1<br>Day=2<br>Total Spend in CAD=%{x}<br>Clicks=%{y}<br>Impressions=%{marker.size}<extra></extra>\", \"legendgroup\": \"LinkedIn1-1\", \"marker\": {\"color\": \"#636efa\", \"size\": [1248], \"sizemode\": \"area\", \"sizeref\": 15.58909090909091, \"symbol\": \"circle\"}, \"mode\": \"markers\", \"name\": \"LinkedIn1-1\", \"orientation\": \"v\", \"showlegend\": true, \"x\": [29.73], \"xaxis\": \"x\", \"y\": [8], \"yaxis\": \"y\", \"type\": \"scatter\"}, {\"hovertemplate\": \"Creative Name=Linkedin 2-2<br>Day=2<br>Total Spend in CAD=%{x}<br>Clicks=%{y}<br>Impressions=%{marker.size}<extra></extra>\", \"legendgroup\": \"Linkedin 2-2\", \"marker\": {\"color\": \"#EF553B\", \"size\": [1170], \"sizemode\": \"area\", \"sizeref\": 15.58909090909091, \"symbol\": \"circle\"}, \"mode\": \"markers\", \"name\": \"Linkedin 2-2\", \"orientation\": \"v\", \"showlegend\": true, \"x\": [38.13], \"xaxis\": \"x\", \"y\": [4], \"yaxis\": \"y\", \"type\": \"scatter\"}, {\"hovertemplate\": \"Creative Name=Linkedin 2-1<br>Day=2<br>Total Spend in CAD=%{x}<br>Clicks=%{y}<br>Impressions=%{marker.size}<extra></extra>\", \"legendgroup\": \"Linkedin 2-1\", \"marker\": {\"color\": \"#00cc96\", \"size\": [1366], \"sizemode\": \"area\", \"sizeref\": 15.58909090909091, \"symbol\": \"circle\"}, \"mode\": \"markers\", \"name\": \"Linkedin 2-1\", \"orientation\": \"v\", \"showlegend\": true, \"x\": [36.32], \"xaxis\": \"x\", \"y\": [9], \"yaxis\": \"y\", \"type\": \"scatter\"}, {\"hovertemplate\": \"Creative Name=Linkedin 1-2<br>Day=2<br>Total Spend in CAD=%{x}<br>Clicks=%{y}<br>Impressions=%{marker.size}<extra></extra>\", \"legendgroup\": \"Linkedin 1-2\", \"marker\": {\"color\": \"#ab63fa\", \"size\": [2134], \"sizemode\": \"area\", \"sizeref\": 15.58909090909091, \"symbol\": \"circle\"}, \"mode\": \"markers\", \"name\": \"Linkedin 1-2\", \"orientation\": \"v\", \"showlegend\": true, \"x\": [38.41], \"xaxis\": \"x\", \"y\": [9], \"yaxis\": \"y\", \"type\": \"scatter\"}], \"name\": \"2\"}, {\"data\": [{\"hovertemplate\": \"Creative Name=LinkedIn1-1<br>Day=3<br>Total Spend in CAD=%{x}<br>Clicks=%{y}<br>Impressions=%{marker.size}<extra></extra>\", \"legendgroup\": \"LinkedIn1-1\", \"marker\": {\"color\": \"#636efa\", \"size\": [1822], \"sizemode\": \"area\", \"sizeref\": 15.58909090909091, \"symbol\": \"circle\"}, \"mode\": \"markers\", \"name\": \"LinkedIn1-1\", \"orientation\": \"v\", \"showlegend\": true, \"x\": [47.12], \"xaxis\": \"x\", \"y\": [13], \"yaxis\": \"y\", \"type\": \"scatter\"}, {\"hovertemplate\": \"Creative Name=Linkedin 2-2<br>Day=3<br>Total Spend in CAD=%{x}<br>Clicks=%{y}<br>Impressions=%{marker.size}<extra></extra>\", \"legendgroup\": \"Linkedin 2-2\", \"marker\": {\"color\": \"#EF553B\", \"size\": [1668], \"sizemode\": \"area\", \"sizeref\": 15.58909090909091, \"symbol\": \"circle\"}, \"mode\": \"markers\", \"name\": \"Linkedin 2-2\", \"orientation\": \"v\", \"showlegend\": true, \"x\": [51.9], \"xaxis\": \"x\", \"y\": [4], \"yaxis\": \"y\", \"type\": \"scatter\"}, {\"hovertemplate\": \"Creative Name=Linkedin 2-1<br>Day=3<br>Total Spend in CAD=%{x}<br>Clicks=%{y}<br>Impressions=%{marker.size}<extra></extra>\", \"legendgroup\": \"Linkedin 2-1\", \"marker\": {\"color\": \"#00cc96\", \"size\": [2041], \"sizemode\": \"area\", \"sizeref\": 15.58909090909091, \"symbol\": \"circle\"}, \"mode\": \"markers\", \"name\": \"Linkedin 2-1\", \"orientation\": \"v\", \"showlegend\": true, \"x\": [57.21], \"xaxis\": \"x\", \"y\": [10], \"yaxis\": \"y\", \"type\": \"scatter\"}, {\"hovertemplate\": \"Creative Name=Linkedin 1-2<br>Day=3<br>Total Spend in CAD=%{x}<br>Clicks=%{y}<br>Impressions=%{marker.size}<extra></extra>\", \"legendgroup\": \"Linkedin 1-2\", \"marker\": {\"color\": \"#ab63fa\", \"size\": [3159], \"sizemode\": \"area\", \"sizeref\": 15.58909090909091, \"symbol\": \"circle\"}, \"mode\": \"markers\", \"name\": \"Linkedin 1-2\", \"orientation\": \"v\", \"showlegend\": true, \"x\": [54.06], \"xaxis\": \"x\", \"y\": [14], \"yaxis\": \"y\", \"type\": \"scatter\"}], \"name\": \"3\"}, {\"data\": [{\"hovertemplate\": \"Creative Name=LinkedIn1-1<br>Day=4<br>Total Spend in CAD=%{x}<br>Clicks=%{y}<br>Impressions=%{marker.size}<extra></extra>\", \"legendgroup\": \"LinkedIn1-1\", \"marker\": {\"color\": \"#636efa\", \"size\": [2421], \"sizemode\": \"area\", \"sizeref\": 15.58909090909091, \"symbol\": \"circle\"}, \"mode\": \"markers\", \"name\": \"LinkedIn1-1\", \"orientation\": \"v\", \"showlegend\": true, \"x\": [66.37], \"xaxis\": \"x\", \"y\": [14], \"yaxis\": \"y\", \"type\": \"scatter\"}, {\"hovertemplate\": \"Creative Name=Linkedin 2-2<br>Day=4<br>Total Spend in CAD=%{x}<br>Clicks=%{y}<br>Impressions=%{marker.size}<extra></extra>\", \"legendgroup\": \"Linkedin 2-2\", \"marker\": {\"color\": \"#EF553B\", \"size\": [2379], \"sizemode\": \"area\", \"sizeref\": 15.58909090909091, \"symbol\": \"circle\"}, \"mode\": \"markers\", \"name\": \"Linkedin 2-2\", \"orientation\": \"v\", \"showlegend\": true, \"x\": [64.6], \"xaxis\": \"x\", \"y\": [4], \"yaxis\": \"y\", \"type\": \"scatter\"}, {\"hovertemplate\": \"Creative Name=Linkedin 2-1<br>Day=4<br>Total Spend in CAD=%{x}<br>Clicks=%{y}<br>Impressions=%{marker.size}<extra></extra>\", \"legendgroup\": \"Linkedin 2-1\", \"marker\": {\"color\": \"#00cc96\", \"size\": [2702], \"sizemode\": \"area\", \"sizeref\": 15.58909090909091, \"symbol\": \"circle\"}, \"mode\": \"markers\", \"name\": \"Linkedin 2-1\", \"orientation\": \"v\", \"showlegend\": true, \"x\": [79.09], \"xaxis\": \"x\", \"y\": [12], \"yaxis\": \"y\", \"type\": \"scatter\"}, {\"hovertemplate\": \"Creative Name=Linkedin 1-2<br>Day=4<br>Total Spend in CAD=%{x}<br>Clicks=%{y}<br>Impressions=%{marker.size}<extra></extra>\", \"legendgroup\": \"Linkedin 1-2\", \"marker\": {\"color\": \"#ab63fa\", \"size\": [3574], \"sizemode\": \"area\", \"sizeref\": 15.58909090909091, \"symbol\": \"circle\"}, \"mode\": \"markers\", \"name\": \"Linkedin 1-2\", \"orientation\": \"v\", \"showlegend\": true, \"x\": [64.37], \"xaxis\": \"x\", \"y\": [15], \"yaxis\": \"y\", \"type\": \"scatter\"}], \"name\": \"4\"}, {\"data\": [{\"hovertemplate\": \"Creative Name=LinkedIn1-1<br>Day=5<br>Total Spend in CAD=%{x}<br>Clicks=%{y}<br>Impressions=%{marker.size}<extra></extra>\", \"legendgroup\": \"LinkedIn1-1\", \"marker\": {\"color\": \"#636efa\", \"size\": [3071], \"sizemode\": \"area\", \"sizeref\": 15.58909090909091, \"symbol\": \"circle\"}, \"mode\": \"markers\", \"name\": \"LinkedIn1-1\", \"orientation\": \"v\", \"showlegend\": true, \"x\": [87.86], \"xaxis\": \"x\", \"y\": [20], \"yaxis\": \"y\", \"type\": \"scatter\"}, {\"hovertemplate\": \"Creative Name=Linkedin 2-2<br>Day=5<br>Total Spend in CAD=%{x}<br>Clicks=%{y}<br>Impressions=%{marker.size}<extra></extra>\", \"legendgroup\": \"Linkedin 2-2\", \"marker\": {\"color\": \"#EF553B\", \"size\": [3017], \"sizemode\": \"area\", \"sizeref\": 15.58909090909091, \"symbol\": \"circle\"}, \"mode\": \"markers\", \"name\": \"Linkedin 2-2\", \"orientation\": \"v\", \"showlegend\": true, \"x\": [79.28], \"xaxis\": \"x\", \"y\": [6], \"yaxis\": \"y\", \"type\": \"scatter\"}, {\"hovertemplate\": \"Creative Name=Linkedin 2-1<br>Day=5<br>Total Spend in CAD=%{x}<br>Clicks=%{y}<br>Impressions=%{marker.size}<extra></extra>\", \"legendgroup\": \"Linkedin 2-1\", \"marker\": {\"color\": \"#00cc96\", \"size\": [3310], \"sizemode\": \"area\", \"sizeref\": 15.58909090909091, \"symbol\": \"circle\"}, \"mode\": \"markers\", \"name\": \"Linkedin 2-1\", \"orientation\": \"v\", \"showlegend\": true, \"x\": [97.91], \"xaxis\": \"x\", \"y\": [16], \"yaxis\": \"y\", \"type\": \"scatter\"}, {\"hovertemplate\": \"Creative Name=Linkedin 1-2<br>Day=5<br>Total Spend in CAD=%{x}<br>Clicks=%{y}<br>Impressions=%{marker.size}<extra></extra>\", \"legendgroup\": \"Linkedin 1-2\", \"marker\": {\"color\": \"#ab63fa\", \"size\": [4022], \"sizemode\": \"area\", \"sizeref\": 15.58909090909091, \"symbol\": \"circle\"}, \"mode\": \"markers\", \"name\": \"Linkedin 1-2\", \"orientation\": \"v\", \"showlegend\": true, \"x\": [76.45], \"xaxis\": \"x\", \"y\": [18], \"yaxis\": \"y\", \"type\": \"scatter\"}], \"name\": \"5\"}, {\"data\": [{\"hovertemplate\": \"Creative Name=LinkedIn1-1<br>Day=6<br>Total Spend in CAD=%{x}<br>Clicks=%{y}<br>Impressions=%{marker.size}<extra></extra>\", \"legendgroup\": \"LinkedIn1-1\", \"marker\": {\"color\": \"#636efa\", \"size\": [3846], \"sizemode\": \"area\", \"sizeref\": 15.58909090909091, \"symbol\": \"circle\"}, \"mode\": \"markers\", \"name\": \"LinkedIn1-1\", \"orientation\": \"v\", \"showlegend\": true, \"x\": [109.27], \"xaxis\": \"x\", \"y\": [22], \"yaxis\": \"y\", \"type\": \"scatter\"}, {\"hovertemplate\": \"Creative Name=Linkedin 2-2<br>Day=6<br>Total Spend in CAD=%{x}<br>Clicks=%{y}<br>Impressions=%{marker.size}<extra></extra>\", \"legendgroup\": \"Linkedin 2-2\", \"marker\": {\"color\": \"#EF553B\", \"size\": [3931], \"sizemode\": \"area\", \"sizeref\": 15.58909090909091, \"symbol\": \"circle\"}, \"mode\": \"markers\", \"name\": \"Linkedin 2-2\", \"orientation\": \"v\", \"showlegend\": true, \"x\": [94.57], \"xaxis\": \"x\", \"y\": [6], \"yaxis\": \"y\", \"type\": \"scatter\"}, {\"hovertemplate\": \"Creative Name=Linkedin 2-1<br>Day=6<br>Total Spend in CAD=%{x}<br>Clicks=%{y}<br>Impressions=%{marker.size}<extra></extra>\", \"legendgroup\": \"Linkedin 2-1\", \"marker\": {\"color\": \"#00cc96\", \"size\": [3929], \"sizemode\": \"area\", \"sizeref\": 15.58909090909091, \"symbol\": \"circle\"}, \"mode\": \"markers\", \"name\": \"Linkedin 2-1\", \"orientation\": \"v\", \"showlegend\": true, \"x\": [113.08], \"xaxis\": \"x\", \"y\": [18], \"yaxis\": \"y\", \"type\": \"scatter\"}, {\"hovertemplate\": \"Creative Name=Linkedin 1-2<br>Day=6<br>Total Spend in CAD=%{x}<br>Clicks=%{y}<br>Impressions=%{marker.size}<extra></extra>\", \"legendgroup\": \"Linkedin 1-2\", \"marker\": {\"color\": \"#ab63fa\", \"size\": [4590], \"sizemode\": \"area\", \"sizeref\": 15.58909090909091, \"symbol\": \"circle\"}, \"mode\": \"markers\", \"name\": \"Linkedin 1-2\", \"orientation\": \"v\", \"showlegend\": true, \"x\": [91.08], \"xaxis\": \"x\", \"y\": [21], \"yaxis\": \"y\", \"type\": \"scatter\"}], \"name\": \"6\"}, {\"data\": [{\"hovertemplate\": \"Creative Name=LinkedIn1-1<br>Day=7<br>Total Spend in CAD=%{x}<br>Clicks=%{y}<br>Impressions=%{marker.size}<extra></extra>\", \"legendgroup\": \"LinkedIn1-1\", \"marker\": {\"color\": \"#636efa\", \"size\": [4654], \"sizemode\": \"area\", \"sizeref\": 15.58909090909091, \"symbol\": \"circle\"}, \"mode\": \"markers\", \"name\": \"LinkedIn1-1\", \"orientation\": \"v\", \"showlegend\": true, \"x\": [131.65], \"xaxis\": \"x\", \"y\": [24], \"yaxis\": \"y\", \"type\": \"scatter\"}, {\"hovertemplate\": \"Creative Name=Linkedin 2-2<br>Day=7<br>Total Spend in CAD=%{x}<br>Clicks=%{y}<br>Impressions=%{marker.size}<extra></extra>\", \"legendgroup\": \"Linkedin 2-2\", \"marker\": {\"color\": \"#EF553B\", \"size\": [4936], \"sizemode\": \"area\", \"sizeref\": 15.58909090909091, \"symbol\": \"circle\"}, \"mode\": \"markers\", \"name\": \"Linkedin 2-2\", \"orientation\": \"v\", \"showlegend\": true, \"x\": [108.17], \"xaxis\": \"x\", \"y\": [9], \"yaxis\": \"y\", \"type\": \"scatter\"}, {\"hovertemplate\": \"Creative Name=Linkedin 2-1<br>Day=7<br>Total Spend in CAD=%{x}<br>Clicks=%{y}<br>Impressions=%{marker.size}<extra></extra>\", \"legendgroup\": \"Linkedin 2-1\", \"marker\": {\"color\": \"#00cc96\", \"size\": [4557], \"sizemode\": \"area\", \"sizeref\": 15.58909090909091, \"symbol\": \"circle\"}, \"mode\": \"markers\", \"name\": \"Linkedin 2-1\", \"orientation\": \"v\", \"showlegend\": true, \"x\": [128.03], \"xaxis\": \"x\", \"y\": [20], \"yaxis\": \"y\", \"type\": \"scatter\"}, {\"hovertemplate\": \"Creative Name=Linkedin 1-2<br>Day=7<br>Total Spend in CAD=%{x}<br>Clicks=%{y}<br>Impressions=%{marker.size}<extra></extra>\", \"legendgroup\": \"Linkedin 1-2\", \"marker\": {\"color\": \"#ab63fa\", \"size\": [5103], \"sizemode\": \"area\", \"sizeref\": 15.58909090909091, \"symbol\": \"circle\"}, \"mode\": \"markers\", \"name\": \"Linkedin 1-2\", \"orientation\": \"v\", \"showlegend\": true, \"x\": [103.79], \"xaxis\": \"x\", \"y\": [21], \"yaxis\": \"y\", \"type\": \"scatter\"}], \"name\": \"7\"}, {\"data\": [{\"hovertemplate\": \"Creative Name=LinkedIn1-1<br>Day=8<br>Total Spend in CAD=%{x}<br>Clicks=%{y}<br>Impressions=%{marker.size}<extra></extra>\", \"legendgroup\": \"LinkedIn1-1\", \"marker\": {\"color\": \"#636efa\", \"size\": [5504], \"sizemode\": \"area\", \"sizeref\": 15.58909090909091, \"symbol\": \"circle\"}, \"mode\": \"markers\", \"name\": \"LinkedIn1-1\", \"orientation\": \"v\", \"showlegend\": true, \"x\": [157.42], \"xaxis\": \"x\", \"y\": [27], \"yaxis\": \"y\", \"type\": \"scatter\"}, {\"hovertemplate\": \"Creative Name=Linkedin 2-2<br>Day=8<br>Total Spend in CAD=%{x}<br>Clicks=%{y}<br>Impressions=%{marker.size}<extra></extra>\", \"legendgroup\": \"Linkedin 2-2\", \"marker\": {\"color\": \"#EF553B\", \"size\": [5741], \"sizemode\": \"area\", \"sizeref\": 15.58909090909091, \"symbol\": \"circle\"}, \"mode\": \"markers\", \"name\": \"Linkedin 2-2\", \"orientation\": \"v\", \"showlegend\": true, \"x\": [124.78], \"xaxis\": \"x\", \"y\": [13], \"yaxis\": \"y\", \"type\": \"scatter\"}, {\"hovertemplate\": \"Creative Name=Linkedin 2-1<br>Day=8<br>Total Spend in CAD=%{x}<br>Clicks=%{y}<br>Impressions=%{marker.size}<extra></extra>\", \"legendgroup\": \"Linkedin 2-1\", \"marker\": {\"color\": \"#00cc96\", \"size\": [5089], \"sizemode\": \"area\", \"sizeref\": 15.58909090909091, \"symbol\": \"circle\"}, \"mode\": \"markers\", \"name\": \"Linkedin 2-1\", \"orientation\": \"v\", \"showlegend\": true, \"x\": [141.98], \"xaxis\": \"x\", \"y\": [20], \"yaxis\": \"y\", \"type\": \"scatter\"}, {\"hovertemplate\": \"Creative Name=Linkedin 1-2<br>Day=8<br>Total Spend in CAD=%{x}<br>Clicks=%{y}<br>Impressions=%{marker.size}<extra></extra>\", \"legendgroup\": \"Linkedin 1-2\", \"marker\": {\"color\": \"#ab63fa\", \"size\": [5627], \"sizemode\": \"area\", \"sizeref\": 15.58909090909091, \"symbol\": \"circle\"}, \"mode\": \"markers\", \"name\": \"Linkedin 1-2\", \"orientation\": \"v\", \"showlegend\": true, \"x\": [115.81], \"xaxis\": \"x\", \"y\": [21], \"yaxis\": \"y\", \"type\": \"scatter\"}], \"name\": \"8\"}, {\"data\": [{\"hovertemplate\": \"Creative Name=LinkedIn1-1<br>Day=9<br>Total Spend in CAD=%{x}<br>Clicks=%{y}<br>Impressions=%{marker.size}<extra></extra>\", \"legendgroup\": \"LinkedIn1-1\", \"marker\": {\"color\": \"#636efa\", \"size\": [6252], \"sizemode\": \"area\", \"sizeref\": 15.58909090909091, \"symbol\": \"circle\"}, \"mode\": \"markers\", \"name\": \"LinkedIn1-1\", \"orientation\": \"v\", \"showlegend\": true, \"x\": [177.51], \"xaxis\": \"x\", \"y\": [27], \"yaxis\": \"y\", \"type\": \"scatter\"}, {\"hovertemplate\": \"Creative Name=Linkedin 2-2<br>Day=9<br>Total Spend in CAD=%{x}<br>Clicks=%{y}<br>Impressions=%{marker.size}<extra></extra>\", \"legendgroup\": \"Linkedin 2-2\", \"marker\": {\"color\": \"#EF553B\", \"size\": [6610], \"sizemode\": \"area\", \"sizeref\": 15.58909090909091, \"symbol\": \"circle\"}, \"mode\": \"markers\", \"name\": \"Linkedin 2-2\", \"orientation\": \"v\", \"showlegend\": true, \"x\": [142.36], \"xaxis\": \"x\", \"y\": [16], \"yaxis\": \"y\", \"type\": \"scatter\"}, {\"hovertemplate\": \"Creative Name=Linkedin 2-1<br>Day=9<br>Total Spend in CAD=%{x}<br>Clicks=%{y}<br>Impressions=%{marker.size}<extra></extra>\", \"legendgroup\": \"Linkedin 2-1\", \"marker\": {\"color\": \"#00cc96\", \"size\": [5725], \"sizemode\": \"area\", \"sizeref\": 15.58909090909091, \"symbol\": \"circle\"}, \"mode\": \"markers\", \"name\": \"Linkedin 2-1\", \"orientation\": \"v\", \"showlegend\": true, \"x\": [157.69], \"xaxis\": \"x\", \"y\": [20], \"yaxis\": \"y\", \"type\": \"scatter\"}, {\"hovertemplate\": \"Creative Name=Linkedin 1-2<br>Day=9<br>Total Spend in CAD=%{x}<br>Clicks=%{y}<br>Impressions=%{marker.size}<extra></extra>\", \"legendgroup\": \"Linkedin 1-2\", \"marker\": {\"color\": \"#ab63fa\", \"size\": [6156], \"sizemode\": \"area\", \"sizeref\": 15.58909090909091, \"symbol\": \"circle\"}, \"mode\": \"markers\", \"name\": \"Linkedin 1-2\", \"orientation\": \"v\", \"showlegend\": true, \"x\": [128.85], \"xaxis\": \"x\", \"y\": [23], \"yaxis\": \"y\", \"type\": \"scatter\"}], \"name\": \"9\"}, {\"data\": [{\"hovertemplate\": \"Creative Name=LinkedIn1-1<br>Day=10<br>Total Spend in CAD=%{x}<br>Clicks=%{y}<br>Impressions=%{marker.size}<extra></extra>\", \"legendgroup\": \"LinkedIn1-1\", \"marker\": {\"color\": \"#636efa\", \"size\": [6906], \"sizemode\": \"area\", \"sizeref\": 15.58909090909091, \"symbol\": \"circle\"}, \"mode\": \"markers\", \"name\": \"LinkedIn1-1\", \"orientation\": \"v\", \"showlegend\": true, \"x\": [194.64], \"xaxis\": \"x\", \"y\": [29], \"yaxis\": \"y\", \"type\": \"scatter\"}, {\"hovertemplate\": \"Creative Name=Linkedin 2-2<br>Day=10<br>Total Spend in CAD=%{x}<br>Clicks=%{y}<br>Impressions=%{marker.size}<extra></extra>\", \"legendgroup\": \"Linkedin 2-2\", \"marker\": {\"color\": \"#EF553B\", \"size\": [7444], \"sizemode\": \"area\", \"sizeref\": 15.58909090909091, \"symbol\": \"circle\"}, \"mode\": \"markers\", \"name\": \"Linkedin 2-2\", \"orientation\": \"v\", \"showlegend\": true, \"x\": [158.41], \"xaxis\": \"x\", \"y\": [18], \"yaxis\": \"y\", \"type\": \"scatter\"}, {\"hovertemplate\": \"Creative Name=Linkedin 2-1<br>Day=10<br>Total Spend in CAD=%{x}<br>Clicks=%{y}<br>Impressions=%{marker.size}<extra></extra>\", \"legendgroup\": \"Linkedin 2-1\", \"marker\": {\"color\": \"#00cc96\", \"size\": [6394], \"sizemode\": \"area\", \"sizeref\": 15.58909090909091, \"symbol\": \"circle\"}, \"mode\": \"markers\", \"name\": \"Linkedin 2-1\", \"orientation\": \"v\", \"showlegend\": true, \"x\": [175.2], \"xaxis\": \"x\", \"y\": [22], \"yaxis\": \"y\", \"type\": \"scatter\"}, {\"hovertemplate\": \"Creative Name=Linkedin 1-2<br>Day=10<br>Total Spend in CAD=%{x}<br>Clicks=%{y}<br>Impressions=%{marker.size}<extra></extra>\", \"legendgroup\": \"Linkedin 1-2\", \"marker\": {\"color\": \"#ab63fa\", \"size\": [6768], \"sizemode\": \"area\", \"sizeref\": 15.58909090909091, \"symbol\": \"circle\"}, \"mode\": \"markers\", \"name\": \"Linkedin 1-2\", \"orientation\": \"v\", \"showlegend\": true, \"x\": [142.03], \"xaxis\": \"x\", \"y\": [26], \"yaxis\": \"y\", \"type\": \"scatter\"}], \"name\": \"10\"}, {\"data\": [{\"hovertemplate\": \"Creative Name=LinkedIn1-1<br>Day=11<br>Total Spend in CAD=%{x}<br>Clicks=%{y}<br>Impressions=%{marker.size}<extra></extra>\", \"legendgroup\": \"LinkedIn1-1\", \"marker\": {\"color\": \"#636efa\", \"size\": [7432], \"sizemode\": \"area\", \"sizeref\": 15.58909090909091, \"symbol\": \"circle\"}, \"mode\": \"markers\", \"name\": \"LinkedIn1-1\", \"orientation\": \"v\", \"showlegend\": true, \"x\": [208.82], \"xaxis\": \"x\", \"y\": [31], \"yaxis\": \"y\", \"type\": \"scatter\"}, {\"hovertemplate\": \"Creative Name=Linkedin 2-2<br>Day=11<br>Total Spend in CAD=%{x}<br>Clicks=%{y}<br>Impressions=%{marker.size}<extra></extra>\", \"legendgroup\": \"Linkedin 2-2\", \"marker\": {\"color\": \"#EF553B\", \"size\": [8095], \"sizemode\": \"area\", \"sizeref\": 15.58909090909091, \"symbol\": \"circle\"}, \"mode\": \"markers\", \"name\": \"Linkedin 2-2\", \"orientation\": \"v\", \"showlegend\": true, \"x\": [176.09], \"xaxis\": \"x\", \"y\": [18], \"yaxis\": \"y\", \"type\": \"scatter\"}, {\"hovertemplate\": \"Creative Name=Linkedin 2-1<br>Day=11<br>Total Spend in CAD=%{x}<br>Clicks=%{y}<br>Impressions=%{marker.size}<extra></extra>\", \"legendgroup\": \"Linkedin 2-1\", \"marker\": {\"color\": \"#00cc96\", \"size\": [7213], \"sizemode\": \"area\", \"sizeref\": 15.58909090909091, \"symbol\": \"circle\"}, \"mode\": \"markers\", \"name\": \"Linkedin 2-1\", \"orientation\": \"v\", \"showlegend\": true, \"x\": [197.42], \"xaxis\": \"x\", \"y\": [27], \"yaxis\": \"y\", \"type\": \"scatter\"}, {\"hovertemplate\": \"Creative Name=Linkedin 1-2<br>Day=11<br>Total Spend in CAD=%{x}<br>Clicks=%{y}<br>Impressions=%{marker.size}<extra></extra>\", \"legendgroup\": \"Linkedin 1-2\", \"marker\": {\"color\": \"#ab63fa\", \"size\": [7288], \"sizemode\": \"area\", \"sizeref\": 15.58909090909091, \"symbol\": \"circle\"}, \"mode\": \"markers\", \"name\": \"Linkedin 1-2\", \"orientation\": \"v\", \"showlegend\": true, \"x\": [154.81], \"xaxis\": \"x\", \"y\": [29], \"yaxis\": \"y\", \"type\": \"scatter\"}], \"name\": \"11\"}, {\"data\": [{\"hovertemplate\": \"Creative Name=LinkedIn1-1<br>Day=12<br>Total Spend in CAD=%{x}<br>Clicks=%{y}<br>Impressions=%{marker.size}<extra></extra>\", \"legendgroup\": \"LinkedIn1-1\", \"marker\": {\"color\": \"#636efa\", \"size\": [7956], \"sizemode\": \"area\", \"sizeref\": 15.58909090909091, \"symbol\": \"circle\"}, \"mode\": \"markers\", \"name\": \"LinkedIn1-1\", \"orientation\": \"v\", \"showlegend\": true, \"x\": [221.95], \"xaxis\": \"x\", \"y\": [32], \"yaxis\": \"y\", \"type\": \"scatter\"}, {\"hovertemplate\": \"Creative Name=Linkedin 2-2<br>Day=12<br>Total Spend in CAD=%{x}<br>Clicks=%{y}<br>Impressions=%{marker.size}<extra></extra>\", \"legendgroup\": \"Linkedin 2-2\", \"marker\": {\"color\": \"#EF553B\", \"size\": [8847], \"sizemode\": \"area\", \"sizeref\": 15.58909090909091, \"symbol\": \"circle\"}, \"mode\": \"markers\", \"name\": \"Linkedin 2-2\", \"orientation\": \"v\", \"showlegend\": true, \"x\": [191.18], \"xaxis\": \"x\", \"y\": [24], \"yaxis\": \"y\", \"type\": \"scatter\"}, {\"hovertemplate\": \"Creative Name=Linkedin 2-1<br>Day=12<br>Total Spend in CAD=%{x}<br>Clicks=%{y}<br>Impressions=%{marker.size}<extra></extra>\", \"legendgroup\": \"Linkedin 2-1\", \"marker\": {\"color\": \"#00cc96\", \"size\": [7922], \"sizemode\": \"area\", \"sizeref\": 15.58909090909091, \"symbol\": \"circle\"}, \"mode\": \"markers\", \"name\": \"Linkedin 2-1\", \"orientation\": \"v\", \"showlegend\": true, \"x\": [218.5], \"xaxis\": \"x\", \"y\": [29], \"yaxis\": \"y\", \"type\": \"scatter\"}, {\"hovertemplate\": \"Creative Name=Linkedin 1-2<br>Day=12<br>Total Spend in CAD=%{x}<br>Clicks=%{y}<br>Impressions=%{marker.size}<extra></extra>\", \"legendgroup\": \"Linkedin 1-2\", \"marker\": {\"color\": \"#ab63fa\", \"size\": [7805], \"sizemode\": \"area\", \"sizeref\": 15.58909090909091, \"symbol\": \"circle\"}, \"mode\": \"markers\", \"name\": \"Linkedin 1-2\", \"orientation\": \"v\", \"showlegend\": true, \"x\": [168.51], \"xaxis\": \"x\", \"y\": [29], \"yaxis\": \"y\", \"type\": \"scatter\"}], \"name\": \"12\"}, {\"data\": [{\"hovertemplate\": \"Creative Name=LinkedIn1-1<br>Day=13<br>Total Spend in CAD=%{x}<br>Clicks=%{y}<br>Impressions=%{marker.size}<extra></extra>\", \"legendgroup\": \"LinkedIn1-1\", \"marker\": {\"color\": \"#636efa\", \"size\": [8523], \"sizemode\": \"area\", \"sizeref\": 15.58909090909091, \"symbol\": \"circle\"}, \"mode\": \"markers\", \"name\": \"LinkedIn1-1\", \"orientation\": \"v\", \"showlegend\": true, \"x\": [235.57], \"xaxis\": \"x\", \"y\": [33], \"yaxis\": \"y\", \"type\": \"scatter\"}, {\"hovertemplate\": \"Creative Name=Linkedin 2-2<br>Day=13<br>Total Spend in CAD=%{x}<br>Clicks=%{y}<br>Impressions=%{marker.size}<extra></extra>\", \"legendgroup\": \"Linkedin 2-2\", \"marker\": {\"color\": \"#EF553B\", \"size\": [9612], \"sizemode\": \"area\", \"sizeref\": 15.58909090909091, \"symbol\": \"circle\"}, \"mode\": \"markers\", \"name\": \"Linkedin 2-2\", \"orientation\": \"v\", \"showlegend\": true, \"x\": [209.63], \"xaxis\": \"x\", \"y\": [26], \"yaxis\": \"y\", \"type\": \"scatter\"}, {\"hovertemplate\": \"Creative Name=Linkedin 2-1<br>Day=13<br>Total Spend in CAD=%{x}<br>Clicks=%{y}<br>Impressions=%{marker.size}<extra></extra>\", \"legendgroup\": \"Linkedin 2-1\", \"marker\": {\"color\": \"#00cc96\", \"size\": [8824], \"sizemode\": \"area\", \"sizeref\": 15.58909090909091, \"symbol\": \"circle\"}, \"mode\": \"markers\", \"name\": \"Linkedin 2-1\", \"orientation\": \"v\", \"showlegend\": true, \"x\": [239.1], \"xaxis\": \"x\", \"y\": [32], \"yaxis\": \"y\", \"type\": \"scatter\"}, {\"hovertemplate\": \"Creative Name=Linkedin 1-2<br>Day=13<br>Total Spend in CAD=%{x}<br>Clicks=%{y}<br>Impressions=%{marker.size}<extra></extra>\", \"legendgroup\": \"Linkedin 1-2\", \"marker\": {\"color\": \"#ab63fa\", \"size\": [8442], \"sizemode\": \"area\", \"sizeref\": 15.58909090909091, \"symbol\": \"circle\"}, \"mode\": \"markers\", \"name\": \"Linkedin 1-2\", \"orientation\": \"v\", \"showlegend\": true, \"x\": [184.46], \"xaxis\": \"x\", \"y\": [31], \"yaxis\": \"y\", \"type\": \"scatter\"}], \"name\": \"13\"}, {\"data\": [{\"hovertemplate\": \"Creative Name=LinkedIn1-1<br>Day=14<br>Total Spend in CAD=%{x}<br>Clicks=%{y}<br>Impressions=%{marker.size}<extra></extra>\", \"legendgroup\": \"LinkedIn1-1\", \"marker\": {\"color\": \"#636efa\", \"size\": [9123], \"sizemode\": \"area\", \"sizeref\": 15.58909090909091, \"symbol\": \"circle\"}, \"mode\": \"markers\", \"name\": \"LinkedIn1-1\", \"orientation\": \"v\", \"showlegend\": true, \"x\": [248.68], \"xaxis\": \"x\", \"y\": [35], \"yaxis\": \"y\", \"type\": \"scatter\"}, {\"hovertemplate\": \"Creative Name=Linkedin 2-2<br>Day=14<br>Total Spend in CAD=%{x}<br>Clicks=%{y}<br>Impressions=%{marker.size}<extra></extra>\", \"legendgroup\": \"Linkedin 2-2\", \"marker\": {\"color\": \"#EF553B\", \"size\": [10645], \"sizemode\": \"area\", \"sizeref\": 15.58909090909091, \"symbol\": \"circle\"}, \"mode\": \"markers\", \"name\": \"Linkedin 2-2\", \"orientation\": \"v\", \"showlegend\": true, \"x\": [224.96], \"xaxis\": \"x\", \"y\": [31], \"yaxis\": \"y\", \"type\": \"scatter\"}, {\"hovertemplate\": \"Creative Name=Linkedin 2-1<br>Day=14<br>Total Spend in CAD=%{x}<br>Clicks=%{y}<br>Impressions=%{marker.size}<extra></extra>\", \"legendgroup\": \"Linkedin 2-1\", \"marker\": {\"color\": \"#00cc96\", \"size\": [9549], \"sizemode\": \"area\", \"sizeref\": 15.58909090909091, \"symbol\": \"circle\"}, \"mode\": \"markers\", \"name\": \"Linkedin 2-1\", \"orientation\": \"v\", \"showlegend\": true, \"x\": [257.04], \"xaxis\": \"x\", \"y\": [34], \"yaxis\": \"y\", \"type\": \"scatter\"}, {\"hovertemplate\": \"Creative Name=Linkedin 1-2<br>Day=14<br>Total Spend in CAD=%{x}<br>Clicks=%{y}<br>Impressions=%{marker.size}<extra></extra>\", \"legendgroup\": \"Linkedin 1-2\", \"marker\": {\"color\": \"#ab63fa\", \"size\": [9112], \"sizemode\": \"area\", \"sizeref\": 15.58909090909091, \"symbol\": \"circle\"}, \"mode\": \"markers\", \"name\": \"Linkedin 1-2\", \"orientation\": \"v\", \"showlegend\": true, \"x\": [200.24], \"xaxis\": \"x\", \"y\": [33], \"yaxis\": \"y\", \"type\": \"scatter\"}], \"name\": \"14\"}, {\"data\": [{\"hovertemplate\": \"Creative Name=LinkedIn1-1<br>Day=15<br>Total Spend in CAD=%{x}<br>Clicks=%{y}<br>Impressions=%{marker.size}<extra></extra>\", \"legendgroup\": \"LinkedIn1-1\", \"marker\": {\"color\": \"#636efa\", \"size\": [9873], \"sizemode\": \"area\", \"sizeref\": 15.58909090909091, \"symbol\": \"circle\"}, \"mode\": \"markers\", \"name\": \"LinkedIn1-1\", \"orientation\": \"v\", \"showlegend\": true, \"x\": [267.09], \"xaxis\": \"x\", \"y\": [38], \"yaxis\": \"y\", \"type\": \"scatter\"}, {\"hovertemplate\": \"Creative Name=Linkedin 2-2<br>Day=15<br>Total Spend in CAD=%{x}<br>Clicks=%{y}<br>Impressions=%{marker.size}<extra></extra>\", \"legendgroup\": \"Linkedin 2-2\", \"marker\": {\"color\": \"#EF553B\", \"size\": [11562], \"sizemode\": \"area\", \"sizeref\": 15.58909090909091, \"symbol\": \"circle\"}, \"mode\": \"markers\", \"name\": \"Linkedin 2-2\", \"orientation\": \"v\", \"showlegend\": true, \"x\": [224.96], \"xaxis\": \"x\", \"y\": [34], \"yaxis\": \"y\", \"type\": \"scatter\"}, {\"hovertemplate\": \"Creative Name=Linkedin 2-1<br>Day=15<br>Total Spend in CAD=%{x}<br>Clicks=%{y}<br>Impressions=%{marker.size}<extra></extra>\", \"legendgroup\": \"Linkedin 2-1\", \"marker\": {\"color\": \"#00cc96\", \"size\": [10313], \"sizemode\": \"area\", \"sizeref\": 15.58909090909091, \"symbol\": \"circle\"}, \"mode\": \"markers\", \"name\": \"Linkedin 2-1\", \"orientation\": \"v\", \"showlegend\": true, \"x\": [272.71], \"xaxis\": \"x\", \"y\": [36], \"yaxis\": \"y\", \"type\": \"scatter\"}, {\"hovertemplate\": \"Creative Name=Linkedin 1-2<br>Day=15<br>Total Spend in CAD=%{x}<br>Clicks=%{y}<br>Impressions=%{marker.size}<extra></extra>\", \"legendgroup\": \"Linkedin 1-2\", \"marker\": {\"color\": \"#ab63fa\", \"size\": [9824], \"sizemode\": \"area\", \"sizeref\": 15.58909090909091, \"symbol\": \"circle\"}, \"mode\": \"markers\", \"name\": \"Linkedin 1-2\", \"orientation\": \"v\", \"showlegend\": true, \"x\": [216.37], \"xaxis\": \"x\", \"y\": [34], \"yaxis\": \"y\", \"type\": \"scatter\"}], \"name\": \"15\"}, {\"data\": [{\"hovertemplate\": \"Creative Name=LinkedIn1-1<br>Day=16<br>Total Spend in CAD=%{x}<br>Clicks=%{y}<br>Impressions=%{marker.size}<extra></extra>\", \"legendgroup\": \"LinkedIn1-1\", \"marker\": {\"color\": \"#636efa\", \"size\": [10798], \"sizemode\": \"area\", \"sizeref\": 15.58909090909091, \"symbol\": \"circle\"}, \"mode\": \"markers\", \"name\": \"LinkedIn1-1\", \"orientation\": \"v\", \"showlegend\": true, \"x\": [290.48], \"xaxis\": \"x\", \"y\": [42], \"yaxis\": \"y\", \"type\": \"scatter\"}, {\"hovertemplate\": \"Creative Name=Linkedin 2-2<br>Day=16<br>Total Spend in CAD=%{x}<br>Clicks=%{y}<br>Impressions=%{marker.size}<extra></extra>\", \"legendgroup\": \"Linkedin 2-2\", \"marker\": {\"color\": \"#EF553B\", \"size\": [11562], \"sizemode\": \"area\", \"sizeref\": 15.58909090909091, \"symbol\": \"circle\"}, \"mode\": \"markers\", \"name\": \"Linkedin 2-2\", \"orientation\": \"v\", \"showlegend\": true, \"x\": [224.96], \"xaxis\": \"x\", \"y\": [34], \"yaxis\": \"y\", \"type\": \"scatter\"}, {\"hovertemplate\": \"Creative Name=Linkedin 2-1<br>Day=16<br>Total Spend in CAD=%{x}<br>Clicks=%{y}<br>Impressions=%{marker.size}<extra></extra>\", \"legendgroup\": \"Linkedin 2-1\", \"marker\": {\"color\": \"#00cc96\", \"size\": [11130], \"sizemode\": \"area\", \"sizeref\": 15.58909090909091, \"symbol\": \"circle\"}, \"mode\": \"markers\", \"name\": \"Linkedin 2-1\", \"orientation\": \"v\", \"showlegend\": true, \"x\": [294.84], \"xaxis\": \"x\", \"y\": [38], \"yaxis\": \"y\", \"type\": \"scatter\"}, {\"hovertemplate\": \"Creative Name=Linkedin 1-2<br>Day=16<br>Total Spend in CAD=%{x}<br>Clicks=%{y}<br>Impressions=%{marker.size}<extra></extra>\", \"legendgroup\": \"Linkedin 1-2\", \"marker\": {\"color\": \"#ab63fa\", \"size\": [10756], \"sizemode\": \"area\", \"sizeref\": 15.58909090909091, \"symbol\": \"circle\"}, \"mode\": \"markers\", \"name\": \"Linkedin 1-2\", \"orientation\": \"v\", \"showlegend\": true, \"x\": [236.54], \"xaxis\": \"x\", \"y\": [38], \"yaxis\": \"y\", \"type\": \"scatter\"}], \"name\": \"16\"}, {\"data\": [{\"hovertemplate\": \"Creative Name=LinkedIn1-1<br>Day=17<br>Total Spend in CAD=%{x}<br>Clicks=%{y}<br>Impressions=%{marker.size}<extra></extra>\", \"legendgroup\": \"LinkedIn1-1\", \"marker\": {\"color\": \"#636efa\", \"size\": [11781], \"sizemode\": \"area\", \"sizeref\": 15.58909090909091, \"symbol\": \"circle\"}, \"mode\": \"markers\", \"name\": \"LinkedIn1-1\", \"orientation\": \"v\", \"showlegend\": true, \"x\": [314.1], \"xaxis\": \"x\", \"y\": [43], \"yaxis\": \"y\", \"type\": \"scatter\"}, {\"hovertemplate\": \"Creative Name=Linkedin 2-2<br>Day=17<br>Total Spend in CAD=%{x}<br>Clicks=%{y}<br>Impressions=%{marker.size}<extra></extra>\", \"legendgroup\": \"Linkedin 2-2\", \"marker\": {\"color\": \"#EF553B\", \"size\": [11562], \"sizemode\": \"area\", \"sizeref\": 15.58909090909091, \"symbol\": \"circle\"}, \"mode\": \"markers\", \"name\": \"Linkedin 2-2\", \"orientation\": \"v\", \"showlegend\": true, \"x\": [224.96], \"xaxis\": \"x\", \"y\": [34], \"yaxis\": \"y\", \"type\": \"scatter\"}, {\"hovertemplate\": \"Creative Name=Linkedin 2-1<br>Day=17<br>Total Spend in CAD=%{x}<br>Clicks=%{y}<br>Impressions=%{marker.size}<extra></extra>\", \"legendgroup\": \"Linkedin 2-1\", \"marker\": {\"color\": \"#00cc96\", \"size\": [12318], \"sizemode\": \"area\", \"sizeref\": 15.58909090909091, \"symbol\": \"circle\"}, \"mode\": \"markers\", \"name\": \"Linkedin 2-1\", \"orientation\": \"v\", \"showlegend\": true, \"x\": [319.69], \"xaxis\": \"x\", \"y\": [40], \"yaxis\": \"y\", \"type\": \"scatter\"}, {\"hovertemplate\": \"Creative Name=Linkedin 1-2<br>Day=17<br>Total Spend in CAD=%{x}<br>Clicks=%{y}<br>Impressions=%{marker.size}<extra></extra>\", \"legendgroup\": \"Linkedin 1-2\", \"marker\": {\"color\": \"#ab63fa\", \"size\": [11638], \"sizemode\": \"area\", \"sizeref\": 15.58909090909091, \"symbol\": \"circle\"}, \"mode\": \"markers\", \"name\": \"Linkedin 1-2\", \"orientation\": \"v\", \"showlegend\": true, \"x\": [253.61], \"xaxis\": \"x\", \"y\": [40], \"yaxis\": \"y\", \"type\": \"scatter\"}], \"name\": \"17\"}, {\"data\": [{\"hovertemplate\": \"Creative Name=LinkedIn1-1<br>Day=18<br>Total Spend in CAD=%{x}<br>Clicks=%{y}<br>Impressions=%{marker.size}<extra></extra>\", \"legendgroup\": \"LinkedIn1-1\", \"marker\": {\"color\": \"#636efa\", \"size\": [12708], \"sizemode\": \"area\", \"sizeref\": 15.58909090909091, \"symbol\": \"circle\"}, \"mode\": \"markers\", \"name\": \"LinkedIn1-1\", \"orientation\": \"v\", \"showlegend\": true, \"x\": [337.6], \"xaxis\": \"x\", \"y\": [47], \"yaxis\": \"y\", \"type\": \"scatter\"}, {\"hovertemplate\": \"Creative Name=Linkedin 2-2<br>Day=18<br>Total Spend in CAD=%{x}<br>Clicks=%{y}<br>Impressions=%{marker.size}<extra></extra>\", \"legendgroup\": \"Linkedin 2-2\", \"marker\": {\"color\": \"#EF553B\", \"size\": [11562], \"sizemode\": \"area\", \"sizeref\": 15.58909090909091, \"symbol\": \"circle\"}, \"mode\": \"markers\", \"name\": \"Linkedin 2-2\", \"orientation\": \"v\", \"showlegend\": true, \"x\": [224.96], \"xaxis\": \"x\", \"y\": [34], \"yaxis\": \"y\", \"type\": \"scatter\"}, {\"hovertemplate\": \"Creative Name=Linkedin 2-1<br>Day=18<br>Total Spend in CAD=%{x}<br>Clicks=%{y}<br>Impressions=%{marker.size}<extra></extra>\", \"legendgroup\": \"Linkedin 2-1\", \"marker\": {\"color\": \"#00cc96\", \"size\": [13192], \"sizemode\": \"area\", \"sizeref\": 15.58909090909091, \"symbol\": \"circle\"}, \"mode\": \"markers\", \"name\": \"Linkedin 2-1\", \"orientation\": \"v\", \"showlegend\": true, \"x\": [342.62], \"xaxis\": \"x\", \"y\": [41], \"yaxis\": \"y\", \"type\": \"scatter\"}, {\"hovertemplate\": \"Creative Name=Linkedin 1-2<br>Day=18<br>Total Spend in CAD=%{x}<br>Clicks=%{y}<br>Impressions=%{marker.size}<extra></extra>\", \"legendgroup\": \"Linkedin 1-2\", \"marker\": {\"color\": \"#ab63fa\", \"size\": [12516], \"sizemode\": \"area\", \"sizeref\": 15.58909090909091, \"symbol\": \"circle\"}, \"mode\": \"markers\", \"name\": \"Linkedin 1-2\", \"orientation\": \"v\", \"showlegend\": true, \"x\": [272.57], \"xaxis\": \"x\", \"y\": [44], \"yaxis\": \"y\", \"type\": \"scatter\"}], \"name\": \"18\"}, {\"data\": [{\"hovertemplate\": \"Creative Name=LinkedIn1-1<br>Day=19<br>Total Spend in CAD=%{x}<br>Clicks=%{y}<br>Impressions=%{marker.size}<extra></extra>\", \"legendgroup\": \"LinkedIn1-1\", \"marker\": {\"color\": \"#636efa\", \"size\": [13689], \"sizemode\": \"area\", \"sizeref\": 15.58909090909091, \"symbol\": \"circle\"}, \"mode\": \"markers\", \"name\": \"LinkedIn1-1\", \"orientation\": \"v\", \"showlegend\": true, \"x\": [362.3], \"xaxis\": \"x\", \"y\": [54], \"yaxis\": \"y\", \"type\": \"scatter\"}, {\"hovertemplate\": \"Creative Name=Linkedin 2-2<br>Day=19<br>Total Spend in CAD=%{x}<br>Clicks=%{y}<br>Impressions=%{marker.size}<extra></extra>\", \"legendgroup\": \"Linkedin 2-2\", \"marker\": {\"color\": \"#EF553B\", \"size\": [11562], \"sizemode\": \"area\", \"sizeref\": 15.58909090909091, \"symbol\": \"circle\"}, \"mode\": \"markers\", \"name\": \"Linkedin 2-2\", \"orientation\": \"v\", \"showlegend\": true, \"x\": [224.96], \"xaxis\": \"x\", \"y\": [34], \"yaxis\": \"y\", \"type\": \"scatter\"}, {\"hovertemplate\": \"Creative Name=Linkedin 2-1<br>Day=19<br>Total Spend in CAD=%{x}<br>Clicks=%{y}<br>Impressions=%{marker.size}<extra></extra>\", \"legendgroup\": \"Linkedin 2-1\", \"marker\": {\"color\": \"#00cc96\", \"size\": [14087], \"sizemode\": \"area\", \"sizeref\": 15.58909090909091, \"symbol\": \"circle\"}, \"mode\": \"markers\", \"name\": \"Linkedin 2-1\", \"orientation\": \"v\", \"showlegend\": true, \"x\": [360.86], \"xaxis\": \"x\", \"y\": [44], \"yaxis\": \"y\", \"type\": \"scatter\"}, {\"hovertemplate\": \"Creative Name=Linkedin 1-2<br>Day=19<br>Total Spend in CAD=%{x}<br>Clicks=%{y}<br>Impressions=%{marker.size}<extra></extra>\", \"legendgroup\": \"Linkedin 1-2\", \"marker\": {\"color\": \"#ab63fa\", \"size\": [13416], \"sizemode\": \"area\", \"sizeref\": 15.58909090909091, \"symbol\": \"circle\"}, \"mode\": \"markers\", \"name\": \"Linkedin 1-2\", \"orientation\": \"v\", \"showlegend\": true, \"x\": [295.13], \"xaxis\": \"x\", \"y\": [49], \"yaxis\": \"y\", \"type\": \"scatter\"}], \"name\": \"19\"}, {\"data\": [{\"hovertemplate\": \"Creative Name=LinkedIn1-1<br>Day=20<br>Total Spend in CAD=%{x}<br>Clicks=%{y}<br>Impressions=%{marker.size}<extra></extra>\", \"legendgroup\": \"LinkedIn1-1\", \"marker\": {\"color\": \"#636efa\", \"size\": [14473], \"sizemode\": \"area\", \"sizeref\": 15.58909090909091, \"symbol\": \"circle\"}, \"mode\": \"markers\", \"name\": \"LinkedIn1-1\", \"orientation\": \"v\", \"showlegend\": true, \"x\": [380.62], \"xaxis\": \"x\", \"y\": [54], \"yaxis\": \"y\", \"type\": \"scatter\"}, {\"hovertemplate\": \"Creative Name=Linkedin 2-2<br>Day=20<br>Total Spend in CAD=%{x}<br>Clicks=%{y}<br>Impressions=%{marker.size}<extra></extra>\", \"legendgroup\": \"Linkedin 2-2\", \"marker\": {\"color\": \"#EF553B\", \"size\": [11562], \"sizemode\": \"area\", \"sizeref\": 15.58909090909091, \"symbol\": \"circle\"}, \"mode\": \"markers\", \"name\": \"Linkedin 2-2\", \"orientation\": \"v\", \"showlegend\": true, \"x\": [224.96], \"xaxis\": \"x\", \"y\": [34], \"yaxis\": \"y\", \"type\": \"scatter\"}, {\"hovertemplate\": \"Creative Name=Linkedin 2-1<br>Day=20<br>Total Spend in CAD=%{x}<br>Clicks=%{y}<br>Impressions=%{marker.size}<extra></extra>\", \"legendgroup\": \"Linkedin 2-1\", \"marker\": {\"color\": \"#00cc96\", \"size\": [15431], \"sizemode\": \"area\", \"sizeref\": 15.58909090909091, \"symbol\": \"circle\"}, \"mode\": \"markers\", \"name\": \"Linkedin 2-1\", \"orientation\": \"v\", \"showlegend\": true, \"x\": [385.35], \"xaxis\": \"x\", \"y\": [49], \"yaxis\": \"y\", \"type\": \"scatter\"}, {\"hovertemplate\": \"Creative Name=Linkedin 1-2<br>Day=20<br>Total Spend in CAD=%{x}<br>Clicks=%{y}<br>Impressions=%{marker.size}<extra></extra>\", \"legendgroup\": \"Linkedin 1-2\", \"marker\": {\"color\": \"#ab63fa\", \"size\": [14369], \"sizemode\": \"area\", \"sizeref\": 15.58909090909091, \"symbol\": \"circle\"}, \"mode\": \"markers\", \"name\": \"Linkedin 1-2\", \"orientation\": \"v\", \"showlegend\": true, \"x\": [317.59], \"xaxis\": \"x\", \"y\": [54], \"yaxis\": \"y\", \"type\": \"scatter\"}], \"name\": \"20\"}, {\"data\": [{\"hovertemplate\": \"Creative Name=LinkedIn1-1<br>Day=21<br>Total Spend in CAD=%{x}<br>Clicks=%{y}<br>Impressions=%{marker.size}<extra></extra>\", \"legendgroup\": \"LinkedIn1-1\", \"marker\": {\"color\": \"#636efa\", \"size\": [15241], \"sizemode\": \"area\", \"sizeref\": 15.58909090909091, \"symbol\": \"circle\"}, \"mode\": \"markers\", \"name\": \"LinkedIn1-1\", \"orientation\": \"v\", \"showlegend\": true, \"x\": [396.63], \"xaxis\": \"x\", \"y\": [54], \"yaxis\": \"y\", \"type\": \"scatter\"}, {\"hovertemplate\": \"Creative Name=Linkedin 2-2<br>Day=21<br>Total Spend in CAD=%{x}<br>Clicks=%{y}<br>Impressions=%{marker.size}<extra></extra>\", \"legendgroup\": \"Linkedin 2-2\", \"marker\": {\"color\": \"#EF553B\", \"size\": [11562], \"sizemode\": \"area\", \"sizeref\": 15.58909090909091, \"symbol\": \"circle\"}, \"mode\": \"markers\", \"name\": \"Linkedin 2-2\", \"orientation\": \"v\", \"showlegend\": true, \"x\": [224.96], \"xaxis\": \"x\", \"y\": [34], \"yaxis\": \"y\", \"type\": \"scatter\"}, {\"hovertemplate\": \"Creative Name=Linkedin 2-1<br>Day=21<br>Total Spend in CAD=%{x}<br>Clicks=%{y}<br>Impressions=%{marker.size}<extra></extra>\", \"legendgroup\": \"Linkedin 2-1\", \"marker\": {\"color\": \"#00cc96\", \"size\": [16730], \"sizemode\": \"area\", \"sizeref\": 15.58909090909091, \"symbol\": \"circle\"}, \"mode\": \"markers\", \"name\": \"Linkedin 2-1\", \"orientation\": \"v\", \"showlegend\": true, \"x\": [414.24], \"xaxis\": \"x\", \"y\": [49], \"yaxis\": \"y\", \"type\": \"scatter\"}, {\"hovertemplate\": \"Creative Name=Linkedin 1-2<br>Day=21<br>Total Spend in CAD=%{x}<br>Clicks=%{y}<br>Impressions=%{marker.size}<extra></extra>\", \"legendgroup\": \"Linkedin 1-2\", \"marker\": {\"color\": \"#ab63fa\", \"size\": [15315], \"sizemode\": \"area\", \"sizeref\": 15.58909090909091, \"symbol\": \"circle\"}, \"mode\": \"markers\", \"name\": \"Linkedin 1-2\", \"orientation\": \"v\", \"showlegend\": true, \"x\": [337.76], \"xaxis\": \"x\", \"y\": [57], \"yaxis\": \"y\", \"type\": \"scatter\"}], \"name\": \"21\"}, {\"data\": [{\"hovertemplate\": \"Creative Name=LinkedIn1-1<br>Day=22<br>Total Spend in CAD=%{x}<br>Clicks=%{y}<br>Impressions=%{marker.size}<extra></extra>\", \"legendgroup\": \"LinkedIn1-1\", \"marker\": {\"color\": \"#636efa\", \"size\": [15946], \"sizemode\": \"area\", \"sizeref\": 15.58909090909091, \"symbol\": \"circle\"}, \"mode\": \"markers\", \"name\": \"LinkedIn1-1\", \"orientation\": \"v\", \"showlegend\": true, \"x\": [411.09], \"xaxis\": \"x\", \"y\": [54], \"yaxis\": \"y\", \"type\": \"scatter\"}, {\"hovertemplate\": \"Creative Name=Linkedin 2-2<br>Day=22<br>Total Spend in CAD=%{x}<br>Clicks=%{y}<br>Impressions=%{marker.size}<extra></extra>\", \"legendgroup\": \"Linkedin 2-2\", \"marker\": {\"color\": \"#EF553B\", \"size\": [11562], \"sizemode\": \"area\", \"sizeref\": 15.58909090909091, \"symbol\": \"circle\"}, \"mode\": \"markers\", \"name\": \"Linkedin 2-2\", \"orientation\": \"v\", \"showlegend\": true, \"x\": [224.96], \"xaxis\": \"x\", \"y\": [34], \"yaxis\": \"y\", \"type\": \"scatter\"}, {\"hovertemplate\": \"Creative Name=Linkedin 2-1<br>Day=22<br>Total Spend in CAD=%{x}<br>Clicks=%{y}<br>Impressions=%{marker.size}<extra></extra>\", \"legendgroup\": \"Linkedin 2-1\", \"marker\": {\"color\": \"#00cc96\", \"size\": [17871], \"sizemode\": \"area\", \"sizeref\": 15.58909090909091, \"symbol\": \"circle\"}, \"mode\": \"markers\", \"name\": \"Linkedin 2-1\", \"orientation\": \"v\", \"showlegend\": true, \"x\": [437.92], \"xaxis\": \"x\", \"y\": [52], \"yaxis\": \"y\", \"type\": \"scatter\"}, {\"hovertemplate\": \"Creative Name=Linkedin 1-2<br>Day=22<br>Total Spend in CAD=%{x}<br>Clicks=%{y}<br>Impressions=%{marker.size}<extra></extra>\", \"legendgroup\": \"Linkedin 1-2\", \"marker\": {\"color\": \"#ab63fa\", \"size\": [16329], \"sizemode\": \"area\", \"sizeref\": 15.58909090909091, \"symbol\": \"circle\"}, \"mode\": \"markers\", \"name\": \"Linkedin 1-2\", \"orientation\": \"v\", \"showlegend\": true, \"x\": [364.9], \"xaxis\": \"x\", \"y\": [59], \"yaxis\": \"y\", \"type\": \"scatter\"}], \"name\": \"22\"}, {\"data\": [{\"hovertemplate\": \"Creative Name=LinkedIn1-1<br>Day=23<br>Total Spend in CAD=%{x}<br>Clicks=%{y}<br>Impressions=%{marker.size}<extra></extra>\", \"legendgroup\": \"LinkedIn1-1\", \"marker\": {\"color\": \"#636efa\", \"size\": [16779], \"sizemode\": \"area\", \"sizeref\": 15.58909090909091, \"symbol\": \"circle\"}, \"mode\": \"markers\", \"name\": \"LinkedIn1-1\", \"orientation\": \"v\", \"showlegend\": true, \"x\": [428.85], \"xaxis\": \"x\", \"y\": [61], \"yaxis\": \"y\", \"type\": \"scatter\"}, {\"hovertemplate\": \"Creative Name=Linkedin 2-2<br>Day=23<br>Total Spend in CAD=%{x}<br>Clicks=%{y}<br>Impressions=%{marker.size}<extra></extra>\", \"legendgroup\": \"Linkedin 2-2\", \"marker\": {\"color\": \"#EF553B\", \"size\": [11562], \"sizemode\": \"area\", \"sizeref\": 15.58909090909091, \"symbol\": \"circle\"}, \"mode\": \"markers\", \"name\": \"Linkedin 2-2\", \"orientation\": \"v\", \"showlegend\": true, \"x\": [224.96], \"xaxis\": \"x\", \"y\": [34], \"yaxis\": \"y\", \"type\": \"scatter\"}, {\"hovertemplate\": \"Creative Name=Linkedin 2-1<br>Day=23<br>Total Spend in CAD=%{x}<br>Clicks=%{y}<br>Impressions=%{marker.size}<extra></extra>\", \"legendgroup\": \"Linkedin 2-1\", \"marker\": {\"color\": \"#00cc96\", \"size\": [18794], \"sizemode\": \"area\", \"sizeref\": 15.58909090909091, \"symbol\": \"circle\"}, \"mode\": \"markers\", \"name\": \"Linkedin 2-1\", \"orientation\": \"v\", \"showlegend\": true, \"x\": [458.24], \"xaxis\": \"x\", \"y\": [54], \"yaxis\": \"y\", \"type\": \"scatter\"}, {\"hovertemplate\": \"Creative Name=Linkedin 1-2<br>Day=23<br>Total Spend in CAD=%{x}<br>Clicks=%{y}<br>Impressions=%{marker.size}<extra></extra>\", \"legendgroup\": \"Linkedin 1-2\", \"marker\": {\"color\": \"#ab63fa\", \"size\": [17413], \"sizemode\": \"area\", \"sizeref\": 15.58909090909091, \"symbol\": \"circle\"}, \"mode\": \"markers\", \"name\": \"Linkedin 1-2\", \"orientation\": \"v\", \"showlegend\": true, \"x\": [392.14], \"xaxis\": \"x\", \"y\": [64], \"yaxis\": \"y\", \"type\": \"scatter\"}], \"name\": \"23\"}, {\"data\": [{\"hovertemplate\": \"Creative Name=LinkedIn1-1<br>Day=24<br>Total Spend in CAD=%{x}<br>Clicks=%{y}<br>Impressions=%{marker.size}<extra></extra>\", \"legendgroup\": \"LinkedIn1-1\", \"marker\": {\"color\": \"#636efa\", \"size\": [17634], \"sizemode\": \"area\", \"sizeref\": 15.58909090909091, \"symbol\": \"circle\"}, \"mode\": \"markers\", \"name\": \"LinkedIn1-1\", \"orientation\": \"v\", \"showlegend\": true, \"x\": [446.87], \"xaxis\": \"x\", \"y\": [65], \"yaxis\": \"y\", \"type\": \"scatter\"}, {\"hovertemplate\": \"Creative Name=Linkedin 2-2<br>Day=24<br>Total Spend in CAD=%{x}<br>Clicks=%{y}<br>Impressions=%{marker.size}<extra></extra>\", \"legendgroup\": \"Linkedin 2-2\", \"marker\": {\"color\": \"#EF553B\", \"size\": [11562], \"sizemode\": \"area\", \"sizeref\": 15.58909090909091, \"symbol\": \"circle\"}, \"mode\": \"markers\", \"name\": \"Linkedin 2-2\", \"orientation\": \"v\", \"showlegend\": true, \"x\": [224.96], \"xaxis\": \"x\", \"y\": [34], \"yaxis\": \"y\", \"type\": \"scatter\"}, {\"hovertemplate\": \"Creative Name=Linkedin 2-1<br>Day=24<br>Total Spend in CAD=%{x}<br>Clicks=%{y}<br>Impressions=%{marker.size}<extra></extra>\", \"legendgroup\": \"Linkedin 2-1\", \"marker\": {\"color\": \"#00cc96\", \"size\": [19732], \"sizemode\": \"area\", \"sizeref\": 15.58909090909091, \"symbol\": \"circle\"}, \"mode\": \"markers\", \"name\": \"Linkedin 2-1\", \"orientation\": \"v\", \"showlegend\": true, \"x\": [479.61], \"xaxis\": \"x\", \"y\": [57], \"yaxis\": \"y\", \"type\": \"scatter\"}, {\"hovertemplate\": \"Creative Name=Linkedin 1-2<br>Day=24<br>Total Spend in CAD=%{x}<br>Clicks=%{y}<br>Impressions=%{marker.size}<extra></extra>\", \"legendgroup\": \"Linkedin 1-2\", \"marker\": {\"color\": \"#ab63fa\", \"size\": [18413], \"sizemode\": \"area\", \"sizeref\": 15.58909090909091, \"symbol\": \"circle\"}, \"mode\": \"markers\", \"name\": \"Linkedin 1-2\", \"orientation\": \"v\", \"showlegend\": true, \"x\": [418.06], \"xaxis\": \"x\", \"y\": [69], \"yaxis\": \"y\", \"type\": \"scatter\"}], \"name\": \"24\"}, {\"data\": [{\"hovertemplate\": \"Creative Name=LinkedIn1-1<br>Day=25<br>Total Spend in CAD=%{x}<br>Clicks=%{y}<br>Impressions=%{marker.size}<extra></extra>\", \"legendgroup\": \"LinkedIn1-1\", \"marker\": {\"color\": \"#636efa\", \"size\": [18334], \"sizemode\": \"area\", \"sizeref\": 15.58909090909091, \"symbol\": \"circle\"}, \"mode\": \"markers\", \"name\": \"LinkedIn1-1\", \"orientation\": \"v\", \"showlegend\": true, \"x\": [464.05], \"xaxis\": \"x\", \"y\": [67], \"yaxis\": \"y\", \"type\": \"scatter\"}, {\"hovertemplate\": \"Creative Name=Linkedin 2-2<br>Day=25<br>Total Spend in CAD=%{x}<br>Clicks=%{y}<br>Impressions=%{marker.size}<extra></extra>\", \"legendgroup\": \"Linkedin 2-2\", \"marker\": {\"color\": \"#EF553B\", \"size\": [11562], \"sizemode\": \"area\", \"sizeref\": 15.58909090909091, \"symbol\": \"circle\"}, \"mode\": \"markers\", \"name\": \"Linkedin 2-2\", \"orientation\": \"v\", \"showlegend\": true, \"x\": [224.96], \"xaxis\": \"x\", \"y\": [34], \"yaxis\": \"y\", \"type\": \"scatter\"}, {\"hovertemplate\": \"Creative Name=Linkedin 2-1<br>Day=25<br>Total Spend in CAD=%{x}<br>Clicks=%{y}<br>Impressions=%{marker.size}<extra></extra>\", \"legendgroup\": \"Linkedin 2-1\", \"marker\": {\"color\": \"#00cc96\", \"size\": [20663], \"sizemode\": \"area\", \"sizeref\": 15.58909090909091, \"symbol\": \"circle\"}, \"mode\": \"markers\", \"name\": \"Linkedin 2-1\", \"orientation\": \"v\", \"showlegend\": true, \"x\": [500.99], \"xaxis\": \"x\", \"y\": [63], \"yaxis\": \"y\", \"type\": \"scatter\"}, {\"hovertemplate\": \"Creative Name=Linkedin 1-2<br>Day=25<br>Total Spend in CAD=%{x}<br>Clicks=%{y}<br>Impressions=%{marker.size}<extra></extra>\", \"legendgroup\": \"Linkedin 1-2\", \"marker\": {\"color\": \"#ab63fa\", \"size\": [19333], \"sizemode\": \"area\", \"sizeref\": 15.58909090909091, \"symbol\": \"circle\"}, \"mode\": \"markers\", \"name\": \"Linkedin 1-2\", \"orientation\": \"v\", \"showlegend\": true, \"x\": [444.73], \"xaxis\": \"x\", \"y\": [70], \"yaxis\": \"y\", \"type\": \"scatter\"}], \"name\": \"25\"}, {\"data\": [{\"hovertemplate\": \"Creative Name=LinkedIn1-1<br>Day=26<br>Total Spend in CAD=%{x}<br>Clicks=%{y}<br>Impressions=%{marker.size}<extra></extra>\", \"legendgroup\": \"LinkedIn1-1\", \"marker\": {\"color\": \"#636efa\", \"size\": [19075], \"sizemode\": \"area\", \"sizeref\": 15.58909090909091, \"symbol\": \"circle\"}, \"mode\": \"markers\", \"name\": \"LinkedIn1-1\", \"orientation\": \"v\", \"showlegend\": true, \"x\": [482.69], \"xaxis\": \"x\", \"y\": [72], \"yaxis\": \"y\", \"type\": \"scatter\"}, {\"hovertemplate\": \"Creative Name=Linkedin 2-2<br>Day=26<br>Total Spend in CAD=%{x}<br>Clicks=%{y}<br>Impressions=%{marker.size}<extra></extra>\", \"legendgroup\": \"Linkedin 2-2\", \"marker\": {\"color\": \"#EF553B\", \"size\": [11562], \"sizemode\": \"area\", \"sizeref\": 15.58909090909091, \"symbol\": \"circle\"}, \"mode\": \"markers\", \"name\": \"Linkedin 2-2\", \"orientation\": \"v\", \"showlegend\": true, \"x\": [224.96], \"xaxis\": \"x\", \"y\": [34], \"yaxis\": \"y\", \"type\": \"scatter\"}, {\"hovertemplate\": \"Creative Name=Linkedin 2-1<br>Day=26<br>Total Spend in CAD=%{x}<br>Clicks=%{y}<br>Impressions=%{marker.size}<extra></extra>\", \"legendgroup\": \"Linkedin 2-1\", \"marker\": {\"color\": \"#00cc96\", \"size\": [21622], \"sizemode\": \"area\", \"sizeref\": 15.58909090909091, \"symbol\": \"circle\"}, \"mode\": \"markers\", \"name\": \"Linkedin 2-1\", \"orientation\": \"v\", \"showlegend\": true, \"x\": [522.38], \"xaxis\": \"x\", \"y\": [65], \"yaxis\": \"y\", \"type\": \"scatter\"}, {\"hovertemplate\": \"Creative Name=Linkedin 1-2<br>Day=26<br>Total Spend in CAD=%{x}<br>Clicks=%{y}<br>Impressions=%{marker.size}<extra></extra>\", \"legendgroup\": \"Linkedin 1-2\", \"marker\": {\"color\": \"#ab63fa\", \"size\": [20275], \"sizemode\": \"area\", \"sizeref\": 15.58909090909091, \"symbol\": \"circle\"}, \"mode\": \"markers\", \"name\": \"Linkedin 1-2\", \"orientation\": \"v\", \"showlegend\": true, \"x\": [469.99], \"xaxis\": \"x\", \"y\": [74], \"yaxis\": \"y\", \"type\": \"scatter\"}], \"name\": \"26\"}, {\"data\": [{\"hovertemplate\": \"Creative Name=LinkedIn1-1<br>Day=27<br>Total Spend in CAD=%{x}<br>Clicks=%{y}<br>Impressions=%{marker.size}<extra></extra>\", \"legendgroup\": \"LinkedIn1-1\", \"marker\": {\"color\": \"#636efa\", \"size\": [19997], \"sizemode\": \"area\", \"sizeref\": 15.58909090909091, \"symbol\": \"circle\"}, \"mode\": \"markers\", \"name\": \"LinkedIn1-1\", \"orientation\": \"v\", \"showlegend\": true, \"x\": [504.77], \"xaxis\": \"x\", \"y\": [73], \"yaxis\": \"y\", \"type\": \"scatter\"}, {\"hovertemplate\": \"Creative Name=Linkedin 2-2<br>Day=27<br>Total Spend in CAD=%{x}<br>Clicks=%{y}<br>Impressions=%{marker.size}<extra></extra>\", \"legendgroup\": \"Linkedin 2-2\", \"marker\": {\"color\": \"#EF553B\", \"size\": [11562], \"sizemode\": \"area\", \"sizeref\": 15.58909090909091, \"symbol\": \"circle\"}, \"mode\": \"markers\", \"name\": \"Linkedin 2-2\", \"orientation\": \"v\", \"showlegend\": true, \"x\": [224.96], \"xaxis\": \"x\", \"y\": [34], \"yaxis\": \"y\", \"type\": \"scatter\"}, {\"hovertemplate\": \"Creative Name=Linkedin 2-1<br>Day=27<br>Total Spend in CAD=%{x}<br>Clicks=%{y}<br>Impressions=%{marker.size}<extra></extra>\", \"legendgroup\": \"Linkedin 2-1\", \"marker\": {\"color\": \"#00cc96\", \"size\": [22568], \"sizemode\": \"area\", \"sizeref\": 15.58909090909091, \"symbol\": \"circle\"}, \"mode\": \"markers\", \"name\": \"Linkedin 2-1\", \"orientation\": \"v\", \"showlegend\": true, \"x\": [540.61], \"xaxis\": \"x\", \"y\": [70], \"yaxis\": \"y\", \"type\": \"scatter\"}, {\"hovertemplate\": \"Creative Name=Linkedin 1-2<br>Day=27<br>Total Spend in CAD=%{x}<br>Clicks=%{y}<br>Impressions=%{marker.size}<extra></extra>\", \"legendgroup\": \"Linkedin 1-2\", \"marker\": {\"color\": \"#ab63fa\", \"size\": [21299], \"sizemode\": \"area\", \"sizeref\": 15.58909090909091, \"symbol\": \"circle\"}, \"mode\": \"markers\", \"name\": \"Linkedin 1-2\", \"orientation\": \"v\", \"showlegend\": true, \"x\": [494.96], \"xaxis\": \"x\", \"y\": [77], \"yaxis\": \"y\", \"type\": \"scatter\"}], \"name\": \"27\"}, {\"data\": [{\"hovertemplate\": \"Creative Name=LinkedIn1-1<br>Day=28<br>Total Spend in CAD=%{x}<br>Clicks=%{y}<br>Impressions=%{marker.size}<extra></extra>\", \"legendgroup\": \"LinkedIn1-1\", \"marker\": {\"color\": \"#636efa\", \"size\": [20979], \"sizemode\": \"area\", \"sizeref\": 15.58909090909091, \"symbol\": \"circle\"}, \"mode\": \"markers\", \"name\": \"LinkedIn1-1\", \"orientation\": \"v\", \"showlegend\": true, \"x\": [528.98], \"xaxis\": \"x\", \"y\": [76], \"yaxis\": \"y\", \"type\": \"scatter\"}, {\"hovertemplate\": \"Creative Name=Linkedin 2-2<br>Day=28<br>Total Spend in CAD=%{x}<br>Clicks=%{y}<br>Impressions=%{marker.size}<extra></extra>\", \"legendgroup\": \"Linkedin 2-2\", \"marker\": {\"color\": \"#EF553B\", \"size\": [11562], \"sizemode\": \"area\", \"sizeref\": 15.58909090909091, \"symbol\": \"circle\"}, \"mode\": \"markers\", \"name\": \"Linkedin 2-2\", \"orientation\": \"v\", \"showlegend\": true, \"x\": [224.96], \"xaxis\": \"x\", \"y\": [34], \"yaxis\": \"y\", \"type\": \"scatter\"}, {\"hovertemplate\": \"Creative Name=Linkedin 2-1<br>Day=28<br>Total Spend in CAD=%{x}<br>Clicks=%{y}<br>Impressions=%{marker.size}<extra></extra>\", \"legendgroup\": \"Linkedin 2-1\", \"marker\": {\"color\": \"#00cc96\", \"size\": [23538], \"sizemode\": \"area\", \"sizeref\": 15.58909090909091, \"symbol\": \"circle\"}, \"mode\": \"markers\", \"name\": \"Linkedin 2-1\", \"orientation\": \"v\", \"showlegend\": true, \"x\": [558.49], \"xaxis\": \"x\", \"y\": [73], \"yaxis\": \"y\", \"type\": \"scatter\"}, {\"hovertemplate\": \"Creative Name=Linkedin 1-2<br>Day=28<br>Total Spend in CAD=%{x}<br>Clicks=%{y}<br>Impressions=%{marker.size}<extra></extra>\", \"legendgroup\": \"Linkedin 1-2\", \"marker\": {\"color\": \"#ab63fa\", \"size\": [22310], \"sizemode\": \"area\", \"sizeref\": 15.58909090909091, \"symbol\": \"circle\"}, \"mode\": \"markers\", \"name\": \"Linkedin 1-2\", \"orientation\": \"v\", \"showlegend\": true, \"x\": [518.3], \"xaxis\": \"x\", \"y\": [79], \"yaxis\": \"y\", \"type\": \"scatter\"}], \"name\": \"28\"}, {\"data\": [{\"hovertemplate\": \"Creative Name=LinkedIn1-1<br>Day=29<br>Total Spend in CAD=%{x}<br>Clicks=%{y}<br>Impressions=%{marker.size}<extra></extra>\", \"legendgroup\": \"LinkedIn1-1\", \"marker\": {\"color\": \"#636efa\", \"size\": [21786], \"sizemode\": \"area\", \"sizeref\": 15.58909090909091, \"symbol\": \"circle\"}, \"mode\": \"markers\", \"name\": \"LinkedIn1-1\", \"orientation\": \"v\", \"showlegend\": true, \"x\": [545.84], \"xaxis\": \"x\", \"y\": [78], \"yaxis\": \"y\", \"type\": \"scatter\"}, {\"hovertemplate\": \"Creative Name=Linkedin 2-2<br>Day=29<br>Total Spend in CAD=%{x}<br>Clicks=%{y}<br>Impressions=%{marker.size}<extra></extra>\", \"legendgroup\": \"Linkedin 2-2\", \"marker\": {\"color\": \"#EF553B\", \"size\": [11562], \"sizemode\": \"area\", \"sizeref\": 15.58909090909091, \"symbol\": \"circle\"}, \"mode\": \"markers\", \"name\": \"Linkedin 2-2\", \"orientation\": \"v\", \"showlegend\": true, \"x\": [224.96], \"xaxis\": \"x\", \"y\": [34], \"yaxis\": \"y\", \"type\": \"scatter\"}, {\"hovertemplate\": \"Creative Name=Linkedin 2-1<br>Day=29<br>Total Spend in CAD=%{x}<br>Clicks=%{y}<br>Impressions=%{marker.size}<extra></extra>\", \"legendgroup\": \"Linkedin 2-1\", \"marker\": {\"color\": \"#00cc96\", \"size\": [24619], \"sizemode\": \"area\", \"sizeref\": 15.58909090909091, \"symbol\": \"circle\"}, \"mode\": \"markers\", \"name\": \"Linkedin 2-1\", \"orientation\": \"v\", \"showlegend\": true, \"x\": [581.29], \"xaxis\": \"x\", \"y\": [77], \"yaxis\": \"y\", \"type\": \"scatter\"}, {\"hovertemplate\": \"Creative Name=Linkedin 1-2<br>Day=29<br>Total Spend in CAD=%{x}<br>Clicks=%{y}<br>Impressions=%{marker.size}<extra></extra>\", \"legendgroup\": \"Linkedin 1-2\", \"marker\": {\"color\": \"#ab63fa\", \"size\": [23399], \"sizemode\": \"area\", \"sizeref\": 15.58909090909091, \"symbol\": \"circle\"}, \"mode\": \"markers\", \"name\": \"Linkedin 1-2\", \"orientation\": \"v\", \"showlegend\": true, \"x\": [543.71], \"xaxis\": \"x\", \"y\": [85], \"yaxis\": \"y\", \"type\": \"scatter\"}], \"name\": \"29\"}, {\"data\": [{\"hovertemplate\": \"Creative Name=LinkedIn1-1<br>Day=30<br>Total Spend in CAD=%{x}<br>Clicks=%{y}<br>Impressions=%{marker.size}<extra></extra>\", \"legendgroup\": \"LinkedIn1-1\", \"marker\": {\"color\": \"#636efa\", \"size\": [22378], \"sizemode\": \"area\", \"sizeref\": 15.58909090909091, \"symbol\": \"circle\"}, \"mode\": \"markers\", \"name\": \"LinkedIn1-1\", \"orientation\": \"v\", \"showlegend\": true, \"x\": [563.25], \"xaxis\": \"x\", \"y\": [78], \"yaxis\": \"y\", \"type\": \"scatter\"}, {\"hovertemplate\": \"Creative Name=Linkedin 2-2<br>Day=30<br>Total Spend in CAD=%{x}<br>Clicks=%{y}<br>Impressions=%{marker.size}<extra></extra>\", \"legendgroup\": \"Linkedin 2-2\", \"marker\": {\"color\": \"#EF553B\", \"size\": [11562], \"sizemode\": \"area\", \"sizeref\": 15.58909090909091, \"symbol\": \"circle\"}, \"mode\": \"markers\", \"name\": \"Linkedin 2-2\", \"orientation\": \"v\", \"showlegend\": true, \"x\": [224.96], \"xaxis\": \"x\", \"y\": [34], \"yaxis\": \"y\", \"type\": \"scatter\"}, {\"hovertemplate\": \"Creative Name=Linkedin 2-1<br>Day=30<br>Total Spend in CAD=%{x}<br>Clicks=%{y}<br>Impressions=%{marker.size}<extra></extra>\", \"legendgroup\": \"Linkedin 2-1\", \"marker\": {\"color\": \"#00cc96\", \"size\": [25213], \"sizemode\": \"area\", \"sizeref\": 15.58909090909091, \"symbol\": \"circle\"}, \"mode\": \"markers\", \"name\": \"Linkedin 2-1\", \"orientation\": \"v\", \"showlegend\": true, \"x\": [595.62], \"xaxis\": \"x\", \"y\": [80], \"yaxis\": \"y\", \"type\": \"scatter\"}, {\"hovertemplate\": \"Creative Name=Linkedin 1-2<br>Day=30<br>Total Spend in CAD=%{x}<br>Clicks=%{y}<br>Impressions=%{marker.size}<extra></extra>\", \"legendgroup\": \"Linkedin 1-2\", \"marker\": {\"color\": \"#ab63fa\", \"size\": [24642], \"sizemode\": \"area\", \"sizeref\": 15.58909090909091, \"symbol\": \"circle\"}, \"mode\": \"markers\", \"name\": \"Linkedin 1-2\", \"orientation\": \"v\", \"showlegend\": true, \"x\": [577.3], \"xaxis\": \"x\", \"y\": [91], \"yaxis\": \"y\", \"type\": \"scatter\"}], \"name\": \"30\"}, {\"data\": [{\"hovertemplate\": \"Creative Name=LinkedIn1-1<br>Day=31<br>Total Spend in CAD=%{x}<br>Clicks=%{y}<br>Impressions=%{marker.size}<extra></extra>\", \"legendgroup\": \"LinkedIn1-1\", \"marker\": {\"color\": \"#636efa\", \"size\": [22815], \"sizemode\": \"area\", \"sizeref\": 15.58909090909091, \"symbol\": \"circle\"}, \"mode\": \"markers\", \"name\": \"LinkedIn1-1\", \"orientation\": \"v\", \"showlegend\": true, \"x\": [572.87], \"xaxis\": \"x\", \"y\": [81], \"yaxis\": \"y\", \"type\": \"scatter\"}, {\"hovertemplate\": \"Creative Name=Linkedin 2-2<br>Day=31<br>Total Spend in CAD=%{x}<br>Clicks=%{y}<br>Impressions=%{marker.size}<extra></extra>\", \"legendgroup\": \"Linkedin 2-2\", \"marker\": {\"color\": \"#EF553B\", \"size\": [11562], \"sizemode\": \"area\", \"sizeref\": 15.58909090909091, \"symbol\": \"circle\"}, \"mode\": \"markers\", \"name\": \"Linkedin 2-2\", \"orientation\": \"v\", \"showlegend\": true, \"x\": [224.96], \"xaxis\": \"x\", \"y\": [34], \"yaxis\": \"y\", \"type\": \"scatter\"}, {\"hovertemplate\": \"Creative Name=Linkedin 2-1<br>Day=31<br>Total Spend in CAD=%{x}<br>Clicks=%{y}<br>Impressions=%{marker.size}<extra></extra>\", \"legendgroup\": \"Linkedin 2-1\", \"marker\": {\"color\": \"#00cc96\", \"size\": [25945], \"sizemode\": \"area\", \"sizeref\": 15.58909090909091, \"symbol\": \"circle\"}, \"mode\": \"markers\", \"name\": \"Linkedin 2-1\", \"orientation\": \"v\", \"showlegend\": true, \"x\": [610.07], \"xaxis\": \"x\", \"y\": [82], \"yaxis\": \"y\", \"type\": \"scatter\"}, {\"hovertemplate\": \"Creative Name=Linkedin 1-2<br>Day=31<br>Total Spend in CAD=%{x}<br>Clicks=%{y}<br>Impressions=%{marker.size}<extra></extra>\", \"legendgroup\": \"Linkedin 1-2\", \"marker\": {\"color\": \"#ab63fa\", \"size\": [25938], \"sizemode\": \"area\", \"sizeref\": 15.58909090909091, \"symbol\": \"circle\"}, \"mode\": \"markers\", \"name\": \"Linkedin 1-2\", \"orientation\": \"v\", \"showlegend\": true, \"x\": [618.44], \"xaxis\": \"x\", \"y\": [96], \"yaxis\": \"y\", \"type\": \"scatter\"}], \"name\": \"31\"}, {\"data\": [{\"hovertemplate\": \"Creative Name=LinkedIn1-1<br>Day=32<br>Total Spend in CAD=%{x}<br>Clicks=%{y}<br>Impressions=%{marker.size}<extra></extra>\", \"legendgroup\": \"LinkedIn1-1\", \"marker\": {\"color\": \"#636efa\", \"size\": [23257], \"sizemode\": \"area\", \"sizeref\": 15.58909090909091, \"symbol\": \"circle\"}, \"mode\": \"markers\", \"name\": \"LinkedIn1-1\", \"orientation\": \"v\", \"showlegend\": true, \"x\": [585.88], \"xaxis\": \"x\", \"y\": [82], \"yaxis\": \"y\", \"type\": \"scatter\"}, {\"hovertemplate\": \"Creative Name=Linkedin 2-2<br>Day=32<br>Total Spend in CAD=%{x}<br>Clicks=%{y}<br>Impressions=%{marker.size}<extra></extra>\", \"legendgroup\": \"Linkedin 2-2\", \"marker\": {\"color\": \"#EF553B\", \"size\": [11562], \"sizemode\": \"area\", \"sizeref\": 15.58909090909091, \"symbol\": \"circle\"}, \"mode\": \"markers\", \"name\": \"Linkedin 2-2\", \"orientation\": \"v\", \"showlegend\": true, \"x\": [224.96], \"xaxis\": \"x\", \"y\": [34], \"yaxis\": \"y\", \"type\": \"scatter\"}, {\"hovertemplate\": \"Creative Name=Linkedin 2-1<br>Day=32<br>Total Spend in CAD=%{x}<br>Clicks=%{y}<br>Impressions=%{marker.size}<extra></extra>\", \"legendgroup\": \"Linkedin 2-1\", \"marker\": {\"color\": \"#00cc96\", \"size\": [26522], \"sizemode\": \"area\", \"sizeref\": 15.58909090909091, \"symbol\": \"circle\"}, \"mode\": \"markers\", \"name\": \"Linkedin 2-1\", \"orientation\": \"v\", \"showlegend\": true, \"x\": [624.11], \"xaxis\": \"x\", \"y\": [83], \"yaxis\": \"y\", \"type\": \"scatter\"}, {\"hovertemplate\": \"Creative Name=Linkedin 1-2<br>Day=32<br>Total Spend in CAD=%{x}<br>Clicks=%{y}<br>Impressions=%{marker.size}<extra></extra>\", \"legendgroup\": \"Linkedin 1-2\", \"marker\": {\"color\": \"#ab63fa\", \"size\": [26950], \"sizemode\": \"area\", \"sizeref\": 15.58909090909091, \"symbol\": \"circle\"}, \"mode\": \"markers\", \"name\": \"Linkedin 1-2\", \"orientation\": \"v\", \"showlegend\": true, \"x\": [656.7], \"xaxis\": \"x\", \"y\": [100], \"yaxis\": \"y\", \"type\": \"scatter\"}], \"name\": \"32\"}, {\"data\": [{\"hovertemplate\": \"Creative Name=LinkedIn1-1<br>Day=33<br>Total Spend in CAD=%{x}<br>Clicks=%{y}<br>Impressions=%{marker.size}<extra></extra>\", \"legendgroup\": \"LinkedIn1-1\", \"marker\": {\"color\": \"#636efa\", \"size\": [23834], \"sizemode\": \"area\", \"sizeref\": 15.58909090909091, \"symbol\": \"circle\"}, \"mode\": \"markers\", \"name\": \"LinkedIn1-1\", \"orientation\": \"v\", \"showlegend\": true, \"x\": [601.47], \"xaxis\": \"x\", \"y\": [82], \"yaxis\": \"y\", \"type\": \"scatter\"}, {\"hovertemplate\": \"Creative Name=Linkedin 2-2<br>Day=33<br>Total Spend in CAD=%{x}<br>Clicks=%{y}<br>Impressions=%{marker.size}<extra></extra>\", \"legendgroup\": \"Linkedin 2-2\", \"marker\": {\"color\": \"#EF553B\", \"size\": [11562], \"sizemode\": \"area\", \"sizeref\": 15.58909090909091, \"symbol\": \"circle\"}, \"mode\": \"markers\", \"name\": \"Linkedin 2-2\", \"orientation\": \"v\", \"showlegend\": true, \"x\": [224.96], \"xaxis\": \"x\", \"y\": [34], \"yaxis\": \"y\", \"type\": \"scatter\"}, {\"hovertemplate\": \"Creative Name=Linkedin 2-1<br>Day=33<br>Total Spend in CAD=%{x}<br>Clicks=%{y}<br>Impressions=%{marker.size}<extra></extra>\", \"legendgroup\": \"Linkedin 2-1\", \"marker\": {\"color\": \"#00cc96\", \"size\": [27003], \"sizemode\": \"area\", \"sizeref\": 15.58909090909091, \"symbol\": \"circle\"}, \"mode\": \"markers\", \"name\": \"Linkedin 2-1\", \"orientation\": \"v\", \"showlegend\": true, \"x\": [637.29], \"xaxis\": \"x\", \"y\": [83], \"yaxis\": \"y\", \"type\": \"scatter\"}, {\"hovertemplate\": \"Creative Name=Linkedin 1-2<br>Day=33<br>Total Spend in CAD=%{x}<br>Clicks=%{y}<br>Impressions=%{marker.size}<extra></extra>\", \"legendgroup\": \"Linkedin 1-2\", \"marker\": {\"color\": \"#ab63fa\", \"size\": [28039], \"sizemode\": \"area\", \"sizeref\": 15.58909090909091, \"symbol\": \"circle\"}, \"mode\": \"markers\", \"name\": \"Linkedin 1-2\", \"orientation\": \"v\", \"showlegend\": true, \"x\": [693.37], \"xaxis\": \"x\", \"y\": [105], \"yaxis\": \"y\", \"type\": \"scatter\"}], \"name\": \"33\"}, {\"data\": [{\"hovertemplate\": \"Creative Name=LinkedIn1-1<br>Day=34<br>Total Spend in CAD=%{x}<br>Clicks=%{y}<br>Impressions=%{marker.size}<extra></extra>\", \"legendgroup\": \"LinkedIn1-1\", \"marker\": {\"color\": \"#636efa\", \"size\": [24356], \"sizemode\": \"area\", \"sizeref\": 15.58909090909091, \"symbol\": \"circle\"}, \"mode\": \"markers\", \"name\": \"LinkedIn1-1\", \"orientation\": \"v\", \"showlegend\": true, \"x\": [613.37], \"xaxis\": \"x\", \"y\": [82], \"yaxis\": \"y\", \"type\": \"scatter\"}, {\"hovertemplate\": \"Creative Name=Linkedin 2-2<br>Day=34<br>Total Spend in CAD=%{x}<br>Clicks=%{y}<br>Impressions=%{marker.size}<extra></extra>\", \"legendgroup\": \"Linkedin 2-2\", \"marker\": {\"color\": \"#EF553B\", \"size\": [11562], \"sizemode\": \"area\", \"sizeref\": 15.58909090909091, \"symbol\": \"circle\"}, \"mode\": \"markers\", \"name\": \"Linkedin 2-2\", \"orientation\": \"v\", \"showlegend\": true, \"x\": [224.96], \"xaxis\": \"x\", \"y\": [34], \"yaxis\": \"y\", \"type\": \"scatter\"}, {\"hovertemplate\": \"Creative Name=Linkedin 2-1<br>Day=34<br>Total Spend in CAD=%{x}<br>Clicks=%{y}<br>Impressions=%{marker.size}<extra></extra>\", \"legendgroup\": \"Linkedin 2-1\", \"marker\": {\"color\": \"#00cc96\", \"size\": [27500], \"sizemode\": \"area\", \"sizeref\": 15.58909090909091, \"symbol\": \"circle\"}, \"mode\": \"markers\", \"name\": \"Linkedin 2-1\", \"orientation\": \"v\", \"showlegend\": true, \"x\": [650.78], \"xaxis\": \"x\", \"y\": [84], \"yaxis\": \"y\", \"type\": \"scatter\"}, {\"hovertemplate\": \"Creative Name=Linkedin 1-2<br>Day=34<br>Total Spend in CAD=%{x}<br>Clicks=%{y}<br>Impressions=%{marker.size}<extra></extra>\", \"legendgroup\": \"Linkedin 1-2\", \"marker\": {\"color\": \"#ab63fa\", \"size\": [29675], \"sizemode\": \"area\", \"sizeref\": 15.58909090909091, \"symbol\": \"circle\"}, \"mode\": \"markers\", \"name\": \"Linkedin 1-2\", \"orientation\": \"v\", \"showlegend\": true, \"x\": [733.28], \"xaxis\": \"x\", \"y\": [108], \"yaxis\": \"y\", \"type\": \"scatter\"}], \"name\": \"34\"}, {\"data\": [{\"hovertemplate\": \"Creative Name=LinkedIn1-1<br>Day=35<br>Total Spend in CAD=%{x}<br>Clicks=%{y}<br>Impressions=%{marker.size}<extra></extra>\", \"legendgroup\": \"LinkedIn1-1\", \"marker\": {\"color\": \"#636efa\", \"size\": [25198], \"sizemode\": \"area\", \"sizeref\": 15.58909090909091, \"symbol\": \"circle\"}, \"mode\": \"markers\", \"name\": \"LinkedIn1-1\", \"orientation\": \"v\", \"showlegend\": true, \"x\": [632.65], \"xaxis\": \"x\", \"y\": [84], \"yaxis\": \"y\", \"type\": \"scatter\"}, {\"hovertemplate\": \"Creative Name=Linkedin 2-2<br>Day=35<br>Total Spend in CAD=%{x}<br>Clicks=%{y}<br>Impressions=%{marker.size}<extra></extra>\", \"legendgroup\": \"Linkedin 2-2\", \"marker\": {\"color\": \"#EF553B\", \"size\": [11562], \"sizemode\": \"area\", \"sizeref\": 15.58909090909091, \"symbol\": \"circle\"}, \"mode\": \"markers\", \"name\": \"Linkedin 2-2\", \"orientation\": \"v\", \"showlegend\": true, \"x\": [224.96], \"xaxis\": \"x\", \"y\": [34], \"yaxis\": \"y\", \"type\": \"scatter\"}, {\"hovertemplate\": \"Creative Name=Linkedin 2-1<br>Day=35<br>Total Spend in CAD=%{x}<br>Clicks=%{y}<br>Impressions=%{marker.size}<extra></extra>\", \"legendgroup\": \"Linkedin 2-1\", \"marker\": {\"color\": \"#00cc96\", \"size\": [28419], \"sizemode\": \"area\", \"sizeref\": 15.58909090909091, \"symbol\": \"circle\"}, \"mode\": \"markers\", \"name\": \"Linkedin 2-1\", \"orientation\": \"v\", \"showlegend\": true, \"x\": [671.0], \"xaxis\": \"x\", \"y\": [88], \"yaxis\": \"y\", \"type\": \"scatter\"}, {\"hovertemplate\": \"Creative Name=Linkedin 1-2<br>Day=35<br>Total Spend in CAD=%{x}<br>Clicks=%{y}<br>Impressions=%{marker.size}<extra></extra>\", \"legendgroup\": \"Linkedin 1-2\", \"marker\": {\"color\": \"#ab63fa\", \"size\": [30784], \"sizemode\": \"area\", \"sizeref\": 15.58909090909091, \"symbol\": \"circle\"}, \"mode\": \"markers\", \"name\": \"Linkedin 1-2\", \"orientation\": \"v\", \"showlegend\": true, \"x\": [759.79], \"xaxis\": \"x\", \"y\": [112], \"yaxis\": \"y\", \"type\": \"scatter\"}], \"name\": \"35\"}, {\"data\": [{\"hovertemplate\": \"Creative Name=LinkedIn1-1<br>Day=36<br>Total Spend in CAD=%{x}<br>Clicks=%{y}<br>Impressions=%{marker.size}<extra></extra>\", \"legendgroup\": \"LinkedIn1-1\", \"marker\": {\"color\": \"#636efa\", \"size\": [26148], \"sizemode\": \"area\", \"sizeref\": 15.58909090909091, \"symbol\": \"circle\"}, \"mode\": \"markers\", \"name\": \"LinkedIn1-1\", \"orientation\": \"v\", \"showlegend\": true, \"x\": [653.12], \"xaxis\": \"x\", \"y\": [88], \"yaxis\": \"y\", \"type\": \"scatter\"}, {\"hovertemplate\": \"Creative Name=Linkedin 2-2<br>Day=36<br>Total Spend in CAD=%{x}<br>Clicks=%{y}<br>Impressions=%{marker.size}<extra></extra>\", \"legendgroup\": \"Linkedin 2-2\", \"marker\": {\"color\": \"#EF553B\", \"size\": [11562], \"sizemode\": \"area\", \"sizeref\": 15.58909090909091, \"symbol\": \"circle\"}, \"mode\": \"markers\", \"name\": \"Linkedin 2-2\", \"orientation\": \"v\", \"showlegend\": true, \"x\": [224.96], \"xaxis\": \"x\", \"y\": [34], \"yaxis\": \"y\", \"type\": \"scatter\"}, {\"hovertemplate\": \"Creative Name=Linkedin 2-1<br>Day=36<br>Total Spend in CAD=%{x}<br>Clicks=%{y}<br>Impressions=%{marker.size}<extra></extra>\", \"legendgroup\": \"Linkedin 2-1\", \"marker\": {\"color\": \"#00cc96\", \"size\": [29257], \"sizemode\": \"area\", \"sizeref\": 15.58909090909091, \"symbol\": \"circle\"}, \"mode\": \"markers\", \"name\": \"Linkedin 2-1\", \"orientation\": \"v\", \"showlegend\": true, \"x\": [691.53], \"xaxis\": \"x\", \"y\": [91], \"yaxis\": \"y\", \"type\": \"scatter\"}, {\"hovertemplate\": \"Creative Name=Linkedin 1-2<br>Day=36<br>Total Spend in CAD=%{x}<br>Clicks=%{y}<br>Impressions=%{marker.size}<extra></extra>\", \"legendgroup\": \"Linkedin 1-2\", \"marker\": {\"color\": \"#ab63fa\", \"size\": [31735], \"sizemode\": \"area\", \"sizeref\": 15.58909090909091, \"symbol\": \"circle\"}, \"mode\": \"markers\", \"name\": \"Linkedin 1-2\", \"orientation\": \"v\", \"showlegend\": true, \"x\": [784.23], \"xaxis\": \"x\", \"y\": [113], \"yaxis\": \"y\", \"type\": \"scatter\"}], \"name\": \"36\"}, {\"data\": [{\"hovertemplate\": \"Creative Name=LinkedIn1-1<br>Day=37<br>Total Spend in CAD=%{x}<br>Clicks=%{y}<br>Impressions=%{marker.size}<extra></extra>\", \"legendgroup\": \"LinkedIn1-1\", \"marker\": {\"color\": \"#636efa\", \"size\": [26678], \"sizemode\": \"area\", \"sizeref\": 15.58909090909091, \"symbol\": \"circle\"}, \"mode\": \"markers\", \"name\": \"LinkedIn1-1\", \"orientation\": \"v\", \"showlegend\": true, \"x\": [672.77], \"xaxis\": \"x\", \"y\": [92], \"yaxis\": \"y\", \"type\": \"scatter\"}, {\"hovertemplate\": \"Creative Name=Linkedin 2-2<br>Day=37<br>Total Spend in CAD=%{x}<br>Clicks=%{y}<br>Impressions=%{marker.size}<extra></extra>\", \"legendgroup\": \"Linkedin 2-2\", \"marker\": {\"color\": \"#EF553B\", \"size\": [11562], \"sizemode\": \"area\", \"sizeref\": 15.58909090909091, \"symbol\": \"circle\"}, \"mode\": \"markers\", \"name\": \"Linkedin 2-2\", \"orientation\": \"v\", \"showlegend\": true, \"x\": [224.96], \"xaxis\": \"x\", \"y\": [34], \"yaxis\": \"y\", \"type\": \"scatter\"}, {\"hovertemplate\": \"Creative Name=Linkedin 2-1<br>Day=37<br>Total Spend in CAD=%{x}<br>Clicks=%{y}<br>Impressions=%{marker.size}<extra></extra>\", \"legendgroup\": \"Linkedin 2-1\", \"marker\": {\"color\": \"#00cc96\", \"size\": [29898], \"sizemode\": \"area\", \"sizeref\": 15.58909090909091, \"symbol\": \"circle\"}, \"mode\": \"markers\", \"name\": \"Linkedin 2-1\", \"orientation\": \"v\", \"showlegend\": true, \"x\": [716.6], \"xaxis\": \"x\", \"y\": [93], \"yaxis\": \"y\", \"type\": \"scatter\"}, {\"hovertemplate\": \"Creative Name=Linkedin 1-2<br>Day=37<br>Total Spend in CAD=%{x}<br>Clicks=%{y}<br>Impressions=%{marker.size}<extra></extra>\", \"legendgroup\": \"Linkedin 1-2\", \"marker\": {\"color\": \"#ab63fa\", \"size\": [32562], \"sizemode\": \"area\", \"sizeref\": 15.58909090909091, \"symbol\": \"circle\"}, \"mode\": \"markers\", \"name\": \"Linkedin 1-2\", \"orientation\": \"v\", \"showlegend\": true, \"x\": [804.68], \"xaxis\": \"x\", \"y\": [120], \"yaxis\": \"y\", \"type\": \"scatter\"}], \"name\": \"37\"}, {\"data\": [{\"hovertemplate\": \"Creative Name=LinkedIn1-1<br>Day=38<br>Total Spend in CAD=%{x}<br>Clicks=%{y}<br>Impressions=%{marker.size}<extra></extra>\", \"legendgroup\": \"LinkedIn1-1\", \"marker\": {\"color\": \"#636efa\", \"size\": [27541], \"sizemode\": \"area\", \"sizeref\": 15.58909090909091, \"symbol\": \"circle\"}, \"mode\": \"markers\", \"name\": \"LinkedIn1-1\", \"orientation\": \"v\", \"showlegend\": true, \"x\": [691.64], \"xaxis\": \"x\", \"y\": [93], \"yaxis\": \"y\", \"type\": \"scatter\"}, {\"hovertemplate\": \"Creative Name=Linkedin 2-2<br>Day=38<br>Total Spend in CAD=%{x}<br>Clicks=%{y}<br>Impressions=%{marker.size}<extra></extra>\", \"legendgroup\": \"Linkedin 2-2\", \"marker\": {\"color\": \"#EF553B\", \"size\": [11562], \"sizemode\": \"area\", \"sizeref\": 15.58909090909091, \"symbol\": \"circle\"}, \"mode\": \"markers\", \"name\": \"Linkedin 2-2\", \"orientation\": \"v\", \"showlegend\": true, \"x\": [224.96], \"xaxis\": \"x\", \"y\": [34], \"yaxis\": \"y\", \"type\": \"scatter\"}, {\"hovertemplate\": \"Creative Name=Linkedin 2-1<br>Day=38<br>Total Spend in CAD=%{x}<br>Clicks=%{y}<br>Impressions=%{marker.size}<extra></extra>\", \"legendgroup\": \"Linkedin 2-1\", \"marker\": {\"color\": \"#00cc96\", \"size\": [30713], \"sizemode\": \"area\", \"sizeref\": 15.58909090909091, \"symbol\": \"circle\"}, \"mode\": \"markers\", \"name\": \"Linkedin 2-1\", \"orientation\": \"v\", \"showlegend\": true, \"x\": [737.13], \"xaxis\": \"x\", \"y\": [95], \"yaxis\": \"y\", \"type\": \"scatter\"}, {\"hovertemplate\": \"Creative Name=Linkedin 1-2<br>Day=38<br>Total Spend in CAD=%{x}<br>Clicks=%{y}<br>Impressions=%{marker.size}<extra></extra>\", \"legendgroup\": \"Linkedin 1-2\", \"marker\": {\"color\": \"#ab63fa\", \"size\": [33628], \"sizemode\": \"area\", \"sizeref\": 15.58909090909091, \"symbol\": \"circle\"}, \"mode\": \"markers\", \"name\": \"Linkedin 1-2\", \"orientation\": \"v\", \"showlegend\": true, \"x\": [831.02], \"xaxis\": \"x\", \"y\": [126], \"yaxis\": \"y\", \"type\": \"scatter\"}], \"name\": \"38\"}, {\"data\": [{\"hovertemplate\": \"Creative Name=LinkedIn1-1<br>Day=39<br>Total Spend in CAD=%{x}<br>Clicks=%{y}<br>Impressions=%{marker.size}<extra></extra>\", \"legendgroup\": \"LinkedIn1-1\", \"marker\": {\"color\": \"#636efa\", \"size\": [28278], \"sizemode\": \"area\", \"sizeref\": 15.58909090909091, \"symbol\": \"circle\"}, \"mode\": \"markers\", \"name\": \"LinkedIn1-1\", \"orientation\": \"v\", \"showlegend\": true, \"x\": [710.05], \"xaxis\": \"x\", \"y\": [97], \"yaxis\": \"y\", \"type\": \"scatter\"}, {\"hovertemplate\": \"Creative Name=Linkedin 2-2<br>Day=39<br>Total Spend in CAD=%{x}<br>Clicks=%{y}<br>Impressions=%{marker.size}<extra></extra>\", \"legendgroup\": \"Linkedin 2-2\", \"marker\": {\"color\": \"#EF553B\", \"size\": [11562], \"sizemode\": \"area\", \"sizeref\": 15.58909090909091, \"symbol\": \"circle\"}, \"mode\": \"markers\", \"name\": \"Linkedin 2-2\", \"orientation\": \"v\", \"showlegend\": true, \"x\": [224.96], \"xaxis\": \"x\", \"y\": [34], \"yaxis\": \"y\", \"type\": \"scatter\"}, {\"hovertemplate\": \"Creative Name=Linkedin 2-1<br>Day=39<br>Total Spend in CAD=%{x}<br>Clicks=%{y}<br>Impressions=%{marker.size}<extra></extra>\", \"legendgroup\": \"Linkedin 2-1\", \"marker\": {\"color\": \"#00cc96\", \"size\": [31465], \"sizemode\": \"area\", \"sizeref\": 15.58909090909091, \"symbol\": \"circle\"}, \"mode\": \"markers\", \"name\": \"Linkedin 2-1\", \"orientation\": \"v\", \"showlegend\": true, \"x\": [758.9], \"xaxis\": \"x\", \"y\": [97], \"yaxis\": \"y\", \"type\": \"scatter\"}, {\"hovertemplate\": \"Creative Name=Linkedin 1-2<br>Day=39<br>Total Spend in CAD=%{x}<br>Clicks=%{y}<br>Impressions=%{marker.size}<extra></extra>\", \"legendgroup\": \"Linkedin 1-2\", \"marker\": {\"color\": \"#ab63fa\", \"size\": [34519], \"sizemode\": \"area\", \"sizeref\": 15.58909090909091, \"symbol\": \"circle\"}, \"mode\": \"markers\", \"name\": \"Linkedin 1-2\", \"orientation\": \"v\", \"showlegend\": true, \"x\": [856.2], \"xaxis\": \"x\", \"y\": [131], \"yaxis\": \"y\", \"type\": \"scatter\"}], \"name\": \"39\"}, {\"data\": [{\"hovertemplate\": \"Creative Name=LinkedIn1-1<br>Day=40<br>Total Spend in CAD=%{x}<br>Clicks=%{y}<br>Impressions=%{marker.size}<extra></extra>\", \"legendgroup\": \"LinkedIn1-1\", \"marker\": {\"color\": \"#636efa\", \"size\": [28849], \"sizemode\": \"area\", \"sizeref\": 15.58909090909091, \"symbol\": \"circle\"}, \"mode\": \"markers\", \"name\": \"LinkedIn1-1\", \"orientation\": \"v\", \"showlegend\": true, \"x\": [724.3], \"xaxis\": \"x\", \"y\": [97], \"yaxis\": \"y\", \"type\": \"scatter\"}, {\"hovertemplate\": \"Creative Name=Linkedin 2-2<br>Day=40<br>Total Spend in CAD=%{x}<br>Clicks=%{y}<br>Impressions=%{marker.size}<extra></extra>\", \"legendgroup\": \"Linkedin 2-2\", \"marker\": {\"color\": \"#EF553B\", \"size\": [11562], \"sizemode\": \"area\", \"sizeref\": 15.58909090909091, \"symbol\": \"circle\"}, \"mode\": \"markers\", \"name\": \"Linkedin 2-2\", \"orientation\": \"v\", \"showlegend\": true, \"x\": [224.96], \"xaxis\": \"x\", \"y\": [34], \"yaxis\": \"y\", \"type\": \"scatter\"}, {\"hovertemplate\": \"Creative Name=Linkedin 2-1<br>Day=40<br>Total Spend in CAD=%{x}<br>Clicks=%{y}<br>Impressions=%{marker.size}<extra></extra>\", \"legendgroup\": \"Linkedin 2-1\", \"marker\": {\"color\": \"#00cc96\", \"size\": [32258], \"sizemode\": \"area\", \"sizeref\": 15.58909090909091, \"symbol\": \"circle\"}, \"mode\": \"markers\", \"name\": \"Linkedin 2-1\", \"orientation\": \"v\", \"showlegend\": true, \"x\": [781.04], \"xaxis\": \"x\", \"y\": [103], \"yaxis\": \"y\", \"type\": \"scatter\"}, {\"hovertemplate\": \"Creative Name=Linkedin 1-2<br>Day=40<br>Total Spend in CAD=%{x}<br>Clicks=%{y}<br>Impressions=%{marker.size}<extra></extra>\", \"legendgroup\": \"Linkedin 1-2\", \"marker\": {\"color\": \"#ab63fa\", \"size\": [35446], \"sizemode\": \"area\", \"sizeref\": 15.58909090909091, \"symbol\": \"circle\"}, \"mode\": \"markers\", \"name\": \"Linkedin 1-2\", \"orientation\": \"v\", \"showlegend\": true, \"x\": [885.37], \"xaxis\": \"x\", \"y\": [138], \"yaxis\": \"y\", \"type\": \"scatter\"}], \"name\": \"40\"}, {\"data\": [{\"hovertemplate\": \"Creative Name=LinkedIn1-1<br>Day=41<br>Total Spend in CAD=%{x}<br>Clicks=%{y}<br>Impressions=%{marker.size}<extra></extra>\", \"legendgroup\": \"LinkedIn1-1\", \"marker\": {\"color\": \"#636efa\", \"size\": [29637], \"sizemode\": \"area\", \"sizeref\": 15.58909090909091, \"symbol\": \"circle\"}, \"mode\": \"markers\", \"name\": \"LinkedIn1-1\", \"orientation\": \"v\", \"showlegend\": true, \"x\": [740.84], \"xaxis\": \"x\", \"y\": [99], \"yaxis\": \"y\", \"type\": \"scatter\"}, {\"hovertemplate\": \"Creative Name=Linkedin 2-2<br>Day=41<br>Total Spend in CAD=%{x}<br>Clicks=%{y}<br>Impressions=%{marker.size}<extra></extra>\", \"legendgroup\": \"Linkedin 2-2\", \"marker\": {\"color\": \"#EF553B\", \"size\": [11562], \"sizemode\": \"area\", \"sizeref\": 15.58909090909091, \"symbol\": \"circle\"}, \"mode\": \"markers\", \"name\": \"Linkedin 2-2\", \"orientation\": \"v\", \"showlegend\": true, \"x\": [224.96], \"xaxis\": \"x\", \"y\": [34], \"yaxis\": \"y\", \"type\": \"scatter\"}, {\"hovertemplate\": \"Creative Name=Linkedin 2-1<br>Day=41<br>Total Spend in CAD=%{x}<br>Clicks=%{y}<br>Impressions=%{marker.size}<extra></extra>\", \"legendgroup\": \"Linkedin 2-1\", \"marker\": {\"color\": \"#00cc96\", \"size\": [33060], \"sizemode\": \"area\", \"sizeref\": 15.58909090909091, \"symbol\": \"circle\"}, \"mode\": \"markers\", \"name\": \"Linkedin 2-1\", \"orientation\": \"v\", \"showlegend\": true, \"x\": [800.32], \"xaxis\": \"x\", \"y\": [106], \"yaxis\": \"y\", \"type\": \"scatter\"}, {\"hovertemplate\": \"Creative Name=Linkedin 1-2<br>Day=41<br>Total Spend in CAD=%{x}<br>Clicks=%{y}<br>Impressions=%{marker.size}<extra></extra>\", \"legendgroup\": \"Linkedin 1-2\", \"marker\": {\"color\": \"#ab63fa\", \"size\": [36577], \"sizemode\": \"area\", \"sizeref\": 15.58909090909091, \"symbol\": \"circle\"}, \"mode\": \"markers\", \"name\": \"Linkedin 1-2\", \"orientation\": \"v\", \"showlegend\": true, \"x\": [915.05], \"xaxis\": \"x\", \"y\": [143], \"yaxis\": \"y\", \"type\": \"scatter\"}], \"name\": \"41\"}, {\"data\": [{\"hovertemplate\": \"Creative Name=LinkedIn1-1<br>Day=42<br>Total Spend in CAD=%{x}<br>Clicks=%{y}<br>Impressions=%{marker.size}<extra></extra>\", \"legendgroup\": \"LinkedIn1-1\", \"marker\": {\"color\": \"#636efa\", \"size\": [30538], \"sizemode\": \"area\", \"sizeref\": 15.58909090909091, \"symbol\": \"circle\"}, \"mode\": \"markers\", \"name\": \"LinkedIn1-1\", \"orientation\": \"v\", \"showlegend\": true, \"x\": [757.75], \"xaxis\": \"x\", \"y\": [101], \"yaxis\": \"y\", \"type\": \"scatter\"}, {\"hovertemplate\": \"Creative Name=Linkedin 2-2<br>Day=42<br>Total Spend in CAD=%{x}<br>Clicks=%{y}<br>Impressions=%{marker.size}<extra></extra>\", \"legendgroup\": \"Linkedin 2-2\", \"marker\": {\"color\": \"#EF553B\", \"size\": [11562], \"sizemode\": \"area\", \"sizeref\": 15.58909090909091, \"symbol\": \"circle\"}, \"mode\": \"markers\", \"name\": \"Linkedin 2-2\", \"orientation\": \"v\", \"showlegend\": true, \"x\": [224.96], \"xaxis\": \"x\", \"y\": [34], \"yaxis\": \"y\", \"type\": \"scatter\"}, {\"hovertemplate\": \"Creative Name=Linkedin 2-1<br>Day=42<br>Total Spend in CAD=%{x}<br>Clicks=%{y}<br>Impressions=%{marker.size}<extra></extra>\", \"legendgroup\": \"Linkedin 2-1\", \"marker\": {\"color\": \"#00cc96\", \"size\": [33761], \"sizemode\": \"area\", \"sizeref\": 15.58909090909091, \"symbol\": \"circle\"}, \"mode\": \"markers\", \"name\": \"Linkedin 2-1\", \"orientation\": \"v\", \"showlegend\": true, \"x\": [817.26], \"xaxis\": \"x\", \"y\": [107], \"yaxis\": \"y\", \"type\": \"scatter\"}, {\"hovertemplate\": \"Creative Name=Linkedin 1-2<br>Day=42<br>Total Spend in CAD=%{x}<br>Clicks=%{y}<br>Impressions=%{marker.size}<extra></extra>\", \"legendgroup\": \"Linkedin 1-2\", \"marker\": {\"color\": \"#ab63fa\", \"size\": [37763], \"sizemode\": \"area\", \"sizeref\": 15.58909090909091, \"symbol\": \"circle\"}, \"mode\": \"markers\", \"name\": \"Linkedin 1-2\", \"orientation\": \"v\", \"showlegend\": true, \"x\": [946.41], \"xaxis\": \"x\", \"y\": [147], \"yaxis\": \"y\", \"type\": \"scatter\"}], \"name\": \"42\"}, {\"data\": [{\"hovertemplate\": \"Creative Name=LinkedIn1-1<br>Day=43<br>Total Spend in CAD=%{x}<br>Clicks=%{y}<br>Impressions=%{marker.size}<extra></extra>\", \"legendgroup\": \"LinkedIn1-1\", \"marker\": {\"color\": \"#636efa\", \"size\": [31280], \"sizemode\": \"area\", \"sizeref\": 15.58909090909091, \"symbol\": \"circle\"}, \"mode\": \"markers\", \"name\": \"LinkedIn1-1\", \"orientation\": \"v\", \"showlegend\": true, \"x\": [772.55], \"xaxis\": \"x\", \"y\": [102], \"yaxis\": \"y\", \"type\": \"scatter\"}, {\"hovertemplate\": \"Creative Name=Linkedin 2-2<br>Day=43<br>Total Spend in CAD=%{x}<br>Clicks=%{y}<br>Impressions=%{marker.size}<extra></extra>\", \"legendgroup\": \"Linkedin 2-2\", \"marker\": {\"color\": \"#EF553B\", \"size\": [11562], \"sizemode\": \"area\", \"sizeref\": 15.58909090909091, \"symbol\": \"circle\"}, \"mode\": \"markers\", \"name\": \"Linkedin 2-2\", \"orientation\": \"v\", \"showlegend\": true, \"x\": [224.96], \"xaxis\": \"x\", \"y\": [34], \"yaxis\": \"y\", \"type\": \"scatter\"}, {\"hovertemplate\": \"Creative Name=Linkedin 2-1<br>Day=43<br>Total Spend in CAD=%{x}<br>Clicks=%{y}<br>Impressions=%{marker.size}<extra></extra>\", \"legendgroup\": \"Linkedin 2-1\", \"marker\": {\"color\": \"#00cc96\", \"size\": [34579], \"sizemode\": \"area\", \"sizeref\": 15.58909090909091, \"symbol\": \"circle\"}, \"mode\": \"markers\", \"name\": \"Linkedin 2-1\", \"orientation\": \"v\", \"showlegend\": true, \"x\": [835.09], \"xaxis\": \"x\", \"y\": [109], \"yaxis\": \"y\", \"type\": \"scatter\"}, {\"hovertemplate\": \"Creative Name=Linkedin 1-2<br>Day=43<br>Total Spend in CAD=%{x}<br>Clicks=%{y}<br>Impressions=%{marker.size}<extra></extra>\", \"legendgroup\": \"Linkedin 1-2\", \"marker\": {\"color\": \"#ab63fa\", \"size\": [38977], \"sizemode\": \"area\", \"sizeref\": 15.58909090909091, \"symbol\": \"circle\"}, \"mode\": \"markers\", \"name\": \"Linkedin 1-2\", \"orientation\": \"v\", \"showlegend\": true, \"x\": [979.13], \"xaxis\": \"x\", \"y\": [154], \"yaxis\": \"y\", \"type\": \"scatter\"}], \"name\": \"43\"}, {\"data\": [{\"hovertemplate\": \"Creative Name=LinkedIn1-1<br>Day=44<br>Total Spend in CAD=%{x}<br>Clicks=%{y}<br>Impressions=%{marker.size}<extra></extra>\", \"legendgroup\": \"LinkedIn1-1\", \"marker\": {\"color\": \"#636efa\", \"size\": [32019], \"sizemode\": \"area\", \"sizeref\": 15.58909090909091, \"symbol\": \"circle\"}, \"mode\": \"markers\", \"name\": \"LinkedIn1-1\", \"orientation\": \"v\", \"showlegend\": true, \"x\": [788.73], \"xaxis\": \"x\", \"y\": [102], \"yaxis\": \"y\", \"type\": \"scatter\"}, {\"hovertemplate\": \"Creative Name=Linkedin 2-2<br>Day=44<br>Total Spend in CAD=%{x}<br>Clicks=%{y}<br>Impressions=%{marker.size}<extra></extra>\", \"legendgroup\": \"Linkedin 2-2\", \"marker\": {\"color\": \"#EF553B\", \"size\": [11562], \"sizemode\": \"area\", \"sizeref\": 15.58909090909091, \"symbol\": \"circle\"}, \"mode\": \"markers\", \"name\": \"Linkedin 2-2\", \"orientation\": \"v\", \"showlegend\": true, \"x\": [224.96], \"xaxis\": \"x\", \"y\": [34], \"yaxis\": \"y\", \"type\": \"scatter\"}, {\"hovertemplate\": \"Creative Name=Linkedin 2-1<br>Day=44<br>Total Spend in CAD=%{x}<br>Clicks=%{y}<br>Impressions=%{marker.size}<extra></extra>\", \"legendgroup\": \"Linkedin 2-1\", \"marker\": {\"color\": \"#00cc96\", \"size\": [35492], \"sizemode\": \"area\", \"sizeref\": 15.58909090909091, \"symbol\": \"circle\"}, \"mode\": \"markers\", \"name\": \"Linkedin 2-1\", \"orientation\": \"v\", \"showlegend\": true, \"x\": [854.15], \"xaxis\": \"x\", \"y\": [112], \"yaxis\": \"y\", \"type\": \"scatter\"}, {\"hovertemplate\": \"Creative Name=Linkedin 1-2<br>Day=44<br>Total Spend in CAD=%{x}<br>Clicks=%{y}<br>Impressions=%{marker.size}<extra></extra>\", \"legendgroup\": \"Linkedin 1-2\", \"marker\": {\"color\": \"#ab63fa\", \"size\": [40118], \"sizemode\": \"area\", \"sizeref\": 15.58909090909091, \"symbol\": \"circle\"}, \"mode\": \"markers\", \"name\": \"Linkedin 1-2\", \"orientation\": \"v\", \"showlegend\": true, \"x\": [1009.57], \"xaxis\": \"x\", \"y\": [155], \"yaxis\": \"y\", \"type\": \"scatter\"}], \"name\": \"44\"}, {\"data\": [{\"hovertemplate\": \"Creative Name=LinkedIn1-1<br>Day=45<br>Total Spend in CAD=%{x}<br>Clicks=%{y}<br>Impressions=%{marker.size}<extra></extra>\", \"legendgroup\": \"LinkedIn1-1\", \"marker\": {\"color\": \"#636efa\", \"size\": [32919], \"sizemode\": \"area\", \"sizeref\": 15.58909090909091, \"symbol\": \"circle\"}, \"mode\": \"markers\", \"name\": \"LinkedIn1-1\", \"orientation\": \"v\", \"showlegend\": true, \"x\": [807.57], \"xaxis\": \"x\", \"y\": [104], \"yaxis\": \"y\", \"type\": \"scatter\"}, {\"hovertemplate\": \"Creative Name=Linkedin 2-2<br>Day=45<br>Total Spend in CAD=%{x}<br>Clicks=%{y}<br>Impressions=%{marker.size}<extra></extra>\", \"legendgroup\": \"Linkedin 2-2\", \"marker\": {\"color\": \"#EF553B\", \"size\": [11562], \"sizemode\": \"area\", \"sizeref\": 15.58909090909091, \"symbol\": \"circle\"}, \"mode\": \"markers\", \"name\": \"Linkedin 2-2\", \"orientation\": \"v\", \"showlegend\": true, \"x\": [224.96], \"xaxis\": \"x\", \"y\": [34], \"yaxis\": \"y\", \"type\": \"scatter\"}, {\"hovertemplate\": \"Creative Name=Linkedin 2-1<br>Day=45<br>Total Spend in CAD=%{x}<br>Clicks=%{y}<br>Impressions=%{marker.size}<extra></extra>\", \"legendgroup\": \"Linkedin 2-1\", \"marker\": {\"color\": \"#00cc96\", \"size\": [36284], \"sizemode\": \"area\", \"sizeref\": 15.58909090909091, \"symbol\": \"circle\"}, \"mode\": \"markers\", \"name\": \"Linkedin 2-1\", \"orientation\": \"v\", \"showlegend\": true, \"x\": [871.97], \"xaxis\": \"x\", \"y\": [114], \"yaxis\": \"y\", \"type\": \"scatter\"}, {\"hovertemplate\": \"Creative Name=Linkedin 1-2<br>Day=45<br>Total Spend in CAD=%{x}<br>Clicks=%{y}<br>Impressions=%{marker.size}<extra></extra>\", \"legendgroup\": \"Linkedin 1-2\", \"marker\": {\"color\": \"#ab63fa\", \"size\": [41166], \"sizemode\": \"area\", \"sizeref\": 15.58909090909091, \"symbol\": \"circle\"}, \"mode\": \"markers\", \"name\": \"Linkedin 1-2\", \"orientation\": \"v\", \"showlegend\": true, \"x\": [1038.36], \"xaxis\": \"x\", \"y\": [157], \"yaxis\": \"y\", \"type\": \"scatter\"}], \"name\": \"45\"}, {\"data\": [{\"hovertemplate\": \"Creative Name=LinkedIn1-1<br>Day=46<br>Total Spend in CAD=%{x}<br>Clicks=%{y}<br>Impressions=%{marker.size}<extra></extra>\", \"legendgroup\": \"LinkedIn1-1\", \"marker\": {\"color\": \"#636efa\", \"size\": [33693], \"sizemode\": \"area\", \"sizeref\": 15.58909090909091, \"symbol\": \"circle\"}, \"mode\": \"markers\", \"name\": \"LinkedIn1-1\", \"orientation\": \"v\", \"showlegend\": true, \"x\": [826.13], \"xaxis\": \"x\", \"y\": [106], \"yaxis\": \"y\", \"type\": \"scatter\"}, {\"hovertemplate\": \"Creative Name=Linkedin 2-2<br>Day=46<br>Total Spend in CAD=%{x}<br>Clicks=%{y}<br>Impressions=%{marker.size}<extra></extra>\", \"legendgroup\": \"Linkedin 2-2\", \"marker\": {\"color\": \"#EF553B\", \"size\": [11562], \"sizemode\": \"area\", \"sizeref\": 15.58909090909091, \"symbol\": \"circle\"}, \"mode\": \"markers\", \"name\": \"Linkedin 2-2\", \"orientation\": \"v\", \"showlegend\": true, \"x\": [224.96], \"xaxis\": \"x\", \"y\": [34], \"yaxis\": \"y\", \"type\": \"scatter\"}, {\"hovertemplate\": \"Creative Name=Linkedin 2-1<br>Day=46<br>Total Spend in CAD=%{x}<br>Clicks=%{y}<br>Impressions=%{marker.size}<extra></extra>\", \"legendgroup\": \"Linkedin 2-1\", \"marker\": {\"color\": \"#00cc96\", \"size\": [36937], \"sizemode\": \"area\", \"sizeref\": 15.58909090909091, \"symbol\": \"circle\"}, \"mode\": \"markers\", \"name\": \"Linkedin 2-1\", \"orientation\": \"v\", \"showlegend\": true, \"x\": [889.07], \"xaxis\": \"x\", \"y\": [117], \"yaxis\": \"y\", \"type\": \"scatter\"}, {\"hovertemplate\": \"Creative Name=Linkedin 1-2<br>Day=46<br>Total Spend in CAD=%{x}<br>Clicks=%{y}<br>Impressions=%{marker.size}<extra></extra>\", \"legendgroup\": \"Linkedin 1-2\", \"marker\": {\"color\": \"#ab63fa\", \"size\": [42091], \"sizemode\": \"area\", \"sizeref\": 15.58909090909091, \"symbol\": \"circle\"}, \"mode\": \"markers\", \"name\": \"Linkedin 1-2\", \"orientation\": \"v\", \"showlegend\": true, \"x\": [1068.07], \"xaxis\": \"x\", \"y\": [160], \"yaxis\": \"y\", \"type\": \"scatter\"}], \"name\": \"46\"}, {\"data\": [{\"hovertemplate\": \"Creative Name=LinkedIn1-1<br>Day=47<br>Total Spend in CAD=%{x}<br>Clicks=%{y}<br>Impressions=%{marker.size}<extra></extra>\", \"legendgroup\": \"LinkedIn1-1\", \"marker\": {\"color\": \"#636efa\", \"size\": [34475], \"sizemode\": \"area\", \"sizeref\": 15.58909090909091, \"symbol\": \"circle\"}, \"mode\": \"markers\", \"name\": \"LinkedIn1-1\", \"orientation\": \"v\", \"showlegend\": true, \"x\": [842.59], \"xaxis\": \"x\", \"y\": [112], \"yaxis\": \"y\", \"type\": \"scatter\"}, {\"hovertemplate\": \"Creative Name=Linkedin 2-2<br>Day=47<br>Total Spend in CAD=%{x}<br>Clicks=%{y}<br>Impressions=%{marker.size}<extra></extra>\", \"legendgroup\": \"Linkedin 2-2\", \"marker\": {\"color\": \"#EF553B\", \"size\": [11562], \"sizemode\": \"area\", \"sizeref\": 15.58909090909091, \"symbol\": \"circle\"}, \"mode\": \"markers\", \"name\": \"Linkedin 2-2\", \"orientation\": \"v\", \"showlegend\": true, \"x\": [224.96], \"xaxis\": \"x\", \"y\": [34], \"yaxis\": \"y\", \"type\": \"scatter\"}, {\"hovertemplate\": \"Creative Name=Linkedin 2-1<br>Day=47<br>Total Spend in CAD=%{x}<br>Clicks=%{y}<br>Impressions=%{marker.size}<extra></extra>\", \"legendgroup\": \"Linkedin 2-1\", \"marker\": {\"color\": \"#00cc96\", \"size\": [37601], \"sizemode\": \"area\", \"sizeref\": 15.58909090909091, \"symbol\": \"circle\"}, \"mode\": \"markers\", \"name\": \"Linkedin 2-1\", \"orientation\": \"v\", \"showlegend\": true, \"x\": [906.02], \"xaxis\": \"x\", \"y\": [121], \"yaxis\": \"y\", \"type\": \"scatter\"}, {\"hovertemplate\": \"Creative Name=Linkedin 1-2<br>Day=47<br>Total Spend in CAD=%{x}<br>Clicks=%{y}<br>Impressions=%{marker.size}<extra></extra>\", \"legendgroup\": \"Linkedin 1-2\", \"marker\": {\"color\": \"#ab63fa\", \"size\": [43093], \"sizemode\": \"area\", \"sizeref\": 15.58909090909091, \"symbol\": \"circle\"}, \"mode\": \"markers\", \"name\": \"Linkedin 1-2\", \"orientation\": \"v\", \"showlegend\": true, \"x\": [1099.93], \"xaxis\": \"x\", \"y\": [161], \"yaxis\": \"y\", \"type\": \"scatter\"}], \"name\": \"47\"}, {\"data\": [{\"hovertemplate\": \"Creative Name=LinkedIn1-1<br>Day=48<br>Total Spend in CAD=%{x}<br>Clicks=%{y}<br>Impressions=%{marker.size}<extra></extra>\", \"legendgroup\": \"LinkedIn1-1\", \"marker\": {\"color\": \"#636efa\", \"size\": [35058], \"sizemode\": \"area\", \"sizeref\": 15.58909090909091, \"symbol\": \"circle\"}, \"mode\": \"markers\", \"name\": \"LinkedIn1-1\", \"orientation\": \"v\", \"showlegend\": true, \"x\": [855.55], \"xaxis\": \"x\", \"y\": [112], \"yaxis\": \"y\", \"type\": \"scatter\"}, {\"hovertemplate\": \"Creative Name=Linkedin 2-2<br>Day=48<br>Total Spend in CAD=%{x}<br>Clicks=%{y}<br>Impressions=%{marker.size}<extra></extra>\", \"legendgroup\": \"Linkedin 2-2\", \"marker\": {\"color\": \"#EF553B\", \"size\": [11562], \"sizemode\": \"area\", \"sizeref\": 15.58909090909091, \"symbol\": \"circle\"}, \"mode\": \"markers\", \"name\": \"Linkedin 2-2\", \"orientation\": \"v\", \"showlegend\": true, \"x\": [224.96], \"xaxis\": \"x\", \"y\": [34], \"yaxis\": \"y\", \"type\": \"scatter\"}, {\"hovertemplate\": \"Creative Name=Linkedin 2-1<br>Day=48<br>Total Spend in CAD=%{x}<br>Clicks=%{y}<br>Impressions=%{marker.size}<extra></extra>\", \"legendgroup\": \"Linkedin 2-1\", \"marker\": {\"color\": \"#00cc96\", \"size\": [38372], \"sizemode\": \"area\", \"sizeref\": 15.58909090909091, \"symbol\": \"circle\"}, \"mode\": \"markers\", \"name\": \"Linkedin 2-1\", \"orientation\": \"v\", \"showlegend\": true, \"x\": [922.42], \"xaxis\": \"x\", \"y\": [124], \"yaxis\": \"y\", \"type\": \"scatter\"}, {\"hovertemplate\": \"Creative Name=Linkedin 1-2<br>Day=48<br>Total Spend in CAD=%{x}<br>Clicks=%{y}<br>Impressions=%{marker.size}<extra></extra>\", \"legendgroup\": \"Linkedin 1-2\", \"marker\": {\"color\": \"#ab63fa\", \"size\": [44614], \"sizemode\": \"area\", \"sizeref\": 15.58909090909091, \"symbol\": \"circle\"}, \"mode\": \"markers\", \"name\": \"Linkedin 1-2\", \"orientation\": \"v\", \"showlegend\": true, \"x\": [1135.83], \"xaxis\": \"x\", \"y\": [164], \"yaxis\": \"y\", \"type\": \"scatter\"}], \"name\": \"48\"}, {\"data\": [{\"hovertemplate\": \"Creative Name=LinkedIn1-1<br>Day=49<br>Total Spend in CAD=%{x}<br>Clicks=%{y}<br>Impressions=%{marker.size}<extra></extra>\", \"legendgroup\": \"LinkedIn1-1\", \"marker\": {\"color\": \"#636efa\", \"size\": [35770], \"sizemode\": \"area\", \"sizeref\": 15.58909090909091, \"symbol\": \"circle\"}, \"mode\": \"markers\", \"name\": \"LinkedIn1-1\", \"orientation\": \"v\", \"showlegend\": true, \"x\": [870.82], \"xaxis\": \"x\", \"y\": [116], \"yaxis\": \"y\", \"type\": \"scatter\"}, {\"hovertemplate\": \"Creative Name=Linkedin 2-2<br>Day=49<br>Total Spend in CAD=%{x}<br>Clicks=%{y}<br>Impressions=%{marker.size}<extra></extra>\", \"legendgroup\": \"Linkedin 2-2\", \"marker\": {\"color\": \"#EF553B\", \"size\": [11562], \"sizemode\": \"area\", \"sizeref\": 15.58909090909091, \"symbol\": \"circle\"}, \"mode\": \"markers\", \"name\": \"Linkedin 2-2\", \"orientation\": \"v\", \"showlegend\": true, \"x\": [224.96], \"xaxis\": \"x\", \"y\": [34], \"yaxis\": \"y\", \"type\": \"scatter\"}, {\"hovertemplate\": \"Creative Name=Linkedin 2-1<br>Day=49<br>Total Spend in CAD=%{x}<br>Clicks=%{y}<br>Impressions=%{marker.size}<extra></extra>\", \"legendgroup\": \"Linkedin 2-1\", \"marker\": {\"color\": \"#00cc96\", \"size\": [39081], \"sizemode\": \"area\", \"sizeref\": 15.58909090909091, \"symbol\": \"circle\"}, \"mode\": \"markers\", \"name\": \"Linkedin 2-1\", \"orientation\": \"v\", \"showlegend\": true, \"x\": [941.5], \"xaxis\": \"x\", \"y\": [125], \"yaxis\": \"y\", \"type\": \"scatter\"}, {\"hovertemplate\": \"Creative Name=Linkedin 1-2<br>Day=49<br>Total Spend in CAD=%{x}<br>Clicks=%{y}<br>Impressions=%{marker.size}<extra></extra>\", \"legendgroup\": \"Linkedin 1-2\", \"marker\": {\"color\": \"#ab63fa\", \"size\": [45774], \"sizemode\": \"area\", \"sizeref\": 15.58909090909091, \"symbol\": \"circle\"}, \"mode\": \"markers\", \"name\": \"Linkedin 1-2\", \"orientation\": \"v\", \"showlegend\": true, \"x\": [1166.67], \"xaxis\": \"x\", \"y\": [168], \"yaxis\": \"y\", \"type\": \"scatter\"}], \"name\": \"49\"}, {\"data\": [{\"hovertemplate\": \"Creative Name=LinkedIn1-1<br>Day=50<br>Total Spend in CAD=%{x}<br>Clicks=%{y}<br>Impressions=%{marker.size}<extra></extra>\", \"legendgroup\": \"LinkedIn1-1\", \"marker\": {\"color\": \"#636efa\", \"size\": [36337], \"sizemode\": \"area\", \"sizeref\": 15.58909090909091, \"symbol\": \"circle\"}, \"mode\": \"markers\", \"name\": \"LinkedIn1-1\", \"orientation\": \"v\", \"showlegend\": true, \"x\": [884.92], \"xaxis\": \"x\", \"y\": [117], \"yaxis\": \"y\", \"type\": \"scatter\"}, {\"hovertemplate\": \"Creative Name=Linkedin 2-2<br>Day=50<br>Total Spend in CAD=%{x}<br>Clicks=%{y}<br>Impressions=%{marker.size}<extra></extra>\", \"legendgroup\": \"Linkedin 2-2\", \"marker\": {\"color\": \"#EF553B\", \"size\": [11562], \"sizemode\": \"area\", \"sizeref\": 15.58909090909091, \"symbol\": \"circle\"}, \"mode\": \"markers\", \"name\": \"Linkedin 2-2\", \"orientation\": \"v\", \"showlegend\": true, \"x\": [224.96], \"xaxis\": \"x\", \"y\": [34], \"yaxis\": \"y\", \"type\": \"scatter\"}, {\"hovertemplate\": \"Creative Name=Linkedin 2-1<br>Day=50<br>Total Spend in CAD=%{x}<br>Clicks=%{y}<br>Impressions=%{marker.size}<extra></extra>\", \"legendgroup\": \"Linkedin 2-1\", \"marker\": {\"color\": \"#00cc96\", \"size\": [39644], \"sizemode\": \"area\", \"sizeref\": 15.58909090909091, \"symbol\": \"circle\"}, \"mode\": \"markers\", \"name\": \"Linkedin 2-1\", \"orientation\": \"v\", \"showlegend\": true, \"x\": [957.66], \"xaxis\": \"x\", \"y\": [127], \"yaxis\": \"y\", \"type\": \"scatter\"}, {\"hovertemplate\": \"Creative Name=Linkedin 1-2<br>Day=50<br>Total Spend in CAD=%{x}<br>Clicks=%{y}<br>Impressions=%{marker.size}<extra></extra>\", \"legendgroup\": \"Linkedin 1-2\", \"marker\": {\"color\": \"#ab63fa\", \"size\": [47157], \"sizemode\": \"area\", \"sizeref\": 15.58909090909091, \"symbol\": \"circle\"}, \"mode\": \"markers\", \"name\": \"Linkedin 1-2\", \"orientation\": \"v\", \"showlegend\": true, \"x\": [1201.55], \"xaxis\": \"x\", \"y\": [177], \"yaxis\": \"y\", \"type\": \"scatter\"}], \"name\": \"50\"}]);\n",
       "                        }).then(function(){\n",
       "                            \n",
       "var gd = document.getElementById('94f28fc5-0b49-4017-b4be-53f16e4b1319');\n",
       "var x = new MutationObserver(function (mutations, observer) {{\n",
       "        var display = window.getComputedStyle(gd).display;\n",
       "        if (!display || display === 'none') {{\n",
       "            console.log([gd, 'removed!']);\n",
       "            Plotly.purge(gd);\n",
       "            observer.disconnect();\n",
       "        }}\n",
       "}});\n",
       "\n",
       "// Listen for the removal of the full notebook cells\n",
       "var notebookContainer = gd.closest('#notebook-container');\n",
       "if (notebookContainer) {{\n",
       "    x.observe(notebookContainer, {childList: true});\n",
       "}}\n",
       "\n",
       "// Listen for the clearing of the current output cell\n",
       "var outputEl = gd.closest('.output');\n",
       "if (outputEl) {{\n",
       "    x.observe(outputEl, {childList: true});\n",
       "}}\n",
       "\n",
       "                        })\n",
       "                };\n",
       "                });\n",
       "            </script>\n",
       "        </div>"
      ]
     },
     "metadata": {},
     "output_type": "display_data"
    }
   ],
   "source": [
    "fig2.show()"
   ]
  },
  {
   "cell_type": "code",
   "execution_count": 69,
   "metadata": {},
   "outputs": [],
   "source": [
    "fig3=px.scatter(df,x='Day',y='Total Engagements',labels={'Total Engagements':'Conversions'},trendline='lowess',trendline_color_override='red',template='plotly_white',title='Trendline of Campaign Conversions/ Day')"
   ]
  },
  {
   "cell_type": "code",
   "execution_count": 70,
   "metadata": {},
   "outputs": [
    {
     "data": {
      "application/vnd.plotly.v1+json": {
       "config": {
        "plotlyServerURL": "https://plot.ly"
       },
       "data": [
        {
         "hovertemplate": "Day=%{x}<br>Conversions=%{y}<extra></extra>",
         "legendgroup": "",
         "marker": {
          "color": "#636efa",
          "symbol": "circle"
         },
         "mode": "markers",
         "name": "",
         "orientation": "v",
         "showlegend": false,
         "type": "scatter",
         "x": [
          1,
          2,
          3,
          4,
          5,
          6,
          7,
          8,
          9,
          10,
          11,
          12,
          13,
          14,
          15,
          16,
          17,
          18,
          19,
          20,
          21,
          22,
          23,
          24,
          25,
          26,
          27,
          28,
          29,
          30,
          31,
          32,
          33,
          34,
          35,
          36,
          37,
          38,
          39,
          40,
          41,
          42,
          43,
          44,
          45,
          46,
          47,
          48,
          49,
          50
         ],
         "xaxis": "x",
         "y": [
          25,
          19,
          18,
          11,
          19,
          21,
          16,
          14,
          10,
          13,
          19,
          10,
          23,
          23,
          27,
          25,
          19,
          21,
          32,
          24,
          21,
          25,
          28,
          25,
          23,
          27,
          22,
          22,
          28,
          27,
          23,
          30,
          24,
          22,
          23,
          21,
          27,
          26,
          23,
          31,
          29,
          32,
          32,
          23,
          19,
          23,
          26,
          18,
          25,
          28
         ],
         "yaxis": "y"
        },
        {
         "hovertemplate": "<b>LOWESS trendline</b><br><br>Day=%{x}<br>Conversions=%{y} <b>(trend)</b><extra></extra>",
         "legendgroup": "",
         "line": {
          "color": "red"
         },
         "marker": {
          "color": "#636efa",
          "symbol": "circle"
         },
         "mode": "lines",
         "name": "",
         "showlegend": false,
         "type": "scatter",
         "x": [
          1,
          2,
          3,
          4,
          5,
          6,
          7,
          8,
          9,
          10,
          11,
          12,
          13,
          14,
          15,
          16,
          17,
          18,
          19,
          20,
          21,
          22,
          23,
          24,
          25,
          26,
          27,
          28,
          29,
          30,
          31,
          32,
          33,
          34,
          35,
          36,
          37,
          38,
          39,
          40,
          41,
          42,
          43,
          44,
          45,
          46,
          47,
          48,
          49,
          50
         ],
         "xaxis": "x",
         "y": [
          15.864722946491899,
          16.22482337846135,
          16.591354098731152,
          16.96298793264817,
          17.33807940645296,
          17.715286778265764,
          18.09297362294712,
          18.46895850807314,
          18.8411026374629,
          19.20777163367804,
          19.568170074035606,
          19.922656679625653,
          20.27294941124143,
          20.623458218556593,
          20.98332534432503,
          21.37306349797469,
          21.831081546516124,
          22.2706275265415,
          22.70535180480811,
          23.11914631325458,
          23.495081263784993,
          23.810459832235775,
          24.053872398473455,
          24.230853529719532,
          24.354547486847487,
          24.445147626978407,
          24.52548343085899,
          24.61523851639296,
          24.72810294845784,
          24.86131558240813,
          24.998792856186615,
          25.121835991115308,
          25.220104831440516,
          25.287666005255335,
          25.28111841475526,
          25.25477596894979,
          25.233419608712204,
          25.220808220920663,
          25.216049616456893,
          25.21776022794787,
          25.224799164706905,
          25.235670390918962,
          25.24860043427129,
          25.261536929888727,
          25.272350174783128,
          25.279551801392728,
          25.282516277078983,
          25.281099055273756,
          25.275358140697712,
          25.2659445803753
         ],
         "yaxis": "y"
        }
       ],
       "layout": {
        "legend": {
         "tracegroupgap": 0
        },
        "template": {
         "data": {
          "bar": [
           {
            "error_x": {
             "color": "#2a3f5f"
            },
            "error_y": {
             "color": "#2a3f5f"
            },
            "marker": {
             "line": {
              "color": "white",
              "width": 0.5
             }
            },
            "type": "bar"
           }
          ],
          "barpolar": [
           {
            "marker": {
             "line": {
              "color": "white",
              "width": 0.5
             }
            },
            "type": "barpolar"
           }
          ],
          "carpet": [
           {
            "aaxis": {
             "endlinecolor": "#2a3f5f",
             "gridcolor": "#C8D4E3",
             "linecolor": "#C8D4E3",
             "minorgridcolor": "#C8D4E3",
             "startlinecolor": "#2a3f5f"
            },
            "baxis": {
             "endlinecolor": "#2a3f5f",
             "gridcolor": "#C8D4E3",
             "linecolor": "#C8D4E3",
             "minorgridcolor": "#C8D4E3",
             "startlinecolor": "#2a3f5f"
            },
            "type": "carpet"
           }
          ],
          "choropleth": [
           {
            "colorbar": {
             "outlinewidth": 0,
             "ticks": ""
            },
            "type": "choropleth"
           }
          ],
          "contour": [
           {
            "colorbar": {
             "outlinewidth": 0,
             "ticks": ""
            },
            "colorscale": [
             [
              0,
              "#0d0887"
             ],
             [
              0.1111111111111111,
              "#46039f"
             ],
             [
              0.2222222222222222,
              "#7201a8"
             ],
             [
              0.3333333333333333,
              "#9c179e"
             ],
             [
              0.4444444444444444,
              "#bd3786"
             ],
             [
              0.5555555555555556,
              "#d8576b"
             ],
             [
              0.6666666666666666,
              "#ed7953"
             ],
             [
              0.7777777777777778,
              "#fb9f3a"
             ],
             [
              0.8888888888888888,
              "#fdca26"
             ],
             [
              1,
              "#f0f921"
             ]
            ],
            "type": "contour"
           }
          ],
          "contourcarpet": [
           {
            "colorbar": {
             "outlinewidth": 0,
             "ticks": ""
            },
            "type": "contourcarpet"
           }
          ],
          "heatmap": [
           {
            "colorbar": {
             "outlinewidth": 0,
             "ticks": ""
            },
            "colorscale": [
             [
              0,
              "#0d0887"
             ],
             [
              0.1111111111111111,
              "#46039f"
             ],
             [
              0.2222222222222222,
              "#7201a8"
             ],
             [
              0.3333333333333333,
              "#9c179e"
             ],
             [
              0.4444444444444444,
              "#bd3786"
             ],
             [
              0.5555555555555556,
              "#d8576b"
             ],
             [
              0.6666666666666666,
              "#ed7953"
             ],
             [
              0.7777777777777778,
              "#fb9f3a"
             ],
             [
              0.8888888888888888,
              "#fdca26"
             ],
             [
              1,
              "#f0f921"
             ]
            ],
            "type": "heatmap"
           }
          ],
          "heatmapgl": [
           {
            "colorbar": {
             "outlinewidth": 0,
             "ticks": ""
            },
            "colorscale": [
             [
              0,
              "#0d0887"
             ],
             [
              0.1111111111111111,
              "#46039f"
             ],
             [
              0.2222222222222222,
              "#7201a8"
             ],
             [
              0.3333333333333333,
              "#9c179e"
             ],
             [
              0.4444444444444444,
              "#bd3786"
             ],
             [
              0.5555555555555556,
              "#d8576b"
             ],
             [
              0.6666666666666666,
              "#ed7953"
             ],
             [
              0.7777777777777778,
              "#fb9f3a"
             ],
             [
              0.8888888888888888,
              "#fdca26"
             ],
             [
              1,
              "#f0f921"
             ]
            ],
            "type": "heatmapgl"
           }
          ],
          "histogram": [
           {
            "marker": {
             "colorbar": {
              "outlinewidth": 0,
              "ticks": ""
             }
            },
            "type": "histogram"
           }
          ],
          "histogram2d": [
           {
            "colorbar": {
             "outlinewidth": 0,
             "ticks": ""
            },
            "colorscale": [
             [
              0,
              "#0d0887"
             ],
             [
              0.1111111111111111,
              "#46039f"
             ],
             [
              0.2222222222222222,
              "#7201a8"
             ],
             [
              0.3333333333333333,
              "#9c179e"
             ],
             [
              0.4444444444444444,
              "#bd3786"
             ],
             [
              0.5555555555555556,
              "#d8576b"
             ],
             [
              0.6666666666666666,
              "#ed7953"
             ],
             [
              0.7777777777777778,
              "#fb9f3a"
             ],
             [
              0.8888888888888888,
              "#fdca26"
             ],
             [
              1,
              "#f0f921"
             ]
            ],
            "type": "histogram2d"
           }
          ],
          "histogram2dcontour": [
           {
            "colorbar": {
             "outlinewidth": 0,
             "ticks": ""
            },
            "colorscale": [
             [
              0,
              "#0d0887"
             ],
             [
              0.1111111111111111,
              "#46039f"
             ],
             [
              0.2222222222222222,
              "#7201a8"
             ],
             [
              0.3333333333333333,
              "#9c179e"
             ],
             [
              0.4444444444444444,
              "#bd3786"
             ],
             [
              0.5555555555555556,
              "#d8576b"
             ],
             [
              0.6666666666666666,
              "#ed7953"
             ],
             [
              0.7777777777777778,
              "#fb9f3a"
             ],
             [
              0.8888888888888888,
              "#fdca26"
             ],
             [
              1,
              "#f0f921"
             ]
            ],
            "type": "histogram2dcontour"
           }
          ],
          "mesh3d": [
           {
            "colorbar": {
             "outlinewidth": 0,
             "ticks": ""
            },
            "type": "mesh3d"
           }
          ],
          "parcoords": [
           {
            "line": {
             "colorbar": {
              "outlinewidth": 0,
              "ticks": ""
             }
            },
            "type": "parcoords"
           }
          ],
          "pie": [
           {
            "automargin": true,
            "type": "pie"
           }
          ],
          "scatter": [
           {
            "marker": {
             "colorbar": {
              "outlinewidth": 0,
              "ticks": ""
             }
            },
            "type": "scatter"
           }
          ],
          "scatter3d": [
           {
            "line": {
             "colorbar": {
              "outlinewidth": 0,
              "ticks": ""
             }
            },
            "marker": {
             "colorbar": {
              "outlinewidth": 0,
              "ticks": ""
             }
            },
            "type": "scatter3d"
           }
          ],
          "scattercarpet": [
           {
            "marker": {
             "colorbar": {
              "outlinewidth": 0,
              "ticks": ""
             }
            },
            "type": "scattercarpet"
           }
          ],
          "scattergeo": [
           {
            "marker": {
             "colorbar": {
              "outlinewidth": 0,
              "ticks": ""
             }
            },
            "type": "scattergeo"
           }
          ],
          "scattergl": [
           {
            "marker": {
             "colorbar": {
              "outlinewidth": 0,
              "ticks": ""
             }
            },
            "type": "scattergl"
           }
          ],
          "scattermapbox": [
           {
            "marker": {
             "colorbar": {
              "outlinewidth": 0,
              "ticks": ""
             }
            },
            "type": "scattermapbox"
           }
          ],
          "scatterpolar": [
           {
            "marker": {
             "colorbar": {
              "outlinewidth": 0,
              "ticks": ""
             }
            },
            "type": "scatterpolar"
           }
          ],
          "scatterpolargl": [
           {
            "marker": {
             "colorbar": {
              "outlinewidth": 0,
              "ticks": ""
             }
            },
            "type": "scatterpolargl"
           }
          ],
          "scatterternary": [
           {
            "marker": {
             "colorbar": {
              "outlinewidth": 0,
              "ticks": ""
             }
            },
            "type": "scatterternary"
           }
          ],
          "surface": [
           {
            "colorbar": {
             "outlinewidth": 0,
             "ticks": ""
            },
            "colorscale": [
             [
              0,
              "#0d0887"
             ],
             [
              0.1111111111111111,
              "#46039f"
             ],
             [
              0.2222222222222222,
              "#7201a8"
             ],
             [
              0.3333333333333333,
              "#9c179e"
             ],
             [
              0.4444444444444444,
              "#bd3786"
             ],
             [
              0.5555555555555556,
              "#d8576b"
             ],
             [
              0.6666666666666666,
              "#ed7953"
             ],
             [
              0.7777777777777778,
              "#fb9f3a"
             ],
             [
              0.8888888888888888,
              "#fdca26"
             ],
             [
              1,
              "#f0f921"
             ]
            ],
            "type": "surface"
           }
          ],
          "table": [
           {
            "cells": {
             "fill": {
              "color": "#EBF0F8"
             },
             "line": {
              "color": "white"
             }
            },
            "header": {
             "fill": {
              "color": "#C8D4E3"
             },
             "line": {
              "color": "white"
             }
            },
            "type": "table"
           }
          ]
         },
         "layout": {
          "annotationdefaults": {
           "arrowcolor": "#2a3f5f",
           "arrowhead": 0,
           "arrowwidth": 1
          },
          "coloraxis": {
           "colorbar": {
            "outlinewidth": 0,
            "ticks": ""
           }
          },
          "colorscale": {
           "diverging": [
            [
             0,
             "#8e0152"
            ],
            [
             0.1,
             "#c51b7d"
            ],
            [
             0.2,
             "#de77ae"
            ],
            [
             0.3,
             "#f1b6da"
            ],
            [
             0.4,
             "#fde0ef"
            ],
            [
             0.5,
             "#f7f7f7"
            ],
            [
             0.6,
             "#e6f5d0"
            ],
            [
             0.7,
             "#b8e186"
            ],
            [
             0.8,
             "#7fbc41"
            ],
            [
             0.9,
             "#4d9221"
            ],
            [
             1,
             "#276419"
            ]
           ],
           "sequential": [
            [
             0,
             "#0d0887"
            ],
            [
             0.1111111111111111,
             "#46039f"
            ],
            [
             0.2222222222222222,
             "#7201a8"
            ],
            [
             0.3333333333333333,
             "#9c179e"
            ],
            [
             0.4444444444444444,
             "#bd3786"
            ],
            [
             0.5555555555555556,
             "#d8576b"
            ],
            [
             0.6666666666666666,
             "#ed7953"
            ],
            [
             0.7777777777777778,
             "#fb9f3a"
            ],
            [
             0.8888888888888888,
             "#fdca26"
            ],
            [
             1,
             "#f0f921"
            ]
           ],
           "sequentialminus": [
            [
             0,
             "#0d0887"
            ],
            [
             0.1111111111111111,
             "#46039f"
            ],
            [
             0.2222222222222222,
             "#7201a8"
            ],
            [
             0.3333333333333333,
             "#9c179e"
            ],
            [
             0.4444444444444444,
             "#bd3786"
            ],
            [
             0.5555555555555556,
             "#d8576b"
            ],
            [
             0.6666666666666666,
             "#ed7953"
            ],
            [
             0.7777777777777778,
             "#fb9f3a"
            ],
            [
             0.8888888888888888,
             "#fdca26"
            ],
            [
             1,
             "#f0f921"
            ]
           ]
          },
          "colorway": [
           "#636efa",
           "#EF553B",
           "#00cc96",
           "#ab63fa",
           "#FFA15A",
           "#19d3f3",
           "#FF6692",
           "#B6E880",
           "#FF97FF",
           "#FECB52"
          ],
          "font": {
           "color": "#2a3f5f"
          },
          "geo": {
           "bgcolor": "white",
           "lakecolor": "white",
           "landcolor": "white",
           "showlakes": true,
           "showland": true,
           "subunitcolor": "#C8D4E3"
          },
          "hoverlabel": {
           "align": "left"
          },
          "hovermode": "closest",
          "mapbox": {
           "style": "light"
          },
          "paper_bgcolor": "white",
          "plot_bgcolor": "white",
          "polar": {
           "angularaxis": {
            "gridcolor": "#EBF0F8",
            "linecolor": "#EBF0F8",
            "ticks": ""
           },
           "bgcolor": "white",
           "radialaxis": {
            "gridcolor": "#EBF0F8",
            "linecolor": "#EBF0F8",
            "ticks": ""
           }
          },
          "scene": {
           "xaxis": {
            "backgroundcolor": "white",
            "gridcolor": "#DFE8F3",
            "gridwidth": 2,
            "linecolor": "#EBF0F8",
            "showbackground": true,
            "ticks": "",
            "zerolinecolor": "#EBF0F8"
           },
           "yaxis": {
            "backgroundcolor": "white",
            "gridcolor": "#DFE8F3",
            "gridwidth": 2,
            "linecolor": "#EBF0F8",
            "showbackground": true,
            "ticks": "",
            "zerolinecolor": "#EBF0F8"
           },
           "zaxis": {
            "backgroundcolor": "white",
            "gridcolor": "#DFE8F3",
            "gridwidth": 2,
            "linecolor": "#EBF0F8",
            "showbackground": true,
            "ticks": "",
            "zerolinecolor": "#EBF0F8"
           }
          },
          "shapedefaults": {
           "line": {
            "color": "#2a3f5f"
           }
          },
          "ternary": {
           "aaxis": {
            "gridcolor": "#DFE8F3",
            "linecolor": "#A2B1C6",
            "ticks": ""
           },
           "baxis": {
            "gridcolor": "#DFE8F3",
            "linecolor": "#A2B1C6",
            "ticks": ""
           },
           "bgcolor": "white",
           "caxis": {
            "gridcolor": "#DFE8F3",
            "linecolor": "#A2B1C6",
            "ticks": ""
           }
          },
          "title": {
           "x": 0.05
          },
          "xaxis": {
           "automargin": true,
           "gridcolor": "#EBF0F8",
           "linecolor": "#EBF0F8",
           "ticks": "",
           "title": {
            "standoff": 15
           },
           "zerolinecolor": "#EBF0F8",
           "zerolinewidth": 2
          },
          "yaxis": {
           "automargin": true,
           "gridcolor": "#EBF0F8",
           "linecolor": "#EBF0F8",
           "ticks": "",
           "title": {
            "standoff": 15
           },
           "zerolinecolor": "#EBF0F8",
           "zerolinewidth": 2
          }
         }
        },
        "title": {
         "text": "Trendline of Campaign Conversions/ Day"
        },
        "xaxis": {
         "anchor": "y",
         "domain": [
          0,
          1
         ],
         "title": {
          "text": "Day"
         }
        },
        "yaxis": {
         "anchor": "x",
         "domain": [
          0,
          1
         ],
         "title": {
          "text": "Conversions"
         }
        }
       }
      },
      "text/html": [
       "<div>\n",
       "        \n",
       "        \n",
       "            <div id=\"de0b1747-774f-4e43-8220-0ef39eb93374\" class=\"plotly-graph-div\" style=\"height:525px; width:100%;\"></div>\n",
       "            <script type=\"text/javascript\">\n",
       "                require([\"plotly\"], function(Plotly) {\n",
       "                    window.PLOTLYENV=window.PLOTLYENV || {};\n",
       "                    \n",
       "                if (document.getElementById(\"de0b1747-774f-4e43-8220-0ef39eb93374\")) {\n",
       "                    Plotly.newPlot(\n",
       "                        'de0b1747-774f-4e43-8220-0ef39eb93374',\n",
       "                        [{\"hovertemplate\": \"Day=%{x}<br>Conversions=%{y}<extra></extra>\", \"legendgroup\": \"\", \"marker\": {\"color\": \"#636efa\", \"symbol\": \"circle\"}, \"mode\": \"markers\", \"name\": \"\", \"orientation\": \"v\", \"showlegend\": false, \"type\": \"scatter\", \"x\": [1, 2, 3, 4, 5, 6, 7, 8, 9, 10, 11, 12, 13, 14, 15, 16, 17, 18, 19, 20, 21, 22, 23, 24, 25, 26, 27, 28, 29, 30, 31, 32, 33, 34, 35, 36, 37, 38, 39, 40, 41, 42, 43, 44, 45, 46, 47, 48, 49, 50], \"xaxis\": \"x\", \"y\": [25, 19, 18, 11, 19, 21, 16, 14, 10, 13, 19, 10, 23, 23, 27, 25, 19, 21, 32, 24, 21, 25, 28, 25, 23, 27, 22, 22, 28, 27, 23, 30, 24, 22, 23, 21, 27, 26, 23, 31, 29, 32, 32, 23, 19, 23, 26, 18, 25, 28], \"yaxis\": \"y\"}, {\"hovertemplate\": \"<b>LOWESS trendline</b><br><br>Day=%{x}<br>Conversions=%{y} <b>(trend)</b><extra></extra>\", \"legendgroup\": \"\", \"line\": {\"color\": \"red\"}, \"marker\": {\"color\": \"#636efa\", \"symbol\": \"circle\"}, \"mode\": \"lines\", \"name\": \"\", \"showlegend\": false, \"type\": \"scatter\", \"x\": [1.0, 2.0, 3.0, 4.0, 5.0, 6.0, 7.0, 8.0, 9.0, 10.0, 11.0, 12.0, 13.0, 14.0, 15.0, 16.0, 17.0, 18.0, 19.0, 20.0, 21.0, 22.0, 23.0, 24.0, 25.0, 26.0, 27.0, 28.0, 29.0, 30.0, 31.0, 32.0, 33.0, 34.0, 35.0, 36.0, 37.0, 38.0, 39.0, 40.0, 41.0, 42.0, 43.0, 44.0, 45.0, 46.0, 47.0, 48.0, 49.0, 50.0], \"xaxis\": \"x\", \"y\": [15.864722946491899, 16.22482337846135, 16.591354098731152, 16.96298793264817, 17.33807940645296, 17.715286778265764, 18.09297362294712, 18.46895850807314, 18.8411026374629, 19.20777163367804, 19.568170074035606, 19.922656679625653, 20.27294941124143, 20.623458218556593, 20.98332534432503, 21.37306349797469, 21.831081546516124, 22.2706275265415, 22.70535180480811, 23.11914631325458, 23.495081263784993, 23.810459832235775, 24.053872398473455, 24.230853529719532, 24.354547486847487, 24.445147626978407, 24.52548343085899, 24.61523851639296, 24.72810294845784, 24.86131558240813, 24.998792856186615, 25.121835991115308, 25.220104831440516, 25.287666005255335, 25.28111841475526, 25.25477596894979, 25.233419608712204, 25.220808220920663, 25.216049616456893, 25.21776022794787, 25.224799164706905, 25.235670390918962, 25.24860043427129, 25.261536929888727, 25.272350174783128, 25.279551801392728, 25.282516277078983, 25.281099055273756, 25.275358140697712, 25.2659445803753], \"yaxis\": \"y\"}],\n",
       "                        {\"legend\": {\"tracegroupgap\": 0}, \"template\": {\"data\": {\"bar\": [{\"error_x\": {\"color\": \"#2a3f5f\"}, \"error_y\": {\"color\": \"#2a3f5f\"}, \"marker\": {\"line\": {\"color\": \"white\", \"width\": 0.5}}, \"type\": \"bar\"}], \"barpolar\": [{\"marker\": {\"line\": {\"color\": \"white\", \"width\": 0.5}}, \"type\": \"barpolar\"}], \"carpet\": [{\"aaxis\": {\"endlinecolor\": \"#2a3f5f\", \"gridcolor\": \"#C8D4E3\", \"linecolor\": \"#C8D4E3\", \"minorgridcolor\": \"#C8D4E3\", \"startlinecolor\": \"#2a3f5f\"}, \"baxis\": {\"endlinecolor\": \"#2a3f5f\", \"gridcolor\": \"#C8D4E3\", \"linecolor\": \"#C8D4E3\", \"minorgridcolor\": \"#C8D4E3\", \"startlinecolor\": \"#2a3f5f\"}, \"type\": \"carpet\"}], \"choropleth\": [{\"colorbar\": {\"outlinewidth\": 0, \"ticks\": \"\"}, \"type\": \"choropleth\"}], \"contour\": [{\"colorbar\": {\"outlinewidth\": 0, \"ticks\": \"\"}, \"colorscale\": [[0.0, \"#0d0887\"], [0.1111111111111111, \"#46039f\"], [0.2222222222222222, \"#7201a8\"], [0.3333333333333333, \"#9c179e\"], [0.4444444444444444, \"#bd3786\"], [0.5555555555555556, \"#d8576b\"], [0.6666666666666666, \"#ed7953\"], [0.7777777777777778, \"#fb9f3a\"], [0.8888888888888888, \"#fdca26\"], [1.0, \"#f0f921\"]], \"type\": \"contour\"}], \"contourcarpet\": [{\"colorbar\": {\"outlinewidth\": 0, \"ticks\": \"\"}, \"type\": \"contourcarpet\"}], \"heatmap\": [{\"colorbar\": {\"outlinewidth\": 0, \"ticks\": \"\"}, \"colorscale\": [[0.0, \"#0d0887\"], [0.1111111111111111, \"#46039f\"], [0.2222222222222222, \"#7201a8\"], [0.3333333333333333, \"#9c179e\"], [0.4444444444444444, \"#bd3786\"], [0.5555555555555556, \"#d8576b\"], [0.6666666666666666, \"#ed7953\"], [0.7777777777777778, \"#fb9f3a\"], [0.8888888888888888, \"#fdca26\"], [1.0, \"#f0f921\"]], \"type\": \"heatmap\"}], \"heatmapgl\": [{\"colorbar\": {\"outlinewidth\": 0, \"ticks\": \"\"}, \"colorscale\": [[0.0, \"#0d0887\"], [0.1111111111111111, \"#46039f\"], [0.2222222222222222, \"#7201a8\"], [0.3333333333333333, \"#9c179e\"], [0.4444444444444444, \"#bd3786\"], [0.5555555555555556, \"#d8576b\"], [0.6666666666666666, \"#ed7953\"], [0.7777777777777778, \"#fb9f3a\"], [0.8888888888888888, \"#fdca26\"], [1.0, \"#f0f921\"]], \"type\": \"heatmapgl\"}], \"histogram\": [{\"marker\": {\"colorbar\": {\"outlinewidth\": 0, \"ticks\": \"\"}}, \"type\": \"histogram\"}], \"histogram2d\": [{\"colorbar\": {\"outlinewidth\": 0, \"ticks\": \"\"}, \"colorscale\": [[0.0, \"#0d0887\"], [0.1111111111111111, \"#46039f\"], [0.2222222222222222, \"#7201a8\"], [0.3333333333333333, \"#9c179e\"], [0.4444444444444444, \"#bd3786\"], [0.5555555555555556, \"#d8576b\"], [0.6666666666666666, \"#ed7953\"], [0.7777777777777778, \"#fb9f3a\"], [0.8888888888888888, \"#fdca26\"], [1.0, \"#f0f921\"]], \"type\": \"histogram2d\"}], \"histogram2dcontour\": [{\"colorbar\": {\"outlinewidth\": 0, \"ticks\": \"\"}, \"colorscale\": [[0.0, \"#0d0887\"], [0.1111111111111111, \"#46039f\"], [0.2222222222222222, \"#7201a8\"], [0.3333333333333333, \"#9c179e\"], [0.4444444444444444, \"#bd3786\"], [0.5555555555555556, \"#d8576b\"], [0.6666666666666666, \"#ed7953\"], [0.7777777777777778, \"#fb9f3a\"], [0.8888888888888888, \"#fdca26\"], [1.0, \"#f0f921\"]], \"type\": \"histogram2dcontour\"}], \"mesh3d\": [{\"colorbar\": {\"outlinewidth\": 0, \"ticks\": \"\"}, \"type\": \"mesh3d\"}], \"parcoords\": [{\"line\": {\"colorbar\": {\"outlinewidth\": 0, \"ticks\": \"\"}}, \"type\": \"parcoords\"}], \"pie\": [{\"automargin\": true, \"type\": \"pie\"}], \"scatter\": [{\"marker\": {\"colorbar\": {\"outlinewidth\": 0, \"ticks\": \"\"}}, \"type\": \"scatter\"}], \"scatter3d\": [{\"line\": {\"colorbar\": {\"outlinewidth\": 0, \"ticks\": \"\"}}, \"marker\": {\"colorbar\": {\"outlinewidth\": 0, \"ticks\": \"\"}}, \"type\": \"scatter3d\"}], \"scattercarpet\": [{\"marker\": {\"colorbar\": {\"outlinewidth\": 0, \"ticks\": \"\"}}, \"type\": \"scattercarpet\"}], \"scattergeo\": [{\"marker\": {\"colorbar\": {\"outlinewidth\": 0, \"ticks\": \"\"}}, \"type\": \"scattergeo\"}], \"scattergl\": [{\"marker\": {\"colorbar\": {\"outlinewidth\": 0, \"ticks\": \"\"}}, \"type\": \"scattergl\"}], \"scattermapbox\": [{\"marker\": {\"colorbar\": {\"outlinewidth\": 0, \"ticks\": \"\"}}, \"type\": \"scattermapbox\"}], \"scatterpolar\": [{\"marker\": {\"colorbar\": {\"outlinewidth\": 0, \"ticks\": \"\"}}, \"type\": \"scatterpolar\"}], \"scatterpolargl\": [{\"marker\": {\"colorbar\": {\"outlinewidth\": 0, \"ticks\": \"\"}}, \"type\": \"scatterpolargl\"}], \"scatterternary\": [{\"marker\": {\"colorbar\": {\"outlinewidth\": 0, \"ticks\": \"\"}}, \"type\": \"scatterternary\"}], \"surface\": [{\"colorbar\": {\"outlinewidth\": 0, \"ticks\": \"\"}, \"colorscale\": [[0.0, \"#0d0887\"], [0.1111111111111111, \"#46039f\"], [0.2222222222222222, \"#7201a8\"], [0.3333333333333333, \"#9c179e\"], [0.4444444444444444, \"#bd3786\"], [0.5555555555555556, \"#d8576b\"], [0.6666666666666666, \"#ed7953\"], [0.7777777777777778, \"#fb9f3a\"], [0.8888888888888888, \"#fdca26\"], [1.0, \"#f0f921\"]], \"type\": \"surface\"}], \"table\": [{\"cells\": {\"fill\": {\"color\": \"#EBF0F8\"}, \"line\": {\"color\": \"white\"}}, \"header\": {\"fill\": {\"color\": \"#C8D4E3\"}, \"line\": {\"color\": \"white\"}}, \"type\": \"table\"}]}, \"layout\": {\"annotationdefaults\": {\"arrowcolor\": \"#2a3f5f\", \"arrowhead\": 0, \"arrowwidth\": 1}, \"coloraxis\": {\"colorbar\": {\"outlinewidth\": 0, \"ticks\": \"\"}}, \"colorscale\": {\"diverging\": [[0, \"#8e0152\"], [0.1, \"#c51b7d\"], [0.2, \"#de77ae\"], [0.3, \"#f1b6da\"], [0.4, \"#fde0ef\"], [0.5, \"#f7f7f7\"], [0.6, \"#e6f5d0\"], [0.7, \"#b8e186\"], [0.8, \"#7fbc41\"], [0.9, \"#4d9221\"], [1, \"#276419\"]], \"sequential\": [[0.0, \"#0d0887\"], [0.1111111111111111, \"#46039f\"], [0.2222222222222222, \"#7201a8\"], [0.3333333333333333, \"#9c179e\"], [0.4444444444444444, \"#bd3786\"], [0.5555555555555556, \"#d8576b\"], [0.6666666666666666, \"#ed7953\"], [0.7777777777777778, \"#fb9f3a\"], [0.8888888888888888, \"#fdca26\"], [1.0, \"#f0f921\"]], \"sequentialminus\": [[0.0, \"#0d0887\"], [0.1111111111111111, \"#46039f\"], [0.2222222222222222, \"#7201a8\"], [0.3333333333333333, \"#9c179e\"], [0.4444444444444444, \"#bd3786\"], [0.5555555555555556, \"#d8576b\"], [0.6666666666666666, \"#ed7953\"], [0.7777777777777778, \"#fb9f3a\"], [0.8888888888888888, \"#fdca26\"], [1.0, \"#f0f921\"]]}, \"colorway\": [\"#636efa\", \"#EF553B\", \"#00cc96\", \"#ab63fa\", \"#FFA15A\", \"#19d3f3\", \"#FF6692\", \"#B6E880\", \"#FF97FF\", \"#FECB52\"], \"font\": {\"color\": \"#2a3f5f\"}, \"geo\": {\"bgcolor\": \"white\", \"lakecolor\": \"white\", \"landcolor\": \"white\", \"showlakes\": true, \"showland\": true, \"subunitcolor\": \"#C8D4E3\"}, \"hoverlabel\": {\"align\": \"left\"}, \"hovermode\": \"closest\", \"mapbox\": {\"style\": \"light\"}, \"paper_bgcolor\": \"white\", \"plot_bgcolor\": \"white\", \"polar\": {\"angularaxis\": {\"gridcolor\": \"#EBF0F8\", \"linecolor\": \"#EBF0F8\", \"ticks\": \"\"}, \"bgcolor\": \"white\", \"radialaxis\": {\"gridcolor\": \"#EBF0F8\", \"linecolor\": \"#EBF0F8\", \"ticks\": \"\"}}, \"scene\": {\"xaxis\": {\"backgroundcolor\": \"white\", \"gridcolor\": \"#DFE8F3\", \"gridwidth\": 2, \"linecolor\": \"#EBF0F8\", \"showbackground\": true, \"ticks\": \"\", \"zerolinecolor\": \"#EBF0F8\"}, \"yaxis\": {\"backgroundcolor\": \"white\", \"gridcolor\": \"#DFE8F3\", \"gridwidth\": 2, \"linecolor\": \"#EBF0F8\", \"showbackground\": true, \"ticks\": \"\", \"zerolinecolor\": \"#EBF0F8\"}, \"zaxis\": {\"backgroundcolor\": \"white\", \"gridcolor\": \"#DFE8F3\", \"gridwidth\": 2, \"linecolor\": \"#EBF0F8\", \"showbackground\": true, \"ticks\": \"\", \"zerolinecolor\": \"#EBF0F8\"}}, \"shapedefaults\": {\"line\": {\"color\": \"#2a3f5f\"}}, \"ternary\": {\"aaxis\": {\"gridcolor\": \"#DFE8F3\", \"linecolor\": \"#A2B1C6\", \"ticks\": \"\"}, \"baxis\": {\"gridcolor\": \"#DFE8F3\", \"linecolor\": \"#A2B1C6\", \"ticks\": \"\"}, \"bgcolor\": \"white\", \"caxis\": {\"gridcolor\": \"#DFE8F3\", \"linecolor\": \"#A2B1C6\", \"ticks\": \"\"}}, \"title\": {\"x\": 0.05}, \"xaxis\": {\"automargin\": true, \"gridcolor\": \"#EBF0F8\", \"linecolor\": \"#EBF0F8\", \"ticks\": \"\", \"title\": {\"standoff\": 15}, \"zerolinecolor\": \"#EBF0F8\", \"zerolinewidth\": 2}, \"yaxis\": {\"automargin\": true, \"gridcolor\": \"#EBF0F8\", \"linecolor\": \"#EBF0F8\", \"ticks\": \"\", \"title\": {\"standoff\": 15}, \"zerolinecolor\": \"#EBF0F8\", \"zerolinewidth\": 2}}}, \"title\": {\"text\": \"Trendline of Campaign Conversions/ Day\"}, \"xaxis\": {\"anchor\": \"y\", \"domain\": [0.0, 1.0], \"title\": {\"text\": \"Day\"}}, \"yaxis\": {\"anchor\": \"x\", \"domain\": [0.0, 1.0], \"title\": {\"text\": \"Conversions\"}}},\n",
       "                        {\"responsive\": true}\n",
       "                    ).then(function(){\n",
       "                            \n",
       "var gd = document.getElementById('de0b1747-774f-4e43-8220-0ef39eb93374');\n",
       "var x = new MutationObserver(function (mutations, observer) {{\n",
       "        var display = window.getComputedStyle(gd).display;\n",
       "        if (!display || display === 'none') {{\n",
       "            console.log([gd, 'removed!']);\n",
       "            Plotly.purge(gd);\n",
       "            observer.disconnect();\n",
       "        }}\n",
       "}});\n",
       "\n",
       "// Listen for the removal of the full notebook cells\n",
       "var notebookContainer = gd.closest('#notebook-container');\n",
       "if (notebookContainer) {{\n",
       "    x.observe(notebookContainer, {childList: true});\n",
       "}}\n",
       "\n",
       "// Listen for the clearing of the current output cell\n",
       "var outputEl = gd.closest('.output');\n",
       "if (outputEl) {{\n",
       "    x.observe(outputEl, {childList: true});\n",
       "}}\n",
       "\n",
       "                        })\n",
       "                };\n",
       "                });\n",
       "            </script>\n",
       "        </div>"
      ]
     },
     "metadata": {},
     "output_type": "display_data"
    }
   ],
   "source": [
    "fig3.show(figsize=(10,10))"
   ]
  },
  {
   "cell_type": "code",
   "execution_count": 12,
   "metadata": {},
   "outputs": [],
   "source": [
    "dfSize=pd.read_csv('LinkedinCompaniesReport.csv')"
   ]
  },
  {
   "cell_type": "code",
   "execution_count": 13,
   "metadata": {},
   "outputs": [
    {
     "name": "stdout",
     "output_type": "stream",
     "text": [
      "<class 'pandas.core.frame.DataFrame'>\n",
      "RangeIndex: 9 entries, 0 to 8\n",
      "Data columns (total 4 columns):\n",
      " #   Column                Non-Null Count  Dtype \n",
      "---  ------                --------------  ----- \n",
      " 0   Company Size Segment  9 non-null      object\n",
      " 1   Impressions           9 non-null      int64 \n",
      " 2   Clicks                9 non-null      int64 \n",
      " 3   Click Through Rate    9 non-null      object\n",
      "dtypes: int64(2), object(2)\n",
      "memory usage: 416.0+ bytes\n"
     ]
    }
   ],
   "source": [
    "dfSize.info()"
   ]
  },
  {
   "cell_type": "code",
   "execution_count": 77,
   "metadata": {},
   "outputs": [],
   "source": [
    "fig4=px.bar(dfSize,x='Company Size Segment',y='Clicks',template='plotly_white',title='Bar Chart of Clicks vs Company Size')"
   ]
  },
  {
   "cell_type": "code",
   "execution_count": 78,
   "metadata": {
    "scrolled": true
   },
   "outputs": [
    {
     "data": {
      "application/vnd.plotly.v1+json": {
       "config": {
        "plotlyServerURL": "https://plot.ly"
       },
       "data": [
        {
         "alignmentgroup": "True",
         "hovertemplate": "Company Size Segment=%{x}<br>Clicks=%{y}<extra></extra>",
         "legendgroup": "",
         "marker": {
          "color": "#636efa"
         },
         "name": "",
         "offsetgroup": "",
         "orientation": "v",
         "showlegend": false,
         "textposition": "auto",
         "type": "bar",
         "x": [
          "11-50 employees",
          "10001+ employees",
          "51-200 employees",
          "2-10 employees",
          "1001-5000 employees",
          "201-500 employees",
          "501-1000 employees",
          "5001-10000 employees",
          "1 employee"
         ],
         "xaxis": "x",
         "y": [
          65,
          71,
          67,
          51,
          51,
          29,
          17,
          28,
          8
         ],
         "yaxis": "y"
        }
       ],
       "layout": {
        "barmode": "relative",
        "legend": {
         "tracegroupgap": 0
        },
        "template": {
         "data": {
          "bar": [
           {
            "error_x": {
             "color": "#2a3f5f"
            },
            "error_y": {
             "color": "#2a3f5f"
            },
            "marker": {
             "line": {
              "color": "white",
              "width": 0.5
             }
            },
            "type": "bar"
           }
          ],
          "barpolar": [
           {
            "marker": {
             "line": {
              "color": "white",
              "width": 0.5
             }
            },
            "type": "barpolar"
           }
          ],
          "carpet": [
           {
            "aaxis": {
             "endlinecolor": "#2a3f5f",
             "gridcolor": "#C8D4E3",
             "linecolor": "#C8D4E3",
             "minorgridcolor": "#C8D4E3",
             "startlinecolor": "#2a3f5f"
            },
            "baxis": {
             "endlinecolor": "#2a3f5f",
             "gridcolor": "#C8D4E3",
             "linecolor": "#C8D4E3",
             "minorgridcolor": "#C8D4E3",
             "startlinecolor": "#2a3f5f"
            },
            "type": "carpet"
           }
          ],
          "choropleth": [
           {
            "colorbar": {
             "outlinewidth": 0,
             "ticks": ""
            },
            "type": "choropleth"
           }
          ],
          "contour": [
           {
            "colorbar": {
             "outlinewidth": 0,
             "ticks": ""
            },
            "colorscale": [
             [
              0,
              "#0d0887"
             ],
             [
              0.1111111111111111,
              "#46039f"
             ],
             [
              0.2222222222222222,
              "#7201a8"
             ],
             [
              0.3333333333333333,
              "#9c179e"
             ],
             [
              0.4444444444444444,
              "#bd3786"
             ],
             [
              0.5555555555555556,
              "#d8576b"
             ],
             [
              0.6666666666666666,
              "#ed7953"
             ],
             [
              0.7777777777777778,
              "#fb9f3a"
             ],
             [
              0.8888888888888888,
              "#fdca26"
             ],
             [
              1,
              "#f0f921"
             ]
            ],
            "type": "contour"
           }
          ],
          "contourcarpet": [
           {
            "colorbar": {
             "outlinewidth": 0,
             "ticks": ""
            },
            "type": "contourcarpet"
           }
          ],
          "heatmap": [
           {
            "colorbar": {
             "outlinewidth": 0,
             "ticks": ""
            },
            "colorscale": [
             [
              0,
              "#0d0887"
             ],
             [
              0.1111111111111111,
              "#46039f"
             ],
             [
              0.2222222222222222,
              "#7201a8"
             ],
             [
              0.3333333333333333,
              "#9c179e"
             ],
             [
              0.4444444444444444,
              "#bd3786"
             ],
             [
              0.5555555555555556,
              "#d8576b"
             ],
             [
              0.6666666666666666,
              "#ed7953"
             ],
             [
              0.7777777777777778,
              "#fb9f3a"
             ],
             [
              0.8888888888888888,
              "#fdca26"
             ],
             [
              1,
              "#f0f921"
             ]
            ],
            "type": "heatmap"
           }
          ],
          "heatmapgl": [
           {
            "colorbar": {
             "outlinewidth": 0,
             "ticks": ""
            },
            "colorscale": [
             [
              0,
              "#0d0887"
             ],
             [
              0.1111111111111111,
              "#46039f"
             ],
             [
              0.2222222222222222,
              "#7201a8"
             ],
             [
              0.3333333333333333,
              "#9c179e"
             ],
             [
              0.4444444444444444,
              "#bd3786"
             ],
             [
              0.5555555555555556,
              "#d8576b"
             ],
             [
              0.6666666666666666,
              "#ed7953"
             ],
             [
              0.7777777777777778,
              "#fb9f3a"
             ],
             [
              0.8888888888888888,
              "#fdca26"
             ],
             [
              1,
              "#f0f921"
             ]
            ],
            "type": "heatmapgl"
           }
          ],
          "histogram": [
           {
            "marker": {
             "colorbar": {
              "outlinewidth": 0,
              "ticks": ""
             }
            },
            "type": "histogram"
           }
          ],
          "histogram2d": [
           {
            "colorbar": {
             "outlinewidth": 0,
             "ticks": ""
            },
            "colorscale": [
             [
              0,
              "#0d0887"
             ],
             [
              0.1111111111111111,
              "#46039f"
             ],
             [
              0.2222222222222222,
              "#7201a8"
             ],
             [
              0.3333333333333333,
              "#9c179e"
             ],
             [
              0.4444444444444444,
              "#bd3786"
             ],
             [
              0.5555555555555556,
              "#d8576b"
             ],
             [
              0.6666666666666666,
              "#ed7953"
             ],
             [
              0.7777777777777778,
              "#fb9f3a"
             ],
             [
              0.8888888888888888,
              "#fdca26"
             ],
             [
              1,
              "#f0f921"
             ]
            ],
            "type": "histogram2d"
           }
          ],
          "histogram2dcontour": [
           {
            "colorbar": {
             "outlinewidth": 0,
             "ticks": ""
            },
            "colorscale": [
             [
              0,
              "#0d0887"
             ],
             [
              0.1111111111111111,
              "#46039f"
             ],
             [
              0.2222222222222222,
              "#7201a8"
             ],
             [
              0.3333333333333333,
              "#9c179e"
             ],
             [
              0.4444444444444444,
              "#bd3786"
             ],
             [
              0.5555555555555556,
              "#d8576b"
             ],
             [
              0.6666666666666666,
              "#ed7953"
             ],
             [
              0.7777777777777778,
              "#fb9f3a"
             ],
             [
              0.8888888888888888,
              "#fdca26"
             ],
             [
              1,
              "#f0f921"
             ]
            ],
            "type": "histogram2dcontour"
           }
          ],
          "mesh3d": [
           {
            "colorbar": {
             "outlinewidth": 0,
             "ticks": ""
            },
            "type": "mesh3d"
           }
          ],
          "parcoords": [
           {
            "line": {
             "colorbar": {
              "outlinewidth": 0,
              "ticks": ""
             }
            },
            "type": "parcoords"
           }
          ],
          "pie": [
           {
            "automargin": true,
            "type": "pie"
           }
          ],
          "scatter": [
           {
            "marker": {
             "colorbar": {
              "outlinewidth": 0,
              "ticks": ""
             }
            },
            "type": "scatter"
           }
          ],
          "scatter3d": [
           {
            "line": {
             "colorbar": {
              "outlinewidth": 0,
              "ticks": ""
             }
            },
            "marker": {
             "colorbar": {
              "outlinewidth": 0,
              "ticks": ""
             }
            },
            "type": "scatter3d"
           }
          ],
          "scattercarpet": [
           {
            "marker": {
             "colorbar": {
              "outlinewidth": 0,
              "ticks": ""
             }
            },
            "type": "scattercarpet"
           }
          ],
          "scattergeo": [
           {
            "marker": {
             "colorbar": {
              "outlinewidth": 0,
              "ticks": ""
             }
            },
            "type": "scattergeo"
           }
          ],
          "scattergl": [
           {
            "marker": {
             "colorbar": {
              "outlinewidth": 0,
              "ticks": ""
             }
            },
            "type": "scattergl"
           }
          ],
          "scattermapbox": [
           {
            "marker": {
             "colorbar": {
              "outlinewidth": 0,
              "ticks": ""
             }
            },
            "type": "scattermapbox"
           }
          ],
          "scatterpolar": [
           {
            "marker": {
             "colorbar": {
              "outlinewidth": 0,
              "ticks": ""
             }
            },
            "type": "scatterpolar"
           }
          ],
          "scatterpolargl": [
           {
            "marker": {
             "colorbar": {
              "outlinewidth": 0,
              "ticks": ""
             }
            },
            "type": "scatterpolargl"
           }
          ],
          "scatterternary": [
           {
            "marker": {
             "colorbar": {
              "outlinewidth": 0,
              "ticks": ""
             }
            },
            "type": "scatterternary"
           }
          ],
          "surface": [
           {
            "colorbar": {
             "outlinewidth": 0,
             "ticks": ""
            },
            "colorscale": [
             [
              0,
              "#0d0887"
             ],
             [
              0.1111111111111111,
              "#46039f"
             ],
             [
              0.2222222222222222,
              "#7201a8"
             ],
             [
              0.3333333333333333,
              "#9c179e"
             ],
             [
              0.4444444444444444,
              "#bd3786"
             ],
             [
              0.5555555555555556,
              "#d8576b"
             ],
             [
              0.6666666666666666,
              "#ed7953"
             ],
             [
              0.7777777777777778,
              "#fb9f3a"
             ],
             [
              0.8888888888888888,
              "#fdca26"
             ],
             [
              1,
              "#f0f921"
             ]
            ],
            "type": "surface"
           }
          ],
          "table": [
           {
            "cells": {
             "fill": {
              "color": "#EBF0F8"
             },
             "line": {
              "color": "white"
             }
            },
            "header": {
             "fill": {
              "color": "#C8D4E3"
             },
             "line": {
              "color": "white"
             }
            },
            "type": "table"
           }
          ]
         },
         "layout": {
          "annotationdefaults": {
           "arrowcolor": "#2a3f5f",
           "arrowhead": 0,
           "arrowwidth": 1
          },
          "coloraxis": {
           "colorbar": {
            "outlinewidth": 0,
            "ticks": ""
           }
          },
          "colorscale": {
           "diverging": [
            [
             0,
             "#8e0152"
            ],
            [
             0.1,
             "#c51b7d"
            ],
            [
             0.2,
             "#de77ae"
            ],
            [
             0.3,
             "#f1b6da"
            ],
            [
             0.4,
             "#fde0ef"
            ],
            [
             0.5,
             "#f7f7f7"
            ],
            [
             0.6,
             "#e6f5d0"
            ],
            [
             0.7,
             "#b8e186"
            ],
            [
             0.8,
             "#7fbc41"
            ],
            [
             0.9,
             "#4d9221"
            ],
            [
             1,
             "#276419"
            ]
           ],
           "sequential": [
            [
             0,
             "#0d0887"
            ],
            [
             0.1111111111111111,
             "#46039f"
            ],
            [
             0.2222222222222222,
             "#7201a8"
            ],
            [
             0.3333333333333333,
             "#9c179e"
            ],
            [
             0.4444444444444444,
             "#bd3786"
            ],
            [
             0.5555555555555556,
             "#d8576b"
            ],
            [
             0.6666666666666666,
             "#ed7953"
            ],
            [
             0.7777777777777778,
             "#fb9f3a"
            ],
            [
             0.8888888888888888,
             "#fdca26"
            ],
            [
             1,
             "#f0f921"
            ]
           ],
           "sequentialminus": [
            [
             0,
             "#0d0887"
            ],
            [
             0.1111111111111111,
             "#46039f"
            ],
            [
             0.2222222222222222,
             "#7201a8"
            ],
            [
             0.3333333333333333,
             "#9c179e"
            ],
            [
             0.4444444444444444,
             "#bd3786"
            ],
            [
             0.5555555555555556,
             "#d8576b"
            ],
            [
             0.6666666666666666,
             "#ed7953"
            ],
            [
             0.7777777777777778,
             "#fb9f3a"
            ],
            [
             0.8888888888888888,
             "#fdca26"
            ],
            [
             1,
             "#f0f921"
            ]
           ]
          },
          "colorway": [
           "#636efa",
           "#EF553B",
           "#00cc96",
           "#ab63fa",
           "#FFA15A",
           "#19d3f3",
           "#FF6692",
           "#B6E880",
           "#FF97FF",
           "#FECB52"
          ],
          "font": {
           "color": "#2a3f5f"
          },
          "geo": {
           "bgcolor": "white",
           "lakecolor": "white",
           "landcolor": "white",
           "showlakes": true,
           "showland": true,
           "subunitcolor": "#C8D4E3"
          },
          "hoverlabel": {
           "align": "left"
          },
          "hovermode": "closest",
          "mapbox": {
           "style": "light"
          },
          "paper_bgcolor": "white",
          "plot_bgcolor": "white",
          "polar": {
           "angularaxis": {
            "gridcolor": "#EBF0F8",
            "linecolor": "#EBF0F8",
            "ticks": ""
           },
           "bgcolor": "white",
           "radialaxis": {
            "gridcolor": "#EBF0F8",
            "linecolor": "#EBF0F8",
            "ticks": ""
           }
          },
          "scene": {
           "xaxis": {
            "backgroundcolor": "white",
            "gridcolor": "#DFE8F3",
            "gridwidth": 2,
            "linecolor": "#EBF0F8",
            "showbackground": true,
            "ticks": "",
            "zerolinecolor": "#EBF0F8"
           },
           "yaxis": {
            "backgroundcolor": "white",
            "gridcolor": "#DFE8F3",
            "gridwidth": 2,
            "linecolor": "#EBF0F8",
            "showbackground": true,
            "ticks": "",
            "zerolinecolor": "#EBF0F8"
           },
           "zaxis": {
            "backgroundcolor": "white",
            "gridcolor": "#DFE8F3",
            "gridwidth": 2,
            "linecolor": "#EBF0F8",
            "showbackground": true,
            "ticks": "",
            "zerolinecolor": "#EBF0F8"
           }
          },
          "shapedefaults": {
           "line": {
            "color": "#2a3f5f"
           }
          },
          "ternary": {
           "aaxis": {
            "gridcolor": "#DFE8F3",
            "linecolor": "#A2B1C6",
            "ticks": ""
           },
           "baxis": {
            "gridcolor": "#DFE8F3",
            "linecolor": "#A2B1C6",
            "ticks": ""
           },
           "bgcolor": "white",
           "caxis": {
            "gridcolor": "#DFE8F3",
            "linecolor": "#A2B1C6",
            "ticks": ""
           }
          },
          "title": {
           "x": 0.05
          },
          "xaxis": {
           "automargin": true,
           "gridcolor": "#EBF0F8",
           "linecolor": "#EBF0F8",
           "ticks": "",
           "title": {
            "standoff": 15
           },
           "zerolinecolor": "#EBF0F8",
           "zerolinewidth": 2
          },
          "yaxis": {
           "automargin": true,
           "gridcolor": "#EBF0F8",
           "linecolor": "#EBF0F8",
           "ticks": "",
           "title": {
            "standoff": 15
           },
           "zerolinecolor": "#EBF0F8",
           "zerolinewidth": 2
          }
         }
        },
        "title": {
         "text": "Bar Chart of Clicks vs Company Size"
        },
        "xaxis": {
         "anchor": "y",
         "domain": [
          0,
          1
         ],
         "title": {
          "text": "Company Size Segment"
         }
        },
        "yaxis": {
         "anchor": "x",
         "domain": [
          0,
          1
         ],
         "title": {
          "text": "Clicks"
         }
        }
       }
      },
      "text/html": [
       "<div>\n",
       "        \n",
       "        \n",
       "            <div id=\"3083b7c6-cf32-4d86-91ff-507868d42599\" class=\"plotly-graph-div\" style=\"height:525px; width:100%;\"></div>\n",
       "            <script type=\"text/javascript\">\n",
       "                require([\"plotly\"], function(Plotly) {\n",
       "                    window.PLOTLYENV=window.PLOTLYENV || {};\n",
       "                    \n",
       "                if (document.getElementById(\"3083b7c6-cf32-4d86-91ff-507868d42599\")) {\n",
       "                    Plotly.newPlot(\n",
       "                        '3083b7c6-cf32-4d86-91ff-507868d42599',\n",
       "                        [{\"alignmentgroup\": \"True\", \"hovertemplate\": \"Company Size Segment=%{x}<br>Clicks=%{y}<extra></extra>\", \"legendgroup\": \"\", \"marker\": {\"color\": \"#636efa\"}, \"name\": \"\", \"offsetgroup\": \"\", \"orientation\": \"v\", \"showlegend\": false, \"textposition\": \"auto\", \"type\": \"bar\", \"x\": [\"11-50 employees\", \"10001+ employees\", \"51-200 employees\", \"2-10 employees\", \"1001-5000 employees\", \"201-500 employees\", \"501-1000 employees\", \"5001-10000 employees\", \"1 employee\"], \"xaxis\": \"x\", \"y\": [65, 71, 67, 51, 51, 29, 17, 28, 8], \"yaxis\": \"y\"}],\n",
       "                        {\"barmode\": \"relative\", \"legend\": {\"tracegroupgap\": 0}, \"template\": {\"data\": {\"bar\": [{\"error_x\": {\"color\": \"#2a3f5f\"}, \"error_y\": {\"color\": \"#2a3f5f\"}, \"marker\": {\"line\": {\"color\": \"white\", \"width\": 0.5}}, \"type\": \"bar\"}], \"barpolar\": [{\"marker\": {\"line\": {\"color\": \"white\", \"width\": 0.5}}, \"type\": \"barpolar\"}], \"carpet\": [{\"aaxis\": {\"endlinecolor\": \"#2a3f5f\", \"gridcolor\": \"#C8D4E3\", \"linecolor\": \"#C8D4E3\", \"minorgridcolor\": \"#C8D4E3\", \"startlinecolor\": \"#2a3f5f\"}, \"baxis\": {\"endlinecolor\": \"#2a3f5f\", \"gridcolor\": \"#C8D4E3\", \"linecolor\": \"#C8D4E3\", \"minorgridcolor\": \"#C8D4E3\", \"startlinecolor\": \"#2a3f5f\"}, \"type\": \"carpet\"}], \"choropleth\": [{\"colorbar\": {\"outlinewidth\": 0, \"ticks\": \"\"}, \"type\": \"choropleth\"}], \"contour\": [{\"colorbar\": {\"outlinewidth\": 0, \"ticks\": \"\"}, \"colorscale\": [[0.0, \"#0d0887\"], [0.1111111111111111, \"#46039f\"], [0.2222222222222222, \"#7201a8\"], [0.3333333333333333, \"#9c179e\"], [0.4444444444444444, \"#bd3786\"], [0.5555555555555556, \"#d8576b\"], [0.6666666666666666, \"#ed7953\"], [0.7777777777777778, \"#fb9f3a\"], [0.8888888888888888, \"#fdca26\"], [1.0, \"#f0f921\"]], \"type\": \"contour\"}], \"contourcarpet\": [{\"colorbar\": {\"outlinewidth\": 0, \"ticks\": \"\"}, \"type\": \"contourcarpet\"}], \"heatmap\": [{\"colorbar\": {\"outlinewidth\": 0, \"ticks\": \"\"}, \"colorscale\": [[0.0, \"#0d0887\"], [0.1111111111111111, \"#46039f\"], [0.2222222222222222, \"#7201a8\"], [0.3333333333333333, \"#9c179e\"], [0.4444444444444444, \"#bd3786\"], [0.5555555555555556, \"#d8576b\"], [0.6666666666666666, \"#ed7953\"], [0.7777777777777778, \"#fb9f3a\"], [0.8888888888888888, \"#fdca26\"], [1.0, \"#f0f921\"]], \"type\": \"heatmap\"}], \"heatmapgl\": [{\"colorbar\": {\"outlinewidth\": 0, \"ticks\": \"\"}, \"colorscale\": [[0.0, \"#0d0887\"], [0.1111111111111111, \"#46039f\"], [0.2222222222222222, \"#7201a8\"], [0.3333333333333333, \"#9c179e\"], [0.4444444444444444, \"#bd3786\"], [0.5555555555555556, \"#d8576b\"], [0.6666666666666666, \"#ed7953\"], [0.7777777777777778, \"#fb9f3a\"], [0.8888888888888888, \"#fdca26\"], [1.0, \"#f0f921\"]], \"type\": \"heatmapgl\"}], \"histogram\": [{\"marker\": {\"colorbar\": {\"outlinewidth\": 0, \"ticks\": \"\"}}, \"type\": \"histogram\"}], \"histogram2d\": [{\"colorbar\": {\"outlinewidth\": 0, \"ticks\": \"\"}, \"colorscale\": [[0.0, \"#0d0887\"], [0.1111111111111111, \"#46039f\"], [0.2222222222222222, \"#7201a8\"], [0.3333333333333333, \"#9c179e\"], [0.4444444444444444, \"#bd3786\"], [0.5555555555555556, \"#d8576b\"], [0.6666666666666666, \"#ed7953\"], [0.7777777777777778, \"#fb9f3a\"], [0.8888888888888888, \"#fdca26\"], [1.0, \"#f0f921\"]], \"type\": \"histogram2d\"}], \"histogram2dcontour\": [{\"colorbar\": {\"outlinewidth\": 0, \"ticks\": \"\"}, \"colorscale\": [[0.0, \"#0d0887\"], [0.1111111111111111, \"#46039f\"], [0.2222222222222222, \"#7201a8\"], [0.3333333333333333, \"#9c179e\"], [0.4444444444444444, \"#bd3786\"], [0.5555555555555556, \"#d8576b\"], [0.6666666666666666, \"#ed7953\"], [0.7777777777777778, \"#fb9f3a\"], [0.8888888888888888, \"#fdca26\"], [1.0, \"#f0f921\"]], \"type\": \"histogram2dcontour\"}], \"mesh3d\": [{\"colorbar\": {\"outlinewidth\": 0, \"ticks\": \"\"}, \"type\": \"mesh3d\"}], \"parcoords\": [{\"line\": {\"colorbar\": {\"outlinewidth\": 0, \"ticks\": \"\"}}, \"type\": \"parcoords\"}], \"pie\": [{\"automargin\": true, \"type\": \"pie\"}], \"scatter\": [{\"marker\": {\"colorbar\": {\"outlinewidth\": 0, \"ticks\": \"\"}}, \"type\": \"scatter\"}], \"scatter3d\": [{\"line\": {\"colorbar\": {\"outlinewidth\": 0, \"ticks\": \"\"}}, \"marker\": {\"colorbar\": {\"outlinewidth\": 0, \"ticks\": \"\"}}, \"type\": \"scatter3d\"}], \"scattercarpet\": [{\"marker\": {\"colorbar\": {\"outlinewidth\": 0, \"ticks\": \"\"}}, \"type\": \"scattercarpet\"}], \"scattergeo\": [{\"marker\": {\"colorbar\": {\"outlinewidth\": 0, \"ticks\": \"\"}}, \"type\": \"scattergeo\"}], \"scattergl\": [{\"marker\": {\"colorbar\": {\"outlinewidth\": 0, \"ticks\": \"\"}}, \"type\": \"scattergl\"}], \"scattermapbox\": [{\"marker\": {\"colorbar\": {\"outlinewidth\": 0, \"ticks\": \"\"}}, \"type\": \"scattermapbox\"}], \"scatterpolar\": [{\"marker\": {\"colorbar\": {\"outlinewidth\": 0, \"ticks\": \"\"}}, \"type\": \"scatterpolar\"}], \"scatterpolargl\": [{\"marker\": {\"colorbar\": {\"outlinewidth\": 0, \"ticks\": \"\"}}, \"type\": \"scatterpolargl\"}], \"scatterternary\": [{\"marker\": {\"colorbar\": {\"outlinewidth\": 0, \"ticks\": \"\"}}, \"type\": \"scatterternary\"}], \"surface\": [{\"colorbar\": {\"outlinewidth\": 0, \"ticks\": \"\"}, \"colorscale\": [[0.0, \"#0d0887\"], [0.1111111111111111, \"#46039f\"], [0.2222222222222222, \"#7201a8\"], [0.3333333333333333, \"#9c179e\"], [0.4444444444444444, \"#bd3786\"], [0.5555555555555556, \"#d8576b\"], [0.6666666666666666, \"#ed7953\"], [0.7777777777777778, \"#fb9f3a\"], [0.8888888888888888, \"#fdca26\"], [1.0, \"#f0f921\"]], \"type\": \"surface\"}], \"table\": [{\"cells\": {\"fill\": {\"color\": \"#EBF0F8\"}, \"line\": {\"color\": \"white\"}}, \"header\": {\"fill\": {\"color\": \"#C8D4E3\"}, \"line\": {\"color\": \"white\"}}, \"type\": \"table\"}]}, \"layout\": {\"annotationdefaults\": {\"arrowcolor\": \"#2a3f5f\", \"arrowhead\": 0, \"arrowwidth\": 1}, \"coloraxis\": {\"colorbar\": {\"outlinewidth\": 0, \"ticks\": \"\"}}, \"colorscale\": {\"diverging\": [[0, \"#8e0152\"], [0.1, \"#c51b7d\"], [0.2, \"#de77ae\"], [0.3, \"#f1b6da\"], [0.4, \"#fde0ef\"], [0.5, \"#f7f7f7\"], [0.6, \"#e6f5d0\"], [0.7, \"#b8e186\"], [0.8, \"#7fbc41\"], [0.9, \"#4d9221\"], [1, \"#276419\"]], \"sequential\": [[0.0, \"#0d0887\"], [0.1111111111111111, \"#46039f\"], [0.2222222222222222, \"#7201a8\"], [0.3333333333333333, \"#9c179e\"], [0.4444444444444444, \"#bd3786\"], [0.5555555555555556, \"#d8576b\"], [0.6666666666666666, \"#ed7953\"], [0.7777777777777778, \"#fb9f3a\"], [0.8888888888888888, \"#fdca26\"], [1.0, \"#f0f921\"]], \"sequentialminus\": [[0.0, \"#0d0887\"], [0.1111111111111111, \"#46039f\"], [0.2222222222222222, \"#7201a8\"], [0.3333333333333333, \"#9c179e\"], [0.4444444444444444, \"#bd3786\"], [0.5555555555555556, \"#d8576b\"], [0.6666666666666666, \"#ed7953\"], [0.7777777777777778, \"#fb9f3a\"], [0.8888888888888888, \"#fdca26\"], [1.0, \"#f0f921\"]]}, \"colorway\": [\"#636efa\", \"#EF553B\", \"#00cc96\", \"#ab63fa\", \"#FFA15A\", \"#19d3f3\", \"#FF6692\", \"#B6E880\", \"#FF97FF\", \"#FECB52\"], \"font\": {\"color\": \"#2a3f5f\"}, \"geo\": {\"bgcolor\": \"white\", \"lakecolor\": \"white\", \"landcolor\": \"white\", \"showlakes\": true, \"showland\": true, \"subunitcolor\": \"#C8D4E3\"}, \"hoverlabel\": {\"align\": \"left\"}, \"hovermode\": \"closest\", \"mapbox\": {\"style\": \"light\"}, \"paper_bgcolor\": \"white\", \"plot_bgcolor\": \"white\", \"polar\": {\"angularaxis\": {\"gridcolor\": \"#EBF0F8\", \"linecolor\": \"#EBF0F8\", \"ticks\": \"\"}, \"bgcolor\": \"white\", \"radialaxis\": {\"gridcolor\": \"#EBF0F8\", \"linecolor\": \"#EBF0F8\", \"ticks\": \"\"}}, \"scene\": {\"xaxis\": {\"backgroundcolor\": \"white\", \"gridcolor\": \"#DFE8F3\", \"gridwidth\": 2, \"linecolor\": \"#EBF0F8\", \"showbackground\": true, \"ticks\": \"\", \"zerolinecolor\": \"#EBF0F8\"}, \"yaxis\": {\"backgroundcolor\": \"white\", \"gridcolor\": \"#DFE8F3\", \"gridwidth\": 2, \"linecolor\": \"#EBF0F8\", \"showbackground\": true, \"ticks\": \"\", \"zerolinecolor\": \"#EBF0F8\"}, \"zaxis\": {\"backgroundcolor\": \"white\", \"gridcolor\": \"#DFE8F3\", \"gridwidth\": 2, \"linecolor\": \"#EBF0F8\", \"showbackground\": true, \"ticks\": \"\", \"zerolinecolor\": \"#EBF0F8\"}}, \"shapedefaults\": {\"line\": {\"color\": \"#2a3f5f\"}}, \"ternary\": {\"aaxis\": {\"gridcolor\": \"#DFE8F3\", \"linecolor\": \"#A2B1C6\", \"ticks\": \"\"}, \"baxis\": {\"gridcolor\": \"#DFE8F3\", \"linecolor\": \"#A2B1C6\", \"ticks\": \"\"}, \"bgcolor\": \"white\", \"caxis\": {\"gridcolor\": \"#DFE8F3\", \"linecolor\": \"#A2B1C6\", \"ticks\": \"\"}}, \"title\": {\"x\": 0.05}, \"xaxis\": {\"automargin\": true, \"gridcolor\": \"#EBF0F8\", \"linecolor\": \"#EBF0F8\", \"ticks\": \"\", \"title\": {\"standoff\": 15}, \"zerolinecolor\": \"#EBF0F8\", \"zerolinewidth\": 2}, \"yaxis\": {\"automargin\": true, \"gridcolor\": \"#EBF0F8\", \"linecolor\": \"#EBF0F8\", \"ticks\": \"\", \"title\": {\"standoff\": 15}, \"zerolinecolor\": \"#EBF0F8\", \"zerolinewidth\": 2}}}, \"title\": {\"text\": \"Bar Chart of Clicks vs Company Size\"}, \"xaxis\": {\"anchor\": \"y\", \"domain\": [0.0, 1.0], \"title\": {\"text\": \"Company Size Segment\"}}, \"yaxis\": {\"anchor\": \"x\", \"domain\": [0.0, 1.0], \"title\": {\"text\": \"Clicks\"}}},\n",
       "                        {\"responsive\": true}\n",
       "                    ).then(function(){\n",
       "                            \n",
       "var gd = document.getElementById('3083b7c6-cf32-4d86-91ff-507868d42599');\n",
       "var x = new MutationObserver(function (mutations, observer) {{\n",
       "        var display = window.getComputedStyle(gd).display;\n",
       "        if (!display || display === 'none') {{\n",
       "            console.log([gd, 'removed!']);\n",
       "            Plotly.purge(gd);\n",
       "            observer.disconnect();\n",
       "        }}\n",
       "}});\n",
       "\n",
       "// Listen for the removal of the full notebook cells\n",
       "var notebookContainer = gd.closest('#notebook-container');\n",
       "if (notebookContainer) {{\n",
       "    x.observe(notebookContainer, {childList: true});\n",
       "}}\n",
       "\n",
       "// Listen for the clearing of the current output cell\n",
       "var outputEl = gd.closest('.output');\n",
       "if (outputEl) {{\n",
       "    x.observe(outputEl, {childList: true});\n",
       "}}\n",
       "\n",
       "                        })\n",
       "                };\n",
       "                });\n",
       "            </script>\n",
       "        </div>"
      ]
     },
     "metadata": {},
     "output_type": "display_data"
    }
   ],
   "source": [
    "fig4.show()"
   ]
  },
  {
   "cell_type": "code",
   "execution_count": 37,
   "metadata": {},
   "outputs": [],
   "source": [
    "dfSize2=pd.read_csv('LinkedinCompaniesReport2.csv')"
   ]
  },
  {
   "cell_type": "code",
   "execution_count": 38,
   "metadata": {},
   "outputs": [
    {
     "name": "stdout",
     "output_type": "stream",
     "text": [
      "<class 'pandas.core.frame.DataFrame'>\n",
      "RangeIndex: 25 entries, 0 to 24\n",
      "Data columns (total 9 columns):\n",
      " #   Column                        Non-Null Count  Dtype \n",
      "---  ------                        --------------  ----- \n",
      " 0   Company Industry Segment      25 non-null     object\n",
      " 1   Impressions                   25 non-null     int64 \n",
      " 2   Percent of Total Impressions  25 non-null     object\n",
      " 3   Clicks                        25 non-null     int64 \n",
      " 4   Percent of Total Clicks       25 non-null     object\n",
      " 5   Click Through Rate            25 non-null     object\n",
      " 6   Conversions                   25 non-null     int64 \n",
      " 7   Percent of Total Conversions  25 non-null     object\n",
      " 8   Conversion Rate               25 non-null     object\n",
      "dtypes: int64(3), object(6)\n",
      "memory usage: 1.9+ KB\n"
     ]
    }
   ],
   "source": [
    "dfSize2.info()"
   ]
  },
  {
   "cell_type": "code",
   "execution_count": 75,
   "metadata": {},
   "outputs": [],
   "source": [
    "fig5=px.treemap(dfSize2,path=['Company Industry Segment'],title='Treemap of Ad Clicks over Company Industry',color='Clicks',values='Clicks',color_continuous_scale='viridis')"
   ]
  },
  {
   "cell_type": "code",
   "execution_count": 76,
   "metadata": {},
   "outputs": [
    {
     "data": {
      "application/vnd.plotly.v1+json": {
       "config": {
        "plotlyServerURL": "https://plot.ly"
       },
       "data": [
        {
         "branchvalues": "total",
         "customdata": [
          [
           14
          ],
          [
           0
          ],
          [
           7
          ],
          [
           28
          ],
          [
           4
          ],
          [
           46
          ],
          [
           63
          ],
          [
           17
          ],
          [
           5
          ],
          [
           13
          ],
          [
           9
          ],
          [
           46
          ],
          [
           8
          ],
          [
           4
          ],
          [
           0
          ],
          [
           8
          ],
          [
           3
          ],
          [
           20
          ],
          [
           4
          ],
          [
           77
          ],
          [
           3
          ],
          [
           12
          ],
          [
           10
          ],
          [
           10
          ],
          [
           19
          ]
         ],
         "domain": {
          "x": [
           0,
           1
          ],
          "y": [
           0,
           1
          ]
         },
         "hovertemplate": "labels=%{label}<br>Clicks=%{color}<br>parent=%{parent}<br>id=%{id}<extra></extra>",
         "ids": [
          "Automotive",
          "Aviation & Aerospace",
          "Building Materials",
          "Civil Engineering",
          "Computer & Network Security",
          "Computer Software",
          "Construction",
          "Electrical/Electronic Manufacturing",
          "Higher Education",
          "Hospital & Health Care",
          "Industrial Automation",
          "Information Technology and Services",
          "Internet",
          "Machinery",
          "Management Consulting",
          "Mechanical or Industrial Engineering",
          "Medical Devices",
          "Mining & Metals",
          "Nonprofit Organization Management",
          "Oil & Energy",
          "Paper & Forest Products",
          "Renewables & Environment",
          "Telecommunications",
          "Transportation/Trucking/Railroad",
          "Utilities"
         ],
         "labels": [
          "Automotive",
          "Aviation & Aerospace",
          "Building Materials",
          "Civil Engineering",
          "Computer & Network Security",
          "Computer Software",
          "Construction",
          "Electrical/Electronic Manufacturing",
          "Higher Education",
          "Hospital & Health Care",
          "Industrial Automation",
          "Information Technology and Services",
          "Internet",
          "Machinery",
          "Management Consulting",
          "Mechanical or Industrial Engineering",
          "Medical Devices",
          "Mining & Metals",
          "Nonprofit Organization Management",
          "Oil & Energy",
          "Paper & Forest Products",
          "Renewables & Environment",
          "Telecommunications",
          "Transportation/Trucking/Railroad",
          "Utilities"
         ],
         "marker": {
          "coloraxis": "coloraxis",
          "colors": [
           14,
           0,
           7,
           28,
           4,
           46,
           63,
           17,
           5,
           13,
           9,
           46,
           8,
           4,
           0,
           8,
           3,
           20,
           4,
           77,
           3,
           12,
           10,
           10,
           19
          ]
         },
         "name": "",
         "parents": [
          "",
          "",
          "",
          "",
          "",
          "",
          "",
          "",
          "",
          "",
          "",
          "",
          "",
          "",
          "",
          "",
          "",
          "",
          "",
          "",
          "",
          "",
          "",
          "",
          ""
         ],
         "type": "treemap",
         "values": [
          14,
          0,
          7,
          28,
          4,
          46,
          63,
          17,
          5,
          13,
          9,
          46,
          8,
          4,
          0,
          8,
          3,
          20,
          4,
          77,
          3,
          12,
          10,
          10,
          19
         ]
        }
       ],
       "layout": {
        "coloraxis": {
         "colorbar": {
          "title": {
           "text": "Clicks"
          }
         },
         "colorscale": [
          [
           0,
           "#440154"
          ],
          [
           0.1111111111111111,
           "#482878"
          ],
          [
           0.2222222222222222,
           "#3e4989"
          ],
          [
           0.3333333333333333,
           "#31688e"
          ],
          [
           0.4444444444444444,
           "#26828e"
          ],
          [
           0.5555555555555556,
           "#1f9e89"
          ],
          [
           0.6666666666666666,
           "#35b779"
          ],
          [
           0.7777777777777778,
           "#6ece58"
          ],
          [
           0.8888888888888888,
           "#b5de2b"
          ],
          [
           1,
           "#fde725"
          ]
         ]
        },
        "legend": {
         "tracegroupgap": 0
        },
        "template": {
         "data": {
          "bar": [
           {
            "error_x": {
             "color": "#2a3f5f"
            },
            "error_y": {
             "color": "#2a3f5f"
            },
            "marker": {
             "line": {
              "color": "#E5ECF6",
              "width": 0.5
             }
            },
            "type": "bar"
           }
          ],
          "barpolar": [
           {
            "marker": {
             "line": {
              "color": "#E5ECF6",
              "width": 0.5
             }
            },
            "type": "barpolar"
           }
          ],
          "carpet": [
           {
            "aaxis": {
             "endlinecolor": "#2a3f5f",
             "gridcolor": "white",
             "linecolor": "white",
             "minorgridcolor": "white",
             "startlinecolor": "#2a3f5f"
            },
            "baxis": {
             "endlinecolor": "#2a3f5f",
             "gridcolor": "white",
             "linecolor": "white",
             "minorgridcolor": "white",
             "startlinecolor": "#2a3f5f"
            },
            "type": "carpet"
           }
          ],
          "choropleth": [
           {
            "colorbar": {
             "outlinewidth": 0,
             "ticks": ""
            },
            "type": "choropleth"
           }
          ],
          "contour": [
           {
            "colorbar": {
             "outlinewidth": 0,
             "ticks": ""
            },
            "colorscale": [
             [
              0,
              "#0d0887"
             ],
             [
              0.1111111111111111,
              "#46039f"
             ],
             [
              0.2222222222222222,
              "#7201a8"
             ],
             [
              0.3333333333333333,
              "#9c179e"
             ],
             [
              0.4444444444444444,
              "#bd3786"
             ],
             [
              0.5555555555555556,
              "#d8576b"
             ],
             [
              0.6666666666666666,
              "#ed7953"
             ],
             [
              0.7777777777777778,
              "#fb9f3a"
             ],
             [
              0.8888888888888888,
              "#fdca26"
             ],
             [
              1,
              "#f0f921"
             ]
            ],
            "type": "contour"
           }
          ],
          "contourcarpet": [
           {
            "colorbar": {
             "outlinewidth": 0,
             "ticks": ""
            },
            "type": "contourcarpet"
           }
          ],
          "heatmap": [
           {
            "colorbar": {
             "outlinewidth": 0,
             "ticks": ""
            },
            "colorscale": [
             [
              0,
              "#0d0887"
             ],
             [
              0.1111111111111111,
              "#46039f"
             ],
             [
              0.2222222222222222,
              "#7201a8"
             ],
             [
              0.3333333333333333,
              "#9c179e"
             ],
             [
              0.4444444444444444,
              "#bd3786"
             ],
             [
              0.5555555555555556,
              "#d8576b"
             ],
             [
              0.6666666666666666,
              "#ed7953"
             ],
             [
              0.7777777777777778,
              "#fb9f3a"
             ],
             [
              0.8888888888888888,
              "#fdca26"
             ],
             [
              1,
              "#f0f921"
             ]
            ],
            "type": "heatmap"
           }
          ],
          "heatmapgl": [
           {
            "colorbar": {
             "outlinewidth": 0,
             "ticks": ""
            },
            "colorscale": [
             [
              0,
              "#0d0887"
             ],
             [
              0.1111111111111111,
              "#46039f"
             ],
             [
              0.2222222222222222,
              "#7201a8"
             ],
             [
              0.3333333333333333,
              "#9c179e"
             ],
             [
              0.4444444444444444,
              "#bd3786"
             ],
             [
              0.5555555555555556,
              "#d8576b"
             ],
             [
              0.6666666666666666,
              "#ed7953"
             ],
             [
              0.7777777777777778,
              "#fb9f3a"
             ],
             [
              0.8888888888888888,
              "#fdca26"
             ],
             [
              1,
              "#f0f921"
             ]
            ],
            "type": "heatmapgl"
           }
          ],
          "histogram": [
           {
            "marker": {
             "colorbar": {
              "outlinewidth": 0,
              "ticks": ""
             }
            },
            "type": "histogram"
           }
          ],
          "histogram2d": [
           {
            "colorbar": {
             "outlinewidth": 0,
             "ticks": ""
            },
            "colorscale": [
             [
              0,
              "#0d0887"
             ],
             [
              0.1111111111111111,
              "#46039f"
             ],
             [
              0.2222222222222222,
              "#7201a8"
             ],
             [
              0.3333333333333333,
              "#9c179e"
             ],
             [
              0.4444444444444444,
              "#bd3786"
             ],
             [
              0.5555555555555556,
              "#d8576b"
             ],
             [
              0.6666666666666666,
              "#ed7953"
             ],
             [
              0.7777777777777778,
              "#fb9f3a"
             ],
             [
              0.8888888888888888,
              "#fdca26"
             ],
             [
              1,
              "#f0f921"
             ]
            ],
            "type": "histogram2d"
           }
          ],
          "histogram2dcontour": [
           {
            "colorbar": {
             "outlinewidth": 0,
             "ticks": ""
            },
            "colorscale": [
             [
              0,
              "#0d0887"
             ],
             [
              0.1111111111111111,
              "#46039f"
             ],
             [
              0.2222222222222222,
              "#7201a8"
             ],
             [
              0.3333333333333333,
              "#9c179e"
             ],
             [
              0.4444444444444444,
              "#bd3786"
             ],
             [
              0.5555555555555556,
              "#d8576b"
             ],
             [
              0.6666666666666666,
              "#ed7953"
             ],
             [
              0.7777777777777778,
              "#fb9f3a"
             ],
             [
              0.8888888888888888,
              "#fdca26"
             ],
             [
              1,
              "#f0f921"
             ]
            ],
            "type": "histogram2dcontour"
           }
          ],
          "mesh3d": [
           {
            "colorbar": {
             "outlinewidth": 0,
             "ticks": ""
            },
            "type": "mesh3d"
           }
          ],
          "parcoords": [
           {
            "line": {
             "colorbar": {
              "outlinewidth": 0,
              "ticks": ""
             }
            },
            "type": "parcoords"
           }
          ],
          "pie": [
           {
            "automargin": true,
            "type": "pie"
           }
          ],
          "scatter": [
           {
            "marker": {
             "colorbar": {
              "outlinewidth": 0,
              "ticks": ""
             }
            },
            "type": "scatter"
           }
          ],
          "scatter3d": [
           {
            "line": {
             "colorbar": {
              "outlinewidth": 0,
              "ticks": ""
             }
            },
            "marker": {
             "colorbar": {
              "outlinewidth": 0,
              "ticks": ""
             }
            },
            "type": "scatter3d"
           }
          ],
          "scattercarpet": [
           {
            "marker": {
             "colorbar": {
              "outlinewidth": 0,
              "ticks": ""
             }
            },
            "type": "scattercarpet"
           }
          ],
          "scattergeo": [
           {
            "marker": {
             "colorbar": {
              "outlinewidth": 0,
              "ticks": ""
             }
            },
            "type": "scattergeo"
           }
          ],
          "scattergl": [
           {
            "marker": {
             "colorbar": {
              "outlinewidth": 0,
              "ticks": ""
             }
            },
            "type": "scattergl"
           }
          ],
          "scattermapbox": [
           {
            "marker": {
             "colorbar": {
              "outlinewidth": 0,
              "ticks": ""
             }
            },
            "type": "scattermapbox"
           }
          ],
          "scatterpolar": [
           {
            "marker": {
             "colorbar": {
              "outlinewidth": 0,
              "ticks": ""
             }
            },
            "type": "scatterpolar"
           }
          ],
          "scatterpolargl": [
           {
            "marker": {
             "colorbar": {
              "outlinewidth": 0,
              "ticks": ""
             }
            },
            "type": "scatterpolargl"
           }
          ],
          "scatterternary": [
           {
            "marker": {
             "colorbar": {
              "outlinewidth": 0,
              "ticks": ""
             }
            },
            "type": "scatterternary"
           }
          ],
          "surface": [
           {
            "colorbar": {
             "outlinewidth": 0,
             "ticks": ""
            },
            "colorscale": [
             [
              0,
              "#0d0887"
             ],
             [
              0.1111111111111111,
              "#46039f"
             ],
             [
              0.2222222222222222,
              "#7201a8"
             ],
             [
              0.3333333333333333,
              "#9c179e"
             ],
             [
              0.4444444444444444,
              "#bd3786"
             ],
             [
              0.5555555555555556,
              "#d8576b"
             ],
             [
              0.6666666666666666,
              "#ed7953"
             ],
             [
              0.7777777777777778,
              "#fb9f3a"
             ],
             [
              0.8888888888888888,
              "#fdca26"
             ],
             [
              1,
              "#f0f921"
             ]
            ],
            "type": "surface"
           }
          ],
          "table": [
           {
            "cells": {
             "fill": {
              "color": "#EBF0F8"
             },
             "line": {
              "color": "white"
             }
            },
            "header": {
             "fill": {
              "color": "#C8D4E3"
             },
             "line": {
              "color": "white"
             }
            },
            "type": "table"
           }
          ]
         },
         "layout": {
          "annotationdefaults": {
           "arrowcolor": "#2a3f5f",
           "arrowhead": 0,
           "arrowwidth": 1
          },
          "coloraxis": {
           "colorbar": {
            "outlinewidth": 0,
            "ticks": ""
           }
          },
          "colorscale": {
           "diverging": [
            [
             0,
             "#8e0152"
            ],
            [
             0.1,
             "#c51b7d"
            ],
            [
             0.2,
             "#de77ae"
            ],
            [
             0.3,
             "#f1b6da"
            ],
            [
             0.4,
             "#fde0ef"
            ],
            [
             0.5,
             "#f7f7f7"
            ],
            [
             0.6,
             "#e6f5d0"
            ],
            [
             0.7,
             "#b8e186"
            ],
            [
             0.8,
             "#7fbc41"
            ],
            [
             0.9,
             "#4d9221"
            ],
            [
             1,
             "#276419"
            ]
           ],
           "sequential": [
            [
             0,
             "#0d0887"
            ],
            [
             0.1111111111111111,
             "#46039f"
            ],
            [
             0.2222222222222222,
             "#7201a8"
            ],
            [
             0.3333333333333333,
             "#9c179e"
            ],
            [
             0.4444444444444444,
             "#bd3786"
            ],
            [
             0.5555555555555556,
             "#d8576b"
            ],
            [
             0.6666666666666666,
             "#ed7953"
            ],
            [
             0.7777777777777778,
             "#fb9f3a"
            ],
            [
             0.8888888888888888,
             "#fdca26"
            ],
            [
             1,
             "#f0f921"
            ]
           ],
           "sequentialminus": [
            [
             0,
             "#0d0887"
            ],
            [
             0.1111111111111111,
             "#46039f"
            ],
            [
             0.2222222222222222,
             "#7201a8"
            ],
            [
             0.3333333333333333,
             "#9c179e"
            ],
            [
             0.4444444444444444,
             "#bd3786"
            ],
            [
             0.5555555555555556,
             "#d8576b"
            ],
            [
             0.6666666666666666,
             "#ed7953"
            ],
            [
             0.7777777777777778,
             "#fb9f3a"
            ],
            [
             0.8888888888888888,
             "#fdca26"
            ],
            [
             1,
             "#f0f921"
            ]
           ]
          },
          "colorway": [
           "#636efa",
           "#EF553B",
           "#00cc96",
           "#ab63fa",
           "#FFA15A",
           "#19d3f3",
           "#FF6692",
           "#B6E880",
           "#FF97FF",
           "#FECB52"
          ],
          "font": {
           "color": "#2a3f5f"
          },
          "geo": {
           "bgcolor": "white",
           "lakecolor": "white",
           "landcolor": "#E5ECF6",
           "showlakes": true,
           "showland": true,
           "subunitcolor": "white"
          },
          "hoverlabel": {
           "align": "left"
          },
          "hovermode": "closest",
          "mapbox": {
           "style": "light"
          },
          "paper_bgcolor": "white",
          "plot_bgcolor": "#E5ECF6",
          "polar": {
           "angularaxis": {
            "gridcolor": "white",
            "linecolor": "white",
            "ticks": ""
           },
           "bgcolor": "#E5ECF6",
           "radialaxis": {
            "gridcolor": "white",
            "linecolor": "white",
            "ticks": ""
           }
          },
          "scene": {
           "xaxis": {
            "backgroundcolor": "#E5ECF6",
            "gridcolor": "white",
            "gridwidth": 2,
            "linecolor": "white",
            "showbackground": true,
            "ticks": "",
            "zerolinecolor": "white"
           },
           "yaxis": {
            "backgroundcolor": "#E5ECF6",
            "gridcolor": "white",
            "gridwidth": 2,
            "linecolor": "white",
            "showbackground": true,
            "ticks": "",
            "zerolinecolor": "white"
           },
           "zaxis": {
            "backgroundcolor": "#E5ECF6",
            "gridcolor": "white",
            "gridwidth": 2,
            "linecolor": "white",
            "showbackground": true,
            "ticks": "",
            "zerolinecolor": "white"
           }
          },
          "shapedefaults": {
           "line": {
            "color": "#2a3f5f"
           }
          },
          "ternary": {
           "aaxis": {
            "gridcolor": "white",
            "linecolor": "white",
            "ticks": ""
           },
           "baxis": {
            "gridcolor": "white",
            "linecolor": "white",
            "ticks": ""
           },
           "bgcolor": "#E5ECF6",
           "caxis": {
            "gridcolor": "white",
            "linecolor": "white",
            "ticks": ""
           }
          },
          "title": {
           "x": 0.05
          },
          "xaxis": {
           "automargin": true,
           "gridcolor": "white",
           "linecolor": "white",
           "ticks": "",
           "title": {
            "standoff": 15
           },
           "zerolinecolor": "white",
           "zerolinewidth": 2
          },
          "yaxis": {
           "automargin": true,
           "gridcolor": "white",
           "linecolor": "white",
           "ticks": "",
           "title": {
            "standoff": 15
           },
           "zerolinecolor": "white",
           "zerolinewidth": 2
          }
         }
        },
        "title": {
         "text": "Treemap of Ad Clicks over Company Industry"
        }
       }
      },
      "text/html": [
       "<div>\n",
       "        \n",
       "        \n",
       "            <div id=\"ea4ae7e2-1d97-44d7-8fb4-8b3e02e04c96\" class=\"plotly-graph-div\" style=\"height:525px; width:100%;\"></div>\n",
       "            <script type=\"text/javascript\">\n",
       "                require([\"plotly\"], function(Plotly) {\n",
       "                    window.PLOTLYENV=window.PLOTLYENV || {};\n",
       "                    \n",
       "                if (document.getElementById(\"ea4ae7e2-1d97-44d7-8fb4-8b3e02e04c96\")) {\n",
       "                    Plotly.newPlot(\n",
       "                        'ea4ae7e2-1d97-44d7-8fb4-8b3e02e04c96',\n",
       "                        [{\"branchvalues\": \"total\", \"customdata\": [[14], [0], [7], [28], [4], [46], [63], [17], [5], [13], [9], [46], [8], [4], [0], [8], [3], [20], [4], [77], [3], [12], [10], [10], [19]], \"domain\": {\"x\": [0.0, 1.0], \"y\": [0.0, 1.0]}, \"hovertemplate\": \"labels=%{label}<br>Clicks=%{color}<br>parent=%{parent}<br>id=%{id}<extra></extra>\", \"ids\": [\"Automotive\", \"Aviation & Aerospace\", \"Building Materials\", \"Civil Engineering\", \"Computer & Network Security\", \"Computer Software\", \"Construction\", \"Electrical/Electronic Manufacturing\", \"Higher Education\", \"Hospital & Health Care\", \"Industrial Automation\", \"Information Technology and Services\", \"Internet\", \"Machinery\", \"Management Consulting\", \"Mechanical or Industrial Engineering\", \"Medical Devices\", \"Mining & Metals\", \"Nonprofit Organization Management\", \"Oil & Energy\", \"Paper & Forest Products\", \"Renewables & Environment\", \"Telecommunications\", \"Transportation/Trucking/Railroad\", \"Utilities\"], \"labels\": [\"Automotive\", \"Aviation & Aerospace\", \"Building Materials\", \"Civil Engineering\", \"Computer & Network Security\", \"Computer Software\", \"Construction\", \"Electrical/Electronic Manufacturing\", \"Higher Education\", \"Hospital & Health Care\", \"Industrial Automation\", \"Information Technology and Services\", \"Internet\", \"Machinery\", \"Management Consulting\", \"Mechanical or Industrial Engineering\", \"Medical Devices\", \"Mining & Metals\", \"Nonprofit Organization Management\", \"Oil & Energy\", \"Paper & Forest Products\", \"Renewables & Environment\", \"Telecommunications\", \"Transportation/Trucking/Railroad\", \"Utilities\"], \"marker\": {\"coloraxis\": \"coloraxis\", \"colors\": [14, 0, 7, 28, 4, 46, 63, 17, 5, 13, 9, 46, 8, 4, 0, 8, 3, 20, 4, 77, 3, 12, 10, 10, 19]}, \"name\": \"\", \"parents\": [\"\", \"\", \"\", \"\", \"\", \"\", \"\", \"\", \"\", \"\", \"\", \"\", \"\", \"\", \"\", \"\", \"\", \"\", \"\", \"\", \"\", \"\", \"\", \"\", \"\"], \"type\": \"treemap\", \"values\": [14, 0, 7, 28, 4, 46, 63, 17, 5, 13, 9, 46, 8, 4, 0, 8, 3, 20, 4, 77, 3, 12, 10, 10, 19]}],\n",
       "                        {\"coloraxis\": {\"colorbar\": {\"title\": {\"text\": \"Clicks\"}}, \"colorscale\": [[0.0, \"#440154\"], [0.1111111111111111, \"#482878\"], [0.2222222222222222, \"#3e4989\"], [0.3333333333333333, \"#31688e\"], [0.4444444444444444, \"#26828e\"], [0.5555555555555556, \"#1f9e89\"], [0.6666666666666666, \"#35b779\"], [0.7777777777777778, \"#6ece58\"], [0.8888888888888888, \"#b5de2b\"], [1.0, \"#fde725\"]]}, \"legend\": {\"tracegroupgap\": 0}, \"template\": {\"data\": {\"bar\": [{\"error_x\": {\"color\": \"#2a3f5f\"}, \"error_y\": {\"color\": \"#2a3f5f\"}, \"marker\": {\"line\": {\"color\": \"#E5ECF6\", \"width\": 0.5}}, \"type\": \"bar\"}], \"barpolar\": [{\"marker\": {\"line\": {\"color\": \"#E5ECF6\", \"width\": 0.5}}, \"type\": \"barpolar\"}], \"carpet\": [{\"aaxis\": {\"endlinecolor\": \"#2a3f5f\", \"gridcolor\": \"white\", \"linecolor\": \"white\", \"minorgridcolor\": \"white\", \"startlinecolor\": \"#2a3f5f\"}, \"baxis\": {\"endlinecolor\": \"#2a3f5f\", \"gridcolor\": \"white\", \"linecolor\": \"white\", \"minorgridcolor\": \"white\", \"startlinecolor\": \"#2a3f5f\"}, \"type\": \"carpet\"}], \"choropleth\": [{\"colorbar\": {\"outlinewidth\": 0, \"ticks\": \"\"}, \"type\": \"choropleth\"}], \"contour\": [{\"colorbar\": {\"outlinewidth\": 0, \"ticks\": \"\"}, \"colorscale\": [[0.0, \"#0d0887\"], [0.1111111111111111, \"#46039f\"], [0.2222222222222222, \"#7201a8\"], [0.3333333333333333, \"#9c179e\"], [0.4444444444444444, \"#bd3786\"], [0.5555555555555556, \"#d8576b\"], [0.6666666666666666, \"#ed7953\"], [0.7777777777777778, \"#fb9f3a\"], [0.8888888888888888, \"#fdca26\"], [1.0, \"#f0f921\"]], \"type\": \"contour\"}], \"contourcarpet\": [{\"colorbar\": {\"outlinewidth\": 0, \"ticks\": \"\"}, \"type\": \"contourcarpet\"}], \"heatmap\": [{\"colorbar\": {\"outlinewidth\": 0, \"ticks\": \"\"}, \"colorscale\": [[0.0, \"#0d0887\"], [0.1111111111111111, \"#46039f\"], [0.2222222222222222, \"#7201a8\"], [0.3333333333333333, \"#9c179e\"], [0.4444444444444444, \"#bd3786\"], [0.5555555555555556, \"#d8576b\"], [0.6666666666666666, \"#ed7953\"], [0.7777777777777778, \"#fb9f3a\"], [0.8888888888888888, \"#fdca26\"], [1.0, \"#f0f921\"]], \"type\": \"heatmap\"}], \"heatmapgl\": [{\"colorbar\": {\"outlinewidth\": 0, \"ticks\": \"\"}, \"colorscale\": [[0.0, \"#0d0887\"], [0.1111111111111111, \"#46039f\"], [0.2222222222222222, \"#7201a8\"], [0.3333333333333333, \"#9c179e\"], [0.4444444444444444, \"#bd3786\"], [0.5555555555555556, \"#d8576b\"], [0.6666666666666666, \"#ed7953\"], [0.7777777777777778, \"#fb9f3a\"], [0.8888888888888888, \"#fdca26\"], [1.0, \"#f0f921\"]], \"type\": \"heatmapgl\"}], \"histogram\": [{\"marker\": {\"colorbar\": {\"outlinewidth\": 0, \"ticks\": \"\"}}, \"type\": \"histogram\"}], \"histogram2d\": [{\"colorbar\": {\"outlinewidth\": 0, \"ticks\": \"\"}, \"colorscale\": [[0.0, \"#0d0887\"], [0.1111111111111111, \"#46039f\"], [0.2222222222222222, \"#7201a8\"], [0.3333333333333333, \"#9c179e\"], [0.4444444444444444, \"#bd3786\"], [0.5555555555555556, \"#d8576b\"], [0.6666666666666666, \"#ed7953\"], [0.7777777777777778, \"#fb9f3a\"], [0.8888888888888888, \"#fdca26\"], [1.0, \"#f0f921\"]], \"type\": \"histogram2d\"}], \"histogram2dcontour\": [{\"colorbar\": {\"outlinewidth\": 0, \"ticks\": \"\"}, \"colorscale\": [[0.0, \"#0d0887\"], [0.1111111111111111, \"#46039f\"], [0.2222222222222222, \"#7201a8\"], [0.3333333333333333, \"#9c179e\"], [0.4444444444444444, \"#bd3786\"], [0.5555555555555556, \"#d8576b\"], [0.6666666666666666, \"#ed7953\"], [0.7777777777777778, \"#fb9f3a\"], [0.8888888888888888, \"#fdca26\"], [1.0, \"#f0f921\"]], \"type\": \"histogram2dcontour\"}], \"mesh3d\": [{\"colorbar\": {\"outlinewidth\": 0, \"ticks\": \"\"}, \"type\": \"mesh3d\"}], \"parcoords\": [{\"line\": {\"colorbar\": {\"outlinewidth\": 0, \"ticks\": \"\"}}, \"type\": \"parcoords\"}], \"pie\": [{\"automargin\": true, \"type\": \"pie\"}], \"scatter\": [{\"marker\": {\"colorbar\": {\"outlinewidth\": 0, \"ticks\": \"\"}}, \"type\": \"scatter\"}], \"scatter3d\": [{\"line\": {\"colorbar\": {\"outlinewidth\": 0, \"ticks\": \"\"}}, \"marker\": {\"colorbar\": {\"outlinewidth\": 0, \"ticks\": \"\"}}, \"type\": \"scatter3d\"}], \"scattercarpet\": [{\"marker\": {\"colorbar\": {\"outlinewidth\": 0, \"ticks\": \"\"}}, \"type\": \"scattercarpet\"}], \"scattergeo\": [{\"marker\": {\"colorbar\": {\"outlinewidth\": 0, \"ticks\": \"\"}}, \"type\": \"scattergeo\"}], \"scattergl\": [{\"marker\": {\"colorbar\": {\"outlinewidth\": 0, \"ticks\": \"\"}}, \"type\": \"scattergl\"}], \"scattermapbox\": [{\"marker\": {\"colorbar\": {\"outlinewidth\": 0, \"ticks\": \"\"}}, \"type\": \"scattermapbox\"}], \"scatterpolar\": [{\"marker\": {\"colorbar\": {\"outlinewidth\": 0, \"ticks\": \"\"}}, \"type\": \"scatterpolar\"}], \"scatterpolargl\": [{\"marker\": {\"colorbar\": {\"outlinewidth\": 0, \"ticks\": \"\"}}, \"type\": \"scatterpolargl\"}], \"scatterternary\": [{\"marker\": {\"colorbar\": {\"outlinewidth\": 0, \"ticks\": \"\"}}, \"type\": \"scatterternary\"}], \"surface\": [{\"colorbar\": {\"outlinewidth\": 0, \"ticks\": \"\"}, \"colorscale\": [[0.0, \"#0d0887\"], [0.1111111111111111, \"#46039f\"], [0.2222222222222222, \"#7201a8\"], [0.3333333333333333, \"#9c179e\"], [0.4444444444444444, \"#bd3786\"], [0.5555555555555556, \"#d8576b\"], [0.6666666666666666, \"#ed7953\"], [0.7777777777777778, \"#fb9f3a\"], [0.8888888888888888, \"#fdca26\"], [1.0, \"#f0f921\"]], \"type\": \"surface\"}], \"table\": [{\"cells\": {\"fill\": {\"color\": \"#EBF0F8\"}, \"line\": {\"color\": \"white\"}}, \"header\": {\"fill\": {\"color\": \"#C8D4E3\"}, \"line\": {\"color\": \"white\"}}, \"type\": \"table\"}]}, \"layout\": {\"annotationdefaults\": {\"arrowcolor\": \"#2a3f5f\", \"arrowhead\": 0, \"arrowwidth\": 1}, \"coloraxis\": {\"colorbar\": {\"outlinewidth\": 0, \"ticks\": \"\"}}, \"colorscale\": {\"diverging\": [[0, \"#8e0152\"], [0.1, \"#c51b7d\"], [0.2, \"#de77ae\"], [0.3, \"#f1b6da\"], [0.4, \"#fde0ef\"], [0.5, \"#f7f7f7\"], [0.6, \"#e6f5d0\"], [0.7, \"#b8e186\"], [0.8, \"#7fbc41\"], [0.9, \"#4d9221\"], [1, \"#276419\"]], \"sequential\": [[0.0, \"#0d0887\"], [0.1111111111111111, \"#46039f\"], [0.2222222222222222, \"#7201a8\"], [0.3333333333333333, \"#9c179e\"], [0.4444444444444444, \"#bd3786\"], [0.5555555555555556, \"#d8576b\"], [0.6666666666666666, \"#ed7953\"], [0.7777777777777778, \"#fb9f3a\"], [0.8888888888888888, \"#fdca26\"], [1.0, \"#f0f921\"]], \"sequentialminus\": [[0.0, \"#0d0887\"], [0.1111111111111111, \"#46039f\"], [0.2222222222222222, \"#7201a8\"], [0.3333333333333333, \"#9c179e\"], [0.4444444444444444, \"#bd3786\"], [0.5555555555555556, \"#d8576b\"], [0.6666666666666666, \"#ed7953\"], [0.7777777777777778, \"#fb9f3a\"], [0.8888888888888888, \"#fdca26\"], [1.0, \"#f0f921\"]]}, \"colorway\": [\"#636efa\", \"#EF553B\", \"#00cc96\", \"#ab63fa\", \"#FFA15A\", \"#19d3f3\", \"#FF6692\", \"#B6E880\", \"#FF97FF\", \"#FECB52\"], \"font\": {\"color\": \"#2a3f5f\"}, \"geo\": {\"bgcolor\": \"white\", \"lakecolor\": \"white\", \"landcolor\": \"#E5ECF6\", \"showlakes\": true, \"showland\": true, \"subunitcolor\": \"white\"}, \"hoverlabel\": {\"align\": \"left\"}, \"hovermode\": \"closest\", \"mapbox\": {\"style\": \"light\"}, \"paper_bgcolor\": \"white\", \"plot_bgcolor\": \"#E5ECF6\", \"polar\": {\"angularaxis\": {\"gridcolor\": \"white\", \"linecolor\": \"white\", \"ticks\": \"\"}, \"bgcolor\": \"#E5ECF6\", \"radialaxis\": {\"gridcolor\": \"white\", \"linecolor\": \"white\", \"ticks\": \"\"}}, \"scene\": {\"xaxis\": {\"backgroundcolor\": \"#E5ECF6\", \"gridcolor\": \"white\", \"gridwidth\": 2, \"linecolor\": \"white\", \"showbackground\": true, \"ticks\": \"\", \"zerolinecolor\": \"white\"}, \"yaxis\": {\"backgroundcolor\": \"#E5ECF6\", \"gridcolor\": \"white\", \"gridwidth\": 2, \"linecolor\": \"white\", \"showbackground\": true, \"ticks\": \"\", \"zerolinecolor\": \"white\"}, \"zaxis\": {\"backgroundcolor\": \"#E5ECF6\", \"gridcolor\": \"white\", \"gridwidth\": 2, \"linecolor\": \"white\", \"showbackground\": true, \"ticks\": \"\", \"zerolinecolor\": \"white\"}}, \"shapedefaults\": {\"line\": {\"color\": \"#2a3f5f\"}}, \"ternary\": {\"aaxis\": {\"gridcolor\": \"white\", \"linecolor\": \"white\", \"ticks\": \"\"}, \"baxis\": {\"gridcolor\": \"white\", \"linecolor\": \"white\", \"ticks\": \"\"}, \"bgcolor\": \"#E5ECF6\", \"caxis\": {\"gridcolor\": \"white\", \"linecolor\": \"white\", \"ticks\": \"\"}}, \"title\": {\"x\": 0.05}, \"xaxis\": {\"automargin\": true, \"gridcolor\": \"white\", \"linecolor\": \"white\", \"ticks\": \"\", \"title\": {\"standoff\": 15}, \"zerolinecolor\": \"white\", \"zerolinewidth\": 2}, \"yaxis\": {\"automargin\": true, \"gridcolor\": \"white\", \"linecolor\": \"white\", \"ticks\": \"\", \"title\": {\"standoff\": 15}, \"zerolinecolor\": \"white\", \"zerolinewidth\": 2}}}, \"title\": {\"text\": \"Treemap of Ad Clicks over Company Industry\"}},\n",
       "                        {\"responsive\": true}\n",
       "                    ).then(function(){\n",
       "                            \n",
       "var gd = document.getElementById('ea4ae7e2-1d97-44d7-8fb4-8b3e02e04c96');\n",
       "var x = new MutationObserver(function (mutations, observer) {{\n",
       "        var display = window.getComputedStyle(gd).display;\n",
       "        if (!display || display === 'none') {{\n",
       "            console.log([gd, 'removed!']);\n",
       "            Plotly.purge(gd);\n",
       "            observer.disconnect();\n",
       "        }}\n",
       "}});\n",
       "\n",
       "// Listen for the removal of the full notebook cells\n",
       "var notebookContainer = gd.closest('#notebook-container');\n",
       "if (notebookContainer) {{\n",
       "    x.observe(notebookContainer, {childList: true});\n",
       "}}\n",
       "\n",
       "// Listen for the clearing of the current output cell\n",
       "var outputEl = gd.closest('.output');\n",
       "if (outputEl) {{\n",
       "    x.observe(outputEl, {childList: true});\n",
       "}}\n",
       "\n",
       "                        })\n",
       "                };\n",
       "                });\n",
       "            </script>\n",
       "        </div>"
      ]
     },
     "metadata": {},
     "output_type": "display_data"
    }
   ],
   "source": [
    "fig5.show()"
   ]
  },
  {
   "cell_type": "code",
   "execution_count": null,
   "metadata": {},
   "outputs": [],
   "source": []
  }
 ],
 "metadata": {
  "kernelspec": {
   "display_name": "Python 3",
   "language": "python",
   "name": "python3"
  },
  "language_info": {
   "codemirror_mode": {
    "name": "ipython",
    "version": 3
   },
   "file_extension": ".py",
   "mimetype": "text/x-python",
   "name": "python",
   "nbconvert_exporter": "python",
   "pygments_lexer": "ipython3",
   "version": "3.7.6"
  }
 },
 "nbformat": 4,
 "nbformat_minor": 4
}
